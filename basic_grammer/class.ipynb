{
 "cells": [
  {
   "cell_type": "code",
   "execution_count": 11,
   "id": "fd3fcc76",
   "metadata": {},
   "outputs": [
    {
     "name": "stdout",
     "output_type": "stream",
     "text": [
      "이름 : jung\n",
      "나이 : 25\n",
      "이름 : Karim\n",
      "나이 : 55\n",
      "이름 : Venzeam\n",
      "나이 : 33\n"
     ]
    }
   ],
   "source": [
    "class Encore :\n",
    "    def __init__(self, name, age) :\n",
    "        self.name = name\n",
    "        self.age = age\n",
    "        \n",
    "    def showMember(self) : \n",
    "        print(\"이름 : %s\" % self.name)\n",
    "        print(\"나이 : %d\" % self.age)\n",
    "\n",
    "mem1 = Encore(\"jung\", 25)\n",
    "\n",
    "list1 = [Encore(\"Karim\", 55), Encore(\"Venzeam\", 33)]\n",
    "\n",
    "mem1.showMember()\n",
    "\n",
    "for i in list1:\n",
    "    i.showMember()\n",
    "    \n",
    "# 이름 : jung\n",
    "# 나이 : 25\n",
    "# 이름 : Karim\n",
    "# 나이 : 55\n",
    "# 이름 : Venzeam\n",
    "# 나이 : 33"
   ]
  },
  {
   "cell_type": "code",
   "execution_count": 26,
   "id": "987cbab3",
   "metadata": {},
   "outputs": [
    {
     "name": "stdout",
     "output_type": "stream",
     "text": [
      "3\n",
      "4\n"
     ]
    }
   ],
   "source": [
    "class Calculator : \n",
    "    def __init__ (self):\n",
    "        self.result = 0\n",
    "    \n",
    "    def add(self, a) : \n",
    "        return self.result + a\n",
    "    \n",
    "    \n",
    "    \n",
    "cal1 = Calculator()\n",
    "cal2 = Calculator()\n",
    "\n",
    "print(cal1.add(3))\n",
    "print(cal1.add(4))"
   ]
  },
  {
   "cell_type": "code",
   "execution_count": 34,
   "id": "7ba6bd96",
   "metadata": {},
   "outputs": [
    {
     "name": "stdout",
     "output_type": "stream",
     "text": [
      "------------------------------\n",
      "func() 함수입니다.\n",
      "------------------------------\n",
      "------------------------------\n",
      "func() 함수입니다.\n",
      "------------------------------\n",
      "id of f1 :  4453432288\n",
      "id of f2 :  4453432288\n",
      "id of p1: 140542484097776\n",
      "id of p2: 140542484156720 \n",
      "\n",
      "p1.name: kim\n",
      "p2.name: park\n",
      "------------------------------\n",
      "안녕하세요 \n",
      "id(self) : 140542344058992\n",
      "self.name : kim\n",
      "------------------------------\n",
      "------------------------------\n",
      "안녕하세요 \n",
      "id(self) : 140542344628656\n",
      "self.name : park\n",
      "------------------------------\n"
     ]
    }
   ],
   "source": [
    "def func() :\n",
    "    print(\"-\"*30)\n",
    "    print(\"func() 함수입니다.\")\n",
    "    print(\"-\"*30)\n",
    "    \n",
    "fun1 = func()\n",
    "fun2 = func()\n",
    "\n",
    "print(\"id of f1 : \", id(fun1))\n",
    "print(\"id of f2 : \", id(fun2))\n",
    "\n",
    "class Person : \n",
    "    def name(self, name) : \n",
    "        self.name = name\n",
    "    def say_hello(self) :\n",
    "        print(\"%s\\n안녕하세요 \\nid(self) : %d\\nself.name : %s\\n%s\" % (\"-\" *30, id(self.name), self.name, \"-\" *30))\n",
    "\n",
    "    \n",
    "p1 = Person()\n",
    "p2 = Person()\n",
    "print(\"id of p1:\", id(p1))\n",
    "print(\"id of p2:\", id(p2), \"\\n\")\n",
    "p1.name(\"kim\")\n",
    "p2.name(\"park\")\n",
    "print(\"p1.name:\", p1.name)\n",
    "print(\"p2.name:\", p2.name)\n",
    "p1.say_hello()\n",
    "p2.say_hello()"
   ]
  },
  {
   "cell_type": "code",
   "execution_count": 39,
   "id": "5f0ae7ef",
   "metadata": {},
   "outputs": [
    {
     "name": "stdout",
     "output_type": "stream",
     "text": [
      "b1.title :  메밀꽃 필 무렵\n",
      "b2.title :  마지막 잎 새\n",
      "메밀꽃 필 무렵/이효석\n",
      "마지막 잎 새/오헨리\n"
     ]
    }
   ],
   "source": [
    "class Book : \n",
    "    def __init__(self) : \n",
    "        self.title = \"\"\n",
    "        self.name = \"\"\n",
    "    \n",
    "    def book_info_input(self, name) :\n",
    "        self.name = name\n",
    "        \n",
    "    def book_info_print(self) :\n",
    "        print(f\"{self.title}/{self.name}\")\n",
    "    \n",
    "    \n",
    "    \n",
    "b1 = Book()\n",
    "b2 = Book()\n",
    "b1.title = \"메밀꽃 필 무렵\"\n",
    "b2.title = \"마지막 잎 새\"\n",
    "print(\"b1.title : \", b1.title)\n",
    "print(\"b2.title : \", b2.title)\n",
    "b1.book_info_input(\"이효석\")\n",
    "b2.book_info_input(\"오헨리\")\n",
    "b1.book_info_print()\n",
    "b2.book_info_print()\n",
    "\n",
    "# b1.title :  메밀꽃 필 무렵\n",
    "# b2.title :  마지막 잎 새\n",
    "# 메밀꽃 필 무렵/이효석\n",
    "# 마지막 잎 새/오헨리"
   ]
  },
  {
   "cell_type": "code",
   "execution_count": 54,
   "id": "33a75a65",
   "metadata": {},
   "outputs": [
    {
     "name": "stdout",
     "output_type": "stream",
     "text": [
      "반지름 : 10\n",
      "넓이 : 314.16\n",
      "둘레 : 62.83\n",
      "반지름 : 5\n",
      "넓이 : 78.54\n",
      "둘레 : 31.42\n"
     ]
    }
   ],
   "source": [
    "class Circle : \n",
    "    pi = 3.141592 \n",
    "    def __init__(self, radius) : \n",
    "        self.radius = radius\n",
    "        self.area = 0\n",
    "        self.circum = 0\n",
    "        \n",
    "    def getArea(self) :\n",
    "        self.area = self.radius * self.radius * Circle.pi\n",
    "        return self.area\n",
    "    \n",
    "    def getCircum(self) :\n",
    "        self.circum = self.radius * 2 * Circle.pi\n",
    "        return self.circum\n",
    "    \n",
    "    \n",
    "cir1 = Circle(10) \n",
    "print(\"반지름 : %d\" % cir1.radius)\n",
    "print(\"넓이 : %.2f\" % round(cir1.getArea(), 2))\n",
    "print(\"둘레 : %.2f\" % round(cir1.getCircum(), 2))\n",
    "# 반지름 : 10\n",
    "# 넓이 : 314.16\n",
    "# 둘레 : 62.83\n",
    "\n",
    "cir2 = Circle(5) \n",
    "print(\"반지름 : %d\" % cir2.radius)\n",
    "print(\"넓이 : %.2f\" % round(cir2.getArea(), 2))\n",
    "print(\"둘레 : %.2f\" % round(cir2.getCircum(), 2))\n",
    "# 반지름 : 5\n",
    "# 넓이 : 78.54\n",
    "# 둘레 : 31.42\n",
    "\n",
    "        \n",
    "        "
   ]
  },
  {
   "cell_type": "code",
   "execution_count": 76,
   "id": "930f2ce8",
   "metadata": {},
   "outputs": [
    {
     "name": "stdout",
     "output_type": "stream",
     "text": [
      "--3과목 합계와 평균--\n",
      "name : 이순신 \n",
      "kor : 78\n",
      "math : 100\n",
      "eng : 57\n",
      "Sum : 235\n",
      "Avg : 78.33\n"
     ]
    }
   ],
   "source": [
    "class SumAvg : \n",
    "    title = \"--3과목 합계와 평균--\"\n",
    "    def __init__(self, name, kor, eng, math) :\n",
    "        self.name = name\n",
    "        self.kor = kor\n",
    "        self.eng = eng\n",
    "        self.math = math\n",
    "    def getSum(self) : \n",
    "        return self.kor + self.eng + self.math\n",
    "    def getAvg(self) : \n",
    "        return self.getSum() / 3\n",
    "\n",
    "s1 = SumAvg(\"이순신\", 78, 57, 100)\n",
    "    \n",
    "print(SumAvg.title)\n",
    "print(f\"name : {s1.name} \\nkor : {s1.kor}\\nmath : {s1.math}\\neng : {s1.eng}\\nSum : {round(s1.getSum(), 2)}\\nAvg : {round(s1.getAvg(), 2)}\")\n",
    "\n",
    "# --3과목 합계와 평균--\n",
    "# name : 이순신 \n",
    "# kor : 78\n",
    "# math : 100\n",
    "# eng : 57\n",
    "# Sum : 235\n",
    "# Avg : 78.33\n"
   ]
  },
  {
   "cell_type": "code",
   "execution_count": 82,
   "id": "9dd70067",
   "metadata": {},
   "outputs": [
    {
     "name": "stdout",
     "output_type": "stream",
     "text": [
      "12\n",
      "15\n"
     ]
    }
   ],
   "source": [
    "class Calculator() :\n",
    "        \n",
    "    def some_numbers(self, *args) :\n",
    "        self.li1 = args\n",
    "    \n",
    "    def total(self) :\n",
    "        return sum(self.li1)\n",
    "    \n",
    "a = Calculator()\n",
    "a.some_numbers(2, 4, 6)\n",
    "print(a.total())\n",
    "# 12\n",
    "\n",
    "b = Calculator()\n",
    "b.some_numbers(1, 2, 3, 4, 5)\n",
    "print(b.total())\n",
    "# 15\n"
   ]
  },
  {
   "cell_type": "code",
   "execution_count": 86,
   "id": "f3947b29",
   "metadata": {},
   "outputs": [
    {
     "name": "stdout",
     "output_type": "stream",
     "text": [
      "첫번째 수를 입력하세요 : 4\n",
      "두번째 수를 입력하세요 : 2\n",
      "6\n",
      "2\n",
      "8\n",
      "2.0\n"
     ]
    }
   ],
   "source": [
    "class Operation() :\n",
    "    def add(self, f, s) : \n",
    "        return f+s\n",
    "    def mul(self, f, s) : \n",
    "        return f*s\n",
    "    def sub(self, f, s) :\n",
    "        return f-s\n",
    "    def div(self, f, s) :\n",
    "        return f/s\n",
    "    \n",
    "x = Operation()\n",
    "    \n",
    "f = int(input(\"첫번째 수를 입력하세요 : \"))\n",
    "s = int(input(\"두번째 수를 입력하세요 : \"))\n",
    "    \n",
    "print(x.add(f, s))\n",
    "print(x.mul(f, s))\n",
    "print(x.sub(f, s))\n",
    "print(x.div(f, s))"
   ]
  },
  {
   "cell_type": "code",
   "execution_count": 114,
   "id": "b0af4da6",
   "metadata": {},
   "outputs": [
    {
     "name": "stdout",
     "output_type": "stream",
     "text": [
      "6.0\n",
      "100.0\n"
     ]
    }
   ],
   "source": [
    "class Triangle :\n",
    "    def __init__(self, width, height) :\n",
    "        self.width = width\n",
    "        self.height = height\n",
    "    def calculation(self) :\n",
    "        return round((self.width * self.height ) / 2, 2)\n",
    "    \n",
    "\n",
    "t1 = Triangle(3, 4)\n",
    "print(t1.calculation())\n",
    "# 6.0\n",
    "\n",
    "t2 = Triangle(10, 20)\n",
    "print(t2.calculation())\n",
    "# 100"
   ]
  },
  {
   "cell_type": "code",
   "execution_count": 143,
   "id": "15ac3a9f",
   "metadata": {},
   "outputs": [
    {
     "name": "stdout",
     "output_type": "stream",
     "text": [
      "Enter the sentence : We are the champion!\n",
      "역순 : !noipmahc eht era eW\n",
      "하이픈 삽입 : We-are-the-champion!\n"
     ]
    }
   ],
   "source": [
    "class EngSentence :\n",
    "    def __init__(self, word) :\n",
    "        self.word = word\n",
    "    \n",
    "    def reverse(self) :\n",
    "        return self.word[::-1]\n",
    "        \n",
    "    def insertHypen(self):\n",
    "        return self.word.replace(\" \", \"-\")\n",
    "    \n",
    "    def get(self) :\n",
    "        print(\"역순 : %s\\n하이픈 삽입 : %s\" % (self.reverse(), self.insertHypen()))\n",
    "    \n",
    "a = input(\"Enter the sentence : \")    \n",
    "eng1 = EngSentence(a)\n",
    "eng1.get()\n",
    "\n",
    "# Enter the sentence : We are the champion!\n",
    "# 역순 : !noipmahc eht era eW\n",
    "# 하이픈 삽입 : We-are-the-champion!\n"
   ]
  },
  {
   "cell_type": "code",
   "execution_count": 165,
   "id": "ae598d18",
   "metadata": {},
   "outputs": [
    {
     "name": "stdout",
     "output_type": "stream",
     "text": [
      "14\n",
      "45\n",
      "-4\n",
      "0.56\n",
      "1953125\n"
     ]
    }
   ],
   "source": [
    "class Operation :\n",
    "    def __init__(self, a, b) : \n",
    "        self.a = a\n",
    "        self.b = b\n",
    "    \n",
    "    def add(self) :\n",
    "        return self.a + self.b\n",
    "    def mul(self) :\n",
    "        return self.a * self.b\n",
    "    def sub(self) :\n",
    "        return self.a - self.b\n",
    "    def div(self) :\n",
    "        return round(self.a / self.b, 2)\n",
    "        \n",
    "class Sample(Operation) :\n",
    "    def squ(self) :\n",
    "        return self.a ** self.b\n",
    "\n",
    "a = Sample(5, 9)\n",
    "print(a.add())\n",
    "print(a.mul())\n",
    "print(a.sub())\n",
    "print(a.div())\n",
    "print(a.squ())\n",
    "\n",
    "# 14\n",
    "# 45\n",
    "# -4\n",
    "# 0.56\n",
    "# 1953125\n"
   ]
  },
  {
   "cell_type": "code",
   "execution_count": 166,
   "id": "543ed8b3",
   "metadata": {},
   "outputs": [
    {
     "data": {
      "text/plain": [
       "0"
      ]
     },
     "execution_count": 166,
     "metadata": {},
     "output_type": "execute_result"
    }
   ],
   "source": [
    "class Sample(Operation) : \n",
    "    \n",
    "    def div(self) :\n",
    "        if self.b == 0:\n",
    "            return 0\n",
    "        else : \n",
    "            return round(self.a / self.b, 2)\n",
    "        \n",
    "a = Sample(4, 0)\n",
    "a.div()\n",
    "# 0"
   ]
  },
  {
   "cell_type": "code",
   "execution_count": 230,
   "id": "0f37a723",
   "metadata": {},
   "outputs": [
    {
     "name": "stdout",
     "output_type": "stream",
     "text": [
      "name : Jeni\n",
      "age : 20\n",
      "school : Yale University\n",
      "major : CS\n"
     ]
    }
   ],
   "source": [
    "class Person :\n",
    "    def __init__ (self, name, age) :\n",
    "        self.age = age\n",
    "        self.name = name\n",
    "    def printInfo(self) :\n",
    "        print(f\"name : {self.name}\\nage : {self.age}\")\n",
    "    \n",
    "        \n",
    "p1 = Person(\"Karim\", 25) \n",
    "p2 = Person(\"Cristal\", 19)\n",
    "\n",
    "\n",
    "class Student(Person) :\n",
    "    def __init__(self, name, age, school, major) :\n",
    "        super().__init__(name, age)\n",
    "        self.school = school\n",
    "        self.major = major\n",
    "    def printInfo(self) :\n",
    "        super().printInfo()\n",
    "        print(f\"school : {s1.school}\\nmajor : {s1.major}\" )\n",
    "    def __str__(self) :\n",
    "        return f\"{self.name}은 {self.age}, {self.major}, {self.school}입니다.\"\n",
    "\n",
    "str(Student(\"정상록\", 25, \"뉴욕주립대\", \"작곡\"))\n",
    "\n",
    "s1 = Student(\"Jeni\", 20, \"Yale University\", \"CS\")\n",
    "\n",
    "s1.printInfo()\n",
    "\n",
    "# name : Jeni\n",
    "# age : 20\n",
    "# school : Yale University\n",
    "# major : CS"
   ]
  },
  {
   "cell_type": "markdown",
   "id": "df29fdb1",
   "metadata": {},
   "source": []
  },
  {
   "cell_type": "code",
   "execution_count": 217,
   "id": "3637424b",
   "metadata": {},
   "outputs": [
    {
     "name": "stdout",
     "output_type": "stream",
     "text": [
      "mClass1\n",
      "sunClass\n"
     ]
    },
    {
     "data": {
      "text/plain": [
       "'아들'"
      ]
     },
     "execution_count": 217,
     "metadata": {},
     "output_type": "execute_result"
    }
   ],
   "source": [
    "class mClass : \n",
    "    def __init__(self) :\n",
    "        print(\"mClass1\")\n",
    "    def getMother(self, mother) :\n",
    "        self.mother = mother\n",
    "        return self.mother\n",
    "        \n",
    "class fClass : \n",
    "    def __init__(self) :\n",
    "        print(\"mClass2\")\n",
    "    def getFather(self, father) :\n",
    "        self.father = father\n",
    "        return self.father\n",
    "\n",
    "class sunClass(mClass, fClass) :\n",
    "    def __init__(self) :\n",
    "        super().__init__()\n",
    "        print(\"sunClass\")\n",
    "    def getSun(self, sun) :\n",
    "        self.sun = sun\n",
    "        return self.sun\n",
    "    \n",
    "    def __str__(self) :\n",
    "        return f\"\"\n",
    "        \n",
    "cl1 = sunClass()\n",
    "cl1.getMother(\"어머니\")\n",
    "cl1.getFather(\"아버지\")\n",
    "cl1.getSun(\"아들\")\n",
    "\n",
    "\n"
   ]
  },
  {
   "cell_type": "code",
   "execution_count": 231,
   "id": "4d6478fc",
   "metadata": {},
   "outputs": [
    {
     "data": {
      "text/plain": [
       "'정상록은 25, 작곡, 뉴욕주립대입니다.'"
      ]
     },
     "execution_count": 231,
     "metadata": {},
     "output_type": "execute_result"
    }
   ],
   "source": [
    "str(Student(\"정상록\", 25, \"뉴욕주립대\", \"작곡\"))"
   ]
  },
  {
   "cell_type": "code",
   "execution_count": null,
   "id": "e68c4efc",
   "metadata": {},
   "outputs": [],
   "source": []
  }
 ],
 "metadata": {
  "kernelspec": {
   "display_name": "Python 3 (ipykernel)",
   "language": "python",
   "name": "python3"
  },
  "language_info": {
   "codemirror_mode": {
    "name": "ipython",
    "version": 3
   },
   "file_extension": ".py",
   "mimetype": "text/x-python",
   "name": "python",
   "nbconvert_exporter": "python",
   "pygments_lexer": "ipython3",
   "version": "3.9.12"
  }
 },
 "nbformat": 4,
 "nbformat_minor": 5
}
