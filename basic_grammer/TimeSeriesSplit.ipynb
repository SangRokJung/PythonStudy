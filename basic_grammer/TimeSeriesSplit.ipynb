{
 "cells": [
  {
   "cell_type": "code",
   "execution_count": 1,
   "id": "e9513c5e",
   "metadata": {},
   "outputs": [],
   "source": [
    "from sklearn.model_selection import TimeSeriesSplit\n",
    "\n",
    "def makeDF(df, dates):\n",
    "    df['Date'] = pd.to_datetime(df['Date'])\n",
    "    df.set_index('Date', inplace=True)\n",
    "    \n",
    "    dfData = df[dates].iloc[:, -2]\n",
    "    \n",
    "    df_len = len(dfData)\n",
    "    \n",
    "    tss = TimeSeriesSplit(n_splits=df_len-1, \n",
    "                          max_train_size=df_len-1, \n",
    "                          test_size=1)\n",
    "    for trn, val in tss.split(df201901):\n",
    "        print(trn, val)\n",
    "    \n",
    "    ndf = np.zeros([val[0], int(df_len)])\n",
    "    ndf = pd.DataFrame(ndf)\n",
    "    \n",
    "    s = 0\n",
    "    for i in range(val[0]-1, -1, -1):\n",
    "        for y in range(s, df_len):\n",
    "            ndf.iloc[i, [y]] = df201902.iloc[y-s]\n",
    "        s+=1\n",
    "        \n",
    "    return ndf\n",
    "    "
   ]
  },
  {
   "cell_type": "code",
   "execution_count": null,
   "id": "4191f5bc",
   "metadata": {},
   "outputs": [],
   "source": []
  }
 ],
 "metadata": {
  "kernelspec": {
   "display_name": "Python 3 (ipykernel)",
   "language": "python",
   "name": "python3"
  },
  "language_info": {
   "codemirror_mode": {
    "name": "ipython",
    "version": 3
   },
   "file_extension": ".py",
   "mimetype": "text/x-python",
   "name": "python",
   "nbconvert_exporter": "python",
   "pygments_lexer": "ipython3",
   "version": "3.9.13"
  }
 },
 "nbformat": 4,
 "nbformat_minor": 5
}
