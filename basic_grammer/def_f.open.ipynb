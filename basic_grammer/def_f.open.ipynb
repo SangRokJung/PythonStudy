{
 "cells": [
  {
   "cell_type": "code",
   "execution_count": 5,
   "id": "c194ddb8",
   "metadata": {},
   "outputs": [
    {
     "data": {
      "text/plain": [
       "7"
      ]
     },
     "execution_count": 5,
     "metadata": {},
     "output_type": "execute_result"
    }
   ],
   "source": [
    "def adder(x, y=1) :\n",
    "    return x+y+z+a\n",
    "\n",
    "adder(1, 2, 3)"
   ]
  },
  {
   "cell_type": "code",
   "execution_count": 7,
   "id": "ebff634f",
   "metadata": {},
   "outputs": [
    {
     "name": "stdout",
     "output_type": "stream",
     "text": [
      "15\n"
     ]
    }
   ],
   "source": [
    "def adder(*args) :\n",
    "    result = 0\n",
    "    for i in args : \n",
    "        result += i\n",
    "    return result\n",
    "\n",
    "print(adder(1, 2, 3, 4, 5))\n",
    "# 15"
   ]
  },
  {
   "cell_type": "code",
   "execution_count": 14,
   "id": "54fa5199",
   "metadata": {},
   "outputs": [
    {
     "name": "stdout",
     "output_type": "stream",
     "text": [
      "4과목의 평균 : 89.50점\n"
     ]
    }
   ],
   "source": [
    "def average(*args) : \n",
    "    total = 0\n",
    "    for i in args :\n",
    "        total += i\n",
    "    return \"%d과목의 평균 : %.2f점\" % (len(args), (total / len(args)))\n",
    "\n",
    "print(average(87, 98, 97, 76))\n",
    "# 4과목의 평균 : 89.50점"
   ]
  },
  {
   "cell_type": "code",
   "execution_count": 36,
   "id": "6f0d55aa",
   "metadata": {},
   "outputs": [
    {
     "name": "stdout",
     "output_type": "stream",
     "text": [
      "120\n"
     ]
    }
   ],
   "source": [
    "def two_choice(word, *args) : \n",
    "    result = 0\n",
    "    if word == \"arthimetic\" :\n",
    "        for i in args :\n",
    "            result += i\n",
    "    elif word == \"multiplication\" :\n",
    "        result = 1\n",
    "        for i in args : \n",
    "            result *= i\n",
    "    return result\n",
    "\n",
    "print(two_choice(\"multiplication\", 1, 2, 3, 4, 5))\n",
    "        "
   ]
  },
  {
   "cell_type": "code",
   "execution_count": 28,
   "id": "7498d1ba",
   "metadata": {},
   "outputs": [
    {
     "name": "stdout",
     "output_type": "stream",
     "text": [
      "2\n",
      "2\n"
     ]
    }
   ],
   "source": [
    "def smple(a, *args) :\n",
    "    result = args[0]\n",
    "    print(args[0])\n",
    "    print(result)\n",
    "    \n",
    "smple(1, 2, 3, 4)"
   ]
  },
  {
   "cell_type": "code",
   "execution_count": 37,
   "id": "0d76fcac",
   "metadata": {},
   "outputs": [
    {
     "data": {
      "text/plain": [
       "15"
      ]
     },
     "execution_count": 37,
     "metadata": {},
     "output_type": "execute_result"
    }
   ],
   "source": [
    "def two_choice(word, *args):\n",
    "    s = 1\n",
    "    s = sum(args) if word == 'arithmetic' else mul(*args) if word == 'multiplication' else 0\n",
    "    return s\n",
    "\n",
    "two_choice(\"arithmetic\", 1, 2, 3, 4, 5)\n",
    "# 15"
   ]
  },
  {
   "cell_type": "code",
   "execution_count": 44,
   "id": "731faea3",
   "metadata": {},
   "outputs": [
    {
     "name": "stdout",
     "output_type": "stream",
     "text": [
      "[0, 1, 2, 3, 4, 5, 6, 7, 8, 9]\n",
      "[0, 1, 2, 3, 4, 5, 6, 7, 8, 9]\n",
      "[0, 1, 2, 3, 4, 5, 6, 7, 8, 9]\n"
     ]
    }
   ],
   "source": [
    "li1 = list(range(10))\n",
    "print(li1)\n",
    "# [0, 1, 2, 3, 4, 5, 6, 7, 8, 9]\n",
    "\n",
    "li2 = [i for i in range(10)]\n",
    "print(li1)\n",
    "# [0, 1, 2, 3, 4, 5, 6, 7, 8, 9]\n",
    "\n",
    "\n",
    "li3 = []\n",
    "for i in range(10):\n",
    "    li3.append(i)\n",
    "print(li3)\n",
    "# [0, 1, 2, 3, 4, 5, 6, 7, 8, 9]\n"
   ]
  },
  {
   "cell_type": "code",
   "execution_count": 59,
   "id": "dfd2b79e",
   "metadata": {},
   "outputs": [
    {
     "name": "stdout",
     "output_type": "stream",
     "text": [
      "[[0, 1, 2, 3, 4], [0, 1, 2, 3, 4]]\n"
     ]
    }
   ],
   "source": [
    "li = [list(range(5)), list(range(5))]\n",
    "\n",
    "print(li)\n",
    "# [[0, 1, 2, 3, 4], [0, 1, 2, 3, 4]]"
   ]
  },
  {
   "cell_type": "code",
   "execution_count": 87,
   "id": "b81f9fc9",
   "metadata": {},
   "outputs": [
    {
     "name": "stdout",
     "output_type": "stream",
     "text": [
      "Data type of arguments : <class 'dict'> \n",
      "First name : Dave\n",
      "Last name : Karim\n",
      "Age is 32\n",
      "Phone is 010345325565\n"
     ]
    }
   ],
   "source": [
    "def intro(**kwargs) :\n",
    "    print(\"Data type of arguments : %s \\nFirst name : %s\\nLast name : %s\\nAge is %d\\nPhone is %s\" % (type(kwargs), kwargs[\"Firstname\"], kwargs[\"Lastname\"], kwargs[\"Age\"], kwargs[\"Phone\"]))\n",
    "\n",
    "intro(Firstname = \"Dave\", Lastname = \"Karim\", Age = 32, Phone= \"010345325565\")\n",
    "    \n",
    "# Data type of arguments : <class 'dict'> \n",
    "# First name : Dave\n",
    "# Last name : Karim\n",
    "# Age is 32\n",
    "# Phone is 010345325565"
   ]
  },
  {
   "cell_type": "code",
   "execution_count": 88,
   "id": "7ab7e07e",
   "metadata": {},
   "outputs": [
    {
     "name": "stdout",
     "output_type": "stream",
     "text": [
      "Data type of argument: <class 'dict'>\n",
      "Firstname is Dave\n",
      "Lastname is Karim\n",
      "Age is 32\n",
      "Phone is 1034567890\n"
     ]
    }
   ],
   "source": [
    "def intro(**kwargs):\n",
    "    print(f'Data type of argument: {type(kwargs)}')\n",
    "    for i in range(len(kwargs)):\n",
    "        print(f'{list(kwargs.keys())[i]} is {kwargs[list(kwargs.keys())[i]]}')\n",
    "intro(Firstname='Dave', Lastname='Karim', Age=32, Phone=1034567890)"
   ]
  },
  {
   "cell_type": "code",
   "execution_count": 91,
   "id": "982d28ad",
   "metadata": {},
   "outputs": [
    {
     "data": {
      "text/plain": [
       "\"Data type of arguments : <class 'dict'> \\nFirst name : Dave\\nLast name : Karim\\nAge is 32\\nPhone is 010345325565\""
      ]
     },
     "execution_count": 91,
     "metadata": {},
     "output_type": "execute_result"
    }
   ],
   "source": [
    "def intro(**kwargs) :\n",
    "    s = (\"Data type of arguments : %s \\nFirst name : %s\\nLast name : %s\\nAge is %d\\nPhone is %s\" % (type(kwargs), kwargs[\"Firstname\"], kwargs[\"Lastname\"], kwargs[\"Age\"], kwargs[\"Phone\"]))\n",
    "    return s\n",
    "    \n",
    "    \n",
    "a = intro(Firstname = \"Dave\", Lastname = \"Karim\", Age = 32, Phone= \"010345325565\")\n",
    "a.replace(\" \", \" \")\n",
    "\n",
    "\n",
    "\n"
   ]
  },
  {
   "cell_type": "code",
   "execution_count": 92,
   "id": "6f72cc40",
   "metadata": {},
   "outputs": [
    {
     "name": "stdout",
     "output_type": "stream",
     "text": [
      "Data type of argument: <class 'dict'>\n",
      "Firstname is Dave\n",
      "Lastname is Karim\n",
      "Age is 32\n",
      "Phone is 010345325565\n"
     ]
    }
   ],
   "source": [
    "def intro(**kwargs) :\n",
    "        print(f'Data type of argument: {type(kwargs)}')\n",
    "        for key, value in kwargs.items() :\n",
    "            print(f\"{key} is {value}\")\n",
    "\n",
    "intro(Firstname = \"Dave\", Lastname = \"Karim\", Age = 32, Phone= \"010345325565\")\n",
    "    \n",
    "# Data type of argument: <class 'dict'>\n",
    "# Firstname is Dave\n",
    "# Lastname is Karim\n",
    "# Age is 32\n",
    "# Phone is 010345325565"
   ]
  },
  {
   "cell_type": "code",
   "execution_count": 98,
   "id": "4df8bc04",
   "metadata": {},
   "outputs": [
    {
     "name": "stdout",
     "output_type": "stream",
     "text": [
      "Data type of argument :  <class 'dict'>\n",
      "FirstnameDave\n",
      "FirstnameDaveLastnameKarim\n",
      "FirstnameDaveLastnameKarimAge32\n",
      "FirstnameDaveLastnameKarimAge32Phone010345325565\n",
      "None\n"
     ]
    }
   ],
   "source": [
    "def intro(**args):\n",
    "        print('Data type of argument : ', type(args))\n",
    "        l = list(args.keys())\n",
    "        r = list(args.values())\n",
    "        test = ''\n",
    "        for i in range(len(args)):\n",
    "            test += str(l[i])\n",
    "            test += str(r[i])\n",
    "            print(test)\n",
    "\n",
    "print(intro(Firstname = \"Dave\", Lastname = \"Karim\", Age = 32, Phone= \"010345325565\"))"
   ]
  },
  {
   "cell_type": "code",
   "execution_count": 95,
   "id": "7098aa48",
   "metadata": {},
   "outputs": [
    {
     "name": "stdout",
     "output_type": "stream",
     "text": [
      "('a', (1, 2, 3, 4), {'b': 5})\n"
     ]
    }
   ],
   "source": [
    "def f(a, *args, **kwargs) : \n",
    "    return a, args, kwargs \n",
    "\n",
    "print(f(\"a\", 1, 2, 3, 4, b=5))"
   ]
  },
  {
   "cell_type": "code",
   "execution_count": 100,
   "id": "1accb512",
   "metadata": {},
   "outputs": [
    {
     "ename": "TypeError",
     "evalue": "'int' object is not iterable",
     "output_type": "error",
     "traceback": [
      "\u001b[0;31m---------------------------------------------------------------------------\u001b[0m",
      "\u001b[0;31mTypeError\u001b[0m                                 Traceback (most recent call last)",
      "Input \u001b[0;32mIn [100]\u001b[0m, in \u001b[0;36m<cell line: 1>\u001b[0;34m()\u001b[0m\n\u001b[0;32m----> 1\u001b[0m li \u001b[38;5;241m=\u001b[39m [j \u001b[38;5;28;01mfor\u001b[39;00m i \u001b[38;5;129;01min\u001b[39;00m \u001b[38;5;28mrange\u001b[39m(\u001b[38;5;241m10\u001b[39m) \u001b[38;5;28;01mfor\u001b[39;00m j \u001b[38;5;129;01min\u001b[39;00m i]\n\u001b[1;32m      3\u001b[0m \u001b[38;5;28mprint\u001b[39m(li)\n",
      "Input \u001b[0;32mIn [100]\u001b[0m, in \u001b[0;36m<listcomp>\u001b[0;34m(.0)\u001b[0m\n\u001b[0;32m----> 1\u001b[0m li \u001b[38;5;241m=\u001b[39m [j \u001b[38;5;28;01mfor\u001b[39;00m i \u001b[38;5;129;01min\u001b[39;00m \u001b[38;5;28mrange\u001b[39m(\u001b[38;5;241m10\u001b[39m) \u001b[38;5;28;01mfor\u001b[39;00m j \u001b[38;5;129;01min\u001b[39;00m i]\n\u001b[1;32m      3\u001b[0m \u001b[38;5;28mprint\u001b[39m(li)\n",
      "\u001b[0;31mTypeError\u001b[0m: 'int' object is not iterable"
     ]
    }
   ],
   "source": []
  },
  {
   "cell_type": "code",
   "execution_count": 127,
   "id": "d0cd0f3b",
   "metadata": {},
   "outputs": [
    {
     "name": "stdout",
     "output_type": "stream",
     "text": [
      "Karim\n",
      "10\n"
     ]
    },
    {
     "data": {
      "text/plain": [
       "\"회원가입 완료! {'name': 'Karim', 'Age': 10}\""
      ]
     },
     "execution_count": 127,
     "metadata": {},
     "output_type": "execute_result"
    }
   ],
   "source": [
    "def join(agree = True, **self) :\n",
    "    print(self[\"name\"])\n",
    "    print(self[\"Age\"])\n",
    "    \n",
    "    if agree == True :\n",
    "        msg = f\"회원가입 완료! {self}\"\n",
    "    else :\n",
    "        msg = \"please Agree.\"\n",
    "    return msg\n",
    "        \n",
    "join(name = \"Karim\", Age = 10)"
   ]
  },
  {
   "cell_type": "code",
   "execution_count": 129,
   "id": "69ba368b",
   "metadata": {},
   "outputs": [
    {
     "name": "stdout",
     "output_type": "stream",
     "text": [
      "Karim\n",
      "10\n"
     ]
    },
    {
     "data": {
      "text/plain": [
       "\"회원가입 완료! {'name': 'Karim', 'Age': 10}\""
      ]
     },
     "execution_count": 129,
     "metadata": {},
     "output_type": "execute_result"
    }
   ],
   "source": [
    "def join(agree = True, **self) :\n",
    "    print(self[\"name\"])\n",
    "    print(self[\"Age\"])\n",
    "    \n",
    "    if agree == True :\n",
    "        msg = f\"회원가입 완료! {self[\"name\"]}\"\n",
    "    else :\n",
    "        msg = \"please Agree.\"\n",
    "    return msg\n",
    "        \n",
    "join(name = \"Karim\", Age = 10)"
   ]
  },
  {
   "cell_type": "code",
   "execution_count": 132,
   "id": "dff3207e",
   "metadata": {},
   "outputs": [
    {
     "name": "stdout",
     "output_type": "stream",
     "text": [
      "11\n"
     ]
    }
   ],
   "source": [
    "x = lambda a, b : a+b\n",
    "\n",
    "print(x(1, 10))"
   ]
  },
  {
   "cell_type": "code",
   "execution_count": 133,
   "id": "42763a2a",
   "metadata": {},
   "outputs": [
    {
     "name": "stdout",
     "output_type": "stream",
     "text": [
      "6\n"
     ]
    }
   ],
   "source": [
    "f = lambda a, b, c : a+b+c\n",
    "print(f(1,2,3))"
   ]
  },
  {
   "cell_type": "code",
   "execution_count": 142,
   "id": "43fb6349",
   "metadata": {},
   "outputs": [
    {
     "name": "stdout",
     "output_type": "stream",
     "text": [
      "10\n"
     ]
    }
   ],
   "source": [
    "def smp(n) :\n",
    "    return 5 * n\n",
    "\n",
    "print(smp(2))"
   ]
  },
  {
   "cell_type": "code",
   "execution_count": 146,
   "id": "b0e71260",
   "metadata": {},
   "outputs": [
    {
     "name": "stdout",
     "output_type": "stream",
     "text": [
      "25\n"
     ]
    }
   ],
   "source": [
    "def mul(n) :\n",
    "    return lambda x : x * n\n",
    "\n",
    "a = mul(5)\n",
    "# a = lambda x : x * 5\n",
    "print(a(5))\n",
    "# 25"
   ]
  },
  {
   "cell_type": "code",
   "execution_count": 147,
   "id": "8548bde7",
   "metadata": {},
   "outputs": [
    {
     "name": "stdout",
     "output_type": "stream",
     "text": [
      "140483555596464\n"
     ]
    }
   ],
   "source": [
    "print(id(x))"
   ]
  },
  {
   "cell_type": "code",
   "execution_count": 191,
   "id": "8e1336bd",
   "metadata": {},
   "outputs": [
    {
     "name": "stdout",
     "output_type": "stream",
     "text": [
      "Karim\n",
      "Karim 사전형이다\n",
      "혹시 Karim Karim 혹시\n"
     ]
    }
   ],
   "source": [
    "d = {\"name\":\"Karim\", \"Age\":10}\n",
    "\n",
    "print(d[\"name\"])\n",
    "print(\"%s 사전형이다\" % (d[\"name\"]))\n",
    "print(f'혹시 {d[\"name\"]} {d[\"name\"]} 혹시')\n"
   ]
  },
  {
   "cell_type": "code",
   "execution_count": 161,
   "id": "7fb64c03",
   "metadata": {},
   "outputs": [
    {
     "name": "stdout",
     "output_type": "stream",
     "text": [
      "my name BlockDMask, gender man, age 100\n"
     ]
    }
   ],
   "source": [
    "d = {'name':'BlockDMask','gender':'man','age':100}\n",
    "\n",
    "result = f'my name {d[\"name\"]}, gender {d[\"gender\"]}, age {d[\"age\"]}'\n",
    "\n",
    "print(f'my name {d[\"name\"]}, gender {d[\"gender\"]}, age {d[\"age\"]}')"
   ]
  },
  {
   "cell_type": "code",
   "execution_count": 175,
   "id": "0d9f6a31",
   "metadata": {},
   "outputs": [
    {
     "name": "stdout",
     "output_type": "stream",
     "text": [
      "10\n",
      "140484756564560\n",
      "10\n"
     ]
    }
   ],
   "source": [
    "# del x\n",
    "\n",
    "def func() :\n",
    "    x = 100\n",
    "    \n",
    "# print(x)\n",
    "# print(id(x))\n",
    "\n",
    "x = 10\n",
    "\n",
    "print(x)\n",
    "print(id(x))\n",
    "func()\n",
    "print(x)\n"
   ]
  },
  {
   "cell_type": "code",
   "execution_count": 199,
   "id": "4d681b03",
   "metadata": {},
   "outputs": [
    {
     "name": "stdout",
     "output_type": "stream",
     "text": [
      "x = 10, 140484756564560\n",
      "x = 100, 140484756755920\n"
     ]
    }
   ],
   "source": [
    "def func() : \n",
    "    global x\n",
    "    x = 100\n",
    "    \n",
    "x = 10\n",
    "print(f\"x = {x}, {id(x)}\")\n",
    "# x = 10, 140484756564560\n",
    "\n",
    "func()\n",
    "print(f\"x = {x}, {id(x)}\")\n",
    "# x = 100, 140484756755920\n",
    "\n",
    "\n"
   ]
  },
  {
   "cell_type": "code",
   "execution_count": 3,
   "id": "37f998fa",
   "metadata": {},
   "outputs": [
    {
     "name": "stdout",
     "output_type": "stream",
     "text": [
      "오렌지 에 맞는 영단어는 ? orange\n",
      "맞습니다\n",
      "과자 에 맞는 영단어는 ? cookie\n",
      "맞습니다\n",
      "어머니 에 맞는 영단어는 ? mother\n",
      "맞습니다\n"
     ]
    },
    {
     "ename": "KeyboardInterrupt",
     "evalue": "Interrupted by user",
     "output_type": "error",
     "traceback": [
      "\u001b[0;31m---------------------------------------------------------------------------\u001b[0m",
      "\u001b[0;31mKeyboardInterrupt\u001b[0m                         Traceback (most recent call last)",
      "Input \u001b[0;32mIn [3]\u001b[0m, in \u001b[0;36m<cell line: 8>\u001b[0;34m()\u001b[0m\n\u001b[1;32m      6\u001b[0m eng_dict \u001b[38;5;241m=\u001b[39m {\u001b[38;5;124m\"\u001b[39m\u001b[38;5;124morange\u001b[39m\u001b[38;5;124m\"\u001b[39m:\u001b[38;5;124m\"\u001b[39m\u001b[38;5;124m오렌지\u001b[39m\u001b[38;5;124m\"\u001b[39m, \u001b[38;5;124m\"\u001b[39m\u001b[38;5;124mcookie\u001b[39m\u001b[38;5;124m\"\u001b[39m:\u001b[38;5;124m\"\u001b[39m\u001b[38;5;124m과자\u001b[39m\u001b[38;5;124m\"\u001b[39m, \u001b[38;5;124m\"\u001b[39m\u001b[38;5;124mmother\u001b[39m\u001b[38;5;124m\"\u001b[39m:\u001b[38;5;124m\"\u001b[39m\u001b[38;5;124m어머니\u001b[39m\u001b[38;5;124m\"\u001b[39m, \u001b[38;5;124m\"\u001b[39m\u001b[38;5;124mbrother\u001b[39m\u001b[38;5;124m\"\u001b[39m:\u001b[38;5;124m\"\u001b[39m\u001b[38;5;124m형제\u001b[39m\u001b[38;5;124m\"\u001b[39m, \u001b[38;5;124m\"\u001b[39m\u001b[38;5;124mpython\u001b[39m\u001b[38;5;124m\"\u001b[39m:\u001b[38;5;124m\"\u001b[39m\u001b[38;5;124m파이썬\u001b[39m\u001b[38;5;124m\"\u001b[39m}\n\u001b[1;32m      8\u001b[0m \u001b[38;5;28;01mfor\u001b[39;00m key \u001b[38;5;129;01min\u001b[39;00m eng_dict : \n\u001b[0;32m----> 9\u001b[0m     string \u001b[38;5;241m=\u001b[39m \u001b[38;5;28;43minput\u001b[39;49m\u001b[43m(\u001b[49m\u001b[38;5;124;43mf\u001b[39;49m\u001b[38;5;124;43m'\u001b[39;49m\u001b[38;5;132;43;01m{\u001b[39;49;00m\u001b[43meng_dict\u001b[49m\u001b[43m[\u001b[49m\u001b[43mkey\u001b[49m\u001b[43m]\u001b[49m\u001b[38;5;132;43;01m}\u001b[39;49;00m\u001b[38;5;124;43m 에 맞는 영단어는 ? \u001b[39;49m\u001b[38;5;124;43m'\u001b[39;49m\u001b[43m)\u001b[49m\n\u001b[1;32m     10\u001b[0m     result \u001b[38;5;241m=\u001b[39m matchWord(string, key)\n\u001b[1;32m     11\u001b[0m     \u001b[38;5;28mprint\u001b[39m(result)\n",
      "File \u001b[0;32m~/opt/anaconda3/lib/python3.9/site-packages/ipykernel/kernelbase.py:1075\u001b[0m, in \u001b[0;36mKernel.raw_input\u001b[0;34m(self, prompt)\u001b[0m\n\u001b[1;32m   1071\u001b[0m \u001b[38;5;28;01mif\u001b[39;00m \u001b[38;5;129;01mnot\u001b[39;00m \u001b[38;5;28mself\u001b[39m\u001b[38;5;241m.\u001b[39m_allow_stdin:\n\u001b[1;32m   1072\u001b[0m     \u001b[38;5;28;01mraise\u001b[39;00m StdinNotImplementedError(\n\u001b[1;32m   1073\u001b[0m         \u001b[38;5;124m\"\u001b[39m\u001b[38;5;124mraw_input was called, but this frontend does not support input requests.\u001b[39m\u001b[38;5;124m\"\u001b[39m\n\u001b[1;32m   1074\u001b[0m     )\n\u001b[0;32m-> 1075\u001b[0m \u001b[38;5;28;01mreturn\u001b[39;00m \u001b[38;5;28;43mself\u001b[39;49m\u001b[38;5;241;43m.\u001b[39;49m\u001b[43m_input_request\u001b[49m\u001b[43m(\u001b[49m\n\u001b[1;32m   1076\u001b[0m \u001b[43m    \u001b[49m\u001b[38;5;28;43mstr\u001b[39;49m\u001b[43m(\u001b[49m\u001b[43mprompt\u001b[49m\u001b[43m)\u001b[49m\u001b[43m,\u001b[49m\n\u001b[1;32m   1077\u001b[0m \u001b[43m    \u001b[49m\u001b[38;5;28;43mself\u001b[39;49m\u001b[38;5;241;43m.\u001b[39;49m\u001b[43m_parent_ident\u001b[49m\u001b[43m[\u001b[49m\u001b[38;5;124;43m\"\u001b[39;49m\u001b[38;5;124;43mshell\u001b[39;49m\u001b[38;5;124;43m\"\u001b[39;49m\u001b[43m]\u001b[49m\u001b[43m,\u001b[49m\n\u001b[1;32m   1078\u001b[0m \u001b[43m    \u001b[49m\u001b[38;5;28;43mself\u001b[39;49m\u001b[38;5;241;43m.\u001b[39;49m\u001b[43mget_parent\u001b[49m\u001b[43m(\u001b[49m\u001b[38;5;124;43m\"\u001b[39;49m\u001b[38;5;124;43mshell\u001b[39;49m\u001b[38;5;124;43m\"\u001b[39;49m\u001b[43m)\u001b[49m\u001b[43m,\u001b[49m\n\u001b[1;32m   1079\u001b[0m \u001b[43m    \u001b[49m\u001b[43mpassword\u001b[49m\u001b[38;5;241;43m=\u001b[39;49m\u001b[38;5;28;43;01mFalse\u001b[39;49;00m\u001b[43m,\u001b[49m\n\u001b[1;32m   1080\u001b[0m \u001b[43m\u001b[49m\u001b[43m)\u001b[49m\n",
      "File \u001b[0;32m~/opt/anaconda3/lib/python3.9/site-packages/ipykernel/kernelbase.py:1120\u001b[0m, in \u001b[0;36mKernel._input_request\u001b[0;34m(self, prompt, ident, parent, password)\u001b[0m\n\u001b[1;32m   1117\u001b[0m             \u001b[38;5;28;01mbreak\u001b[39;00m\n\u001b[1;32m   1118\u001b[0m \u001b[38;5;28;01mexcept\u001b[39;00m \u001b[38;5;167;01mKeyboardInterrupt\u001b[39;00m:\n\u001b[1;32m   1119\u001b[0m     \u001b[38;5;66;03m# re-raise KeyboardInterrupt, to truncate traceback\u001b[39;00m\n\u001b[0;32m-> 1120\u001b[0m     \u001b[38;5;28;01mraise\u001b[39;00m \u001b[38;5;167;01mKeyboardInterrupt\u001b[39;00m(\u001b[38;5;124m\"\u001b[39m\u001b[38;5;124mInterrupted by user\u001b[39m\u001b[38;5;124m\"\u001b[39m) \u001b[38;5;28;01mfrom\u001b[39;00m \u001b[38;5;28mNone\u001b[39m\n\u001b[1;32m   1121\u001b[0m \u001b[38;5;28;01mexcept\u001b[39;00m \u001b[38;5;167;01mException\u001b[39;00m:\n\u001b[1;32m   1122\u001b[0m     \u001b[38;5;28mself\u001b[39m\u001b[38;5;241m.\u001b[39mlog\u001b[38;5;241m.\u001b[39mwarning(\u001b[38;5;124m\"\u001b[39m\u001b[38;5;124mInvalid Message:\u001b[39m\u001b[38;5;124m\"\u001b[39m, exc_info\u001b[38;5;241m=\u001b[39m\u001b[38;5;28;01mTrue\u001b[39;00m)\n",
      "\u001b[0;31mKeyboardInterrupt\u001b[0m: Interrupted by user"
     ]
    }
   ],
   "source": [
    "eng_dict = {\"orange\":\"오렌지\", \"cookie\":\"과자\", \"mother\":\"어머니\", \"brother\":\"형제\", \"python\":\"파이썬\"}\n",
    "\n",
    "def matchWord(word, answer) :\n",
    "    msg = \"맞습니다\" if word == answer else \"아닙니다.\"\n",
    "    return msg\n",
    "\n",
    "for key in eng_dict : \n",
    "    string = input(f'{eng_dict[key]} 에 맞는 영단어는 ? ')\n",
    "    result = matchWord(string, key)\n",
    "    print(result)"
   ]
  },
  {
   "cell_type": "code",
   "execution_count": 218,
   "id": "08abced8",
   "metadata": {
    "scrolled": true
   },
   "outputs": [
    {
     "name": "stdout",
     "output_type": "stream",
     "text": [
      "True\n"
     ]
    }
   ],
   "source": [
    "def add(a, b) :\n",
    "    if a + b == a+b :\n",
    "        return True\n",
    "    if a + b == a+b :\n",
    "        return False\n",
    "    \n",
    "    \n",
    "    \n",
    "    \n",
    "    \n",
    "\n",
    "print(add(5, 6))\n",
    "\n",
    "\n",
    "\n",
    "\n",
    "\n",
    "# 함수를 쓰는데 목적이 존재하고 \n",
    "# 그 목적의 결과물을 내보는데 return필요\n",
    "# 함수에 return이 꼭 존재해야 하는건 아님\n"
   ]
  },
  {
   "cell_type": "code",
   "execution_count": 227,
   "id": "52900c78",
   "metadata": {},
   "outputs": [
    {
     "ename": "AttributeError",
     "evalue": "'dict' object has no attribute 'has_key'",
     "output_type": "error",
     "traceback": [
      "\u001b[0;31m---------------------------------------------------------------------------\u001b[0m",
      "\u001b[0;31mAttributeError\u001b[0m                            Traceback (most recent call last)",
      "Input \u001b[0;32mIn [227]\u001b[0m, in \u001b[0;36m<cell line: 2>\u001b[0;34m()\u001b[0m\n\u001b[1;32m      1\u001b[0m di1 \u001b[38;5;241m=\u001b[39m {\u001b[38;5;124m'\u001b[39m\u001b[38;5;124ma\u001b[39m\u001b[38;5;124m'\u001b[39m : \u001b[38;5;241m1\u001b[39m}\n\u001b[0;32m----> 2\u001b[0m \u001b[38;5;28mprint\u001b[39m(\u001b[43mdi1\u001b[49m\u001b[38;5;241;43m.\u001b[39;49m\u001b[43mhas_key\u001b[49m(\u001b[38;5;124m'\u001b[39m\u001b[38;5;124ma\u001b[39m\u001b[38;5;124m'\u001b[39m))\n",
      "\u001b[0;31mAttributeError\u001b[0m: 'dict' object has no attribute 'has_key'"
     ]
    }
   ],
   "source": [
    "di1 = {'a' : 1}\n",
    "print(di1.has_key('a'))"
   ]
  },
  {
   "cell_type": "code",
   "execution_count": 230,
   "id": "205ae88b",
   "metadata": {},
   "outputs": [
    {
     "ename": "AttributeError",
     "evalue": "'dict' object has no attribute 'has_key'",
     "output_type": "error",
     "traceback": [
      "\u001b[0;31m---------------------------------------------------------------------------\u001b[0m",
      "\u001b[0;31mAttributeError\u001b[0m                            Traceback (most recent call last)",
      "Input \u001b[0;32mIn [230]\u001b[0m, in \u001b[0;36m<cell line: 3>\u001b[0;34m()\u001b[0m\n\u001b[1;32m      1\u001b[0m \u001b[38;5;28mdict\u001b[39m \u001b[38;5;241m=\u001b[39m {\u001b[38;5;124m'\u001b[39m\u001b[38;5;124mName\u001b[39m\u001b[38;5;124m'\u001b[39m: \u001b[38;5;124m'\u001b[39m\u001b[38;5;124mZara\u001b[39m\u001b[38;5;124m'\u001b[39m, \u001b[38;5;124m'\u001b[39m\u001b[38;5;124mAge\u001b[39m\u001b[38;5;124m'\u001b[39m: \u001b[38;5;241m7\u001b[39m}\n\u001b[0;32m----> 3\u001b[0m \u001b[38;5;28mprint\u001b[39m (\u001b[38;5;124m\"\u001b[39m\u001b[38;5;124mValue : \u001b[39m\u001b[38;5;132;01m%s\u001b[39;00m\u001b[38;5;124m\"\u001b[39m \u001b[38;5;241m%\u001b[39m  \u001b[38;5;28;43mdict\u001b[39;49m\u001b[38;5;241;43m.\u001b[39;49m\u001b[43mhas_key\u001b[49m(\u001b[38;5;124m'\u001b[39m\u001b[38;5;124mAge\u001b[39m\u001b[38;5;124m'\u001b[39m))\n\u001b[1;32m      4\u001b[0m \u001b[38;5;28mprint\u001b[39m (\u001b[38;5;124m\"\u001b[39m\u001b[38;5;124mValue : \u001b[39m\u001b[38;5;132;01m%s\u001b[39;00m\u001b[38;5;124m\"\u001b[39m \u001b[38;5;241m%\u001b[39m  \u001b[38;5;28mdict\u001b[39m\u001b[38;5;241m.\u001b[39mhas_key(\u001b[38;5;124m'\u001b[39m\u001b[38;5;124mSex\u001b[39m\u001b[38;5;124m'\u001b[39m))\n",
      "\u001b[0;31mAttributeError\u001b[0m: 'dict' object has no attribute 'has_key'"
     ]
    }
   ],
   "source": [
    "dict = {'Name': 'Zara', 'Age': 7}\n",
    "\n",
    "print (\"Value : %s\" %  dict.has_key('Age'))\n",
    "print (\"Value : %s\" %  dict.has_key('Sex'))"
   ]
  },
  {
   "cell_type": "code",
   "execution_count": 5,
   "id": "5c2f374f",
   "metadata": {},
   "outputs": [
    {
     "name": "stdout",
     "output_type": "stream",
     "text": [
      "첫 번째 수를 입력하세요: 54\n",
      "두 번째 수를 입력하세요: 78\n",
      "세 번째 수를 입력하세요: 12\n",
      "54, 78, 12 중 가장 큰 수 : 78\n"
     ]
    }
   ],
   "source": [
    "a = int(input('첫 번째 수를 입력하세요: '))\n",
    "b = int(input('두 번째 수를 입력하세요: '))\n",
    "c = int(input('세 번째 수를 입력하세요: '))\n",
    "\n",
    "def maxThree(a, b, c) :\n",
    "    li1 = list()\n",
    "    li1.append(a)\n",
    "    li1.append(b)\n",
    "    li1.append(c)\n",
    "    return max(li1)\n",
    "\n",
    "max_num = maxThree(a, b, c)\n",
    "\n",
    "print('%d, %d, %d 중 가장 큰 수 : %d' % (a, b, c, max_num))\n",
    "\n"
   ]
  },
  {
   "cell_type": "code",
   "execution_count": 10,
   "id": "5f786e1d",
   "metadata": {},
   "outputs": [
    {
     "name": "stdout",
     "output_type": "stream",
     "text": [
      "첫 번째 수를 입력하세요: 35\n",
      "두 번째 수를 입력하세요: 24\n",
      "세 번째 수를 입력하세요: 3\n",
      "35, 24, 3 중 가장 큰 수 : 35\n"
     ]
    }
   ],
   "source": [
    "a = int(input('첫 번째 수를 입력하세요: '))\n",
    "b = int(input('두 번째 수를 입력하세요: '))\n",
    "c = int(input('세 번째 수를 입력하세요: '))\n",
    "\n",
    "def maxThree(a, b, c) :\n",
    "    li1 = list()\n",
    "    li1.extend([a, b, c])\n",
    "    return max(li1)\n",
    "\n",
    "max_num = maxThree(a, b, c)\n",
    "\n",
    "print('%d, %d, %d 중 가장 큰 수 : %d' % (a, b, c, max_num))\n",
    "\n"
   ]
  },
  {
   "cell_type": "code",
   "execution_count": 14,
   "id": "2210612e",
   "metadata": {},
   "outputs": [
    {
     "name": "stdout",
     "output_type": "stream",
     "text": [
      "첫 번째 수를 입력하세요: 25\n",
      "두 번째 수를 입력하세요: 333\n",
      "세 번째 수를 입력하세요: 54\n",
      "25, 333, 54 중 가장 큰 수 : 333\n"
     ]
    }
   ],
   "source": [
    "a = int(input('첫 번째 수를 입력하세요: '))\n",
    "b = int(input('두 번째 수를 입력하세요: '))\n",
    "c = int(input('세 번째 수를 입력하세요: '))\n",
    "\n",
    "def maxTwo(a, b) : \n",
    "    return max(a, b)\n",
    "    \n",
    "def maxThree(a, b, c) :\n",
    "    return max(maxTwo(a, b), maxTwo(b, c))\n",
    "\n",
    "max_num = maxThree(a, b, c)\n",
    "\n",
    "print('%d, %d, %d 중 가장 큰 수 : %d' % (a, b, c, max_num))\n",
    "\n",
    "# 첫 번째 수를 입력하세요: 25\n",
    "# 두 번째 수를 입력하세요: 333\n",
    "# 세 번째 수를 입력하세요: 54\n",
    "# 25, 333, 54 중 가장 큰 수 : 333"
   ]
  },
  {
   "cell_type": "code",
   "execution_count": 15,
   "id": "c3959e5e",
   "metadata": {},
   "outputs": [
    {
     "name": "stdout",
     "output_type": "stream",
     "text": [
      "첫 번째 수를 입력하세요: 24\n",
      "두 번째 수를 입력하세요: 24\n",
      "세 번째 수를 입력하세요: 31\n",
      "24, 24, 31 중 가장 큰 수 : 31\n"
     ]
    }
   ],
   "source": [
    "a = int(input('첫 번째 수를 입력하세요: '))\n",
    "b = int(input('두 번째 수를 입력하세요: '))\n",
    "c = int(input('세 번째 수를 입력하세요: '))\n",
    "\n",
    "def maxTwo(a, b) : \n",
    "    return max(a, b)\n",
    "    \n",
    "def maxThree(a, b, c) :\n",
    "    return max(maxTwo(a, b), c)\n",
    "\n",
    "max_num = maxThree(a, b, c)\n",
    "\n",
    "print('%d, %d, %d 중 가장 큰 수 : %d' % (a, b, c, max_num))\n",
    "\n",
    "# 첫 번째 수를 입력하세요: 25\n",
    "# 두 번째 수를 입력하세요: 333\n",
    "# 세 번째 수를 입력하세요: 54\n",
    "# 25, 333, 54 중 가장 큰 수 : 333"
   ]
  },
  {
   "cell_type": "code",
   "execution_count": 19,
   "id": "58f4c4c2",
   "metadata": {},
   "outputs": [
    {
     "ename": "SyntaxError",
     "evalue": "invalid syntax (544941045.py, line 5)",
     "output_type": "error",
     "traceback": [
      "\u001b[0;36m  Input \u001b[0;32mIn [19]\u001b[0;36m\u001b[0m\n\u001b[0;31m    print(i) for i in range(10) if i % 2 == 0 :\u001b[0m\n\u001b[0m             ^\u001b[0m\n\u001b[0;31mSyntaxError\u001b[0m\u001b[0;31m:\u001b[0m invalid syntax\n"
     ]
    }
   ],
   "source": [
    "for i in range(10) : \n",
    "    if i % 2 == 0 :\n",
    "        print(i)\n",
    "        \n",
    "print(i) for i in range(10) if i % 2 == 0"
   ]
  },
  {
   "cell_type": "code",
   "execution_count": 20,
   "id": "e28258f6",
   "metadata": {},
   "outputs": [
    {
     "name": "stdout",
     "output_type": "stream",
     "text": [
      "[0, 2, 4, 6, 8]\n"
     ]
    }
   ],
   "source": [
    "li = [i for i in range(10) if i % 2 == 0]\n",
    "print(li)\n",
    "# [0, 2, 4, 6, 8]"
   ]
  },
  {
   "cell_type": "code",
   "execution_count": 51,
   "id": "6232c06a",
   "metadata": {},
   "outputs": [
    {
     "name": "stdout",
     "output_type": "stream",
     "text": [
      "7 7\n",
      "True\n",
      "True\n",
      "False\n",
      "False\n",
      "True\n",
      "3\n",
      "[2, 4, 6, 8]\n",
      "2 is jjaksu\n",
      "4 is jjaksu\n",
      "6 is jjaksu\n",
      "8 is jjaksu\n",
      "<map object at 0x7f9668a42dc0>\n",
      "[100, 200, 300, 400]\n",
      "<zip object at 0x7f9678febdc0>\n",
      "[('a', 11, 132), ('B', 33, 243), ('C', 44, 243)]\n"
     ]
    }
   ],
   "source": [
    "# 절대값 리턴 abs()\n",
    "print(abs(-7), abs(7))\n",
    "# 7 7\n",
    " \n",
    "# 반복가능한 매개변수로 저장된 값이 모두 True면 True를 아니면 False를 반환 all()\n",
    "print(all([1, 2, 3]))\n",
    "# True\n",
    "print(all([]))\n",
    "# True\n",
    "print(all([1, False]))\n",
    "\n",
    "# 매개변수로 전달된 반복 가능한 값이 하나라도 True면 True를 아니면 False 반환 any()\n",
    "print(any([False]))\n",
    "# False\n",
    "print(any([True, False]))\n",
    "# True\n",
    "\n",
    "\n",
    "# 실행가능한 문자열을 입력받아 문자열을 실행 한 값을 리턴\n",
    "print(eval(\"1+2\"))\n",
    "# 3\"\n",
    "# print(eval(\"\"good+morning\"\"))\n",
    "\n",
    "\n",
    "# 조건에 맞는 데이터를 찾는다.\n",
    "# filter(필터링을 적용할 함수, 반복가능한데이터)\n",
    "num = list(range(1, 10))\n",
    "def jjak(a) : \n",
    "    return a % 2 ==0\n",
    "\n",
    "jjak_list = list(filter(jjak, num))\n",
    "print(jjak_list)\n",
    "# [2, 4, 6, 8]\n",
    "\n",
    "for i in filter(jjak, num) :\n",
    "    print(\"%d is jjaksu\" % i)\n",
    "# 2 is jjaksu\n",
    "# 4 is jjaksu\n",
    "# 6 is jjaksu\n",
    "# 8 is jjaksu\n",
    "\n",
    "\n",
    "\n",
    "# map()\n",
    "# map(적용할 함수, 반복가능한객체)\n",
    "def fun(num) : \n",
    "    return num * 100\n",
    "print(map(fun, list(range(1, 5))))\n",
    "print(list(map(fun, list(range(1, 5)))))\n",
    "# <map object at 0x7f9668a42dc0>\n",
    "# [100, 200, 300, 400]\n",
    "\n",
    "\n",
    "\n",
    "# pow(x, y) \n",
    "# x를 y제곱하여 반환\n",
    "\n",
    "\n",
    "\n",
    "\n",
    "# sorted() 반복가능한 데이터를 정렬하여 데이터를 리턴한다.\n",
    "# sort() 반복가능한 파라미터의 데이터를 정렬한다.\n",
    "# zip() 리스트나 튜플 같은 반복 가능한 데이터를 같은 위치의 요소 끼리 하나로 묶어준다.\n",
    "name = [\"a\", 'B', 'C']\n",
    "age = [11, 44, 33]\n",
    "height = [243,132, 243]\n",
    "result = zip(name, sorted(age), sorted(height))\n",
    "print(result)\n",
    "print(list(result))\n",
    "# <zip object at 0x7f9668a32580>\n",
    "# [('a', 11, 243), ('B', 44, 132), ('C', 33, 243)]"
   ]
  },
  {
   "cell_type": "code",
   "execution_count": 49,
   "id": "50034c36",
   "metadata": {},
   "outputs": [
    {
     "name": "stdout",
     "output_type": "stream",
     "text": [
      "[11, 33, 44]\n"
     ]
    }
   ],
   "source": [
    "age = [11, 44, 33]\n",
    "age.sort()\n",
    "print(age)"
   ]
  },
  {
   "cell_type": "code",
   "execution_count": 52,
   "id": "f88ea718",
   "metadata": {},
   "outputs": [],
   "source": [
    "file = open(\"new.txt\", \"w\")"
   ]
  },
  {
   "cell_type": "code",
   "execution_count": 53,
   "id": "5b781ac2",
   "metadata": {},
   "outputs": [],
   "source": [
    "f = open(\"sampl1.txt\", \"w\")\n",
    "f.write(\"안녕하세요. 반갑습니다.\")\n",
    "f.close()"
   ]
  },
  {
   "cell_type": "code",
   "execution_count": 73,
   "id": "775f4372",
   "metadata": {},
   "outputs": [
    {
     "name": "stdout",
     "output_type": "stream",
     "text": [
      "/Users/werther\n"
     ]
    }
   ],
   "source": [
    "import os\n",
    "print(os.getcwd())\n",
    "# /Users/werther\n",
    "\n",
    "f = open(\"sample2.txt\", \"w\")\n",
    "\n",
    "for i in range(1, 10) :\n",
    "    data = \"%d 번째 줄입니다. \\n\" % i\n",
    "    f.write(data)\n",
    "\n",
    "f.close()\n",
    "\n",
    "\n",
    "# 1 번째 줄입니다. \n",
    "# 2 번째 줄입니다. \n",
    "# 3 번째 줄입니다. \n",
    "# 4 번째 줄입니다. \n",
    "# 5 번째 줄입니다. \n",
    "# 6 번째 줄입니다. \n",
    "# 7 번째 줄입니다. \n",
    "# 8 번째 줄입니다. \n",
    "# 9 번째 줄입니다. \n"
   ]
  },
  {
   "cell_type": "code",
   "execution_count": 74,
   "id": "69524c17",
   "metadata": {},
   "outputs": [
    {
     "name": "stdout",
     "output_type": "stream",
     "text": [
      "/Users/werther\n"
     ]
    }
   ],
   "source": [
    "import os\n",
    "print(os.getcwd())\n",
    "# /Users/werther\n",
    "\n",
    "f = open(\"sample2.txt\", \"w\")\n",
    "\n",
    "f.write(\"-\" * 10 + \"\\n\")\n",
    "\n",
    "for i in range(1, 4) :\n",
    "    data = \"%d 번째 항목 \\n\" % i\n",
    "    f.write(data)\n",
    "    \n",
    "f.write(\"-\" * 10)\n",
    "\n",
    "f.close()\n",
    "\n",
    "\n",
    "# ----------\n",
    "# 1 번째 항목 \n",
    "# 2 번째 항목 \n",
    "# 3 번째 항목 \n",
    "# ----------"
   ]
  },
  {
   "cell_type": "code",
   "execution_count": 81,
   "id": "a56fcf89",
   "metadata": {},
   "outputs": [
    {
     "name": "stdout",
     "output_type": "stream",
     "text": [
      "김소영 82 80 93 97 93 88 \n",
      "\n",
      "정예린 86 100 93 86 90 77 \n",
      "\n",
      "이세영 91 88 99 79 92 68 \n",
      "\n",
      "정수정 86 100 93 89 92 93 \n",
      "\n",
      "박지수 80 100 95 89 90 84 \n",
      "\n"
     ]
    }
   ],
   "source": [
    "scores = ['김소영 82 80 93 97 93 88',\n",
    "            '정예린 86 100 93 86 90 77',\n",
    "            '이세영 91 88 99 79 92 68',\n",
    "            '정수정 86 100 93 89 92 93',\n",
    "            '박지수 80 100 95 89 90 84']\n",
    "\n",
    "for i in scores :\n",
    "    print(f\"{i} \\n\")\n",
    "    \n",
    "f = open(\"scores.txt\", \"w\")\n",
    "for i in scores :\n",
    "    data = f\"{i} \\n\"\n",
    "    f.write(data)\n",
    "    \n",
    "f.close()\n"
   ]
  },
  {
   "cell_type": "code",
   "execution_count": 83,
   "id": "19f429e0",
   "metadata": {},
   "outputs": [
    {
     "name": "stdout",
     "output_type": "stream",
     "text": [
      "['False', 2, 'False', 4, 'False', 6, 'False', 8, 'False', 10]\n"
     ]
    }
   ],
   "source": [
    "jjak_list = [i if i % 2 == 0 else \"False\" for i in range(1, 11)]\n",
    "\n",
    "print(jjak_list)\n",
    "# ['False', 2, 'False', 4, 'False', 6, 'False', 8, 'False', 10]"
   ]
  },
  {
   "cell_type": "code",
   "execution_count": 89,
   "id": "103f8608",
   "metadata": {},
   "outputs": [
    {
     "name": "stdout",
     "output_type": "stream",
     "text": [
      "김소영 82 80 93 97 93 88 \n",
      "\n",
      "정예린 86 100 93 86 90 77 \n",
      "\n",
      "이세영 91 88 99 79 92 68 \n",
      "\n",
      "정수정 86 100 93 89 92 93 \n",
      "\n",
      "박지수 80 100 95 89 90 84 \n",
      "\n"
     ]
    }
   ],
   "source": [
    "f = open(\"scores.txt\", \"r\")\n",
    "print(f.readline())\n",
    "print(f.readline())\n",
    "print(f.readline())\n",
    "print(f.readline())\n",
    "print(f.readline())\n",
    "bool(f.readline())\n",
    "\n",
    "f.close()"
   ]
  },
  {
   "cell_type": "code",
   "execution_count": 95,
   "id": "5dc8ca52",
   "metadata": {},
   "outputs": [
    {
     "name": "stdout",
     "output_type": "stream",
     "text": [
      "김소영 82 80 93 97 93 88 \n",
      "\n",
      "정예린 86 100 93 86 90 77 \n",
      "\n",
      "이세영 91 88 99 79 92 68 \n",
      "\n",
      "정수정 86 100 93 89 92 93 \n",
      "\n",
      "박지수 80 100 95 89 90 84 \n",
      "\n"
     ]
    }
   ],
   "source": [
    "scores = ['김소영 82 80 93 97 93 88',\n",
    "            '정예린 86 100 93 86 90 77',\n",
    "            '이세영 91 88 99 79 92 68',\n",
    "            '정수정 86 100 93 89 92 93',\n",
    "            '박지수 80 100 95 89 90 84']\n",
    "\n",
    "f = open(\"scores.txt\", \"r\")\n",
    "\n",
    "while True :\n",
    "    line = f.readline()\n",
    "    if not line : \n",
    "        break\n",
    "    print(line)\n",
    "    \n",
    "f.close()\n",
    "\n",
    "\n",
    "# 김소영 82 80 93 97 93 88 \n",
    "\n",
    "# 정예린 86 100 93 86 90 77 \n",
    "\n",
    "# 이세영 91 88 99 79 92 68 \n",
    "\n",
    "# 정수정 86 100 93 89 92 93 \n",
    "\n",
    "# 박지수 80 100 95 89 90 84 "
   ]
  },
  {
   "cell_type": "code",
   "execution_count": 96,
   "id": "7b0b23e4",
   "metadata": {},
   "outputs": [
    {
     "name": "stdout",
     "output_type": "stream",
     "text": [
      "['김소영 82 80 93 97 93 88 \\n', '정예린 86 100 93 86 90 77 \\n', '이세영 91 88 99 79 92 68 \\n', '정수정 86 100 93 89 92 93 \\n', '박지수 80 100 95 89 90 84 \\n']\n"
     ]
    }
   ],
   "source": [
    "f = open(\"scores.txt\", \"r\")\n",
    "\n",
    "lines = f.readlines()\n",
    "print(lines)\n",
    "    \n",
    "f.close()\n",
    "\n",
    "# ['김소영 82 80 93 97 93 88 \\n', '정예린 86 100 93 86 90 77 \\n', '이세영 91 88 99 79 92 68 \\n', '정수정 86 100 93 89 92 93 \\n', '박지수 80 100 95 89 90 84 \\n']"
   ]
  },
  {
   "cell_type": "code",
   "execution_count": 97,
   "id": "41b89dc3",
   "metadata": {},
   "outputs": [
    {
     "name": "stdout",
     "output_type": "stream",
     "text": [
      "김소영 82 80 93 97 93 88 \n",
      "정예린 86 100 93 86 90 77 \n",
      "이세영 91 88 99 79 92 68 \n",
      "정수정 86 100 93 89 92 93 \n",
      "박지수 80 100 95 89 90 84 \n",
      "\n"
     ]
    }
   ],
   "source": [
    "f = open(\"scores.txt\", \"r\")\n",
    "\n",
    "lines = f.read()\n",
    "print(lines)\n",
    "    \n",
    "f.close()\n",
    "\n",
    "# 김소영 82 80 93 97 93 88 \n",
    "# 정예린 86 100 93 86 90 77 \n",
    "# 이세영 91 88 99 79 92 68 \n",
    "# 정수정 86 100 93 89 92 93 \n",
    "# 박지수 80 100 95 89 90 84 "
   ]
  },
  {
   "cell_type": "code",
   "execution_count": 104,
   "id": "45a6bc77",
   "metadata": {},
   "outputs": [
    {
     "name": "stdout",
     "output_type": "stream",
     "text": [
      "<_io.TextIOWrapper name='scores.txt' mode='r' encoding='UTF-8'>의 내용\n",
      "김소영 82 80 93 97 93 88 \n",
      "\n",
      "정예린 86 100 93 86 90 77 \n",
      "\n",
      "이세영 91 88 99 79 92 68 \n",
      "\n",
      "정수정 86 100 93 89 92 93 \n",
      "\n",
      "박지수 80 100 95 89 90 84 \n",
      "\n"
     ]
    }
   ],
   "source": [
    "f = open(\"scores.txt\", \"r\")\n",
    "\n",
    "print(\"%s의 내용\" % f)\n",
    "lines = f.readlines()\n",
    "for i in lines :\n",
    "    i.replace(\"\\n\", \"\")\n",
    "    print(i)\n",
    "    \n",
    "f.close()"
   ]
  },
  {
   "cell_type": "code",
   "execution_count": 136,
   "id": "5ca314c0",
   "metadata": {},
   "outputs": [
    {
     "name": "stdout",
     "output_type": "stream",
     "text": [
      "------------------------------\n",
      "김소영 \n",
      "합계:538, 평균:89.67\n",
      "------------------------------\n",
      "정예린 \n",
      "합계:538, 평균:89.67\n",
      "------------------------------\n",
      "이세영 \n",
      "합계:538, 평균:89.67\n",
      "------------------------------\n",
      "정수정 \n",
      "합계:538, 평균:89.67\n",
      "------------------------------\n",
      "박지수 \n",
      "합계:538, 평균:89.67\n",
      "------------------------------\n"
     ]
    }
   ],
   "source": [
    "f = open(\"scores.txt\", \"r\")\n",
    "\n",
    "print(\"-\"*30)\n",
    "\n",
    "lines = f.readlines()\n",
    "for i in lines :\n",
    "    student = i.split(\" \")\n",
    "    score = li[1:7]\n",
    "    \n",
    "    total = 0\n",
    "    for i in score : \n",
    "        total += int(i)\n",
    "\n",
    "    avg = round(total / len(score), 2)\n",
    "    \n",
    "    print(f\"{student[0]} \\n합계:{total}, 평균:{avg}\")\n",
    "    print(\"-\"*30)\n",
    "        \n",
    "f.close()\n",
    "\n",
    "# ------------------------------\n",
    "# 김소영 \n",
    "# 합계:533, 평균:88.83\n",
    "# ------------------------------\n",
    "# 정예린 \n",
    "# 합계:532, 평균:88.67\n",
    "# ------------------------------\n",
    "# 이세영 \n",
    "# 합계:517, 평균:86.17\n",
    "# ------------------------------\n",
    "# 정수정 \n",
    "# 합계:553, 평균:92.17\n",
    "# ------------------------------\n",
    "# 박지수 \n",
    "# 합계:538, 평균:89.67\n",
    "# ------------------------------"
   ]
  },
  {
   "cell_type": "code",
   "execution_count": 133,
   "id": "7e7e6cea",
   "metadata": {},
   "outputs": [
    {
     "name": "stdout",
     "output_type": "stream",
     "text": [
      "533\n"
     ]
    }
   ],
   "source": [
    "a = 82+80+93+97 +93 +88\n",
    "print(a)"
   ]
  },
  {
   "cell_type": "code",
   "execution_count": null,
   "id": "278d50f2",
   "metadata": {},
   "outputs": [],
   "source": []
  }
 ],
 "metadata": {
  "kernelspec": {
   "display_name": "Python 3 (ipykernel)",
   "language": "python",
   "name": "python3"
  },
  "language_info": {
   "codemirror_mode": {
    "name": "ipython",
    "version": 3
   },
   "file_extension": ".py",
   "mimetype": "text/x-python",
   "name": "python",
   "nbconvert_exporter": "python",
   "pygments_lexer": "ipython3",
   "version": "3.9.13"
  }
 },
 "nbformat": 4,
 "nbformat_minor": 5
}
