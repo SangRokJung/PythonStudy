{
 "cells": [
  {
   "cell_type": "code",
   "execution_count": 1,
   "id": "8437c8c1",
   "metadata": {},
   "outputs": [],
   "source": [
    "from sklearn.decomposition import PCA\n",
    "import numpy as np\n"
   ]
  },
  {
   "cell_type": "code",
   "execution_count": null,
   "id": "fe852daf",
   "metadata": {},
   "outputs": [],
   "source": [
    "from sklearn.decomposition import PCA\n",
    "import numpy as np\n",
    "\n",
    "# X데이터를 2차원으로 축소\n",
    "pca = PCA(n_components=2)\n",
    "X2D = pca.fit_transform(X)\n",
    "\n",
    "# 설명된 분산의 비율\n",
    "# 적절한 차원 수 선택하기\n",
    "pca = PCA()\n",
    "pca.fit(X_train)\n",
    "cumsum = np.cumsum(pca.explained_variance_ratio_)\n",
    "d = np.argmax(cumsum >= 0.95) + 1\n",
    "PCA(n_components=d)\n",
    "X2D = pca.fit_transform(X_train)"
   ]
  },
  {
   "cell_type": "markdown",
   "id": "b91b51ac",
   "metadata": {},
   "source": [
    "## 압축을 위한 PCA"
   ]
  },
  {
   "cell_type": "code",
   "execution_count": null,
   "id": "fb0c06c5",
   "metadata": {},
   "outputs": [],
   "source": [
    "pca = PCA(n_components=2)\n",
    "X_reduced = pca.fit_transform(X_train)\n",
    "X_recovered = pca.inverse_transform(X_reduced)"
   ]
  },
  {
   "cell_type": "markdown",
   "id": "7423b8ef",
   "metadata": {},
   "source": [
    "## 랜덤 PCA\n",
    "> svd_solver 매개변수를 randomized로 지정하면 랜덤 pca. <br> 확률적으로 알고리즘 사용으로 주성분에 대한 근사값을 빠르게 검색 <br> 기본값 auto 지정시 자동으로 계산하여 랜덤으로 돌릴지 완전한 계산을 할지 결정 <br> 강제 계산 시 full 옵션 지정"
   ]
  },
  {
   "cell_type": "code",
   "execution_count": null,
   "id": "23b4af6a",
   "metadata": {},
   "outputs": [],
   "source": [
    "rnd_pca = PCA(n_components=154, svd_solver=\"randomized\")\n",
    "X_reduced = rnd_pca.fit_transform(X_train)"
   ]
  },
  {
   "cell_type": "markdown",
   "id": "ff4b2cc7",
   "metadata": {},
   "source": [
    "## 점진적 PCA"
   ]
  },
  {
   "cell_type": "code",
   "execution_count": null,
   "id": "e3af6c7a",
   "metadata": {},
   "outputs": [],
   "source": [
    "from sklearn.decomposition import IncrementalPCA\n",
    "\n",
    "n_batches = 100\n",
    "inc_pca = IncrementalPCA(n_batches=154)\n",
    "for X_batch in np.array_split(X_train, n_batches):\n",
    "    inc_pca.partial_fit(X_batch)\n",
    "    \n",
    "X_reduced = inc_pca.transform(X_train)"
   ]
  },
  {
   "cell_type": "code",
   "execution_count": null,
   "id": "0e3ae16b",
   "metadata": {},
   "outputs": [],
   "source": []
  }
 ],
 "metadata": {
  "kernelspec": {
   "display_name": "Python 3 (ipykernel)",
   "language": "python",
   "name": "python3"
  },
  "language_info": {
   "codemirror_mode": {
    "name": "ipython",
    "version": 3
   },
   "file_extension": ".py",
   "mimetype": "text/x-python",
   "name": "python",
   "nbconvert_exporter": "python",
   "pygments_lexer": "ipython3",
   "version": "3.9.13"
  }
 },
 "nbformat": 4,
 "nbformat_minor": 5
}
