{
 "cells": [
  {
   "cell_type": "code",
   "execution_count": 2,
   "id": "35241d99",
   "metadata": {},
   "outputs": [],
   "source": [
    "import numpy as np"
   ]
  },
  {
   "cell_type": "code",
   "execution_count": 6,
   "id": "946da029",
   "metadata": {},
   "outputs": [],
   "source": [
    "test_list = [[1, 4, 5, 8], [1, 4, 5]]\n"
   ]
  },
  {
   "cell_type": "code",
   "execution_count": 7,
   "id": "a78c4a8c",
   "metadata": {},
   "outputs": [
    {
     "ename": "ValueError",
     "evalue": "setting an array element with a sequence. The requested array has an inhomogeneous shape after 1 dimensions. The detected shape was (2,) + inhomogeneous part.",
     "output_type": "error",
     "traceback": [
      "\u001b[0;31m---------------------------------------------------------------------------\u001b[0m",
      "\u001b[0;31mValueError\u001b[0m                                Traceback (most recent call last)",
      "Input \u001b[0;32mIn [7]\u001b[0m, in \u001b[0;36m<cell line: 1>\u001b[0;34m()\u001b[0m\n\u001b[0;32m----> 1\u001b[0m \u001b[43mnp\u001b[49m\u001b[38;5;241;43m.\u001b[39;49m\u001b[43marray\u001b[49m\u001b[43m(\u001b[49m\u001b[43mtest_list\u001b[49m\u001b[43m,\u001b[49m\u001b[43m \u001b[49m\u001b[38;5;28;43mfloat\u001b[39;49m\u001b[43m)\u001b[49m\n",
      "\u001b[0;31mValueError\u001b[0m: setting an array element with a sequence. The requested array has an inhomogeneous shape after 1 dimensions. The detected shape was (2,) + inhomogeneous part."
     ]
    }
   ],
   "source": [
    "np.array(test_list, float) #ValueError"
   ]
  },
  {
   "cell_type": "code",
   "execution_count": 9,
   "id": "2a4e5b3b",
   "metadata": {},
   "outputs": [
    {
     "data": {
      "text/plain": [
       "array([1., 4., 5., 8.])"
      ]
     },
     "execution_count": 9,
     "metadata": {},
     "output_type": "execute_result"
    }
   ],
   "source": [
    "test_array = np.array([1, 4, 5, 8], float)\n",
    "test_array"
   ]
  },
  {
   "cell_type": "code",
   "execution_count": 10,
   "id": "55d14c64",
   "metadata": {},
   "outputs": [
    {
     "data": {
      "text/plain": [
       "numpy.float64"
      ]
     },
     "execution_count": 10,
     "metadata": {},
     "output_type": "execute_result"
    }
   ],
   "source": [
    "type(test_array[3])"
   ]
  },
  {
   "cell_type": "code",
   "execution_count": 18,
   "id": "41856e96",
   "metadata": {},
   "outputs": [
    {
     "name": "stdout",
     "output_type": "stream",
     "text": [
      "[1. 4. 5. 8.]\n",
      "<class 'numpy.float64'>\n",
      "float64\n",
      "(4,)\n"
     ]
    }
   ],
   "source": [
    "test_array = np.array([1, 4, 5, '8'], float)\n",
    "\n",
    "print(test_array)\n",
    "print(type(test_array[3]))\n",
    "print(test_array.dtype)\n",
    "print(test_array.shape)\n",
    "\n",
    "# [1. 4. 5. 8.]\n",
    "# <class 'numpy.float64'>\n",
    "# float64\n",
    "# (4,)"
   ]
  },
  {
   "cell_type": "code",
   "execution_count": 15,
   "id": "93a25857",
   "metadata": {},
   "outputs": [
    {
     "data": {
      "text/plain": [
       "(3, 4)"
      ]
     },
     "execution_count": 15,
     "metadata": {},
     "output_type": "execute_result"
    }
   ],
   "source": [
    "matrix = [[1, 2, 5, 8], [1, 2, 5, 8], [1, 2, 5, 8]]\n",
    "\n",
    "np.array(matrix, int).shape\n",
    "# (3, 4)"
   ]
  },
  {
   "cell_type": "code",
   "execution_count": 20,
   "id": "148002bc",
   "metadata": {},
   "outputs": [
    {
     "name": "stdout",
     "output_type": "stream",
     "text": [
      "(3, 3, 4)\n",
      "3\n",
      "36\n"
     ]
    }
   ],
   "source": [
    "matrix = [[[1, 2, 5, 8], [1, 2, 5, 8], [1, 2, 5, 8]],\n",
    "         [[1, 2, 5, 8], [1, 2, 5, 8], [1, 2, 5, 8]],\n",
    "         [[1, 2, 5, 8], [1, 2, 5, 8], [1, 2, 5, 8]]]\n",
    "\n",
    "print(np.array(matrix, int).shape)\n",
    "print(np.array(matrix, int).ndim) #number of dimension\n",
    "print(np.array(matrix, int).size) \n",
    "# (3, 3, 4)\n",
    "# 3\n",
    "# 36"
   ]
  },
  {
   "cell_type": "code",
   "execution_count": 21,
   "id": "7a306307",
   "metadata": {},
   "outputs": [
    {
     "data": {
      "text/plain": [
       "array([[1, 2, 3],\n",
       "       [4, 5, 6]])"
      ]
     },
     "execution_count": 21,
     "metadata": {},
     "output_type": "execute_result"
    }
   ],
   "source": [
    "np.array([[1, 2, 3.5], [4, 5, 6.5]], dtype = int)\n",
    "# array([[1, 2, 3],\n",
    "#        [4, 5, 6]])"
   ]
  },
  {
   "cell_type": "code",
   "execution_count": 22,
   "id": "1103ac01",
   "metadata": {},
   "outputs": [
    {
     "data": {
      "text/plain": [
       "array([[1. , 2. , 3.5],\n",
       "       [4. , 5. , 6.5]])"
      ]
     },
     "execution_count": 22,
     "metadata": {},
     "output_type": "execute_result"
    }
   ],
   "source": [
    "np.array([[1, 2, 3.5], [4, 5, 6.5]], dtype = float)\n",
    "\n",
    "# array([[1. , 2. , 3.5],\n",
    "#        [4. , 5. , 6.5]])"
   ]
  },
  {
   "cell_type": "code",
   "execution_count": 26,
   "id": "03d0cf75",
   "metadata": {},
   "outputs": [
    {
     "data": {
      "text/plain": [
       "8"
      ]
     },
     "execution_count": 26,
     "metadata": {},
     "output_type": "execute_result"
    }
   ],
   "source": [
    "import sys\n",
    "np.array([[1, 2, 3.5], [4, 5, 6.5]], dtype = np.float32).itemsize\n",
    "# 4\n",
    "\n"
   ]
  },
  {
   "cell_type": "code",
   "execution_count": 27,
   "id": "c520f5c1",
   "metadata": {},
   "outputs": [
    {
     "data": {
      "text/plain": [
       "8"
      ]
     },
     "execution_count": 27,
     "metadata": {},
     "output_type": "execute_result"
    }
   ],
   "source": [
    "import sys\n",
    "np.array([[1, 2, 3.5], [4, 5, 6.5]], dtype = np.float64).itemsize\n",
    "# 8"
   ]
  },
  {
   "cell_type": "code",
   "execution_count": 29,
   "id": "4f55357b",
   "metadata": {},
   "outputs": [
    {
     "data": {
      "text/plain": [
       "array([1, 2, 5, 8, 1, 2, 5, 8])"
      ]
     },
     "execution_count": 29,
     "metadata": {},
     "output_type": "execute_result"
    }
   ],
   "source": [
    "x = np.array([[1, 2, 5, 8], [1, 2, 5, 8]])\n",
    "x.reshape(-1,)\n",
    "\n",
    "# array([1, 2, 5, 8, 1, 2, 5, 8])"
   ]
  },
  {
   "cell_type": "code",
   "execution_count": 33,
   "id": "5b998f96",
   "metadata": {},
   "outputs": [
    {
     "data": {
      "text/plain": [
       "array([[[1, 2],\n",
       "        [5, 8]],\n",
       "\n",
       "       [[1, 2],\n",
       "        [5, 8]]])"
      ]
     },
     "execution_count": 33,
     "metadata": {},
     "output_type": "execute_result"
    }
   ],
   "source": [
    "x = np.array([[1, 2, 5, 8], [1, 2, 5, 8]])\n",
    "x.reshape(2, 2, 2)\n",
    "\n",
    "# array([[[1, 2],\n",
    "#         [5, 8]],\n",
    "# \n",
    "#        [[1, 2],\n",
    "#         [5, 8]]])"
   ]
  },
  {
   "cell_type": "code",
   "execution_count": 42,
   "id": "0b8b070e",
   "metadata": {},
   "outputs": [
    {
     "data": {
      "text/plain": [
       "array([[0, 1, 2, 3],\n",
       "       [4, 5, 6, 7]])"
      ]
     },
     "execution_count": 42,
     "metadata": {},
     "output_type": "execute_result"
    }
   ],
   "source": [
    "x = np.array(range(8))\n",
    "\n",
    "x.reshape(2, -1)\n",
    "\n",
    "# array([[0, 1, 2, 3],\n",
    "#        [4, 5, 6, 7]])"
   ]
  },
  {
   "cell_type": "code",
   "execution_count": 43,
   "id": "b05eb047",
   "metadata": {},
   "outputs": [
    {
     "data": {
      "text/plain": [
       "array([0, 1, 2, 3, 4, 5, 6, 7])"
      ]
     },
     "execution_count": 43,
     "metadata": {},
     "output_type": "execute_result"
    }
   ],
   "source": [
    "x.flatten()\n",
    "\n",
    "# array([0, 1, 2, 3, 4, 5, 6, 7])"
   ]
  },
  {
   "cell_type": "code",
   "execution_count": 47,
   "id": "64182364",
   "metadata": {},
   "outputs": [
    {
     "name": "stdout",
     "output_type": "stream",
     "text": [
      "3\n",
      "3\n"
     ]
    }
   ],
   "source": [
    "x = np.array([[1, 2, 3], [4, 5, 6]], int)\n",
    "print(x[0][2])\n",
    "print(x[0,2])\n",
    "# 3\n",
    "# 3"
   ]
  },
  {
   "cell_type": "code",
   "execution_count": 52,
   "id": "a87d14b3",
   "metadata": {},
   "outputs": [
    {
     "name": "stdout",
     "output_type": "stream",
     "text": [
      "[[ 3  4  5]\n",
      " [ 8  9 10]]\n",
      "[7 8]\n",
      "[[ 6  7  8  9 10]]\n"
     ]
    }
   ],
   "source": [
    "x = np.array([[1, 2, 3, 4, 5], [6, 7, 8, 9, 10]], int)\n",
    "\n",
    "print(x[:,2:])\n",
    "# [[ 3  4  5]\n",
    "#  [ 8  9 10]]\n",
    "\n",
    "print(x[1, 1:3])\n",
    "# [7 8]\n",
    "\n",
    "print(x[1:3])\n",
    "# [[ 6  7  8  9 10]]\n"
   ]
  },
  {
   "cell_type": "code",
   "execution_count": 56,
   "id": "7f56aaa3",
   "metadata": {},
   "outputs": [
    {
     "name": "stdout",
     "output_type": "stream",
     "text": [
      "[[ 0  1  2  3  4]\n",
      " [ 5  6  7  8  9]\n",
      " [10 11 12 13 14]]\n"
     ]
    }
   ],
   "source": [
    "x = np.array(range(15), int).reshape(3, -1)\n",
    "print(x)\n",
    "# [[ 0  1  2  3  4]\n",
    "#  [ 5  6  7  8  9]\n",
    "#  [10 11 12 13 14]]"
   ]
  },
  {
   "cell_type": "code",
   "execution_count": 62,
   "id": "8474cd07",
   "metadata": {},
   "outputs": [
    {
     "name": "stdout",
     "output_type": "stream",
     "text": [
      "[[ 0  2  4]\n",
      " [ 5  7  9]\n",
      " [10 12 14]]\n"
     ]
    }
   ],
   "source": [
    "print(x[:,::2])\n",
    "\n",
    "# [[ 0  2  4]\n",
    "#  [ 5  7  9]\n",
    "#  [10 12 14]]\n",
    "\n",
    "print(x[::2,::3])\n",
    "\n",
    "# [[ 0  3]\n",
    "#  [10 13]]"
   ]
  },
  {
   "cell_type": "code",
   "execution_count": 61,
   "id": "e6ecdd53",
   "metadata": {},
   "outputs": [
    {
     "name": "stdout",
     "output_type": "stream",
     "text": [
      "[[ 0  3]\n",
      " [10 13]]\n"
     ]
    }
   ],
   "source": [
    "print(x[::2,::3])\n",
    "\n",
    "# [[ 0  3]\n",
    "#  [10 13]]"
   ]
  },
  {
   "cell_type": "code",
   "execution_count": 64,
   "id": "57c4c03d",
   "metadata": {},
   "outputs": [
    {
     "name": "stdout",
     "output_type": "stream",
     "text": [
      "[0 1 2 3 4 5 6 7 8 9]\n",
      "[-5 -4 -3 -2 -1  0  1  2  3  4]\n",
      "[0.  0.5 1.  1.5 2.  2.5 3.  3.5 4.  4.5]\n"
     ]
    }
   ],
   "source": [
    "print(np.arange(10))\n",
    "print(np.arange(-5, 5))\n",
    "print(np.arange(0, 5, 0.5))\n",
    "\n",
    "# [0 1 2 3 4 5 6 7 8 9]\n",
    "# [-5 -4 -3 -2 -1  0  1  2  3  4]\n",
    "# [0.  0.5 1.  1.5 2.  2.5 3.  3.5 4.  4.5]"
   ]
  },
  {
   "cell_type": "code",
   "execution_count": 68,
   "id": "2df9fe26",
   "metadata": {},
   "outputs": [
    {
     "name": "stdout",
     "output_type": "stream",
     "text": [
      "[[1 1]\n",
      " [1 1]\n",
      " [1 1]\n",
      " [1 1]\n",
      " [1 1]]\n"
     ]
    }
   ],
   "source": [
    "print(np.ones(shape=[5, 2], dtype=np.int8))\n",
    "\n",
    "# [[1 1]\n",
    "#  [1 1]\n",
    "#  [1 1]\n",
    "#  [1 1]\n",
    "#  [1 1]]\n",
    "\n",
    "print(np.zeros(shape=[2, 2], dtype=np.float32))\n",
    "\n",
    "# [[0. 0.]\n",
    "#  [0. 0.]]"
   ]
  },
  {
   "cell_type": "code",
   "execution_count": 69,
   "id": "f0f54c2d",
   "metadata": {},
   "outputs": [
    {
     "name": "stdout",
     "output_type": "stream",
     "text": [
      "[[0. 0.]\n",
      " [0. 0.]]\n"
     ]
    }
   ],
   "source": [
    "print(np.zeros(shape=[2, 2], dtype=np.float32))\n",
    "\n",
    "# [[0. 0.]\n",
    "#  [0. 0.]]"
   ]
  },
  {
   "cell_type": "code",
   "execution_count": 112,
   "id": "e617ee08",
   "metadata": {},
   "outputs": [
    {
     "name": "stdout",
     "output_type": "stream",
     "text": [
      "[[0.     1.875  0.     2.25  ]\n",
      " [0.     2.3125 0.     2.5   ]]\n"
     ]
    }
   ],
   "source": [
    "print(np.empty(shape=(2, 4), dtype=np.float32))"
   ]
  },
  {
   "cell_type": "code",
   "execution_count": 77,
   "id": "ca36ec38",
   "metadata": {},
   "outputs": [
    {
     "name": "stdout",
     "output_type": "stream",
     "text": [
      "[[ 0  1  2  3]\n",
      " [ 4  5  6  7]\n",
      " [ 8  9 10 11]]\n",
      "[[1 1 1 1]\n",
      " [1 1 1 1]\n",
      " [1 1 1 1]]\n",
      "[[0 0 0 0]\n",
      " [0 0 0 0]\n",
      " [0 0 0 0]]\n",
      "[[0 0 0 0]\n",
      " [0 0 0 0]\n",
      " [0 0 0 0]]\n"
     ]
    }
   ],
   "source": [
    "x = np.arange(12).reshape(3, 4)\n",
    "\n",
    "print(x)\n",
    "#[[ 0  1  2  3]\n",
    "# [ 4  5  6  7]\n",
    "# [ 8  9 10 11]]\n",
    "\n",
    "print(np.ones_like(x))\n",
    "# [[1 1 1 1]\n",
    "#  [1 1 1 1]\n",
    "#  [1 1 1 1]]\n",
    "\n",
    "print(np.zeros_like(x))\n",
    "# [[0 0 0 0]\n",
    "#  [0 0 0 0]\n",
    "#  [0 0 0 0]]\n",
    "\n",
    "print(np.empty_like(x))\n",
    "# [[0 0 0 0]\n",
    "#  [0 0 0 0]\n",
    "#  [0 0 0 0]]"
   ]
  },
  {
   "cell_type": "code",
   "execution_count": 83,
   "id": "7caafe86",
   "metadata": {},
   "outputs": [
    {
     "name": "stdout",
     "output_type": "stream",
     "text": [
      "[[1 0 0]\n",
      " [0 1 0]\n",
      " [0 0 1]]\n"
     ]
    }
   ],
   "source": [
    "print(np.identity(n=3, dtype=int))\n",
    "\n",
    "# [[1 0 0]\n",
    "#  [0 1 0]\n",
    "#  [0 0 1]]\n",
    "\n",
    "print(np.identity(n=4, dtype=int))\n",
    "\n",
    "#[[1 0 0 0]\n",
    "# [0 1 0 0]\n",
    "# [0 0 1 0]\n",
    "# [0 0 0 1]]"
   ]
  },
  {
   "cell_type": "code",
   "execution_count": 84,
   "id": "2e757c78",
   "metadata": {},
   "outputs": [
    {
     "name": "stdout",
     "output_type": "stream",
     "text": [
      "[[1 0 0 0]\n",
      " [0 1 0 0]\n",
      " [0 0 1 0]\n",
      " [0 0 0 1]]\n"
     ]
    }
   ],
   "source": [
    "print(np.identity(n=4, dtype=int))\n",
    "\n",
    "#[[1 0 0 0]\n",
    "# [0 1 0 0]\n",
    "# [0 0 1 0]\n",
    "# [0 0 0 1]]"
   ]
  },
  {
   "cell_type": "code",
   "execution_count": 87,
   "id": "87801c71",
   "metadata": {},
   "outputs": [
    {
     "name": "stdout",
     "output_type": "stream",
     "text": [
      "[[1. 0. 0. 0. 0.]\n",
      " [0. 1. 0. 0. 0.]\n",
      " [0. 0. 1. 0. 0.]]\n"
     ]
    }
   ],
   "source": [
    "print(np.eye(N=3, M=5))\n",
    "\n",
    "# [[1. 0. 0. 0. 0.]\n",
    "#  [0. 1. 0. 0. 0.]\n",
    "#  [0. 0. 1. 0. 0.]]"
   ]
  },
  {
   "cell_type": "code",
   "execution_count": 96,
   "id": "741c9014",
   "metadata": {},
   "outputs": [
    {
     "name": "stdout",
     "output_type": "stream",
     "text": [
      "[[0. 0. 1. 0. 0.]\n",
      " [0. 0. 0. 1. 0.]\n",
      " [0. 0. 0. 0. 1.]]\n"
     ]
    }
   ],
   "source": [
    "print(np.eye(N=3, M=5, k=2))\n",
    "\n",
    "# [[0. 0. 1. 0. 0.]\n",
    "#  [0. 0. 0. 1. 0.]\n",
    "#  [0. 0. 0. 0. 1.]]\n"
   ]
  },
  {
   "cell_type": "code",
   "execution_count": 106,
   "id": "dd2a4150",
   "metadata": {},
   "outputs": [
    {
     "name": "stdout",
     "output_type": "stream",
     "text": [
      "[0 4 8]\n"
     ]
    }
   ],
   "source": [
    "print(np.diag(np.arange(9).reshape(3, 3)))\n",
    "# [0 4 8]\n",
    "\n",
    "print(np.diag(np.arange(9).reshape(3, 3), k=1))\n",
    "# [1 5]"
   ]
  },
  {
   "cell_type": "code",
   "execution_count": 107,
   "id": "3abab45a",
   "metadata": {},
   "outputs": [
    {
     "name": "stdout",
     "output_type": "stream",
     "text": [
      "[1 5]\n"
     ]
    }
   ],
   "source": [
    "print(np.diag(np.arange(9).reshape(3, 3), k=1))\n",
    "# [1 5]"
   ]
  },
  {
   "cell_type": "code",
   "execution_count": 111,
   "id": "da05a9b0",
   "metadata": {},
   "outputs": [
    {
     "name": "stdout",
     "output_type": "stream",
     "text": [
      "[0.52675772 0.42216318 3.88471858 2.38202763 3.23275871 2.58250078\n",
      " 3.81355672 4.66374263 1.46639956 3.29314779]\n"
     ]
    }
   ],
   "source": [
    "print(np.random.uniform(0, 5, 10))\n",
    "\n",
    "# [0.52675772 0.42216318 3.88471858 2.38202763 3.23275871 2.58250078\n",
    "#  3.81355672 4.66374263 1.46639956 3.29314779]"
   ]
  },
  {
   "cell_type": "code",
   "execution_count": 114,
   "id": "3f56e42f",
   "metadata": {},
   "outputs": [
    {
     "name": "stdout",
     "output_type": "stream",
     "text": [
      "[ 1.67769499  2.65559914 -0.83006297 -0.54458485  1.96107166  1.43042317\n",
      " -1.4927319  -1.8952236  -0.91212602  0.83006339]\n"
     ]
    }
   ],
   "source": [
    "print(np.random.normal(0, 2, 10))\n",
    "# [ 1.67769499  2.65559914 -0.83006297 -0.54458485  1.96107166  1.43042317\n",
    "#  -1.4927319  -1.8952236  -0.91212602  0.83006339]"
   ]
  },
  {
   "cell_type": "code",
   "execution_count": 152,
   "id": "4bb2e7e0",
   "metadata": {},
   "outputs": [
    {
     "name": "stdout",
     "output_type": "stream",
     "text": [
      "-0.5418771163539947\n",
      "2.164915242735452\n",
      "4.6868580082283\n"
     ]
    }
   ],
   "source": [
    "x = np.random.normal(0, 2, 10)\n",
    "print(np.mean(x)) # 평균\n",
    "print(np.std(x)) # 표준편차\n",
    "print(np.var(x)) # 분산\n",
    "# 0.37585327103539473\n",
    "# 1.1455876931248066\n",
    "# 4.6868580082283"
   ]
  },
  {
   "cell_type": "code",
   "execution_count": 153,
   "id": "25a6d158",
   "metadata": {},
   "outputs": [
    {
     "data": {
      "text/plain": [
       "55"
      ]
     },
     "execution_count": 153,
     "metadata": {},
     "output_type": "execute_result"
    }
   ],
   "source": [
    "import numpy as np\n",
    "\n",
    "test_array = np.arange(1, 11)\n",
    "test_array.sum()\n",
    "# 55"
   ]
  },
  {
   "cell_type": "code",
   "execution_count": 158,
   "id": "0f30e815",
   "metadata": {},
   "outputs": [
    {
     "name": "stdout",
     "output_type": "stream",
     "text": [
      "78\n",
      "[15 18 21 24]\n",
      "[10 26 42]\n"
     ]
    }
   ],
   "source": [
    "print(np.arange(1, 13).reshape(3, 4).sum(axis = None))\n",
    "# 78\n",
    "print(np.arange(1, 13).reshape(3, 4).sum(axis = 0)) # 컬럼 별로 더한다.\n",
    "# [15 18 21 24]\n",
    "print(np.arange(1, 13).reshape(3, 4).sum(axis = 1)) # 로우 별로 더한다.\n",
    "# [10 26 42]"
   ]
  },
  {
   "cell_type": "code",
   "execution_count": 163,
   "id": "887eaf54",
   "metadata": {},
   "outputs": [
    {
     "name": "stdout",
     "output_type": "stream",
     "text": [
      "[[[ 1  2  3  4]\n",
      "  [ 5  6  7  8]\n",
      "  [ 9 10 11 12]]\n",
      "\n",
      " [[ 1  2  3  4]\n",
      "  [ 5  6  7  8]\n",
      "  [ 9 10 11 12]]\n",
      "\n",
      " [[ 1  2  3  4]\n",
      "  [ 5  6  7  8]\n",
      "  [ 9 10 11 12]]]\n"
     ]
    }
   ],
   "source": [
    "test_array = np.arange(1, 13).reshape(3, 4)\n",
    "third_order_tensor = np.array([test_array, test_array, test_array])\n",
    "print(third_order_tensor)\n",
    "# [[[ 1  2  3  4]\n",
    "#   [ 5  6  7  8]\n",
    "#   [ 9 10 11 12]]\n",
    "#  [[ 1  2  3  4]\n",
    "#   [ 5  6  7  8]\n",
    "#   [ 9 10 11 12]]\n",
    "#  [[ 1  2  3  4]\n",
    "#   [ 5  6  7  8]\n",
    "#   [ 9 10 11 12]]]"
   ]
  },
  {
   "cell_type": "code",
   "execution_count": 165,
   "id": "48454416",
   "metadata": {},
   "outputs": [
    {
     "name": "stdout",
     "output_type": "stream",
     "text": [
      "[[15 18 21 24]\n",
      " [15 18 21 24]\n",
      " [15 18 21 24]]\n",
      "[[ 3  6  9 12]\n",
      " [15 18 21 24]\n",
      " [27 30 33 36]]\n",
      "[[10 26 42]\n",
      " [10 26 42]\n",
      " [10 26 42]]\n"
     ]
    }
   ],
   "source": [
    "# 3차원 합\n",
    "\n",
    "\n",
    "print(third_order_tensor.sum(axis = 1))\n",
    "# [[15 18 21 24]\n",
    "#  [15 18 21 24]\n",
    "#  [15 18 21 24]]\n",
    "\n",
    "\n",
    "print(third_order_tensor.sum(axis = 0))\n",
    "# [[ 3  6  9 12]\n",
    "#  [15 18 21 24]\n",
    "#  [27 30 33 36]]\n",
    "\n",
    "\n",
    "print(third_order_tensor.sum(axis = 2))\n",
    "# [[10 26 42]\n",
    "#  [10 26 42]\n",
    "#  [10 26 42]]"
   ]
  },
  {
   "cell_type": "code",
   "execution_count": 178,
   "id": "403edf0d",
   "metadata": {},
   "outputs": [
    {
     "name": "stdout",
     "output_type": "stream",
     "text": [
      "[ 2.5  6.5 10.5]\n",
      "[3.26598632 3.26598632 3.26598632 3.26598632]\n",
      "[[1.         1.41421356 1.73205081 2.        ]\n",
      " [2.23606798 2.44948974 2.64575131 2.82842712]\n",
      " [3.         3.16227766 3.31662479 3.46410162]]\n"
     ]
    }
   ],
   "source": [
    "# print(test_array)\n",
    "print(test_array.mean(axis = 1))\n",
    "print(test_array.std(axis = 0))\n",
    "print(np.sqrt(test_array))\n",
    "\n",
    "# [ 2.5  6.5 10.5]\n",
    "# [3.26598632 3.26598632 3.26598632 3.26598632]\n",
    "# [[1.         1.41421356 1.73205081 2.        ]\n",
    "#  [2.23606798 2.44948974 2.64575131 2.82842712]\n",
    "#  [3. "
   ]
  },
  {
   "cell_type": "code",
   "execution_count": 184,
   "id": "61046513",
   "metadata": {},
   "outputs": [
    {
     "data": {
      "text/plain": [
       "array([[1, 2, 3],\n",
       "       [4, 5, 6]])"
      ]
     },
     "execution_count": 184,
     "metadata": {},
     "output_type": "execute_result"
    }
   ],
   "source": [
    "v1 = np.array([1, 2, 3])\n",
    "v2 = np.array([4, 5, 6])\n",
    "\n",
    "np.vstack((v1, v2))\n",
    "# ([[1, 2, 3],\n",
    "#   [4, 5, 6]])\n",
    "\n",
    "np.hstack((v1, v2))\n",
    "# ([1, 2, 3, 4, 5, 6])"
   ]
  },
  {
   "cell_type": "code",
   "execution_count": 187,
   "id": "f6be5f0f",
   "metadata": {},
   "outputs": [
    {
     "data": {
      "text/plain": [
       "array([[1, 4],\n",
       "       [2, 5],\n",
       "       [3, 6]])"
      ]
     },
     "execution_count": 187,
     "metadata": {},
     "output_type": "execute_result"
    }
   ],
   "source": [
    "v1 = v1.reshape(-1, 1)\n",
    "v2 = v2.reshape(-1, 1)\n",
    "np.hstack((v1, v2))\n",
    "\n",
    "# ([[1, 4],\n",
    "#   [2, 5],\n",
    "#   [3, 6]])"
   ]
  },
  {
   "cell_type": "code",
   "execution_count": 196,
   "id": "99bba5cb",
   "metadata": {},
   "outputs": [
    {
     "name": "stdout",
     "output_type": "stream",
     "text": [
      "[[1 2 3]\n",
      " [4 5 6]]\n"
     ]
    }
   ],
   "source": [
    "v1 = np.array([[1, 2, 3]])\n",
    "v2 = np.array([[4, 5, 6]])\n",
    "\n",
    "\n",
    "print(np.concatenate((v1, v2)))\n",
    "# [[1 2 3]\n",
    "#  [4 5 6]]"
   ]
  },
  {
   "cell_type": "code",
   "execution_count": 200,
   "id": "696d952c",
   "metadata": {},
   "outputs": [
    {
     "name": "stdout",
     "output_type": "stream",
     "text": [
      "[[1 2 5]\n",
      " [3 4 6]]\n"
     ]
    }
   ],
   "source": [
    "v1 = np.array([[1, 2], [3, 4]])\n",
    "v2 = np.array([[5], [6]])\n",
    "\n",
    "print(np.concatenate((v1, v2), axis=1))\n",
    "# [[1 2 5]\n",
    "#  [3 4 6]]"
   ]
  },
  {
   "cell_type": "code",
   "execution_count": 205,
   "id": "90fd8a09",
   "metadata": {},
   "outputs": [
    {
     "name": "stdout",
     "output_type": "stream",
     "text": [
      "[[ 2  4  6]\n",
      " [ 8 10 12]]\n",
      "[[0 0 0]\n",
      " [0 0 0]]\n",
      "[[1. 1. 1.]\n",
      " [1. 1. 1.]]\n",
      "[[    1     4    27]\n",
      " [  256  3125 46656]]\n"
     ]
    }
   ],
   "source": [
    "x = np.arange(1, 7).reshape(2, 3)\n",
    "\n",
    "print(x + x)\n",
    "# [[ 2  4  6]\n",
    "#  [ 8 10 12]]\n",
    "\n",
    "print(x - x)\n",
    "# [[0 0 0]\n",
    "#  [0 0 0]]\n",
    "\n",
    "print(x / x)\n",
    "# [[1. 1. 1.]\n",
    "#  [1. 1. 1.]]\n",
    "\n",
    "print(x ** x)\n",
    "# [[    1     4    27]\n",
    "#  [  256  3125 46656]]\n"
   ]
  },
  {
   "cell_type": "code",
   "execution_count": null,
   "id": "67d97326",
   "metadata": {},
   "outputs": [],
   "source": []
  }
 ],
 "metadata": {
  "kernelspec": {
   "display_name": "Python 3 (ipykernel)",
   "language": "python",
   "name": "python3"
  },
  "language_info": {
   "codemirror_mode": {
    "name": "ipython",
    "version": 3
   },
   "file_extension": ".py",
   "mimetype": "text/x-python",
   "name": "python",
   "nbconvert_exporter": "python",
   "pygments_lexer": "ipython3",
   "version": "3.9.13"
  }
 },
 "nbformat": 4,
 "nbformat_minor": 5
}
