{
 "cells": [
  {
   "cell_type": "code",
   "execution_count": 6,
   "id": "fd60e3f1",
   "metadata": {},
   "outputs": [
    {
     "name": "stdout",
     "output_type": "stream",
     "text": [
      "성 : 홍 \n",
      "이름 : 길동\n",
      "홍길동의 나이 : 30세, 키 : 171cm\n"
     ]
    }
   ],
   "source": [
    "name = \"홍길동\"\n",
    "age = 30\n",
    "height = 171.5\n",
    "print(\"성 : %s \\n이름 : %s\\n%s의 나이 : 30세, 키 : %dcm\" % (name[0:1], name[1:3], name, height))"
   ]
  },
  {
   "cell_type": "code",
   "execution_count": 9,
   "id": "42f42448",
   "metadata": {},
   "outputs": [
    {
     "name": "stdout",
     "output_type": "stream",
     "text": [
      "성 : 홍 \n",
      "이름 : 길동\n",
      "홍길동의 나이 : 30세, 키 : 171.5cm\n"
     ]
    }
   ],
   "source": [
    "print(\"성 : {0} \\n이름 : {1}\\n{2}의 나이 : {3}세, 키 : {4}cm\".format(name[0:1], name[1:3], name, age, height))"
   ]
  },
  {
   "cell_type": "code",
   "execution_count": 22,
   "id": "32ee6d01",
   "metadata": {},
   "outputs": [
    {
     "name": "stdout",
     "output_type": "stream",
     "text": [
      "학생 이름을 입력하세요 : 123\n",
      "국어 성적을 입력하세요 : 14\n",
      "영어 성적을 입력하세요 : 23\n",
      "수학 성적을 입력하세요 : 123\n",
      "이름 : 123\n",
      "국어 : 14\n",
      "영어 : 23\n",
      "수학 : 123\n",
      "평균 : 53.33점\n"
     ]
    }
   ],
   "source": [
    "name = input(\"학생 이름을 입력하세요 : \")\n",
    "kor = int(input(\"국어 성적을 입력하세요 : \"))\n",
    "eng = int(input(\"영어 성적을 입력하세요 : \"))\n",
    "math = int(input(\"수학 성적을 입력하세요 : \"))\n",
    "avg = (kor + eng + math)/3\n",
    "print(\"이름 : {0}\\n국어 : {1}\\n영어 : {2}\\n수학 : {3}\\n평균 : {4}점\".format(name, kor, eng, math, round(avg, 2)))"
   ]
  },
  {
   "cell_type": "code",
   "execution_count": 26,
   "id": "9db95d5b",
   "metadata": {},
   "outputs": [
    {
     "name": "stdout",
     "output_type": "stream",
     "text": [
      "학생 이름을 입력하세요 : 아무개\n",
      "국어 성적을 입력하세요 : 87\n",
      "영어 성적을 입력하세요 : 98\n",
      "수학 성적을 입력하세요 : 99\n",
      "이름 : 아무개\n",
      "국어 : 87점\n",
      "영어 : 98점\n",
      "수학 : 99점\n",
      "평균 : 94.67점\n"
     ]
    }
   ],
   "source": [
    "name = input(\"학생 이름을 입력하세요 : \")\n",
    "kor = int(input(\"국어 성적을 입력하세요 : \"))\n",
    "eng = int(input(\"영어 성적을 입력하세요 : \"))\n",
    "math = int(input(\"수학 성적을 입력하세요 : \"))\n",
    "avg = (kor + eng + math)/3\n",
    "print(\"이름 : {0}\\n국어 : {1}점\\n영어 : {2}점\\n수학 : {3}점\\n평균 : {4}점\".format(name, kor, eng, math, round((kor + eng + math)/3, 2)))"
   ]
  },
  {
   "cell_type": "code",
   "execution_count": 61,
   "id": "324ec6be",
   "metadata": {},
   "outputs": [
    {
     "name": "stdout",
     "output_type": "stream",
     "text": [
      "name : 김철수, kor : 90점, eng : 80점, math : 85점, total : 255점, avg : 85점, order : 0\n",
      "255\n"
     ]
    }
   ],
   "source": [
    "a = [\n",
    "    {\"num\" : \"1\", \"name\" : \"김철수\", \"kor\" : 90, \"eng\" : 80, \"math\" : 85, \"total\" : 0, \"avg\" : 0.0, \"order\" : 0},\n",
    "    {\"num\" : \"2\", \"name\" : \"박제동\", \"kor\" : 90, \"eng\" : 85, \"math\" : 90, \"total\" : 0, \"avg\" : 0.0, \"order\" : 0},\n",
    "    {\"num\" : \"3\", \"name\" : \"홍길동\", \"kor\" : 80, \"eng\" : 80, \"math\" : 80, \"total\" : 0, \"avg\" : 0.0, \"order\" : 0}\n",
    "]\n",
    "\n",
    "print(\"name : %s, kor : %d점, eng : %d점, math : %d점, total : %d점, avg : %d점, order : %d\" %\n",
    "    (a[0][\"name\"], a[0][\"kor\"], a[0][\"eng\"], a[0][\"math\"], (a[0][\"kor\"] + a[0][\"eng\"] + a[0][\"math\"]), ((a[0][\"kor\"] + a[0][\"eng\"] + a[0][\"math\"])/3), a[0][\"order\"]))\n",
    "a[0][\"total\"] = int(a[0][\"kor\"]) + int(a[0][\"eng\"]) + int(a[0][\"math\"])\n",
    "print(a[0][\"total\"])"
   ]
  },
  {
   "cell_type": "code",
   "execution_count": 72,
   "id": "dd14b4e5",
   "metadata": {},
   "outputs": [
    {
     "name": "stdout",
     "output_type": "stream",
     "text": [
      "255\n",
      "265\n",
      "240\n",
      "85.0\n",
      "88.33\n",
      "80.0\n"
     ]
    }
   ],
   "source": [
    "a[0][\"total\"] = a[0][\"kor\"] + a[0][\"eng\"] + a[0][\"math\"]\n",
    "a[1][\"total\"] = a[1][\"kor\"] + a[1][\"eng\"] + a[1][\"math\"]\n",
    "a[2][\"total\"] = a[2][\"kor\"] + a[2][\"eng\"] + a[2][\"math\"]\n",
    "\n",
    "print(a[0][\"total\"])\n",
    "print(a[1][\"total\"])\n",
    "print(a[2][\"total\"])\n",
    "\n",
    "\n",
    "a[0][\"avg\"] = round(a[0][\"total\"] / 3, 2)\n",
    "a[1][\"avg\"] = round(a[1][\"total\"] / 3, 2)\n",
    "a[2][\"avg\"] = round(a[2][\"total\"] / 3, 2)\n",
    "\n",
    "print(a[0][\"avg\"])\n",
    "print(a[1][\"avg\"])\n",
    "print(a[2][\"avg\"])"
   ]
  },
  {
   "cell_type": "code",
   "execution_count": 89,
   "id": "3cbee8cc",
   "metadata": {},
   "outputs": [
    {
     "name": "stdout",
     "output_type": "stream",
     "text": [
      "10\n"
     ]
    }
   ],
   "source": [
    "print(sum([1, 2, 3, 4]))"
   ]
  },
  {
   "cell_type": "code",
   "execution_count": 93,
   "id": "09032367",
   "metadata": {},
   "outputs": [
    {
     "name": "stdout",
     "output_type": "stream",
     "text": [
      "참입니다.\n",
      "거짓입니다.\n"
     ]
    }
   ],
   "source": [
    "if True : \n",
    "    print(\"참입니다.\")\n",
    "else : \n",
    "    print(\"거짓입니다.\")\n",
    "    \n",
    "if False : \n",
    "    print(\"참입니다.\")\n",
    "else : \n",
    "    print(\"거짓입니다.\")"
   ]
  },
  {
   "cell_type": "code",
   "execution_count": 98,
   "id": "11980792",
   "metadata": {},
   "outputs": [
    {
     "name": "stdout",
     "output_type": "stream",
     "text": [
      "true\n"
     ]
    }
   ],
   "source": [
    "a = 10\n",
    "if a == 10 : \n",
    "    print(\"true\")\n",
    "else : \n",
    "    print(\"false\")"
   ]
  },
  {
   "cell_type": "code",
   "execution_count": 113,
   "id": "be25ef40",
   "metadata": {},
   "outputs": [
    {
     "name": "stdout",
     "output_type": "stream",
     "text": [
      "숫자를 입력하세요 : 0\n",
      "0입니댜.\n"
     ]
    }
   ],
   "source": [
    "num = int(input(\"숫자를 입력하세요 : \"))\n",
    "if num > 0 :\n",
    "    print(\"%d(은)는 양수입니다.\" % num)\n",
    "elif num < 0 :\n",
    "    print(\"%d(은)는 음수 입니다.\" % num)\n",
    "else : \n",
    "    print(\"0입니다.\")"
   ]
  },
  {
   "cell_type": "code",
   "execution_count": 125,
   "id": "28bbc52c",
   "metadata": {},
   "outputs": [
    {
     "name": "stdout",
     "output_type": "stream",
     "text": [
      "선수를 입력하세요 : 레반도프스키\n"
     ]
    }
   ],
   "source": [
    "legend = [\"손흥민\", \"박지성\", \"차범근\"]\n",
    "\n",
    "Player = input(\"선수를 입력하세요 : \")\n",
    "\n",
    "\n",
    "if Player in legend :\n",
    "    print(\"%s는(은) 전설이 맞다\" % Player)\n",
    "else :\n",
    "    pass\n",
    "    \n"
   ]
  },
  {
   "cell_type": "code",
   "execution_count": 128,
   "id": "0ad4760b",
   "metadata": {},
   "outputs": [
    {
     "name": "stdout",
     "output_type": "stream",
     "text": [
      "금액을 입력하세요 : 2320\n",
      "2320원으로는 버스를 탄다.\n"
     ]
    }
   ],
   "source": [
    "money = int(input(\"금액을 입력하세요 : \"))\n",
    "\n",
    "if money > 5000 :\n",
    "    print(\"%d원으로는 택시를 탄다.\" % money)\n",
    "else : \n",
    "    print(\"%d원으로는 버스를 탄다.\" % money)"
   ]
  },
  {
   "cell_type": "code",
   "execution_count": 143,
   "id": "fd6a30a3",
   "metadata": {},
   "outputs": [
    {
     "name": "stdout",
     "output_type": "stream",
     "text": [
      "평점을 입력하세요 : 1\n",
      "수상 대상자가 아닙니다.\n"
     ]
    }
   ],
   "source": [
    "grade = float(input(\"평점을 입력하세요 : \"))\n",
    "\n",
    "msg = \"장학금 수여 대상\" if grade > 4.3 else \"수상 대상자가 아닙니다.\"\n",
    "print(msg)"
   ]
  },
  {
   "cell_type": "code",
   "execution_count": 147,
   "id": "b744ed09",
   "metadata": {},
   "outputs": [
    {
     "name": "stdout",
     "output_type": "stream",
     "text": [
      "숫자를 입력하세요 : 4231424231\n",
      "홀수 입니다.\n"
     ]
    }
   ],
   "source": [
    "num = int(input(\"숫자를 입력하세요 : \"))\n",
    "\n",
    "msg = \"짝수입니다.\" if (num%2) == 0 else \"홀수 입니다.\"\n",
    "\n",
    "print(msg)"
   ]
  },
  {
   "cell_type": "code",
   "execution_count": 148,
   "id": "620d2852",
   "metadata": {},
   "outputs": [
    {
     "name": "stdout",
     "output_type": "stream",
     "text": [
      "숫자를 입력하세요 : 2\n",
      "짝수입니다.\n"
     ]
    }
   ],
   "source": [
    "su = int(input(\"숫자를 입력하세요 : \"))\n",
    "\n",
    "if (su%2) == 0 : print(\"짝수입니다.\")\n",
    "else : print(\"홀수입니다.\")"
   ]
  },
  {
   "cell_type": "code",
   "execution_count": 160,
   "id": "975c8c41",
   "metadata": {},
   "outputs": [
    {
     "name": "stdout",
     "output_type": "stream",
     "text": [
      "나이를 입력하세요 : 11\n",
      "키를 입력하세요 : 180\n",
      "큰 키\n"
     ]
    }
   ],
   "source": [
    "age = int(input(\"나이를 입력하세요 : \"))\n",
    "height = int(input(\"키를 입력하세요 : \"))\n",
    "\n",
    "if age >= 40 :\n",
    "    if height >= 170 :\n",
    "        print(\"큰 키\")\n",
    "    else :\n",
    "        print(\"작은 키\")\n",
    "else :\n",
    "    if height >= 175 : \n",
    "        print(\"큰 키\")\n",
    "    else :\n",
    "        print(\"작은 키\")\n",
    "    "
   ]
  },
  {
   "cell_type": "code",
   "execution_count": 162,
   "id": "63fca154",
   "metadata": {},
   "outputs": [
    {
     "name": "stdout",
     "output_type": "stream",
     "text": [
      "나이를 입력하세요 : 11\n",
      "키를 입력하세요 : 190\n",
      "큰키\n"
     ]
    }
   ],
   "source": [
    "age = int(input(\"나이를 입력하세요 : \"))\n",
    "height = int(input(\"키를 입력하세요 : \"))\n",
    "\n",
    "if age >= 40 and height >= 170 : \n",
    "    print(\"큰키\")\n",
    "elif age >= 45 and height >= 175 : \n",
    "    print(\"큰키\")\n",
    "elif height >= 180: \n",
    "    print(\"큰키\")\n",
    "else : \n",
    "    print(\"작은키\")"
   ]
  },
  {
   "cell_type": "code",
   "execution_count": 163,
   "id": "b18dffae",
   "metadata": {},
   "outputs": [
    {
     "name": "stdout",
     "output_type": "stream",
     "text": [
      "시험점수를 입력하세요.20\n",
      "F\n"
     ]
    }
   ],
   "source": [
    "score = int(input(\"시험점수를 입력하세요.\"))\n",
    "\n",
    "if score >= 90 :\n",
    "    rank = \"A\"\n",
    "elif 80 <= score < 90 : \n",
    "    rank = \"B\"\n",
    "elif 70 <= score < 80 :\n",
    "    rank = \"C\"\n",
    "elif 60 <= score < 70 :\n",
    "    rank = \"D\"\n",
    "elif score < 60 : \n",
    "    rank = \"F\"\n",
    "    \n",
    "print(rank)"
   ]
  },
  {
   "cell_type": "code",
   "execution_count": 166,
   "id": "6b6ba9f1",
   "metadata": {},
   "outputs": [
    {
     "name": "stdout",
     "output_type": "stream",
     "text": [
      "숫자를 입력하세요.23\n",
      "숫자를 입력하세요.25\n",
      "숫자를 입력하세요.34\n",
      "숫자를 입력하세요.24\n",
      "숫자를 입력하세요.4\n",
      "숫자를 입력하세요.101\n"
     ]
    }
   ],
   "source": [
    "i = 99\n",
    "\n",
    "while i < 100 :\n",
    "    i = int(input(\"숫자를 입력하세요.\"))"
   ]
  },
  {
   "cell_type": "code",
   "execution_count": 167,
   "id": "86101bdc",
   "metadata": {},
   "outputs": [
    {
     "name": "stdout",
     "output_type": "stream",
     "text": [
      "시험점수를 입력하세요.23\n",
      "F\n"
     ]
    }
   ],
   "source": [
    "score = int(input(\"시험점수를 입력하세요.\"))\n",
    "\n",
    "if score >= 90 :\n",
    "    rank = \"A\"\n",
    "elif 80 <= score < 90 : \n",
    "    rank = \"B\"\n",
    "elif 70 <= score < 80 :\n",
    "    rank = \"C\"\n",
    "elif 60 <= score < 70 :\n",
    "    rank = \"D\"\n",
    "else : \n",
    "    rank = \"F\"\n",
    "    \n",
    "print(rank)"
   ]
  },
  {
   "cell_type": "code",
   "execution_count": 171,
   "id": "a3c014aa",
   "metadata": {},
   "outputs": [
    {
     "name": "stdout",
     "output_type": "stream",
     "text": [
      "필기성적을 입력하세요 : 10\n",
      "실기성적을 입력하세요 : 10\n",
      "불합격\n"
     ]
    }
   ],
   "source": [
    "wScore = int(input(\"필기성적을 입력하세요 : \"))\n",
    "aScore = int(input(\"실기성적을 입력하세요 : \"))\n",
    "\n",
    "msg = \"합격\" if wScore >= 80 and aScore >= 80 else \"불합격\"\n",
    "print(msg)"
   ]
  },
  {
   "cell_type": "code",
   "execution_count": 173,
   "id": "7e7789ac",
   "metadata": {},
   "outputs": [
    {
     "name": "stdout",
     "output_type": "stream",
     "text": [
      "필기성적을 입력하세요 : 24\n",
      "실기성적을 입력하세요 : 1\n",
      "불합격\n"
     ]
    }
   ],
   "source": [
    "wScore = int(input(\"필기성적을 입력하세요 : \"))\n",
    "aScore = int(input(\"실기성적을 입력하세요 : \"))\n",
    "\n",
    "if wScore >= 80 and aScore >= 80 : \n",
    "    msg = \"합격\"\n",
    "else : \n",
    "    msg = \"불합격\"\n",
    "    \n",
    "print(msg)"
   ]
  },
  {
   "cell_type": "code",
   "execution_count": 176,
   "id": "00dfefd0",
   "metadata": {},
   "outputs": [
    {
     "name": "stdout",
     "output_type": "stream",
     "text": [
      "아디디를 입력하세요 : admin\n",
      "회원레벨을 입력하세요 : 12\n",
      "관리자가 아닙니다.\n"
     ]
    }
   ],
   "source": [
    "ID = input(\"아이디를 입력하세요 : \")\n",
    "LV = int(input(\"회원레벨을 입력하세요 : \"))\n",
    "\n",
    "msg = \"관리자입니다.\" if ID==\"admin\" and LV==1 else \"관리자가 아닙니다.\"\n",
    "\n",
    "print(msg)"
   ]
  },
  {
   "cell_type": "code",
   "execution_count": 178,
   "id": "f8cf1569",
   "metadata": {},
   "outputs": [
    {
     "name": "stdout",
     "output_type": "stream",
     "text": [
      "아이디를 입력하세요 : fef\n",
      "회원레벨을 입력하세요 : 12\n",
      "관리자가 아닙니다.\n"
     ]
    }
   ],
   "source": [
    "ID = input(\"아이디를 입력하세요 : \")\n",
    "LV = int(input(\"회원레벨을 입력하세요 : \"))\n",
    "\n",
    "msg = \"관리자입니다.\" if ID==\"admin\" or LV==1 else \"관리자가 아닙니다.\"\n",
    "\n",
    "print(msg)"
   ]
  },
  {
   "cell_type": "code",
   "execution_count": 181,
   "id": "5def279c",
   "metadata": {},
   "outputs": [
    {
     "name": "stdout",
     "output_type": "stream",
     "text": [
      "이름을 입력하세요 : 홍길동\n",
      "이름 : 홍길동\n"
     ]
    }
   ],
   "source": [
    "name = input(\"이름을 입력하세요 : \")\n",
    "\n",
    "if not name : \n",
    "    print(\"이름이 입력되지 않았다.\")\n",
    "else : \n",
    "    print(\"이름 : %s\" % name)"
   ]
  },
  {
   "cell_type": "code",
   "execution_count": 186,
   "id": "38360146",
   "metadata": {},
   "outputs": [
    {
     "name": "stdout",
     "output_type": "stream",
     "text": [
      "나이를 입력하세요 : 23\n",
      "입장료 3000원\n"
     ]
    }
   ],
   "source": [
    "age = int(input(\"나이를 입력하세요 : \"))\n",
    "pay = \"3000원\"\n",
    "\n",
    "if age >= 65 or age < 7 :\n",
    "    pay = \"무료\"\n",
    "\n",
    "print(\"입장료 %s\" % pay)"
   ]
  },
  {
   "cell_type": "code",
   "execution_count": 188,
   "id": "8d593dc9",
   "metadata": {},
   "outputs": [
    {
     "name": "stdout",
     "output_type": "stream",
     "text": [
      "비밀번호를 입력하세요 : 12345\n",
      "OK!\n"
     ]
    }
   ],
   "source": [
    "passnum = \"12345\"\n",
    "passwolrd = input(\"비밀번호를 입력하세요 : \")\n",
    "\n",
    "print(\"OK!\") if passwolrd == passnum else print(\"NO!\")"
   ]
  },
  {
   "cell_type": "code",
   "execution_count": 201,
   "id": "80e6313a",
   "metadata": {},
   "outputs": [
    {
     "name": "stdout",
     "output_type": "stream",
     "text": [
      "월을 입력하세요 : 123\n",
      "123month is not a weather.\n"
     ]
    }
   ],
   "source": [
    "month = int(input(\"월을 입력하세요 : \"))\n",
    "\n",
    "spring = [3, 4, 5]\n",
    "summer = [6, 7, 8]\n",
    "autumn = [9, 10, 11]\n",
    "winter = [1, 2, 12]\n",
    "\n",
    "if month in spring : \n",
    "    msg = \"Spring\"\n",
    "elif month in summer : \n",
    "    msg = \"Summer\"\n",
    "elif month in autumn : \n",
    "    msg = \"Autummn\"\n",
    "elif month in winter : \n",
    "    msg = \"Winter\"\n",
    "else : \n",
    "    msg = \"not a weather.\"\n",
    "    \n",
    "print(\"%dmonth is %s\" % (month, msg))"
   ]
  },
  {
   "cell_type": "code",
   "execution_count": 204,
   "id": "fbc8c22a",
   "metadata": {},
   "outputs": [
    {
     "name": "stdout",
     "output_type": "stream",
     "text": [
      "좌석 종류를 입력하세요.(1:일반실, 2:특실) : 2\n",
      "특실 입니다.\n"
     ]
    }
   ],
   "source": [
    "seat = int(input(\"좌석 종류를 입력하세요.(1:일반실, 2:특실) : \"))\n",
    "\n",
    "if seat == 1 :\n",
    "    msg = \"일반실\"\n",
    "elif seat == 2 :\n",
    "    msg = \"특실\"\n",
    "else : \n",
    "    msg = \"에러\"\n",
    "    \n",
    "print(\"%s 입니다.\" % msg)"
   ]
  },
  {
   "cell_type": "code",
   "execution_count": 205,
   "id": "e2eac606",
   "metadata": {},
   "outputs": [
    {
     "name": "stdout",
     "output_type": "stream",
     "text": [
      "1944\n"
     ]
    }
   ],
   "source": [
    "num = 1;\n",
    "x = 1\n",
    "while num < 1001 : \n",
    "    num *= 3 * x \n",
    "    x += 1\n",
    "    \n",
    "print(num)\n",
    "    "
   ]
  },
  {
   "cell_type": "code",
   "execution_count": 210,
   "id": "95a8cef2",
   "metadata": {},
   "outputs": [
    {
     "name": "stdout",
     "output_type": "stream",
     "text": [
      "알파벳 하나를 입력하세요 : 2\n",
      "2 is error\n"
     ]
    }
   ],
   "source": [
    "alpha = input(\"알파벳 하나를 입력하세요 : \").upper()\n",
    "\n",
    "consonant = [\"B\", \"C\", \"D\", \"F\", \"G\", \"H\", \"I\", \"J\", \"K\", \"L\", \"M\", \"N\", \"P\", \"Q\", \"R\", \"S\", \"T\", \"V\", \"W\", \"X\", \"Y\", \"Z\"]\n",
    "vowels = [\"A\", \"E\", \"I\", \"O\", \"U\"]\n",
    "\n",
    "if alpha in consonant :\n",
    "    msg = \"consonant\"\n",
    "elif alpha in vowels : \n",
    "    msg = \"vowels\"\n",
    "else :\n",
    "    msg = \"error\"\n",
    "    \n",
    "print(\"%s is %s\" % (alpha, msg))"
   ]
  },
  {
   "cell_type": "code",
   "execution_count": 238,
   "id": "f8260610",
   "metadata": {},
   "outputs": [
    {
     "name": "stdout",
     "output_type": "stream",
     "text": [
      "첫번째 정수를 입력하세요 : 3\n",
      "두번째 정수를 입력하세요 : 3\n",
      "세번째 정수를 입력하세요 : 2\n",
      "입력된 세수 3, 3, 2중에서 가장 큰 수는 3입니다.\n"
     ]
    }
   ],
   "source": [
    "li1 = []\n",
    "\n",
    "li1.append(int(input(\"첫번째 정수를 입력하세요 : \"))) \n",
    "li1.append(int(input(\"두번째 정수를 입력하세요 : \")))\n",
    "li1.append(int(input(\"세번째 정수를 입력하세요 : \")))\n",
    "\n",
    "print(\"입력된 세수 %d, %d, %d중에서 가장 큰 수는 %d입니다.\" % (li1[0], li1[1], li1[2], max(li1)))"
   ]
  },
  {
   "cell_type": "markdown",
   "id": "5b658fd7",
   "metadata": {},
   "source": []
  },
  {
   "cell_type": "code",
   "execution_count": 229,
   "id": "561be60d",
   "metadata": {},
   "outputs": [],
   "source": [
    "i = 99\n",
    "\n",
    "while i < 100 :\n",
    "    i = int(input(\"숫자를 입력하세요.\"))"
   ]
  },
  {
   "cell_type": "code",
   "execution_count": 233,
   "id": "c8029f68",
   "metadata": {},
   "outputs": [
    {
     "name": "stdout",
     "output_type": "stream",
     "text": [
      "500499\n"
     ]
    }
   ],
   "source": [
    "result = 0\n",
    "x = 3\n",
    "while x < 1001 : \n",
    "    result += (3 * x)\n",
    "    x += 3\n",
    "    \n",
    "print(result)"
   ]
  },
  {
   "cell_type": "code",
   "execution_count": 236,
   "id": "b1f08f3f",
   "metadata": {},
   "outputs": [
    {
     "name": "stdout",
     "output_type": "stream",
     "text": [
      "166833\n"
     ]
    }
   ],
   "source": [
    "result = 0\n",
    "i = 1\n",
    "\n",
    "while i < 1001 : \n",
    "    if i % 3 == 0 : \n",
    "        result += i\n",
    "    i += 1\n",
    "    \n",
    "print(result)\n",
    "\n"
   ]
  },
  {
   "cell_type": "code",
   "execution_count": 257,
   "id": "51accb3e",
   "metadata": {},
   "outputs": [
    {
     "name": "stdout",
     "output_type": "stream",
     "text": [
      "서비스 만족도 \n",
      " 1 : 매우만족 \n",
      " 2 : 만족 \n",
      " 3 : 서비스 불만족\n",
      "만족도 입력 (1, 2, 3) : 1\n",
      "음식값 입력 (예 : 8000)7000\n",
      "서비스 만족도 : 매우만족, 팁 : 1400원\n"
     ]
    }
   ],
   "source": [
    "print(\"서비스 만족도 \\n 1 : 매우만족 \\n 2 : 만족 \\n 3 : 서비스 불만족\")\n",
    "\n",
    "satis = int(input(\"만족도 입력 (1, 2, 3) : \"))\n",
    "pay = int(input(\"음식값 입력 (예 : 8000) : \"))\n",
    "\n",
    "if satis == 1 : \n",
    "    msg = \"매우만족\"\n",
    "    tip = pay * 0.2\n",
    "elif satis == 2 :\n",
    "    msg = \"만족\"\n",
    "    tip = pay * 0.1\n",
    "elif satis == 3 :\n",
    "    msg = \"불만족 서비스\"\n",
    "    tip = pay * 0.05\n",
    "    \n",
    "\n",
    "print(\"서비스 만족도 : %s, 팁 : %d원\" % (msg, tip))"
   ]
  },
  {
   "cell_type": "code",
   "execution_count": 266,
   "id": "c3becf8c",
   "metadata": {},
   "outputs": [
    {
     "ename": "KeyboardInterrupt",
     "evalue": "Interrupted by user",
     "output_type": "error",
     "traceback": [
      "\u001b[0;31m---------------------------------------------------------------------------\u001b[0m",
      "\u001b[0;31mKeyboardInterrupt\u001b[0m                         Traceback (most recent call last)",
      "Input \u001b[0;32mIn [266]\u001b[0m, in \u001b[0;36m<cell line: 1>\u001b[0;34m()\u001b[0m\n\u001b[0;32m----> 1\u001b[0m year \u001b[38;5;241m=\u001b[39m \u001b[38;5;28mint\u001b[39m(\u001b[38;5;28;43minput\u001b[39;49m\u001b[43m(\u001b[49m\u001b[38;5;124;43m\"\u001b[39;49m\u001b[38;5;124;43m현재년을 입력하세요 : \u001b[39;49m\u001b[38;5;124;43m\"\u001b[39;49m\u001b[43m)\u001b[49m)\n\u001b[1;32m      2\u001b[0m month \u001b[38;5;241m=\u001b[39m \u001b[38;5;28mint\u001b[39m(\u001b[38;5;28minput\u001b[39m(\u001b[38;5;124m\"\u001b[39m\u001b[38;5;124m현재월을 입력하세요 : \u001b[39m\u001b[38;5;124m\"\u001b[39m))\n\u001b[1;32m      3\u001b[0m day \u001b[38;5;241m=\u001b[39m \u001b[38;5;28mint\u001b[39m(\u001b[38;5;28minput\u001b[39m(\u001b[38;5;124m\"\u001b[39m\u001b[38;5;124m현재 일을 입력하세요 : \u001b[39m\u001b[38;5;124m\"\u001b[39m))\n",
      "File \u001b[0;32m~/opt/anaconda3/lib/python3.9/site-packages/ipykernel/kernelbase.py:1075\u001b[0m, in \u001b[0;36mKernel.raw_input\u001b[0;34m(self, prompt)\u001b[0m\n\u001b[1;32m   1071\u001b[0m \u001b[38;5;28;01mif\u001b[39;00m \u001b[38;5;129;01mnot\u001b[39;00m \u001b[38;5;28mself\u001b[39m\u001b[38;5;241m.\u001b[39m_allow_stdin:\n\u001b[1;32m   1072\u001b[0m     \u001b[38;5;28;01mraise\u001b[39;00m StdinNotImplementedError(\n\u001b[1;32m   1073\u001b[0m         \u001b[38;5;124m\"\u001b[39m\u001b[38;5;124mraw_input was called, but this frontend does not support input requests.\u001b[39m\u001b[38;5;124m\"\u001b[39m\n\u001b[1;32m   1074\u001b[0m     )\n\u001b[0;32m-> 1075\u001b[0m \u001b[38;5;28;01mreturn\u001b[39;00m \u001b[38;5;28;43mself\u001b[39;49m\u001b[38;5;241;43m.\u001b[39;49m\u001b[43m_input_request\u001b[49m\u001b[43m(\u001b[49m\n\u001b[1;32m   1076\u001b[0m \u001b[43m    \u001b[49m\u001b[38;5;28;43mstr\u001b[39;49m\u001b[43m(\u001b[49m\u001b[43mprompt\u001b[49m\u001b[43m)\u001b[49m\u001b[43m,\u001b[49m\n\u001b[1;32m   1077\u001b[0m \u001b[43m    \u001b[49m\u001b[38;5;28;43mself\u001b[39;49m\u001b[38;5;241;43m.\u001b[39;49m\u001b[43m_parent_ident\u001b[49m\u001b[43m[\u001b[49m\u001b[38;5;124;43m\"\u001b[39;49m\u001b[38;5;124;43mshell\u001b[39;49m\u001b[38;5;124;43m\"\u001b[39;49m\u001b[43m]\u001b[49m\u001b[43m,\u001b[49m\n\u001b[1;32m   1078\u001b[0m \u001b[43m    \u001b[49m\u001b[38;5;28;43mself\u001b[39;49m\u001b[38;5;241;43m.\u001b[39;49m\u001b[43mget_parent\u001b[49m\u001b[43m(\u001b[49m\u001b[38;5;124;43m\"\u001b[39;49m\u001b[38;5;124;43mshell\u001b[39;49m\u001b[38;5;124;43m\"\u001b[39;49m\u001b[43m)\u001b[49m\u001b[43m,\u001b[49m\n\u001b[1;32m   1079\u001b[0m \u001b[43m    \u001b[49m\u001b[43mpassword\u001b[49m\u001b[38;5;241;43m=\u001b[39;49m\u001b[38;5;28;43;01mFalse\u001b[39;49;00m\u001b[43m,\u001b[49m\n\u001b[1;32m   1080\u001b[0m \u001b[43m\u001b[49m\u001b[43m)\u001b[49m\n",
      "File \u001b[0;32m~/opt/anaconda3/lib/python3.9/site-packages/ipykernel/kernelbase.py:1120\u001b[0m, in \u001b[0;36mKernel._input_request\u001b[0;34m(self, prompt, ident, parent, password)\u001b[0m\n\u001b[1;32m   1117\u001b[0m             \u001b[38;5;28;01mbreak\u001b[39;00m\n\u001b[1;32m   1118\u001b[0m \u001b[38;5;28;01mexcept\u001b[39;00m \u001b[38;5;167;01mKeyboardInterrupt\u001b[39;00m:\n\u001b[1;32m   1119\u001b[0m     \u001b[38;5;66;03m# re-raise KeyboardInterrupt, to truncate traceback\u001b[39;00m\n\u001b[0;32m-> 1120\u001b[0m     \u001b[38;5;28;01mraise\u001b[39;00m \u001b[38;5;167;01mKeyboardInterrupt\u001b[39;00m(\u001b[38;5;124m\"\u001b[39m\u001b[38;5;124mInterrupted by user\u001b[39m\u001b[38;5;124m\"\u001b[39m) \u001b[38;5;28;01mfrom\u001b[39;00m \u001b[38;5;28mNone\u001b[39m\n\u001b[1;32m   1121\u001b[0m \u001b[38;5;28;01mexcept\u001b[39;00m \u001b[38;5;167;01mException\u001b[39;00m:\n\u001b[1;32m   1122\u001b[0m     \u001b[38;5;28mself\u001b[39m\u001b[38;5;241m.\u001b[39mlog\u001b[38;5;241m.\u001b[39mwarning(\u001b[38;5;124m\"\u001b[39m\u001b[38;5;124mInvalid Message:\u001b[39m\u001b[38;5;124m\"\u001b[39m, exc_info\u001b[38;5;241m=\u001b[39m\u001b[38;5;28;01mTrue\u001b[39;00m)\n",
      "\u001b[0;31mKeyboardInterrupt\u001b[0m: Interrupted by user"
     ]
    }
   ],
   "source": [
    "year = int(input(\"현재년을 입력하세요 : \"))\n",
    "month = int(input(\"현재월을 입력하세요 : \"))\n",
    "day = int(input(\"현재 일을 입력하세요 : \"))\n",
    "bornYear = int(input(\"출생년을 입력하세요 : \"))\n",
    "bornMonth = int(input(\"출생월을 입력하세요 : \"))\n",
    "bornDay = int(input(\"출생일을 입력하세요 : \"))\n",
    "print(\"-\" *50)\n",
    "print(\"오늘 날짜 : %d년 %d월 %d일\\n생년월일 : %d년 %d월 %d일\" % (year, month, day, bornYear, bornMonth, bornDay))\n",
    "print(\"-\" *50)\n",
    "manOrder = 0\n",
    "\n",
    "if bornMonth < month :\n",
    "    manOrder = year - bornYear\n",
    "elif bornMonth == month and bornDay <= day : \n",
    "    manOrder = year - bornYear\n",
    "elif bornMonth == month and bornDay > day :\n",
    "    manOrder = year - bornYear - 1\n",
    "elif bornMonth > month :\n",
    "    manOrder = year - bornYear - 1\n",
    "\n",
    "print(\"만 나이 : %d세\" % manOrder)"
   ]
  },
  {
   "cell_type": "code",
   "execution_count": null,
   "id": "34ee6d14",
   "metadata": {},
   "outputs": [],
   "source": []
  }
 ],
 "metadata": {
  "kernelspec": {
   "display_name": "Python 3 (ipykernel)",
   "language": "python",
   "name": "python3"
  },
  "language_info": {
   "codemirror_mode": {
    "name": "ipython",
    "version": 3
   },
   "file_extension": ".py",
   "mimetype": "text/x-python",
   "name": "python",
   "nbconvert_exporter": "python",
   "pygments_lexer": "ipython3",
   "version": "3.9.12"
  }
 },
 "nbformat": 4,
 "nbformat_minor": 5
}
