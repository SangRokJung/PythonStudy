{
 "cells": [
  {
   "cell_type": "code",
   "execution_count": 16,
   "id": "d6ae0518",
   "metadata": {},
   "outputs": [
    {
     "name": "stdout",
     "output_type": "stream",
     "text": [
      "<class 'tuple'>\n"
     ]
    }
   ],
   "source": []
  },
  {
   "cell_type": "code",
   "execution_count": 17,
   "id": "6e4be7d4",
   "metadata": {},
   "outputs": [
    {
     "ename": "TypeError",
     "evalue": "'tuple' object is not callable",
     "output_type": "error",
     "traceback": [
      "\u001b[0;31m---------------------------------------------------------------------------\u001b[0m",
      "\u001b[0;31mTypeError\u001b[0m                                 Traceback (most recent call last)",
      "Input \u001b[0;32mIn [17]\u001b[0m, in \u001b[0;36m<cell line: 2>\u001b[0;34m()\u001b[0m\n\u001b[1;32m      1\u001b[0m t \u001b[38;5;241m=\u001b[39m ()\n\u001b[0;32m----> 2\u001b[0m t1 \u001b[38;5;241m=\u001b[39m \u001b[38;5;28;43mtuple\u001b[39;49m\u001b[43m(\u001b[49m\u001b[43m)\u001b[49m\n",
      "\u001b[0;31mTypeError\u001b[0m: 'tuple' object is not callable"
     ]
    }
   ],
   "source": []
  },
  {
   "cell_type": "code",
   "execution_count": 72,
   "id": "e07dcd05",
   "metadata": {},
   "outputs": [
    {
     "name": "stdout",
     "output_type": "stream",
     "text": [
      "<class 'tuple'>\n",
      "('A', 'b', 'c')\n",
      "<class 'tuple'>\n",
      "6\n",
      "(4, 2, 1, 8, 9)\n"
     ]
    }
   ],
   "source": [
    "DS = tuple()\n",
    "t1 = 1,\n",
    "t = 1, 2, 3, 4\n",
    "print(type(t))\n",
    "\n",
    "x = ('a', 'b', 'c')\n",
    "x = list(x)\n",
    "x[0] = \"A\"\n",
    "x = tuple(x)\n",
    "print(x)\n",
    "\n",
    "wish = ('구글', '아마존', '페이스북')\n",
    "list(wish)\n",
    "tuple(wish)\n",
    "print(type(wish))\n",
    "\n",
    "my_data = (1, 2, 3)\n",
    "a, b, c = my_data\n",
    "print(a + b + c)\n",
    "# 6\n",
    "\n",
    "t2 = (4, 2, 1, 8)\n",
    "t3 = 9,\n",
    "t4 = t2 + t3\n",
    "print(t4)\n",
    "\n"
   ]
  },
  {
   "cell_type": "code",
   "execution_count": 83,
   "id": "6b1bebf8",
   "metadata": {},
   "outputs": [
    {
     "name": "stdout",
     "output_type": "stream",
     "text": [
      "{'sex': 'female', 'age': 30, 'name': 'mina'}\n",
      "female\n",
      "30\n"
     ]
    }
   ],
   "source": [
    "d = {'sex' : \"female\", \"age\" : 30, \"name\" : \"mina\"}\n",
    "print(d)\n",
    "print(d[\"sex\"])\n",
    "print(d[\"age\"])"
   ]
  },
  {
   "cell_type": "code",
   "execution_count": 93,
   "id": "e10a72cb",
   "metadata": {},
   "outputs": [
    {
     "name": "stdout",
     "output_type": "stream",
     "text": [
      "{'name': 'Sang Rok Jung', 'van': 1, 'no': 26}\n",
      "{'name': '정상록', 'van': 1, 'no': 26}\n",
      "{'name': '정상록', 'van': 1, 'no': 26, 'grade': 4}\n"
     ]
    }
   ],
   "source": [
    "dic1 = {\"name\" : \"Sang Rok Jung\", \"grade\" : 2, \"van\" : 1, \"no\" : 26}\n",
    "del dic1[\"grade\"]\n",
    "print(dic1)\n",
    "\n",
    "dic1[\"name\"] = \"정상록\"\n",
    "print(dic1)\n",
    "\n",
    "dic1[\"grade\"] = 4\n",
    "print(dic1)"
   ]
  },
  {
   "cell_type": "code",
   "execution_count": 100,
   "id": "40c54273",
   "metadata": {},
   "outputs": [
    {
     "name": "stdout",
     "output_type": "stream",
     "text": [
      "83\n",
      "한재희\n"
     ]
    }
   ],
   "source": [
    "score1 = {\"A\" : 99, \"B\" : 91, \"C\" : 83, \"D\" : 100}\n",
    "print(score1[\"C\"])\n",
    "# 83\n",
    "\n",
    "st1 = {\"st1\" : \"정상록\", \"st2\" : \"이원준\", \"st3\" : \"한재희\"}\n",
    "print(st1[\"st3\"])\n",
    "# 한재희"
   ]
  },
  {
   "cell_type": "code",
   "execution_count": 118,
   "id": "ccde1913",
   "metadata": {},
   "outputs": [
    {
     "name": "stdout",
     "output_type": "stream",
     "text": [
      "dict_keys(['gender', 'age', 'name'])\n",
      "['gender', 'age', 'name']\n",
      "['gender', 'age', 'name']\n",
      "{}\n",
      "Female\n",
      "None\n",
      "데이터 없다\n",
      "True\n",
      "False\n"
     ]
    }
   ],
   "source": [
    "a = {'gender' : \"Female\", \"age\" : \"30\", \"name\" : \"Kristina\"}\n",
    "\n",
    "print(a.keys())\n",
    "\n",
    "li1 = list(a.keys())\n",
    "print(li1)\n",
    "\n",
    "li2 = list(a)\n",
    "print(li2)\n",
    "\n",
    "a.values()\n",
    "\n",
    "a.clear()\n",
    "print(a)\n",
    "\n",
    "a = {'gender' : \"Female\", \"age\" : \"30\", \"name\" : \"Kristina\"}\n",
    "\n",
    "print(a.get(\"gender\"))\n",
    "\n",
    "print(a.get(\"height\"))\n",
    "\n",
    "print(a.get(\"height\", \"데이터 없다\"))\n",
    "\n",
    "print(\"gender\" in a)\n",
    "\n",
    "print(\"height\" in a)"
   ]
  },
  {
   "cell_type": "code",
   "execution_count": 141,
   "id": "9abf4fb5",
   "metadata": {},
   "outputs": [
    {
     "name": "stdout",
     "output_type": "stream",
     "text": [
      "<class 'set'> <class 'set'> <class 'dict'>\n",
      "{'a', 'e', 'd', 'c', 'f', 'b'} <class 'set'>\n",
      "['a', 'e', 'd', 'c', 'f', 'b'] <class 'list'>\n",
      "a\n"
     ]
    }
   ],
   "source": [
    "s = set()\n",
    "s1 = {1}\n",
    "s2 = {}\n",
    "print(type(s), type(s1), type(s2))\n",
    "\n",
    "s = \"abcdef\"\n",
    "s = set(s)\n",
    "sc = s\n",
    "print(sc, type(s))\n",
    "\n",
    "sc = list(sc)\n",
    "print(sc, type(sc))\n",
    "print(sc[0])\n",
    "\n"
   ]
  },
  {
   "cell_type": "code",
   "execution_count": 147,
   "id": "7dea2896",
   "metadata": {},
   "outputs": [
    {
     "name": "stdout",
     "output_type": "stream",
     "text": [
      "{3, 4, 5}\n",
      "{1, 2, 3, 4, 5, 6, 7}\n",
      "{1, 2}\n",
      "{6, 7}\n",
      "{1, 2, 6, 7}\n"
     ]
    }
   ],
   "source": [
    "x = {1, 2, 3, 4, 5}\n",
    "y = {3, 4, 5, 6, 7}\n",
    "\n",
    "print(x&y)\n",
    "print(x|y)\n",
    "print(x-y)\n",
    "print(y-x)\n",
    "print(x^y)"
   ]
  },
  {
   "cell_type": "code",
   "execution_count": 152,
   "id": "929c5a7c",
   "metadata": {},
   "outputs": [
    {
     "name": "stdout",
     "output_type": "stream",
     "text": [
      "{1, 2, 3, 4, 5, 10}\n",
      "{1, 2, 3, 4, 5, 10, 11, 12, 13}\n",
      "{1, 2, 3, 4, 5, 10, 11, 12}\n"
     ]
    }
   ],
   "source": [
    "x = {1, 2, 3, 4, 5}\n",
    "x.add(10)\n",
    "print(x)\n",
    "\n",
    "x.update([11, 12, 13])\n",
    "print(x)\n",
    "\n",
    "x.remove(13)\n",
    "print(x)"
   ]
  },
  {
   "cell_type": "code",
   "execution_count": 165,
   "id": "0912420f",
   "metadata": {},
   "outputs": [
    {
     "name": "stdout",
     "output_type": "stream",
     "text": [
      "<class 'dict'>\n",
      "1000\n",
      "300\n",
      "20\n"
     ]
    }
   ],
   "source": [
    "DS = {}\n",
    "print(type(DS))\n",
    "\n",
    "icecream = {\"메로나\" : 1000, \"폴라포\" : 1200, \"빵빠레\" : 1800}\n",
    "icecream[\"죠스바\"] = 1200\n",
    "icecream[\"월드콘\"] = 1500\n",
    "\n",
    "print(icecream.get(\"메로나\"))\n",
    "\n",
    "icecream[\"메로나\"] = 1200\n",
    "\n",
    "del icecream[\"메로나\"]\n",
    "\n",
    "inventory = {\"메로나\" : [300, 20], \"비비빅\" : [400, 3], \"죠스바\" : [250, 100]}\n",
    "\n",
    "print(inventory[\"메로나\"][0])\n",
    "\n",
    "print(inventory[\"메로나\"][1])\n",
    "\n",
    "inventory[\"월드콘\"] = [500, 7]\n"
   ]
  },
  {
   "cell_type": "code",
   "execution_count": 177,
   "id": "ee90faa0",
   "metadata": {},
   "outputs": [
    {
     "name": "stdout",
     "output_type": "stream",
     "text": [
      "7\n",
      "3\n",
      "4\n",
      "4\n",
      "2\n",
      "1\n"
     ]
    }
   ],
   "source": [
    "x1 = 2\n",
    "x2 = 5\n",
    "\n",
    "print(x1 + x2)\n",
    "print(x2 - x1)\n",
    "print(x1 * 2)\n",
    "print(x1 ** 2)\n",
    "print(x2 // 2)\n",
    "print(x2 % x1)"
   ]
  },
  {
   "cell_type": "code",
   "execution_count": 183,
   "id": "698255ca",
   "metadata": {},
   "outputs": [
    {
     "name": "stdout",
     "output_type": "stream",
     "text": [
      "10.0\n",
      "-36\n"
     ]
    }
   ],
   "source": [
    "a = 20\n",
    "a += 5\n",
    "a -= 10\n",
    "a *= 2\n",
    "a /= 3\n",
    "print(a)\n",
    "\n",
    "c = 3\n",
    "b = 2\n",
    "c *= (2+b)\n",
    "c *= (b-5)\n",
    "print(c)\n"
   ]
  },
  {
   "cell_type": "code",
   "execution_count": 186,
   "id": "77d0f8cf",
   "metadata": {},
   "outputs": [
    {
     "name": "stdout",
     "output_type": "stream",
     "text": [
      "True\n",
      "True\n",
      "False\n",
      "True\n",
      "False\n",
      "True\n",
      "False\n",
      "False\n"
     ]
    }
   ],
   "source": [
    "a = 95\n",
    "\n",
    "print(a != 90)\n",
    "print(a > 90)\n",
    "print(a < 90)\n",
    "print(a >= 90)\n",
    "print(a <= 90)\n",
    "print(90 <= a <= 100)\n",
    "print(100 <= a <= 110)\n",
    "print(70 <= a <= 80)"
   ]
  },
  {
   "cell_type": "code",
   "execution_count": 195,
   "id": "abcb673b",
   "metadata": {},
   "outputs": [
    {
     "name": "stdout",
     "output_type": "stream",
     "text": [
      "True\n",
      "False\n",
      "False\n",
      "140484231827648\n",
      "140484497929920\n",
      "140484231827648\n"
     ]
    }
   ],
   "source": [
    "a = [1, 2, \"hello World\"]\n",
    "b = [1, 2, \"hello World\"]\n",
    "\n",
    "print(a==b)\n",
    "print(a!=b)\n",
    "\n",
    "print(id(a) is id(b))\n",
    "print(id(a))\n",
    "print(id(b))\n",
    "\n",
    "a.append(\"A\")\n",
    "\n",
    "print(id(a))"
   ]
  },
  {
   "cell_type": "code",
   "execution_count": 202,
   "id": "50ee2225",
   "metadata": {},
   "outputs": [
    {
     "name": "stdout",
     "output_type": "stream",
     "text": [
      "True\n",
      "True\n"
     ]
    }
   ],
   "source": [
    "member = [1, 2, \"hello world\"]\n",
    "\n",
    "print(2 in member)\n",
    "if 2 not in member : print(True)\n",
    "\n",
    "member_dict = {\"a\" : 1, \"b\" : 2, \"c\" : 3}\n",
    "\n",
    "if \"a\" in member_dict : print(True)"
   ]
  },
  {
   "cell_type": "code",
   "execution_count": 218,
   "id": "9a25fec9",
   "metadata": {},
   "outputs": [
    {
     "name": "stdout",
     "output_type": "stream",
     "text": [
      "False\n",
      "False\n",
      "True\n",
      "True\n",
      "False\n",
      "True\n",
      "True\n"
     ]
    }
   ],
   "source": [
    "a = True\n",
    "b = False\n",
    "\n",
    "print(a and b)\n",
    "print(a & b)\n",
    "print(a or b)\n",
    "print(a | b)\n",
    "print(not a)\n",
    "print(not b)\n",
    "print(not(a & b))"
   ]
  },
  {
   "cell_type": "code",
   "execution_count": 219,
   "id": "ddac52d0",
   "metadata": {},
   "outputs": [
    {
     "name": "stdout",
     "output_type": "stream",
     "text": [
      "홍길동 30 173.7\n"
     ]
    }
   ],
   "source": [
    "name = '홍길동'\n",
    "age = 30\n",
    "height = 173.7\n",
    "\n",
    "print(name, age,  height)"
   ]
  },
  {
   "cell_type": "code",
   "execution_count": 225,
   "id": "833987ba",
   "metadata": {},
   "outputs": [
    {
     "name": "stdout",
     "output_type": "stream",
     "text": [
      "x = 10, y = 20\n"
     ]
    }
   ],
   "source": [
    "x = 10\n",
    "y = 20\n",
    "print(\"x = \" + str(x) + \", y = \" + str(y))"
   ]
  },
  {
   "cell_type": "code",
   "execution_count": 237,
   "id": "a1b7ba85",
   "metadata": {},
   "outputs": [
    {
     "name": "stdout",
     "output_type": "stream",
     "text": [
      "두 과목 점수 : 80점, 87점 \n",
      "합계 : 167점, 평균 83.50점\n"
     ]
    }
   ],
   "source": [
    "score1 = 80\n",
    "score2 = 87\n",
    "\n",
    "sum = score1 + score2\n",
    "avg = sum/2\n",
    "\n",
    "print(\"두 과목 점수 : %d점, %d점 \\n합계 : %d점, 평균 %.2f점\" % (score1, score2, sum, avg))\n",
    "# 두 과목 점수 : 80점, 87점\n",
    "# 합계 : 167점, 평균 83점"
   ]
  },
  {
   "cell_type": "code",
   "execution_count": 238,
   "id": "ed54cba7",
   "metadata": {},
   "outputs": [
    {
     "name": "stdout",
     "output_type": "stream",
     "text": [
      "2000/3/5\n"
     ]
    }
   ],
   "source": [
    "year = 2000\n",
    "month = 3\n",
    "day = 5\n",
    "\n",
    "print(year, month, day, sep = \"/\")"
   ]
  },
  {
   "cell_type": "code",
   "execution_count": 243,
   "id": "a40fe2c1",
   "metadata": {},
   "outputs": [
    {
     "name": "stdout",
     "output_type": "stream",
     "text": [
      "안녕하세요. 반갑습니다.\n",
      "안녕하세요.반갑습니다."
     ]
    }
   ],
   "source": [
    "a = '안녕하세요.'\n",
    "b = '반갑습니다.'\n",
    "\n",
    "print(a, end=\" \")\n",
    "print(b)\n",
    "print(a, end=b)"
   ]
  },
  {
   "cell_type": "code",
   "execution_count": 250,
   "id": "601a90c7",
   "metadata": {
    "scrolled": false
   },
   "outputs": [
    {
     "name": "stdout",
     "output_type": "stream",
     "text": [
      "이름을 입력하세요.저\n",
      "저님 반갑습니다.\n",
      "저님 반갑습니다.\n"
     ]
    }
   ],
   "source": [
    "name = input(\"이름을 입력하세요.\")\n",
    "print(name + \"님 반갑습니다.\")\n",
    "print(\"%s님 반갑습니다.\" % name)"
   ]
  },
  {
   "cell_type": "code",
   "execution_count": 258,
   "id": "30b80b98",
   "metadata": {},
   "outputs": [
    {
     "name": "stdout",
     "output_type": "stream",
     "text": [
      "첫번째 수를 입력하세요 : 10\n",
      "두번째 수를 입력하세요 : 20\n",
      "a + b = 30\n"
     ]
    }
   ],
   "source": [
    "a = input(\"첫번째 수를 입력하세요 : \")\n",
    "b = input(\"두번째 수를 입력하세요 : \")\n",
    "c = int(a) + int(b)\n",
    "print(\"a + b = %d\" % c)"
   ]
  },
  {
   "cell_type": "code",
   "execution_count": 269,
   "id": "b6c3fc46",
   "metadata": {},
   "outputs": [
    {
     "name": "stdout",
     "output_type": "stream",
     "text": [
      "inch를 입력하세요 : 1\n",
      "1inch = 2.54cm\n"
     ]
    }
   ],
   "source": [
    "inch = input(\"inch를 입력하세요 : \")\n",
    "cm = int(inch) * 2.54\n",
    "print(\"%dinch = %.2fcm\" % (int(inch), cm))\n",
    "    \n",
    "    "
   ]
  },
  {
   "cell_type": "code",
   "execution_count": 271,
   "id": "13a1ec84",
   "metadata": {},
   "outputs": [
    {
     "name": "stdout",
     "output_type": "stream",
     "text": [
      "\n",
      "이것은 주석입니다.\n",
      "This is zoosuck\n",
      "\n"
     ]
    }
   ],
   "source": [
    "# 프로그램명 : 두수 더하기\n",
    "# 작성자 : 홍길동\n",
    "# 작성일 : 2022.9.1\n",
    "\n",
    "print(\"\"\"\n",
    "이것은 주석입니다.\n",
    "This is zoosuck\n",
    "\"\"\")\n"
   ]
  },
  {
   "cell_type": "code",
   "execution_count": 274,
   "id": "0c1a0c93",
   "metadata": {},
   "outputs": [
    {
     "name": "stdout",
     "output_type": "stream",
     "text": [
      "밑변의 길이를 입력하시오 : 234\n",
      "세로 길이를 입혁하시오 : 43\n",
      "삼각형의 넓이 = 5031.00\n"
     ]
    }
   ],
   "source": [
    "bass = input(\"밑변의 길이를 입력하시오 : \")\n",
    "height = input(\"세로 길이를 입혁하시오 : \")\n",
    "\n",
    "area = int(bass) * int(height) * 0.5\n",
    "\n",
    "print(\"삼각형의 넓이 = %.2f\" % area)"
   ]
  },
  {
   "cell_type": "code",
   "execution_count": 275,
   "id": "f3367716",
   "metadata": {},
   "outputs": [
    {
     "name": "stdout",
     "output_type": "stream",
     "text": [
      "물건 가격 : 800원\n",
      "구매개수 : 3개\n",
      "지불금액 : 5000\n",
      "거스름돈 : 2600원\n"
     ]
    }
   ],
   "source": [
    "price = 800\n",
    "buy = 3\n",
    "pay = 5000\n",
    "cha = pay - (price*buy)\n",
    "\n",
    "print(\"물건 가격 : %d원\\n구매개수 : %d개\\n지불금액 : %d\\n거스름돈 : %d원\" % (price, buy, pay, cha))"
   ]
  },
  {
   "cell_type": "code",
   "execution_count": 277,
   "id": "7cc078b7",
   "metadata": {},
   "outputs": [
    {
     "name": "stdout",
     "output_type": "stream",
     "text": [
      "가격을 입력하세요 : 200\n",
      "구매한 량을 입력하세요 : 2\n",
      "지불한 금액을 입력하세요 : 4000\n",
      "물건 가격 : 200원\n",
      "구매개수 : 2개\n",
      "지불금액 : 4000\n",
      "거스름돈 : 3600원\n"
     ]
    }
   ],
   "source": [
    "price = int(input(\"가격을 입력하세요 : \"))\n",
    "buy = int(input(\"구매한 량을 입력하세요 : \"))\n",
    "pay = int(input(\"지불한 금액을 입력하세요 : \"))\n",
    "cha = pay - (price*buy)\n",
    "\n",
    "print(\"물건 가격 : %d원\\n구매개수 : %d개\\n지불금액 : %d원\\n거스름돈 : %d원\" % (price, buy, pay, cha))"
   ]
  },
  {
   "cell_type": "code",
   "execution_count": 281,
   "id": "ef558311",
   "metadata": {},
   "outputs": [
    {
     "name": "stdout",
     "output_type": "stream",
     "text": [
      "4\n",
      "-4\n"
     ]
    }
   ],
   "source": [
    "x = 20\n",
    "y = 4\n",
    "x = y % x\n",
    "print(x)\n",
    "\n",
    "y -= x*2\n",
    "print(y)\n"
   ]
  },
  {
   "cell_type": "code",
   "execution_count": null,
   "id": "e09b15ec",
   "metadata": {},
   "outputs": [],
   "source": []
  }
 ],
 "metadata": {
  "kernelspec": {
   "display_name": "Python 3 (ipykernel)",
   "language": "python",
   "name": "python3"
  },
  "language_info": {
   "codemirror_mode": {
    "name": "ipython",
    "version": 3
   },
   "file_extension": ".py",
   "mimetype": "text/x-python",
   "name": "python",
   "nbconvert_exporter": "python",
   "pygments_lexer": "ipython3",
   "version": "3.9.13"
  }
 },
 "nbformat": 4,
 "nbformat_minor": 5
}
