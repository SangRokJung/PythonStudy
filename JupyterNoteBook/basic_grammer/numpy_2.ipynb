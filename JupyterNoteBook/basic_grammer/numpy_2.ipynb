{
 "cells": [
  {
   "cell_type": "code",
   "execution_count": 1,
   "id": "118f9b0f",
   "metadata": {},
   "outputs": [
    {
     "name": "stdout",
     "output_type": "stream",
     "text": [
      "[[1 2 3]\n",
      " [4 5 6]]\n",
      "[[1 2]\n",
      " [3 4]\n",
      " [5 6]]\n",
      "[[22 28]\n",
      " [49 64]]\n"
     ]
    }
   ],
   "source": [
    "import numpy as np\n",
    "\n",
    "x_1 = np.arange(1, 7).reshape(2, 3)\n",
    "x_2 = np.arange(1, 7).reshape(3, 2)\n",
    "\n",
    "print(x_1)\n",
    "print(x_2)\n",
    "\n",
    "print(x_1.dot(x_2))\n",
    "# [[22 28]\n",
    "#  [49 64]]"
   ]
  },
  {
   "cell_type": "code",
   "execution_count": 12,
   "id": "a0151a92",
   "metadata": {},
   "outputs": [
    {
     "name": "stdout",
     "output_type": "stream",
     "text": [
      "[[135 150 165]\n",
      " [310 350 390]]\n"
     ]
    }
   ],
   "source": [
    "x_1 = np.arange(1, 11).reshape(2, 5)\n",
    "x_2 = np.arange(1, 16).reshape(5, -1)\n",
    "\n",
    "print(x_1.dot(x_2))\n",
    "# [[135 150 165]\n",
    "#  [310 350 390]]"
   ]
  },
  {
   "cell_type": "code",
   "execution_count": 24,
   "id": "85a3bed1",
   "metadata": {},
   "outputs": [
    {
     "name": "stdout",
     "output_type": "stream",
     "text": [
      "[[11 12 13]\n",
      " [14 15 16]\n",
      " [17 18 19]]\n",
      "[[-9 -8 -7]\n",
      " [-6 -5 -4]\n",
      " [-3 -2 -1]]\n",
      "[[0.1 0.2 0.3]\n",
      " [0.4 0.5 0.6]\n",
      " [0.7 0.8 0.9]]\n",
      "[[10 20 30]\n",
      " [40 50 60]\n",
      " [70 80 90]]\n",
      "[[1 0 1]\n",
      " [0 1 0]\n",
      " [1 0 1]]\n",
      "[[11 12 13]\n",
      " [14 15 16]\n",
      " [17 18 19]]\n",
      "[[11 13 15]\n",
      " [14 16 18]\n",
      " [17 19 21]]\n"
     ]
    }
   ],
   "source": [
    "x = np.arange(1, 10).reshape(3, 3)\n",
    "\n",
    "print(x + 10)\n",
    "# [[11 12 13]\n",
    "#  [14 15 16]\n",
    "#  [17 18 19]]\n",
    "\n",
    "print(x - 10)\n",
    "# [[-9 -8 -7]\n",
    "#  [-6 -5 -4]\n",
    "#  [-3 -2 -1]]\n",
    "\n",
    "print(x / 10)\n",
    "# [[0.1 0.2 0.3]\n",
    "#  [0.4 0.5 0.6]\n",
    "#  [0.7 0.8 0.9]]\n",
    "\n",
    "print(x * 10)\n",
    "# [[10 20 30]\n",
    "#  [40 50 60]\n",
    "#  [70 80 90]]\n",
    "\n",
    "print(x % 2)\n",
    "# [[1 0 1]\n",
    "#  [0 1 0]\n",
    "#  [1 0 1]]\n",
    "\n",
    "print(x + [10])\n",
    "# [[11 12 13]\n",
    "#  [14 15 16]\n",
    "#  [17 18 19]]\n",
    "\n",
    "print(x + [10, 11])\n",
    "# ERROR\n",
    "\n",
    "print(x + [10, 11, 12])"
   ]
  },
  {
   "cell_type": "code",
   "execution_count": 27,
   "id": "87edecda",
   "metadata": {},
   "outputs": [
    {
     "name": "stdout",
     "output_type": "stream",
     "text": [
      "[[11 22 33]\n",
      " [14 25 36]\n",
      " [17 28 39]\n",
      " [20 31 42]]\n"
     ]
    }
   ],
   "source": [
    "x = np.arange(1, 13).reshape(4, 3)\n",
    "v = np.arange(10, 40, 10)\n",
    "\n",
    "print(x + v)\n",
    "# [[11 22 33]\n",
    "#  [14 25 36]\n",
    "#  [17 28 39]\n",
    "#  [20 31 42]]"
   ]
  },
  {
   "cell_type": "code",
   "execution_count": 2,
   "id": "a8cc455f",
   "metadata": {},
   "outputs": [],
   "source": [
    "def sclar_vector_product(scalar, vector):\n",
    "    result = []\n",
    "    for value in vector:\n",
    "        result.append(scalar * value)\n",
    "    return result\n",
    "iteration_max = 100000000\n",
    "vector = list(range(iteration_max))\n",
    "scalar = 2"
   ]
  },
  {
   "cell_type": "code",
   "execution_count": 3,
   "id": "d273c804",
   "metadata": {},
   "outputs": [
    {
     "name": "stdout",
     "output_type": "stream",
     "text": [
      "10.6 s ± 554 ms per loop (mean ± std. dev. of 7 runs, 1 loop each)\n"
     ]
    }
   ],
   "source": [
    "# for문을 이용한 성능\n",
    "%timeit sclar_vector_product(scalar, vector)"
   ]
  },
  {
   "cell_type": "code",
   "execution_count": 4,
   "id": "7b03d6e0",
   "metadata": {},
   "outputs": [
    {
     "name": "stdout",
     "output_type": "stream",
     "text": [
      "8.39 s ± 474 ms per loop (mean ± std. dev. of 7 runs, 1 loop each)\n"
     ]
    }
   ],
   "source": [
    "# 리스트 컴프리헨션을 이용한 성능\n",
    "%timeit [scalar * value for value in range(iteration_max)]"
   ]
  },
  {
   "cell_type": "code",
   "execution_count": 5,
   "id": "5e8c4ccd",
   "metadata": {},
   "outputs": [
    {
     "name": "stdout",
     "output_type": "stream",
     "text": [
      "470 ms ± 19.1 ms per loop (mean ± std. dev. of 7 runs, 1 loop each)\n"
     ]
    }
   ],
   "source": [
    "# 넘파이를 이용한 성능\n",
    "%timeit np.arange(iteration_max) * scalar"
   ]
  },
  {
   "cell_type": "code",
   "execution_count": null,
   "id": "4db501f9",
   "metadata": {},
   "outputs": [],
   "source": [
    "def sclar_vector_product(scalar, vector):\n",
    "    result = []\n",
    "    for value in vector:\n",
    "        result.append(scalar * value)\n",
    "    return result\n",
    "iteration_max = 100000000\n",
    "vector = list(range(iteration_max))\n",
    "scalar = 2\n",
    "\n",
    "\n",
    "%timeit sclar_vector_product(scalar, vector)\n",
    "\n",
    "%timeit [scalar * value for value in range(iteration_max)]\n",
    "\n",
    "%timeit np.arange(iteration_max) * scalar"
   ]
  },
  {
   "cell_type": "code",
   "execution_count": 8,
   "id": "5c99b268",
   "metadata": {},
   "outputs": [
    {
     "name": "stdout",
     "output_type": "stream",
     "text": [
      "[ True False False  True  True  True]\n"
     ]
    }
   ],
   "source": [
    "x = np.array([4, 3, 2, 6, 8, 5])\n",
    "print(x > 3)\n",
    "\n",
    "# [ True False False  True  True  True]"
   ]
  },
  {
   "cell_type": "code",
   "execution_count": 9,
   "id": "d1eadf58",
   "metadata": {},
   "outputs": [
    {
     "name": "stdout",
     "output_type": "stream",
     "text": [
      "[False  True False]\n"
     ]
    }
   ],
   "source": [
    "x = np.array([1, 3, 0])\n",
    "y = np.array([2, 1, 7])\n",
    "\n",
    "print(x > y)\n",
    "# [False  True False]"
   ]
  },
  {
   "cell_type": "code",
   "execution_count": 12,
   "id": "4ceadde5",
   "metadata": {},
   "outputs": [
    {
     "name": "stdout",
     "output_type": "stream",
     "text": [
      "[ True  True  True False False]\n",
      "False\n",
      "True\n",
      "True\n",
      "True\n",
      "False\n"
     ]
    }
   ],
   "source": [
    "x = np.array([4, 6, 7, 3, 2])\n",
    "print(x > 3)\n",
    "# [ True  True  True False False]\n",
    "\n",
    "print((x > 3).all())\n",
    "# False\n",
    "\n",
    "print((x > 3).any())\n",
    "# True\n",
    "\n",
    "print((x < 10).any())\n",
    "# True\n",
    "\n",
    "print((x < 10).all())\n",
    "# True\n",
    "\n",
    "print((x > 10).any())\n",
    "# False"
   ]
  },
  {
   "cell_type": "code",
   "execution_count": 16,
   "id": "28dbbca5",
   "metadata": {},
   "outputs": [
    {
     "name": "stdout",
     "output_type": "stream",
     "text": [
      "[False  True  True False False]\n",
      "(array([1, 2]),)\n",
      "[20 10 10 20 20]\n"
     ]
    }
   ],
   "source": [
    "x = np.array([4, 6, 7, 3, 2])\n",
    "print(x > 5)\n",
    "# [False  True  True False False]\n",
    "\n",
    "print(np.where(x > 5))\n",
    "# (array([1, 2]),)\n",
    "\n",
    "print((np.where(x>5, 10, 20))) # 조건이 참이면 10, 거짓이면 20 반환.\n",
    "# [20 10 10 20 20]"
   ]
  },
  {
   "cell_type": "code",
   "execution_count": 20,
   "id": "6671efa9",
   "metadata": {},
   "outputs": [
    {
     "name": "stdout",
     "output_type": "stream",
     "text": [
      "[4 3 0 1 2]\n",
      "2\n",
      "4\n"
     ]
    }
   ],
   "source": [
    "x = np.array([4, 6, 7, 3, 2])\n",
    "print(np.argsort(x))\n",
    "#[4 3 0 1 2] \n",
    "\n",
    "print(np.argmax(x))\n",
    "# 2\n",
    "\n",
    "print(np.argmin(x))\n",
    "# 4"
   ]
  },
  {
   "cell_type": "code",
   "execution_count": 23,
   "id": "eafa7924",
   "metadata": {},
   "outputs": [
    {
     "name": "stdout",
     "output_type": "stream",
     "text": [
      "[4 6 7]\n",
      "(5,)\n",
      "(5,)\n"
     ]
    }
   ],
   "source": [
    "x = np.array([4, 6, 7, 3, 2])\n",
    "cond = x > 3\n",
    "\n",
    "print(x[cond])\n",
    "# [4 6 7]\n",
    "\n",
    "print(x.shape)\n",
    "# (5,)\n",
    "\n",
    "print(cond.shape)\n",
    "# (5,)"
   ]
  },
  {
   "cell_type": "code",
   "execution_count": 29,
   "id": "0da28e21",
   "metadata": {},
   "outputs": [
    {
     "name": "stdout",
     "output_type": "stream",
     "text": [
      "[6 7 4 7 7 7]\n",
      "[6 7 4 7 7 7]\n",
      "[ 1  9  9 16  4  4]\n"
     ]
    }
   ],
   "source": [
    "x = np.array([4, 6, 7, 3, 2])\n",
    "cond = np.array([1, 2, 0, 2, 2, 2,], int)\n",
    "\n",
    "print(x[cond])\n",
    "# [6 7 4 7 7 7]\n",
    "\n",
    "print(x.take(cond))\n",
    "# [6 7 4 7 7 7]\n",
    "\n",
    "x = np.array([[1, 4], [9, 16]], int)\n",
    "a = np.array([0, 1, 1, 1, 0, 0] , int)\n",
    "b = np.array([0, 0, 0, 1, 1, 1], int)\n",
    "print(x[a, b])\n",
    "# [ 1  9  9 16  4  4]"
   ]
  },
  {
   "cell_type": "code",
   "execution_count": 30,
   "id": "3d417864",
   "metadata": {},
   "outputs": [],
   "source": [
    "import pandas as pd"
   ]
  },
  {
   "cell_type": "code",
   "execution_count": 31,
   "id": "bd368aa7",
   "metadata": {},
   "outputs": [
    {
     "name": "stdout",
     "output_type": "stream",
     "text": [
      "0    1\n",
      "1    2\n",
      "2    3\n",
      "3    4\n",
      "4    5\n",
      "dtype: int64\n"
     ]
    }
   ],
   "source": [
    "list_data = [1, 2, 3, 4, 5]\n",
    "example_obj = pd.Series(list_data)\n",
    "\n",
    "print(example_obj)\n",
    "# 0    1\n",
    "# 1    2\n",
    "# 2    3\n",
    "# 3    4\n",
    "# 4    5\n",
    "# dtype: int64"
   ]
  },
  {
   "cell_type": "code",
   "execution_count": 32,
   "id": "e48a77dc",
   "metadata": {},
   "outputs": [
    {
     "name": "stdout",
     "output_type": "stream",
     "text": [
      "a    1\n",
      "b    2\n",
      "c    3\n",
      "d    4\n",
      "e    5\n",
      "dtype: int64\n"
     ]
    }
   ],
   "source": [
    "list_data = [1, 2, 3, 4, 5]\n",
    "list_name = [\"a\",  \"b\", \"c\", \"d\", \"e\"]\n",
    "example_obj = pd.Series(data = list_data, index = list_name)\n",
    "\n",
    "print(example_obj)\n",
    "# a    1\n",
    "# b    2\n",
    "# c    3\n",
    "# d    4\n",
    "# e    5\n",
    "# dtype: int64"
   ]
  },
  {
   "cell_type": "code",
   "execution_count": 36,
   "id": "3f107d3b",
   "metadata": {},
   "outputs": [
    {
     "name": "stdout",
     "output_type": "stream",
     "text": [
      "a    1.0\n",
      "b    2.0\n",
      "c    3.0\n",
      "d    4.0\n",
      "e    5.0\n",
      "f    NaN\n",
      "g    NaN\n",
      "h    NaN\n",
      "dtype: float64\n"
     ]
    }
   ],
   "source": [
    "dict_data_1 = {\"a\" : 1, \"b\":2, \"c\":3, \"d\":4, \"e\":5}\n",
    "\n",
    "indexex = [\"a\", \"b\", \"c\", \"d\", \"e\", \"f\", \"g\", \"h\"]\n",
    "\n",
    "series_obj_1 = pd.Series(dict_data_1, index=indexex)\n",
    "\n",
    "print(series_obj_1)\n",
    "# a    1.0\n",
    "# b    2.0\n",
    "# c    3.0\n",
    "# d    4.0\n",
    "# e    5.0\n",
    "# f    NaN\n",
    "# g    NaN\n",
    "# h    NaN\n",
    "# dtype: float64"
   ]
  },
  {
   "cell_type": "code",
   "execution_count": 37,
   "id": "71a9e893",
   "metadata": {},
   "outputs": [
    {
     "name": "stdout",
     "output_type": "stream",
     "text": [
      "a    1.0\n",
      "b    2.0\n",
      "c    3.0\n",
      "d    4.0\n",
      "e    5.0\n",
      "dtype: float32\n"
     ]
    }
   ],
   "source": [
    "dict_data = {\"a\" : 1, \"b\":2, \"c\":3, \"d\":4, \"e\":5}\n",
    "\n",
    "series_obj_1 = pd.Series(dict_data, dtype = np.float32)\n",
    "\n",
    "print(series_obj_1)\n",
    "# a    1.0\n",
    "# b    2.0\n",
    "# c    3.0\n",
    "# d    4.0\n",
    "# e    5.0\n",
    "# dtype: float32"
   ]
  },
  {
   "cell_type": "code",
   "execution_count": 39,
   "id": "dfecb6fb",
   "metadata": {},
   "outputs": [
    {
     "name": "stdout",
     "output_type": "stream",
     "text": [
      "a    1.0\n",
      "b    2.0\n",
      "c    3.0\n",
      "d    4.0\n",
      "e    5.0\n",
      "Name: example_data, dtype: float32\n"
     ]
    }
   ],
   "source": [
    "dict_data = {\"a\" : 1, \"b\":2, \"c\":3, \"d\":4, \"e\":5}\n",
    "\n",
    "example_obj = pd.Series(dict_data, dtype = np.float32, name = \"example_data\")\n",
    "\n",
    "print(example_obj)\n",
    "# a    1.0\n",
    "# b    2.0\n",
    "# c    3.0\n",
    "# d    4.0\n",
    "# e    5.0\n",
    "# Name: example_data, dtype: float32"
   ]
  },
  {
   "cell_type": "code",
   "execution_count": 45,
   "id": "9e59905e",
   "metadata": {},
   "outputs": [
    {
     "name": "stdout",
     "output_type": "stream",
     "text": [
      "[1. 2. 3. 4. 5.]\n",
      "Index(['a', 'b', 'c', 'd', 'e'], dtype='object')\n",
      "float32\n",
      "<class 'numpy.ndarray'>\n"
     ]
    }
   ],
   "source": [
    "print(example_obj.values)\n",
    "# [1. 2. 3. 4. 5.]\n",
    "\n",
    "print(example_obj.index)\n",
    "# Index(['a', 'b', 'c', 'd', 'e'], dtype='object')\n",
    "\n",
    "print(example_obj.dtype)\n",
    "# float32\n",
    "\n",
    "print(type(example_obj.values))\n",
    "# <class 'numpy.ndarray'>"
   ]
  },
  {
   "cell_type": "code",
   "execution_count": 46,
   "id": "da3630d6",
   "metadata": {},
   "outputs": [
    {
     "data": {
      "text/plain": [
       "id\n",
       "a    1.0\n",
       "b    2.0\n",
       "c    3.0\n",
       "d    4.0\n",
       "e    5.0\n",
       "Name: number, dtype: float32"
      ]
     },
     "execution_count": 46,
     "metadata": {},
     "output_type": "execute_result"
    }
   ],
   "source": [
    "example_obj.name = \"number\"\n",
    "example_obj.index.name = \"id\"\n",
    "example_obj\n",
    "\n",
    "# id\n",
    "# a    1.0\n",
    "# b    2.0\n",
    "# c    3.0\n",
    "# d    4.0\n",
    "# e    5.0\n",
    "# Name: number, dtype: float32"
   ]
  },
  {
   "cell_type": "code",
   "execution_count": 66,
   "id": "075963fa",
   "metadata": {},
   "outputs": [
    {
     "name": "stdout",
     "output_type": "stream",
     "text": [
      "2.0\n",
      "2.0\n",
      "c    3.0\n",
      "e    5.0\n",
      "dtype: float32\n",
      "c    3.0\n",
      "e    5.0\n",
      "dtype: float32\n",
      "b    2.0\n",
      "c    3.0\n",
      "d    4.0\n",
      "dtype: float32\n",
      "b    2.0\n",
      "c    3.0\n",
      "d    4.0\n",
      "dtype: float32\n"
     ]
    }
   ],
   "source": [
    "# series_obj_1의 1번째 원소를 선택 합니다.\n",
    "print(series_obj_1[1])\n",
    "# 2.0\n",
    "\n",
    "\n",
    "# b라벨을 가진 원소를 선택합니다.\n",
    "print(series_obj_1[\"b\"])\n",
    "# 2.0\n",
    "\n",
    "\n",
    "# c와 e원소를 선택합니다.\n",
    "print(series_obj_1[[\"c\", \"e\"]])\n",
    "print(series_obj_1[[2, 4]])\n",
    "# c    3.0\n",
    "# e    5.0\n",
    "# dtype: float32\n",
    "\n",
    "\n",
    "# b에서 d까지의 원소를 선택합니다.\n",
    "print(series_obj_1['b':'d']) # 별칭을 타겟으로 지정 할 경우 미만의 개념이 없습니다.\n",
    "print(series_obj_1[1:4])\n",
    "# b    2.0\n",
    "# c    3.0\n",
    "# d    4.0\n",
    "# dtype: float32"
   ]
  },
  {
   "cell_type": "code",
   "execution_count": 79,
   "id": "24e49cef",
   "metadata": {},
   "outputs": [
    {
     "data": {
      "text/html": [
       "<div>\n",
       "<style scoped>\n",
       "    .dataframe tbody tr th:only-of-type {\n",
       "        vertical-align: middle;\n",
       "    }\n",
       "\n",
       "    .dataframe tbody tr th {\n",
       "        vertical-align: top;\n",
       "    }\n",
       "\n",
       "    .dataframe thead th {\n",
       "        text-align: right;\n",
       "    }\n",
       "</style>\n",
       "<table border=\"1\" class=\"dataframe\">\n",
       "  <thead>\n",
       "    <tr style=\"text-align: right;\">\n",
       "      <th></th>\n",
       "      <th>나이</th>\n",
       "      <th>성별</th>\n",
       "      <th>학교</th>\n",
       "    </tr>\n",
       "  </thead>\n",
       "  <tbody>\n",
       "    <tr>\n",
       "      <th>준서</th>\n",
       "      <td>15</td>\n",
       "      <td>남</td>\n",
       "      <td>덕영중</td>\n",
       "    </tr>\n",
       "    <tr>\n",
       "      <th>예은</th>\n",
       "      <td>17</td>\n",
       "      <td>여</td>\n",
       "      <td>수리중</td>\n",
       "    </tr>\n",
       "  </tbody>\n",
       "</table>\n",
       "</div>"
      ],
      "text/plain": [
       "    나이 성별   학교\n",
       "준서  15  남  덕영중\n",
       "예은  17  여  수리중"
      ]
     },
     "execution_count": 79,
     "metadata": {},
     "output_type": "execute_result"
    }
   ],
   "source": [
    "table = {\"나이\" : [15, 17],\n",
    "        \"성별\" : ['남', \"여\"],\n",
    "        \"학교\" : [\"덕영중\", \"수리중\"]}\n",
    "\n",
    "pd.DataFrame(table, index=[\"준서\",\"예은\"])"
   ]
  },
  {
   "cell_type": "code",
   "execution_count": 82,
   "id": "f5f567f5",
   "metadata": {},
   "outputs": [
    {
     "data": {
      "text/html": [
       "<div>\n",
       "<style scoped>\n",
       "    .dataframe tbody tr th:only-of-type {\n",
       "        vertical-align: middle;\n",
       "    }\n",
       "\n",
       "    .dataframe tbody tr th {\n",
       "        vertical-align: top;\n",
       "    }\n",
       "\n",
       "    .dataframe thead th {\n",
       "        text-align: right;\n",
       "    }\n",
       "</style>\n",
       "<table border=\"1\" class=\"dataframe\">\n",
       "  <thead>\n",
       "    <tr style=\"text-align: right;\">\n",
       "      <th></th>\n",
       "      <th>나이</th>\n",
       "      <th>성별</th>\n",
       "      <th>학교</th>\n",
       "    </tr>\n",
       "  </thead>\n",
       "  <tbody>\n",
       "    <tr>\n",
       "      <th>준서</th>\n",
       "      <td>15</td>\n",
       "      <td>남</td>\n",
       "      <td>덕영중</td>\n",
       "    </tr>\n",
       "    <tr>\n",
       "      <th>예은</th>\n",
       "      <td>17</td>\n",
       "      <td>여</td>\n",
       "      <td>수리중</td>\n",
       "    </tr>\n",
       "  </tbody>\n",
       "</table>\n",
       "</div>"
      ],
      "text/plain": [
       "    나이 성별   학교\n",
       "준서  15  남  덕영중\n",
       "예은  17  여  수리중"
      ]
     },
     "execution_count": 82,
     "metadata": {},
     "output_type": "execute_result"
    }
   ],
   "source": [
    "# 두개의 벡터로 생성\n",
    "v1 = [15, '남', '덕영중']\n",
    "v2 = [17, '여', '수리중']\n",
    "pd.DataFrame([v1, v2], columns=[\"나이\", \"성별\", \"학교\"], index=[\"준서\", \"예은\"])"
   ]
  },
  {
   "cell_type": "code",
   "execution_count": 93,
   "id": "361c8403",
   "metadata": {},
   "outputs": [
    {
     "name": "stdout",
     "output_type": "stream",
     "text": [
      "RangeIndex(start=0, stop=5, step=1)\n",
      "Index(['first_name', 'last_name', 'age', 'city'], dtype='object')\n",
      "city\n"
     ]
    }
   ],
   "source": [
    "raw_data = {'first_name': ['Jason', 'Molly', 'Tina', 'Jake', 'Amy'],\n",
    "            'last_name': ['Miller', 'Jacobson', 'Ali', 'Milner', 'Cooze'],\n",
    "            'age': [42, 52, 36, 24, 73],\n",
    "            'city': ['San Francisco', 'Baltimore', 'Miami', 'Douglas', 'Boston']}\n",
    "\n",
    "df = pd.DataFrame(raw_data)\n",
    "\n",
    "print(df.index)\n",
    "# RangeIndex(start=0, stop=5, step=1)\n",
    "\n",
    "print(df.columns)\n",
    "# Index(['first_name', 'last_name', 'age', 'city'], dtype='object')\n",
    "\n",
    "print(df.columns[3])\n",
    "# city"
   ]
  },
  {
   "cell_type": "code",
   "execution_count": 94,
   "id": "1435281e",
   "metadata": {},
   "outputs": [
    {
     "data": {
      "text/html": [
       "<div>\n",
       "<style scoped>\n",
       "    .dataframe tbody tr th:only-of-type {\n",
       "        vertical-align: middle;\n",
       "    }\n",
       "\n",
       "    .dataframe tbody tr th {\n",
       "        vertical-align: top;\n",
       "    }\n",
       "\n",
       "    .dataframe thead th {\n",
       "        text-align: right;\n",
       "    }\n",
       "</style>\n",
       "<table border=\"1\" class=\"dataframe\">\n",
       "  <thead>\n",
       "    <tr style=\"text-align: right;\">\n",
       "      <th></th>\n",
       "      <th>age</th>\n",
       "      <th>city</th>\n",
       "    </tr>\n",
       "  </thead>\n",
       "  <tbody>\n",
       "    <tr>\n",
       "      <th>0</th>\n",
       "      <td>42</td>\n",
       "      <td>San Francisco</td>\n",
       "    </tr>\n",
       "    <tr>\n",
       "      <th>1</th>\n",
       "      <td>52</td>\n",
       "      <td>Baltimore</td>\n",
       "    </tr>\n",
       "    <tr>\n",
       "      <th>2</th>\n",
       "      <td>36</td>\n",
       "      <td>Miami</td>\n",
       "    </tr>\n",
       "    <tr>\n",
       "      <th>3</th>\n",
       "      <td>24</td>\n",
       "      <td>Douglas</td>\n",
       "    </tr>\n",
       "    <tr>\n",
       "      <th>4</th>\n",
       "      <td>73</td>\n",
       "      <td>Boston</td>\n",
       "    </tr>\n",
       "  </tbody>\n",
       "</table>\n",
       "</div>"
      ],
      "text/plain": [
       "   age           city\n",
       "0   42  San Francisco\n",
       "1   52      Baltimore\n",
       "2   36          Miami\n",
       "3   24        Douglas\n",
       "4   73         Boston"
      ]
     },
     "execution_count": 94,
     "metadata": {},
     "output_type": "execute_result"
    }
   ],
   "source": [
    "pd.DataFrame(raw_data, columns = [\"age\", \"city\"])"
   ]
  },
  {
   "cell_type": "code",
   "execution_count": 95,
   "id": "016cc7ab",
   "metadata": {},
   "outputs": [
    {
     "data": {
      "text/html": [
       "<div>\n",
       "<style scoped>\n",
       "    .dataframe tbody tr th:only-of-type {\n",
       "        vertical-align: middle;\n",
       "    }\n",
       "\n",
       "    .dataframe tbody tr th {\n",
       "        vertical-align: top;\n",
       "    }\n",
       "\n",
       "    .dataframe thead th {\n",
       "        text-align: right;\n",
       "    }\n",
       "</style>\n",
       "<table border=\"1\" class=\"dataframe\">\n",
       "  <thead>\n",
       "    <tr style=\"text-align: right;\">\n",
       "      <th></th>\n",
       "      <th>age</th>\n",
       "      <th>city</th>\n",
       "      <th>debt</th>\n",
       "    </tr>\n",
       "  </thead>\n",
       "  <tbody>\n",
       "    <tr>\n",
       "      <th>0</th>\n",
       "      <td>42</td>\n",
       "      <td>San Francisco</td>\n",
       "      <td>NaN</td>\n",
       "    </tr>\n",
       "    <tr>\n",
       "      <th>1</th>\n",
       "      <td>52</td>\n",
       "      <td>Baltimore</td>\n",
       "      <td>NaN</td>\n",
       "    </tr>\n",
       "    <tr>\n",
       "      <th>2</th>\n",
       "      <td>36</td>\n",
       "      <td>Miami</td>\n",
       "      <td>NaN</td>\n",
       "    </tr>\n",
       "    <tr>\n",
       "      <th>3</th>\n",
       "      <td>24</td>\n",
       "      <td>Douglas</td>\n",
       "      <td>NaN</td>\n",
       "    </tr>\n",
       "    <tr>\n",
       "      <th>4</th>\n",
       "      <td>73</td>\n",
       "      <td>Boston</td>\n",
       "      <td>NaN</td>\n",
       "    </tr>\n",
       "  </tbody>\n",
       "</table>\n",
       "</div>"
      ],
      "text/plain": [
       "   age           city debt\n",
       "0   42  San Francisco  NaN\n",
       "1   52      Baltimore  NaN\n",
       "2   36          Miami  NaN\n",
       "3   24        Douglas  NaN\n",
       "4   73         Boston  NaN"
      ]
     },
     "execution_count": 95,
     "metadata": {},
     "output_type": "execute_result"
    }
   ],
   "source": [
    "pd.DataFrame(raw_data, columns = [\"age\", \"city\", \"debt\"])"
   ]
  },
  {
   "cell_type": "code",
   "execution_count": 100,
   "id": "f5c07c97",
   "metadata": {},
   "outputs": [
    {
     "name": "stdout",
     "output_type": "stream",
     "text": [
      "             이름         성  나이             지역\n",
      "student1  Jason    Miller  42  San Francisco\n",
      "student2  Molly  Jacobson  52      Baltimore\n",
      "student3   Tina       Ali  36          Miami\n",
      "student4   Jake    Milner  24        Douglas\n",
      "student5    Amy     Cooze  73         Boston\n",
      "Index(['student1', 'student2', 'student3', 'student4', 'student5'], dtype='object')\n",
      "Index(['이름', '성', '나이', '지역'], dtype='object')\n"
     ]
    }
   ],
   "source": [
    "df = pd.DataFrame(raw_data)\n",
    "\n",
    "df.index = [\"student1\", \"student2\", \"student3\", \"student4\", \"student5\"]\n",
    "df.columns = ['이름', \"성\", \"나이\", \"지역\"]\n",
    "\n",
    "print(df)\n",
    "#              이름         성  나이             지역\n",
    "# student1  Jason    Miller  42  San Francisco\n",
    "# student2  Molly  Jacobson  52      Baltimore\n",
    "# student3   Tina       Ali  36          Miami\n",
    "# student4   Jake    Milner  24        Douglas\n",
    "# student5    Amy     Cooze  73         Boston\n",
    "\n",
    "print(df.index)\n",
    "print(df.columns)"
   ]
  },
  {
   "cell_type": "code",
   "execution_count": 113,
   "id": "26a4207c",
   "metadata": {},
   "outputs": [
    {
     "data": {
      "text/html": [
       "<div>\n",
       "<style scoped>\n",
       "    .dataframe tbody tr th:only-of-type {\n",
       "        vertical-align: middle;\n",
       "    }\n",
       "\n",
       "    .dataframe tbody tr th {\n",
       "        vertical-align: top;\n",
       "    }\n",
       "\n",
       "    .dataframe thead th {\n",
       "        text-align: right;\n",
       "    }\n",
       "</style>\n",
       "<table border=\"1\" class=\"dataframe\">\n",
       "  <thead>\n",
       "    <tr style=\"text-align: right;\">\n",
       "      <th></th>\n",
       "      <th>이름</th>\n",
       "      <th>성</th>\n",
       "      <th>연령</th>\n",
       "      <th>도시</th>\n",
       "    </tr>\n",
       "  </thead>\n",
       "  <tbody>\n",
       "    <tr>\n",
       "      <th>학생1</th>\n",
       "      <td>Jason</td>\n",
       "      <td>Miller</td>\n",
       "      <td>42</td>\n",
       "      <td>San Francisco</td>\n",
       "    </tr>\n",
       "    <tr>\n",
       "      <th>학생2</th>\n",
       "      <td>Molly</td>\n",
       "      <td>Jacobson</td>\n",
       "      <td>52</td>\n",
       "      <td>Baltimore</td>\n",
       "    </tr>\n",
       "    <tr>\n",
       "      <th>student3</th>\n",
       "      <td>Tina</td>\n",
       "      <td>Ali</td>\n",
       "      <td>36</td>\n",
       "      <td>Miami</td>\n",
       "    </tr>\n",
       "    <tr>\n",
       "      <th>student4</th>\n",
       "      <td>Jake</td>\n",
       "      <td>Milner</td>\n",
       "      <td>24</td>\n",
       "      <td>Douglas</td>\n",
       "    </tr>\n",
       "    <tr>\n",
       "      <th>student5</th>\n",
       "      <td>Amy</td>\n",
       "      <td>Cooze</td>\n",
       "      <td>73</td>\n",
       "      <td>Boston</td>\n",
       "    </tr>\n",
       "  </tbody>\n",
       "</table>\n",
       "</div>"
      ],
      "text/plain": [
       "             이름         성  연령             도시\n",
       "학생1       Jason    Miller  42  San Francisco\n",
       "학생2       Molly  Jacobson  52      Baltimore\n",
       "student3   Tina       Ali  36          Miami\n",
       "student4   Jake    Milner  24        Douglas\n",
       "student5    Amy     Cooze  73         Boston"
      ]
     },
     "execution_count": 113,
     "metadata": {},
     "output_type": "execute_result"
    }
   ],
   "source": [
    "# 컬럼 이름중 '나이'를 '연령'으로 '지역'을 '도시'로 변경합니다.\n",
    "df.rename(columns = {\"나이\" : \"연령\", \"지역\" : \"도시\"}, inplace = True)\n",
    "\n",
    "#행 인덱스 중에서 'student1'을 '학생1'로 변경합니다.\n",
    "df.rename(index={'student1' : \"학생1\"}, inplace = True)\n",
    "\n",
    "# axis의 값이 기본 값이 0이기 때문에 'index=' 입력하지 않아도 index가 변경됩니다.\n",
    "df.rename({'student2' : \"학생2\"})\n",
    "\n"
   ]
  },
  {
   "cell_type": "code",
   "execution_count": 114,
   "id": "9b17b7a1",
   "metadata": {},
   "outputs": [
    {
     "name": "stdout",
     "output_type": "stream",
     "text": [
      "Collecting package metadata (current_repodata.json): done\n",
      "Solving environment: \\ \n",
      "The environment is inconsistent, please check the package plan carefully\n",
      "The following packages are causing the inconsistency:\n",
      "\n",
      "  - defaults/osx-64::anaconda==2022.05=py39_0\n",
      "  - defaults/osx-64::bcrypt==3.2.0=py39h9ed2024_0\n",
      "  - defaults/osx-64::scrapy==2.6.1=py39hecd8cb5_0\n",
      "  - defaults/osx-64::twisted==22.2.0=py39hca72f7f_0\n",
      "done\n",
      "\n",
      "## Package Plan ##\n",
      "\n",
      "  environment location: /Users/werther/opt/anaconda3\n",
      "\n",
      "  added / updated specs:\n",
      "    - openpyxl\n",
      "\n",
      "\n",
      "The following packages will be downloaded:\n",
      "\n",
      "    package                    |            build\n",
      "    ---------------------------|-----------------\n",
      "    _anaconda_depends-2022.05  |           py39_0           7 KB\n",
      "    anaconda-custom            |           py39_1           4 KB\n",
      "    certifi-2022.9.14          |   py39hecd8cb5_0         156 KB\n",
      "    openpyxl-3.0.10            |   py39hca72f7f_0         505 KB\n",
      "    pip-22.1.2                 |   py39hecd8cb5_0         2.4 MB\n",
      "    ------------------------------------------------------------\n",
      "                                           Total:         3.1 MB\n",
      "\n",
      "The following NEW packages will be INSTALLED:\n",
      "\n",
      "  _anaconda_depends  pkgs/main/osx-64::_anaconda_depends-2022.05-py39_0\n",
      "  pip                pkgs/main/osx-64::pip-22.1.2-py39hecd8cb5_0\n",
      "\n",
      "The following packages will be UPDATED:\n",
      "\n",
      "  ca-certificates                      2022.3.29-hecd8cb5_1 --> 2022.07.19-hecd8cb5_0\n",
      "  certifi                          2021.10.8-py39hecd8cb5_2 --> 2022.9.14-py39hecd8cb5_0\n",
      "  openpyxl           pkgs/main/noarch::openpyxl-3.0.9-pyhd~ --> pkgs/main/osx-64::openpyxl-3.0.10-py39hca72f7f_0\n",
      "  openssl                                 1.1.1n-hca72f7f_0 --> 1.1.1q-hca72f7f_0\n",
      "\n",
      "The following packages will be DOWNGRADED:\n",
      "\n",
      "  anaconda                                   2022.05-py39_0 --> custom-py39_1\n",
      "\n",
      "\n",
      "\n",
      "Downloading and Extracting Packages\n",
      "_anaconda_depends-20 | 7 KB      | ##################################### | 100% \n",
      "openpyxl-3.0.10      | 505 KB    | ##################################### | 100% \n",
      "certifi-2022.9.14    | 156 KB    | ##################################### | 100% \n",
      "anaconda-custom      | 4 KB      | ##################################### | 100% \n",
      "pip-22.1.2           | 2.4 MB    | ##################################### | 100% \n",
      "Preparing transaction: done\n",
      "Verifying transaction: done\n",
      "Executing transaction: done\n",
      "Retrieving notices: ...working... done\n"
     ]
    }
   ],
   "source": [
    "!conda install --y openpyxl"
   ]
  },
  {
   "cell_type": "code",
   "execution_count": 117,
   "id": "63ae37cb",
   "metadata": {},
   "outputs": [],
   "source": [
    "import pandas as pd\n",
    "import numpy as np\n",
    "df = pd.read_excel(\"./excel-comp-data.xlsx\")"
   ]
  },
  {
   "cell_type": "code",
   "execution_count": 121,
   "id": "7c324455",
   "metadata": {},
   "outputs": [
    {
     "data": {
      "text/html": [
       "<div>\n",
       "<style scoped>\n",
       "    .dataframe tbody tr th:only-of-type {\n",
       "        vertical-align: middle;\n",
       "    }\n",
       "\n",
       "    .dataframe tbody tr th {\n",
       "        vertical-align: top;\n",
       "    }\n",
       "\n",
       "    .dataframe thead th {\n",
       "        text-align: right;\n",
       "    }\n",
       "</style>\n",
       "<table border=\"1\" class=\"dataframe\">\n",
       "  <thead>\n",
       "    <tr style=\"text-align: right;\">\n",
       "      <th></th>\n",
       "      <th>account</th>\n",
       "      <th>name</th>\n",
       "      <th>street</th>\n",
       "      <th>city</th>\n",
       "      <th>state</th>\n",
       "      <th>postal-code</th>\n",
       "      <th>Jan</th>\n",
       "      <th>Feb</th>\n",
       "      <th>Mar</th>\n",
       "    </tr>\n",
       "  </thead>\n",
       "  <tbody>\n",
       "    <tr>\n",
       "      <th>10</th>\n",
       "      <td>214098</td>\n",
       "      <td>Goodwin, Homenick and Jerde</td>\n",
       "      <td>649 Cierra Forks Apt. 078</td>\n",
       "      <td>Rosaberg</td>\n",
       "      <td>Tenessee</td>\n",
       "      <td>47743</td>\n",
       "      <td>45000</td>\n",
       "      <td>120000</td>\n",
       "      <td>55000</td>\n",
       "    </tr>\n",
       "    <tr>\n",
       "      <th>11</th>\n",
       "      <td>231907</td>\n",
       "      <td>Hahn-Moore</td>\n",
       "      <td>18115 Olivine Throughway</td>\n",
       "      <td>Norbertomouth</td>\n",
       "      <td>NorthDakota</td>\n",
       "      <td>31415</td>\n",
       "      <td>150000</td>\n",
       "      <td>10000</td>\n",
       "      <td>162000</td>\n",
       "    </tr>\n",
       "    <tr>\n",
       "      <th>12</th>\n",
       "      <td>242368</td>\n",
       "      <td>Frami, Anderson and Donnelly</td>\n",
       "      <td>182 Bertie Road</td>\n",
       "      <td>East Davian</td>\n",
       "      <td>Iowa</td>\n",
       "      <td>72686</td>\n",
       "      <td>162000</td>\n",
       "      <td>120000</td>\n",
       "      <td>35000</td>\n",
       "    </tr>\n",
       "    <tr>\n",
       "      <th>13</th>\n",
       "      <td>268755</td>\n",
       "      <td>Walsh-Haley</td>\n",
       "      <td>2624 Beatty Parkways</td>\n",
       "      <td>Goodwinmouth</td>\n",
       "      <td>RhodeIsland</td>\n",
       "      <td>31919</td>\n",
       "      <td>55000</td>\n",
       "      <td>120000</td>\n",
       "      <td>35000</td>\n",
       "    </tr>\n",
       "    <tr>\n",
       "      <th>14</th>\n",
       "      <td>273274</td>\n",
       "      <td>McDermott PLC</td>\n",
       "      <td>8917 Bergstrom Meadow</td>\n",
       "      <td>Kathryneborough</td>\n",
       "      <td>Delaware</td>\n",
       "      <td>27933</td>\n",
       "      <td>150000</td>\n",
       "      <td>120000</td>\n",
       "      <td>70000</td>\n",
       "    </tr>\n",
       "  </tbody>\n",
       "</table>\n",
       "</div>"
      ],
      "text/plain": [
       "    account                          name                     street  \\\n",
       "10   214098   Goodwin, Homenick and Jerde  649 Cierra Forks Apt. 078   \n",
       "11   231907                    Hahn-Moore   18115 Olivine Throughway   \n",
       "12   242368  Frami, Anderson and Donnelly            182 Bertie Road   \n",
       "13   268755                   Walsh-Haley       2624 Beatty Parkways   \n",
       "14   273274                 McDermott PLC      8917 Bergstrom Meadow   \n",
       "\n",
       "               city        state  postal-code     Jan     Feb     Mar  \n",
       "10         Rosaberg     Tenessee        47743   45000  120000   55000  \n",
       "11    Norbertomouth  NorthDakota        31415  150000   10000  162000  \n",
       "12      East Davian         Iowa        72686  162000  120000   35000  \n",
       "13     Goodwinmouth  RhodeIsland        31919   55000  120000   35000  \n",
       "14  Kathryneborough     Delaware        27933  150000  120000   70000  "
      ]
     },
     "execution_count": 121,
     "metadata": {},
     "output_type": "execute_result"
    }
   ],
   "source": [
    "df.head()\n",
    "df.head(2)\n",
    "df.tail()\n",
    "df.tail(2)\n",
    "df.tail()"
   ]
  },
  {
   "cell_type": "code",
   "execution_count": 124,
   "id": "013566b8",
   "metadata": {},
   "outputs": [
    {
     "data": {
      "text/html": [
       "<div>\n",
       "<style scoped>\n",
       "    .dataframe tbody tr th:only-of-type {\n",
       "        vertical-align: middle;\n",
       "    }\n",
       "\n",
       "    .dataframe tbody tr th {\n",
       "        vertical-align: top;\n",
       "    }\n",
       "\n",
       "    .dataframe thead th {\n",
       "        text-align: right;\n",
       "    }\n",
       "</style>\n",
       "<table border=\"1\" class=\"dataframe\">\n",
       "  <thead>\n",
       "    <tr style=\"text-align: right;\">\n",
       "      <th></th>\n",
       "      <th>account</th>\n",
       "      <th>street</th>\n",
       "      <th>state</th>\n",
       "    </tr>\n",
       "  </thead>\n",
       "  <tbody>\n",
       "    <tr>\n",
       "      <th>0</th>\n",
       "      <td>211829</td>\n",
       "      <td>34456 Sean Highway</td>\n",
       "      <td>Texas</td>\n",
       "    </tr>\n",
       "    <tr>\n",
       "      <th>1</th>\n",
       "      <td>320563</td>\n",
       "      <td>1311 Alvis Tunnel</td>\n",
       "      <td>NorthCarolina</td>\n",
       "    </tr>\n",
       "    <tr>\n",
       "      <th>2</th>\n",
       "      <td>648336</td>\n",
       "      <td>62184 Schamberger Underpass Apt. 231</td>\n",
       "      <td>Iowa</td>\n",
       "    </tr>\n",
       "  </tbody>\n",
       "</table>\n",
       "</div>"
      ],
      "text/plain": [
       "   account                                street          state\n",
       "0   211829                    34456 Sean Highway          Texas\n",
       "1   320563                     1311 Alvis Tunnel  NorthCarolina\n",
       "2   648336  62184 Schamberger Underpass Apt. 231           Iowa"
      ]
     },
     "execution_count": 124,
     "metadata": {},
     "output_type": "execute_result"
    }
   ],
   "source": [
    "df[[\"account\", \"street\", \"state\"]].head(3)"
   ]
  },
  {
   "cell_type": "code",
   "execution_count": 126,
   "id": "ca50a6d9",
   "metadata": {},
   "outputs": [
    {
     "data": {
      "text/plain": [
       "0    211829\n",
       "1    320563\n",
       "2    648336\n",
       "Name: account, dtype: int64"
      ]
     },
     "execution_count": 126,
     "metadata": {},
     "output_type": "execute_result"
    }
   ],
   "source": [
    "df[\"account\"].head(3)\n",
    "\n",
    "# 0    211829\n",
    "# 1    320563\n",
    "# 2    648336\n",
    "# Name: account, dtype: int64"
   ]
  },
  {
   "cell_type": "code",
   "execution_count": 128,
   "id": "ef14e792",
   "metadata": {},
   "outputs": [
    {
     "data": {
      "text/plain": [
       "0    211829\n",
       "1    320563\n",
       "2    648336\n",
       "Name: account, dtype: int64"
      ]
     },
     "execution_count": 128,
     "metadata": {},
     "output_type": "execute_result"
    }
   ],
   "source": [
    "df.account.head(3) # df['account'].head(3)\n",
    "\n",
    "# 0    211829\n",
    "# 1    320563\n",
    "# 2    648336\n",
    "# Name: account, dtype: int64"
   ]
  },
  {
   "cell_type": "code",
   "execution_count": null,
   "id": "34726622",
   "metadata": {},
   "outputs": [],
   "source": []
  }
 ],
 "metadata": {
  "kernelspec": {
   "display_name": "Python 3 (ipykernel)",
   "language": "python",
   "name": "python3"
  },
  "language_info": {
   "codemirror_mode": {
    "name": "ipython",
    "version": 3
   },
   "file_extension": ".py",
   "mimetype": "text/x-python",
   "name": "python",
   "nbconvert_exporter": "python",
   "pygments_lexer": "ipython3",
   "version": "3.9.12"
  }
 },
 "nbformat": 4,
 "nbformat_minor": 5
}
