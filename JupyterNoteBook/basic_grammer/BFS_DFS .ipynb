{
 "cells": [
  {
   "cell_type": "code",
   "execution_count": 3,
   "id": "470e0bb1",
   "metadata": {},
   "outputs": [
    {
     "name": "stdout",
     "output_type": "stream",
     "text": [
      "[1, 3, 4, 5, 2, 6]\n"
     ]
    }
   ],
   "source": [
    "graph_list = {1: set([3, 4]),\n",
    "              2: set([3, 4, 5]),\n",
    "              3: set([1, 5]),\n",
    "              4: set([1]),\n",
    "              5: set([2, 6]),\n",
    "              6: set([3, 5])}\n",
    "root_node = 1\n",
    "\n",
    "from collections import deque\n",
    "\n",
    "def BFS_with_adj_list(graph, root):\n",
    "    visited = []\n",
    "    queue = deque([root])\n",
    "\n",
    "    while queue:\n",
    "        n = queue.popleft()\n",
    "        if n not in visited:\n",
    "            visited.append(n)\n",
    "            queue += graph[n] - set(visited)\n",
    "    return visited\n",
    "  \n",
    "print(BFS_with_adj_list(graph_list, root_node))"
   ]
  },
  {
   "cell_type": "code",
   "execution_count": 2,
   "id": "18ca7aa5",
   "metadata": {},
   "outputs": [
    {
     "name": "stdout",
     "output_type": "stream",
     "text": [
      "1 2\n",
      "1 3\n",
      "1 4\n",
      "2 3\n",
      "2 4\n",
      "[[0, 0, 0, 0, 0], [0, 0, 1, 1, 1], [0, 1, 0, 1, 1], [0, 1, 1, 0, 0], [0, 1, 1, 0, 0]]\n"
     ]
    }
   ],
   "source": [
    "N,M,V = 4, 5, 1\n",
    "\n",
    "#행렬 만들기\n",
    "graph = [[0]*(N+1) for _ in range(N+1)]\n",
    "for i in range (M):\n",
    "    a,b = map(int,input().split())\n",
    "    graph[a][b] = graph[b][a] = 1\n",
    "    \n",
    "print(graph)"
   ]
  },
  {
   "cell_type": "markdown",
   "id": "b0d4c99d",
   "metadata": {},
   "source": []
  }
 ],
 "metadata": {
  "kernelspec": {
   "display_name": "Python 3 (ipykernel)",
   "language": "python",
   "name": "python3"
  },
  "language_info": {
   "codemirror_mode": {
    "name": "ipython",
    "version": 3
   },
   "file_extension": ".py",
   "mimetype": "text/x-python",
   "name": "python",
   "nbconvert_exporter": "python",
   "pygments_lexer": "ipython3",
   "version": "3.9.12"
  }
 },
 "nbformat": 4,
 "nbformat_minor": 5
}
