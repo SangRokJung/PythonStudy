{
 "cells": [
  {
   "cell_type": "code",
   "execution_count": 9,
   "id": "d3a56c72",
   "metadata": {},
   "outputs": [
    {
     "name": "stdout",
     "output_type": "stream",
     "text": [
      "[1, 2, 3, 4, 5]\n",
      "['red', 'blue', 'yellow']\n",
      "[1, 2, 'blue', 'red']\n",
      "[1, 2, '[red, blue]']\n"
     ]
    }
   ],
   "source": [
    "a = [1, 2, 3, 4, 5]\n",
    "b = a\n",
    "print(b)\n",
    "c = [\"red\", \"blue\", \"yellow\"]\n",
    "print(c)\n",
    "d = [1, 2, \"blue\", \"red\"]\n",
    "print(d)\n",
    "e = [1, 2, \"[red, blue]\"]\n",
    "print(e)"
   ]
  },
  {
   "cell_type": "code",
   "execution_count": 11,
   "id": "edc88e3e",
   "metadata": {},
   "outputs": [
    {
     "name": "stdout",
     "output_type": "stream",
     "text": [
      "[2]\n"
     ]
    }
   ],
   "source": [
    "a = [1, 2, 3, 4, 5, 6]\n",
    "print(a[1:2])"
   ]
  },
  {
   "cell_type": "code",
   "execution_count": 16,
   "id": "49a7f8df",
   "metadata": {},
   "outputs": [
    {
     "name": "stdout",
     "output_type": "stream",
     "text": [
      "L: [['a', 'b'], [1, 2, 3]]\n",
      "a\n",
      "b\n",
      "1\n",
      "2\n",
      "3\n"
     ]
    }
   ],
   "source": [
    "L = [['a', 'b'], [1, 2, 3]]\n",
    "print(\"L:\", L)\n",
    "print(L[0][0])\n",
    "print(L[0][1])\n",
    "print(L[1][0])\n",
    "print(L[1][1])\n",
    "print(L[1][2])"
   ]
  },
  {
   "cell_type": "code",
   "execution_count": 35,
   "id": "1b3a87d2",
   "metadata": {},
   "outputs": [
    {
     "name": "stdout",
     "output_type": "stream",
     "text": [
      "1\n",
      "5\n",
      "5\n",
      "new_a :  [1, 2, 3, 4, 5, ['a', 'b', 'c', 'd'], 7, 8, 9]\n",
      "1\n",
      "9\n",
      "['a', 'b', 'c', 'd']\n",
      "c d\n"
     ]
    }
   ],
   "source": [
    "b = [1, 2, 3, 4, 5]\n",
    "print(b[0])\n",
    "print(b[0]+b[3])\n",
    "print(b[-1])\n",
    "\n",
    "new_a = [1, 2, 3, 4, 5,['a', 'b', 'c', 'd'], 7, 8, 9]\n",
    "print(\"new_a : \", new_a )\n",
    "print(new_a[0])\n",
    "print(new_a[-1])\n",
    "print(new_a[5])\n",
    "print(new_a[5][2], new_a[5][3])"
   ]
  },
  {
   "cell_type": "code",
   "execution_count": 60,
   "id": "88a8d0f4",
   "metadata": {},
   "outputs": [
    {
     "name": "stdout",
     "output_type": "stream",
     "text": [
      "[1, 2, 3, 4, 5, ['a', 'b', [100, 101, 102], 'c', 'd']]\n",
      "[1, 3, 5]\n",
      "[1, 4]\n",
      "[1, 5]\n",
      "[101, 102]\n"
     ]
    }
   ],
   "source": [
    "new_a = [1, 2, 3, 4, 5,['a', 'b',[100, 101, 102], 'c', 'd'], 7, 8, 9]\n",
    "print(new_a[:6])\n",
    "print(new_a[:6:2])\n",
    "print(new_a[:5:3])\n",
    "print(new_a[:5:4])\n",
    "print(new_a[5][2][1:3])"
   ]
  },
  {
   "cell_type": "code",
   "execution_count": 87,
   "id": "1bb51778",
   "metadata": {},
   "outputs": [
    {
     "name": "stdout",
     "output_type": "stream",
     "text": [
      "[1, 2, 3, 4, 6, 7, 8, 9]\n",
      "[1, 2, 3, 4, 1, 2, 3, 4]\n",
      "4\n",
      "1\n",
      "8\n",
      "[6, 7, 8, 9, 'good']\n",
      "[6, 7, 8, 9, 'good', 'good']\n"
     ]
    }
   ],
   "source": [
    "a = [1, 2, 3, 4]\n",
    "b = [6, 7, 8, 9]\n",
    "\n",
    "print(a+b) # [1, 2, 3, 4, 6, 7, 8, 9]\n",
    "print(a*2) # [1, 2, 3, 4, 1, 2, 3, 4]\n",
    "print(len(a)) # 4\n",
    "\n",
    "k = [12345678]\n",
    "print(len(k)) # 1\n",
    "\n",
    "m = '12345678'\n",
    "print(len(m)) # 8\n",
    "\n",
    "c = 'good'\n",
    "b.append(c)\n",
    "print(b) # [6, 7, 8, 9, 'good']\n",
    "\n",
    "new_c = ['good']\n",
    "b.append(new_c[0])\n",
    "print(b) # [6, 7, 8, 9, 'good', 'good']"
   ]
  },
  {
   "cell_type": "code",
   "execution_count": 95,
   "id": "d764f152",
   "metadata": {},
   "outputs": [
    {
     "name": "stdout",
     "output_type": "stream",
     "text": [
      "9\n"
     ]
    },
    {
     "data": {
      "text/plain": [
       "3"
      ]
     },
     "execution_count": 95,
     "metadata": {},
     "output_type": "execute_result"
    }
   ],
   "source": [
    "a[3] = 9\n",
    "print(a[3])\n"
   ]
  },
  {
   "cell_type": "code",
   "execution_count": 120,
   "id": "f68bfde9",
   "metadata": {},
   "outputs": [
    {
     "name": "stdout",
     "output_type": "stream",
     "text": [
      "5\n",
      "30\n",
      "9\n",
      "6\n",
      "[7, 8, 9]\n",
      "[9]\n",
      "<class 'str'>\n"
     ]
    }
   ],
   "source": [
    "a = [1, 2, 3, 4, [a, b, c]]\n",
    "b = [6, 7, 8, 9]\n",
    "\n",
    "# 변수 a의 데이터의 개수\n",
    "print(len(a))\n",
    "\n",
    "# 변수 a의 합계\n",
    "# print(sum(a)) 에러\n",
    "\n",
    "# 변수 b의 합계\n",
    "print(sum(b))\n",
    "\n",
    "# 변수 b의 최대값\n",
    "print(max(b))\n",
    "\n",
    "# 변수 b의 최소값\n",
    "print(min(b))\n",
    "\n",
    "# 변수 b의 첫번째 데이터 삭제\n",
    "del b[0]\n",
    "print(b)\n",
    "\n",
    "\n",
    "b = [6, 7, 8, 9]\n",
    "# 변수 b의 첫번째 부터 세번째 데이터 삭제\n",
    "del b[:3]\n",
    "print(b)\n",
    "\n",
    "# 변수b의 첫번째 데이터를 문자 타입으로 변경\n",
    "b[0] = str(b[0])\n",
    "print(type(b[0]))\n"
   ]
  },
  {
   "cell_type": "code",
   "execution_count": 127,
   "id": "f06a484e",
   "metadata": {},
   "outputs": [
    {
     "name": "stdout",
     "output_type": "stream",
     "text": [
      "['6', '7', '8', '9', '10']\n",
      "['6', '7', '8', '9', '10', '11', '12']\n",
      "['6', '7', '8', '9']\n",
      "['x', 'y', 'z']\n"
     ]
    }
   ],
   "source": [
    "b = ['6', '7', '8', '9']\n",
    "\n",
    "b.append('10')\n",
    "print(b)\n",
    "\n",
    "b.extend(['11', '12'])\n",
    "print(b)\n",
    "\n",
    "c = ['6', '9', '8', '7']\n",
    "c.sort()\n",
    "print(c)\n",
    "\n",
    "d = ['x', 'y', 'z']\n",
    "d.sort()\n",
    "print(d)"
   ]
  },
  {
   "cell_type": "code",
   "execution_count": 132,
   "id": "8f5dc2a8",
   "metadata": {},
   "outputs": [
    {
     "name": "stdout",
     "output_type": "stream",
     "text": [
      "['9', '8', '7', '6']\n",
      "0\n"
     ]
    }
   ],
   "source": [
    "c.reverse()\n",
    "print(c)\n",
    "\n",
    "print(c.index(\"9\"))"
   ]
  },
  {
   "cell_type": "code",
   "execution_count": 143,
   "id": "454fb74d",
   "metadata": {},
   "outputs": [
    {
     "name": "stdout",
     "output_type": "stream",
     "text": [
      "['5', '9', '8', '7', '6', '10']\n"
     ]
    }
   ],
   "source": [
    "c = ['9', '8', '7', '6']\n",
    "c.insert(5, \"10\")\n",
    "c.insert(0, '5')\n",
    "print(c)"
   ]
  },
  {
   "cell_type": "code",
   "execution_count": 144,
   "id": "6054cfd2",
   "metadata": {},
   "outputs": [
    {
     "name": "stdout",
     "output_type": "stream",
     "text": [
      "['5', '5', '9', '8', '7', '6', '10']\n"
     ]
    }
   ],
   "source": [
    "c.insert(0, '5')\n",
    "print(c)"
   ]
  },
  {
   "cell_type": "code",
   "execution_count": 146,
   "id": "abd62742",
   "metadata": {},
   "outputs": [
    {
     "name": "stdout",
     "output_type": "stream",
     "text": [
      "['4', '5', '3', '5']\n"
     ]
    }
   ],
   "source": [
    "e = ['3', '4', '5', '3', '5']\n",
    "del e[:1]\n",
    "print()"
   ]
  },
  {
   "cell_type": "code",
   "execution_count": 147,
   "id": "59a86e00",
   "metadata": {},
   "outputs": [
    {
     "name": "stdout",
     "output_type": "stream",
     "text": [
      "9\n"
     ]
    }
   ],
   "source": [
    "c = [6, 6, 6, 6, 6, 6, 6, 6, 6]\n",
    "print(c.count(6))"
   ]
  },
  {
   "cell_type": "code",
   "execution_count": 156,
   "id": "b2903633",
   "metadata": {},
   "outputs": [
    {
     "name": "stdout",
     "output_type": "stream",
     "text": [
      "[6, 6, 6, 6, 6, 6, 6, 6, 6, 4, 4, 5, 4, 5, 4, 5, 4, 5, 4, 5, 4, 5, 4, 5, 4, 5]\n"
     ]
    }
   ],
   "source": [
    "c.append(4)\n",
    "c.append(5)\n",
    "c.extend([4, 5])\n",
    "print(c)"
   ]
  },
  {
   "cell_type": "code",
   "execution_count": 187,
   "id": "10080daa",
   "metadata": {},
   "outputs": [
    {
     "name": "stdout",
     "output_type": "stream",
     "text": [
      "We are the world\n",
      "[8, 8, 8, 1, 5]\n",
      "[8, 8, 8, 'cola']\n",
      "['알라딘', '토이스토리', '슈퍼맨 리턴즈', '롱 리브더킹']\n",
      "['BTS', '엑소', '뉴이스트', 'Black Pink', '아이즈원', '트와이스']\n"
     ]
    }
   ],
   "source": [
    "l = ['We', 'are', 'the', 'world']\n",
    "print(\" \".join(l))\n",
    "\n",
    "a = [8, 8, 8]\n",
    "print(a + [1, 5])\n",
    "\n",
    "a.extend(['cola'])\n",
    "print(a)\n",
    "\n",
    "m_r = ['알라딘', '토이스토리', '기생충']\n",
    "m_r.append(\"롱 리브더킹\")\n",
    "m_r.insert(m_r.index(\"토이스토리\")+1, \"슈퍼맨 리턴즈\")\n",
    "m_r.remove(\"기생충\")\n",
    "print(m_r)\n",
    "\n",
    "A = [\"BTS\", \"엑소\", \"뉴이스트\"]\n",
    "B = [\"Black Pink\", \"아이즈원\", \"트와이스\"]\n",
    "AB = A + B\n",
    "print(AB)"
   ]
  },
  {
   "cell_type": "code",
   "execution_count": 212,
   "id": "4c671959",
   "metadata": {},
   "outputs": [
    {
     "name": "stdout",
     "output_type": "stream",
     "text": [
      "7 1\n",
      "28\n",
      "4.0\n",
      "[1000, 3000, 4000, 5000, 7000]\n",
      "[1, 3, 5, 7, 9]\n",
      "[2, 4, 6, 8, 10]\n",
      "[5, 4, 3, 2, 1]\n",
      "['first', 'third']\n",
      "['구글', '아마존', '페이스북']\n"
     ]
    }
   ],
   "source": [
    "num = [1, 2, 3, 4, 5,6, 7]\n",
    "print(max(num), min(num))\n",
    "\n",
    "print(sum(num))\n",
    "\n",
    "print(sum(num) / len(num))\n",
    "\n",
    "price = ['20190625', 1000, 3000, 4000, 5000, 7000]\n",
    "print(price[1:])\n",
    "\n",
    "num = [1, 2, 3, 4, 5, 6, 7, 8, 9, 10]\n",
    "print(num[::2])\n",
    "print(num[1::2])\n",
    "\n",
    "num = [1, 2, 3, 4, 5]\n",
    "num.reverse()\n",
    "print(num)\n",
    "\n",
    "rank = ['first', 'second', 'third']\n",
    "rank.remove('second')\n",
    "print(rank)\n",
    "\n",
    "string = \"구글/아마존/페이스북\"\n",
    "wish = string.split(\"/\")\n",
    "print(wish)\n"
   ]
  },
  {
   "cell_type": "code",
   "execution_count": null,
   "id": "bfa08d0e",
   "metadata": {},
   "outputs": [],
   "source": [
    "\n"
   ]
  }
 ],
 "metadata": {
  "kernelspec": {
   "display_name": "Python 3 (ipykernel)",
   "language": "python",
   "name": "python3"
  },
  "language_info": {
   "codemirror_mode": {
    "name": "ipython",
    "version": 3
   },
   "file_extension": ".py",
   "mimetype": "text/x-python",
   "name": "python",
   "nbconvert_exporter": "python",
   "pygments_lexer": "ipython3",
   "version": "3.9.12"
  }
 },
 "nbformat": 4,
 "nbformat_minor": 5
}
