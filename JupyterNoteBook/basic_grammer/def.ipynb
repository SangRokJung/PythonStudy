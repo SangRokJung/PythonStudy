{
 "cells": [
  {
   "cell_type": "code",
   "execution_count": 10,
   "id": "85e33221",
   "metadata": {},
   "outputs": [
    {
     "name": "stdout",
     "output_type": "stream",
     "text": [
      "오늘의 메뉴 김밤 \n",
      "오늘의 메뉴 라면 \n",
      "오늘의 메뉴 튀김 \n",
      "--------------------------------------------------\n",
      "SK하이닉스 보유중\n",
      "삼성전자 보유중\n",
      "LG전자 보유중\n",
      "--------------------------------------------------\n",
      "dog 3\n",
      "cat 3\n",
      "parrot 6\n",
      "squirrel 8\n",
      "goldfish 8\n",
      "--------------------------------------------------\n",
      "110\n",
      "210\n",
      "310\n"
     ]
    }
   ],
   "source": [
    "menu = [\"김밤\", \"라면\", \"튀김\"]\n",
    "\n",
    "print(f\"오늘의 메뉴 {menu[0]} \")\n",
    "print(f\"오늘의 메뉴 {menu[1]} \")\n",
    "print(f\"오늘의 메뉴 {menu[2]} \")\n",
    "\n",
    "pf = [\"SK하이닉스\", \"삼성전자\", \"LG전자\"]\n",
    "\n",
    "print(\"-\"*50)\n",
    "\n",
    "for i in range(0, len(pf)) :\n",
    "    print(f\"{pf[i]} 보유중\")\n",
    "    \n",
    "\n",
    "print(\"-\"*50)\n",
    "\n",
    "\n",
    "\n",
    "pet = [\"dog\", \"cat\", \"parrot\", \"squirrel\", \"goldfish\"]\n",
    "\n",
    "for i in pet:\n",
    "    print(f\"{i} {len(i)}\")\n",
    "    \n",
    "\n",
    "print(\"-\"*50)\n",
    "\n",
    "\n",
    "\n",
    "prices = [100, 200, 300]\n",
    "\n",
    "for i in prices:\n",
    "    print(f\"{i+10}\")"
   ]
  },
  {
   "cell_type": "code",
   "execution_count": 29,
   "id": "21352c4a",
   "metadata": {},
   "outputs": [
    {
     "name": "stdout",
     "output_type": "stream",
     "text": [
      "129300\n",
      "1000\n",
      "2300\n",
      "--------------------------------------------------\n",
      "라면\n",
      "김밥\n",
      "튀김\n",
      "--------------------------------------------------\n",
      "1\n",
      "3\n",
      "5\n",
      "--------------------------------------------------\n",
      "study\n",
      "python\n",
      "language\n"
     ]
    }
   ],
   "source": [
    "prices = [\"129,300\", \"1,000\", \"2,300\"]\n",
    "\n",
    "for i in prices:\n",
    "    print(i.replace(\",\", \"\"))\n",
    "    \n",
    "   \n",
    "    \n",
    "print(\"-\"*50)\n",
    "\n",
    "\n",
    "\n",
    "\n",
    "menu = [\"면라\", \"밥김\", \"김튀\"]\n",
    "\n",
    "for i in menu :\n",
    "    print(i[::-1])\n",
    "    \n",
    "    \n",
    "    \n",
    "print(\"-\"*50)\n",
    "    \n",
    "    \n",
    "    \n",
    "ml = [1, 2, 3, 4, 5, 6]\n",
    "\n",
    "for i in ml[::2] :\n",
    "    print(i)\n",
    "        \n",
    "        \n",
    "        \n",
    "print(\"-\"*50)\n",
    "    \n",
    "    \n",
    "ml = [\"I\", \"study\", \"python\", \"language\", \"!\"]\n",
    "\n",
    "for i in ml :\n",
    "    if len(i) >= 3 :\n",
    "        print(i)\n",
    "    "
   ]
  },
  {
   "cell_type": "code",
   "execution_count": 30,
   "id": "a038ada8",
   "metadata": {},
   "outputs": [
    {
     "name": "stdout",
     "output_type": "stream",
     "text": [
      "7\n",
      "6\n"
     ]
    }
   ],
   "source": [
    "ml = [3, 1, 7, 10, 5, 6]\n",
    "\n",
    "for i in ml :\n",
    "    if 5 < i and i < 10 :\n",
    "        print(i)\n"
   ]
  },
  {
   "cell_type": "code",
   "execution_count": 31,
   "id": "cf951a20",
   "metadata": {},
   "outputs": [
    {
     "name": "stdout",
     "output_type": "stream",
     "text": [
      "12\n",
      "18\n"
     ]
    }
   ],
   "source": [
    "ml = [13, 21, 12, 14, 30, 18]\n",
    "\n",
    "for i in ml :\n",
    "    if 10 < i and i < 20 and i % 3 == 0 :\n",
    "        print(i)"
   ]
  },
  {
   "cell_type": "code",
   "execution_count": 38,
   "id": "b78a7fdf",
   "metadata": {},
   "outputs": [
    {
     "name": "stdout",
     "output_type": "stream",
     "text": [
      "[3, 12, 16]\n"
     ]
    }
   ],
   "source": [
    "ml = [3, 1, 7, 12, 5, 16]\n",
    "\n",
    "li = [i for i in ml if i % 3 == 0 or i % 4 == 0]\n",
    "\n",
    "print(li)"
   ]
  },
  {
   "cell_type": "code",
   "execution_count": 70,
   "id": "e654ef58",
   "metadata": {},
   "outputs": [
    {
     "name": "stdout",
     "output_type": "stream",
     "text": [
      "Enter the Year, month, day(2022/08/30) : 2022/08/30\n",
      "화요일\n"
     ]
    }
   ],
   "source": [
    "day = input(\"Enter the Year, month, day(2022/08/30) : \")\n",
    "\n",
    "year = int(day.split(\"/\")[0])\n",
    "month = int(day.split(\"/\")[1])\n",
    "the_day = int(day.split(\"/\")[2])\n",
    "\n",
    "num = 0\n",
    "\n",
    "for i in range(1, year) :\n",
    "    if i % 400 == 0 :\n",
    "        num += 366\n",
    "    elif i % 4 == 0 and i % 100 == 0:\n",
    "        num += 365\n",
    "    elif i % 4 == 0 :\n",
    "        num += 366\n",
    "    else : \n",
    "        num += 365\n",
    "        \n",
    "for i in range(1, month) : \n",
    "    if year % 4 == 0 or year % 100 == 0 : \n",
    "        if i == 1:\n",
    "            num += 31\n",
    "        elif i == 2:\n",
    "            num += 29\n",
    "        elif i == 3:\n",
    "            num += 31\n",
    "        elif i == 4:\n",
    "            num += 30\n",
    "        elif i == 5:\n",
    "            num += 31\n",
    "        elif i == 6:\n",
    "            num += 30\n",
    "        elif i == 7:\n",
    "            num += 31\n",
    "        elif i == 8:\n",
    "            num += 31\n",
    "        elif i == 9:\n",
    "            num += 30\n",
    "        elif i == 10:\n",
    "            num += 31\n",
    "        elif i == 11:\n",
    "            num += 30\n",
    "        elif i == 12:\n",
    "            num += 31\n",
    "    else : \n",
    "        if i == 1:\n",
    "            num += 31\n",
    "        elif i == 2:\n",
    "            num += 28\n",
    "        elif i == 3:\n",
    "            num += 31\n",
    "        elif i == 4:\n",
    "            num += 30\n",
    "        elif i == 5:\n",
    "            num += 31\n",
    "        elif i == 6:\n",
    "            num += 30\n",
    "        elif i == 7:\n",
    "            num += 31\n",
    "        elif i == 8:\n",
    "            num += 31\n",
    "        elif i == 9:\n",
    "            num += 30\n",
    "        elif i == 10:\n",
    "            num += 31\n",
    "        elif i == 11:\n",
    "            num += 30\n",
    "        elif i == 12:\n",
    "            num += 31\n",
    "\n",
    "\n",
    "num += the_day\n",
    "\n",
    "result = num % 7\n",
    "\n",
    "if result == 1:\n",
    "    print(\"월요일\")\n",
    "elif result == 2:\n",
    "    print(\"화요일\")\n",
    "elif result == 3:\n",
    "    print(\"수요일\")\n",
    "elif result == 4:\n",
    "    print(\"목요일\")\n",
    "elif result == 5:\n",
    "    print(\"금요일\")\n",
    "elif result == 6:\n",
    "    print(\"토요일\")\n",
    "elif result == 0:\n",
    "    print(\"일요일\")"
   ]
  },
  {
   "cell_type": "code",
   "execution_count": 63,
   "id": "5c549c01",
   "metadata": {},
   "outputs": [
    {
     "data": {
      "text/plain": [
       "0"
      ]
     },
     "execution_count": 63,
     "metadata": {},
     "output_type": "execute_result"
    }
   ],
   "source": [
    "21 % 7"
   ]
  },
  {
   "cell_type": "code",
   "execution_count": 82,
   "id": "a5f4e8e7",
   "metadata": {},
   "outputs": [
    {
     "name": "stdout",
     "output_type": "stream",
     "text": [
      "Enter the Year, month, day(2022/08/30) : 2022/08/30\n",
      "2022/8/30 is Tuesday\n"
     ]
    }
   ],
   "source": [
    "day = input(\"Enter the Year, month, day(2022/08/30) : \")\n",
    "\n",
    "year = int(day.split(\"/\")[0])\n",
    "month = int(day.split(\"/\")[1])\n",
    "the_day = int(day.split(\"/\")[2])\n",
    "\n",
    "month_day = [31, 28, 31, 30, 31, 30, 31, 31, 30, 31, 30, 31]\n",
    "day_ = [\"Sunday\", \"Monday\", \"Tuesday\", \"Wednesday\", \"Thursday\", \"Friday\", \"Saturday\"]\n",
    "\n",
    "num = 0\n",
    "\n",
    "for i in range(1, year) :\n",
    "    if i % 400 == 0 : \n",
    "        num += 366\n",
    "    elif i % 4 == 0 and i % 100 == 0 : \n",
    "        num += 365\n",
    "    elif i % 4 == 0 : \n",
    "        num += 366\n",
    "    else : num += 365\n",
    "        \n",
    "for i in range(1, month) : \n",
    "    num += month_day[i-1]\n",
    "    if month >= 3:\n",
    "        if year % 400 == 0 or year % 100 == 0 or year % 4 == 0 : \n",
    "            num += 1\n",
    "        else : \n",
    "            pass\n",
    "        \n",
    "num += the_day\n",
    "\n",
    "result = num % 7\n",
    "\n",
    "for i in range(7) :\n",
    "    if num % 7 == i :\n",
    "        print(f\"{year}/{month}/{the_day} is {day_[i]}\")\n",
    "        "
   ]
  },
  {
   "cell_type": "code",
   "execution_count": 120,
   "id": "4220664b",
   "metadata": {},
   "outputs": [
    {
     "name": "stdout",
     "output_type": "stream",
     "text": [
      "[100.0, 90.0, 80.0, 80.0, 80.0, 70.0, 60.0]\n",
      "[1, 3, 3, 3, 3]\n"
     ]
    }
   ],
   "source": [
    "exam3 = [\n",
    "{'num': '1', 'name': '김철수', 'kor': 90, 'eng': 80, 'math': 85, 'total': 255, 'avg': 85.0, 'order': 0},\n",
    "{'num': '2', 'name': '박제동', 'kor': 90, 'eng': 85, 'math': 90, 'total': 265, 'avg': 85.0, 'order': 0},\n",
    "{'num': '3', 'name': '홍길동', 'kor': 80, 'eng': 80, 'math': 80, 'total': 240, 'avg': 85.0, 'order': 0} ]\n",
    "\n",
    "exam = [{'num':1,'avg':100.0, 'order':0},\n",
    "              {'num':3,'avg':80.0, 'order':0},\n",
    "              {'num':3,'avg':80.0, 'order':0},\n",
    "              {'num':6,'avg':70.0, 'order':0},\n",
    "              {'num':7,'avg':60.0, 'order':0},\n",
    "              {'num':3,'avg':80.0, 'order':0},\n",
    "              {'num':2,'avg':90.0, 'order':0}]\n",
    "\n",
    "score = []\n",
    "rank = []\n",
    "   \n",
    "for i in range(0, len(exam)) :\n",
    "    score.append(exam[i][\"avg\"])\n",
    "\n",
    "\n",
    "score.sort(reverse=True) \n",
    "print(score)\n",
    "\n",
    "for i in range(0, len(exam)) :\n",
    "    if i == 0 :\n",
    "        rank.append(exam[i][\"num\"])\n",
    "    if i == len(exam)-1 :\n",
    "        break\n",
    "\n",
    "    for y in range(i+1, len(exam)) : \n",
    "        if i != len(exam)-1 :\n",
    "            if exam[y][\"avg\"] == exam[i][\"avg\"] :\n",
    "                rank.append(exam[y][\"num\"])\n",
    "                i += 1\n",
    "                break\n",
    "        if score[i] == exam[y][\"avg\"] :\n",
    "            rank.append(exam[y][\"num\"])\n",
    "            i += 1\n",
    "            break\n",
    "            \n",
    "print(rank)"
   ]
  },
  {
   "cell_type": "code",
   "execution_count": 129,
   "id": "49750341",
   "metadata": {},
   "outputs": [
    {
     "name": "stdout",
     "output_type": "stream",
     "text": [
      "{'no': 1, 'avg': 100.0, 'order': 0}\n",
      "{'no': 3, 'avg': 80.0, 'order': 2}\n",
      "{'no': 3, 'avg': 80.0, 'order': 2}\n",
      "{'no': 6, 'avg': 70.0, 'order': 5}\n",
      "{'no': 7, 'avg': 60.0, 'order': 6}\n",
      "{'no': 3, 'avg': 80.0, 'order': 2}\n",
      "{'no': 2, 'avg': 90.0, 'order': 1}\n"
     ]
    }
   ],
   "source": [
    "exam = [{'no':7,'avg':60.0, 'order':0},\n",
    "              {'no':6,'avg':70.0, 'order':0},\n",
    "              {'no':3,'avg':80.0, 'order':0},\n",
    "              {'no':3,'avg':80.0, 'order':0},\n",
    "              {'no':3,'avg':80.0, 'order':0},\n",
    "              {'no':2,'avg':90.0, 'order':0},\n",
    "              {'no':1,'avg':100.0, 'order':0}]\n",
    "\n",
    "exam = [{'no':1,'avg':100.0, 'order':0},\n",
    "              {'no':3,'avg':80.0, 'order':0},\n",
    "              {'no':3,'avg':80.0, 'order':0},\n",
    "              {'no':6,'avg':70.0, 'order':0},\n",
    "              {'no':7,'avg':60.0, 'order':0},\n",
    "              {'no':3,'avg':80.0, 'order':0},\n",
    "              {'no':2,'avg':90.0, 'order':0}]\n",
    "\n",
    "for i in range(len(exam)) :\n",
    "    for y in range(len(exam)) :\n",
    "        if exam[i][\"avg\"] < exam[y][\"avg\"] :\n",
    "            exam[i][\"order\"] += 1\n",
    "\n",
    "for i in range(len(exam)) : \n",
    "    print(exam[i])"
   ]
  },
  {
   "cell_type": "code",
   "execution_count": 131,
   "id": "54cea9f7",
   "metadata": {},
   "outputs": [
    {
     "name": "stdout",
     "output_type": "stream",
     "text": [
      "{'no': 1, 'avg': 100.0, 'order': 1}\n",
      "{'no': 3, 'avg': 80.0, 'order': 3}\n",
      "{'no': 3, 'avg': 80.0, 'order': 3}\n",
      "{'no': 6, 'avg': 70.0, 'order': 4}\n",
      "{'no': 7, 'avg': 60.0, 'order': 5}\n",
      "{'no': 3, 'avg': 80.0, 'order': 3}\n",
      "{'no': 2, 'avg': 90.0, 'order': 2}\n"
     ]
    }
   ],
   "source": [
    "a = []\n",
    "for x in exam:\n",
    "    a.append(x['avg'])\n",
    "    a = set(a)\n",
    "    a = list(a)\n",
    "    a.sort(reverse = True)\n",
    "for x in exam :\n",
    "    for i in range(0, len(a)):\n",
    "        if x['avg'] == a[i] :\n",
    "            x['order'] = i+1\n",
    "\n",
    "            \n",
    "for i in range(len(exam)) : \n",
    "    print(exam[i])"
   ]
  },
  {
   "cell_type": "code",
   "execution_count": 132,
   "id": "67d31e25",
   "metadata": {},
   "outputs": [
    {
     "name": "stdout",
     "output_type": "stream",
     "text": [
      "4\n"
     ]
    }
   ],
   "source": [
    "def add(a, b) :\n",
    "    return a + b\n",
    "\n",
    "print(add(1, 3))\n",
    "\n",
    "# 4"
   ]
  },
  {
   "cell_type": "code",
   "execution_count": 140,
   "id": "37d5b3c2",
   "metadata": {},
   "outputs": [
    {
     "name": "stdout",
     "output_type": "stream",
     "text": [
      "15\n"
     ]
    }
   ],
   "source": [
    "def add_many(*args) : \n",
    "    result = 0\n",
    "    \n",
    "    for i in args :\n",
    "        result += i\n",
    "        \n",
    "    return result\n",
    "\n",
    "print(add_many(1, 2, 3, 4, 5))\n",
    "# 15"
   ]
  },
  {
   "cell_type": "code",
   "execution_count": 154,
   "id": "67471f18",
   "metadata": {},
   "outputs": [
    {
     "name": "stdout",
     "output_type": "stream",
     "text": [
      "{'a': 1, 'b': 'B', 'lala': 'c'}\n"
     ]
    }
   ],
   "source": [
    "def ex(**abc) : \n",
    "    print(abc)\n",
    "    \n",
    "ex(a=1, b=\"B\", lala=\"c\")\n",
    "# {'a': 1, 'b': 'B', 'lala': 'c'}"
   ]
  },
  {
   "cell_type": "code",
   "execution_count": 155,
   "id": "8e9a66d2",
   "metadata": {},
   "outputs": [
    {
     "name": "stdout",
     "output_type": "stream",
     "text": [
      "(90, 19)\n"
     ]
    }
   ],
   "source": [
    "def double(a, b) :\n",
    "    return a*b, a+b\n",
    "\n",
    "x = (double(9,10))\n",
    "print(x)\n",
    "# (90, 19)"
   ]
  },
  {
   "cell_type": "code",
   "execution_count": 162,
   "id": "6358be53",
   "metadata": {},
   "outputs": [],
   "source": [
    "def whoiam(word):\n",
    "    if word == \"dog\" :\n",
    "        return\n",
    "    print(word)\n",
    "    \n",
    "whoiam(\"dog\")\n",
    "# 출력값 없음"
   ]
  },
  {
   "cell_type": "code",
   "execution_count": 176,
   "id": "a3fd99aa",
   "metadata": {},
   "outputs": [
    {
     "name": "stdout",
     "output_type": "stream",
     "text": [
      "{'a': 1, 'food': 'apple'}\n"
     ]
    }
   ],
   "source": [
    "def ex(**abc) : \n",
    "    print(abc)\n",
    "    \n",
    "ex(a=1, food=\"apple\")\n",
    "# {'a': 1, 'food': 'apple'}"
   ]
  },
  {
   "cell_type": "code",
   "execution_count": 179,
   "id": "f3164a34",
   "metadata": {},
   "outputs": [
    {
     "data": {
      "text/plain": [
       "'3은(는) 홀수 입니다'"
      ]
     },
     "execution_count": 179,
     "metadata": {},
     "output_type": "execute_result"
    }
   ],
   "source": [
    "def even_dd(num) :\n",
    "    if num & 2 == 0 :\n",
    "        msg = \"짝\"\n",
    "    else :\n",
    "        msg = \"홀\"\n",
    "    return \"%d은(는) %s수 입니다\" % (num, msg)\n",
    "\n",
    "even_dd(3)\n",
    "# '3은(는) 홀수 입니다'"
   ]
  },
  {
   "cell_type": "code",
   "execution_count": 180,
   "id": "e4d2f382",
   "metadata": {},
   "outputs": [
    {
     "data": {
      "text/plain": [
       "'3은(는) 홀수 입니다'"
      ]
     },
     "execution_count": 180,
     "metadata": {},
     "output_type": "execute_result"
    }
   ],
   "source": [
    "def even_dd(num) :\n",
    "    if num & 2 == 0 :\n",
    "        msg = \"짝\"\n",
    "    else :\n",
    "        msg = \"홀\"\n",
    "    return f\"{num}은(는) {msg}수 입니다\" \n",
    "\n",
    "even_dd(3)\n",
    "# '3은(는) 홀수 입니다'"
   ]
  },
  {
   "cell_type": "code",
   "execution_count": 187,
   "id": "d106af4e",
   "metadata": {},
   "outputs": [
    {
     "name": "stdout",
     "output_type": "stream",
     "text": [
      "이름을 입력하세요 : 정상록\n",
      "색을 입력하세요 : 하얀\n",
      "1, 2, 3 중 좋아하는 만큼 입력하세요 : 3\n",
      "정상록님은 하얀색을 매우 좋아해요.\n"
     ]
    }
   ],
   "source": [
    "def favorate_color(name, color, amount) :\n",
    "    if amount == \"1\" :\n",
    "        msg = \"좋아하지 않아요.\"\n",
    "    elif amount == \"2\" :\n",
    "        msg = \"조금 좋아해요.\"\n",
    "    elif amount == \"3\" :\n",
    "        msg = \"매우 좋아해요.\"\n",
    "    return f\"{name}님은 {color}색을 {msg}\"\n",
    "\n",
    "print(favorate_color(input(\"이름을 입력하세요 : \"), input(\"색을 입력하세요 : \"), input(\"1, 2, 3 중 좋아하는 만큼 입력하세요 : \")))\n",
    "\n",
    "# 이름을 입력하세요 : 정상록\n",
    "# 색을 입력하세요 : 하얀\n",
    "# 1, 2, 3 중 좋아하는 만큼 입력하세요 : 3\n",
    "# 정상록님은 하얀색을 매우 좋아해요."
   ]
  },
  {
   "cell_type": "code",
   "execution_count": 190,
   "id": "c8d517f6",
   "metadata": {},
   "outputs": [
    {
     "name": "stdout",
     "output_type": "stream",
     "text": [
      "0\n",
      "10\n"
     ]
    }
   ],
   "source": [
    "def sub(a, b):\n",
    "    return a-b\n",
    "\n",
    "print(sub(a=10, b=10))\n",
    "print(sub(b=10, a=20))\n",
    "\n",
    "# 0\n",
    "# 10"
   ]
  },
  {
   "cell_type": "code",
   "execution_count": 196,
   "id": "3b93c902",
   "metadata": {},
   "outputs": [
    {
     "name": "stdout",
     "output_type": "stream",
     "text": [
      "원의 반지름을 입력하세요 : 20\n",
      "반지름 : 20, 원의면적 1256.00\n"
     ]
    }
   ],
   "source": [
    "def circle_area(r) :\n",
    "    width = r*r*3.14\n",
    "    return \"반지름 : %d, 원의면적 %.2f\" % (r, width)\n",
    "    \n",
    "r = int(input(\"원의 반지름을 입력하세요 : \"))\n",
    "print(circle_area(r))   \n",
    "\n",
    "# 원의 반지름을 입력하세요 : 20\n",
    "# 반지름 : 20, 원의면적 1256.00\n",
    "    "
   ]
  },
  {
   "cell_type": "markdown",
   "id": "ff0b80c3",
   "metadata": {},
   "source": []
  },
  {
   "cell_type": "code",
   "execution_count": 199,
   "id": "2aa7b4cd",
   "metadata": {},
   "outputs": [
    {
     "name": "stdout",
     "output_type": "stream",
     "text": [
      "원의 반지름을 입력하세요 : 222\n",
      "반지름 : 222, 원의면적 154751.76\n"
     ]
    }
   ],
   "source": [
    "def circle_area(r) :\n",
    "    area = r*r*3.14\n",
    "    return \"반지름 : %d, 원의면적 %.2f\" % (r, area)\n",
    "    \n",
    "r = int(input(\"원의 반지름을 입력하세요 : \"))\n",
    "print(circle_area(r))   \n",
    "\n",
    "# 원의 반지름을 입력하세요 : 20\n",
    "# 반지름 : 20, 원의면적 1256.00"
   ]
  },
  {
   "cell_type": "code",
   "execution_count": 202,
   "id": "1c29dc51",
   "metadata": {},
   "outputs": [
    {
     "name": "stdout",
     "output_type": "stream",
     "text": [
      "1000~10000의 합계 = 49505500\n"
     ]
    }
   ],
   "source": [
    "def sum2(a, b) :\n",
    "    result = 0\n",
    "        for i in range(a, b+1) :\n",
    "            result += i\n",
    "        return f\"{a}~{b}의 합계 = {result}\"\n",
    "\n",
    "print(sum2(1000, 10000))\n",
    "# 1000~10000의 합계 = 49505500"
   ]
  },
  {
   "cell_type": "code",
   "execution_count": 204,
   "id": "4a227a4f",
   "metadata": {},
   "outputs": [
    {
     "name": "stdout",
     "output_type": "stream",
     "text": [
      "3\n"
     ]
    }
   ],
   "source": [
    "add = lambda a, b : a + b\n",
    "    \n",
    "print(add(1, 2))"
   ]
  },
  {
   "cell_type": "code",
   "execution_count": 207,
   "id": "93b22aa3",
   "metadata": {},
   "outputs": [
    {
     "name": "stdout",
     "output_type": "stream",
     "text": [
      "시작 수를 입력하세요 :1\n",
      "끝 수를 입력하세요 :10\n",
      "합계를 구할 배수를 입력하세요 :3\n",
      "1 ~ 10의 정수중 3의 배수의 합 : 18\n"
     ]
    }
   ],
   "source": [
    "start = int(input(\"시작 수를 입력하세요 :\"))\n",
    "end = int(input(\"끝 수를 입력하세요 :\"))\n",
    "besu = int(input(\"합계를 구할 배수를 입력하세요 :\"))\n",
    "\n",
    "def sum_besu(start, end, besu) : \n",
    "    result = 0\n",
    "    for i in range(start, end+1) : \n",
    "        if i % besu == 0 :\n",
    "            result += i\n",
    "    return result\n",
    "\n",
    "result = sum_besu(start, end, besu)\n",
    "\n",
    "print(\"%d ~ %d의 정수중 %d의 배수의 합 : %d\" % (start, end, besu, result))\n",
    "\n",
    "# 시작 수를 입력하세요 :1\n",
    "# 끝 수를 입력하세요 :10\n",
    "# 합계를 구할 배수를 입력하세요 :3\n",
    "# 1 ~ 10의 정수중 3의 배수의 합 : 18"
   ]
  },
  {
   "cell_type": "code",
   "execution_count": 229,
   "id": "65e59d2c",
   "metadata": {},
   "outputs": [
    {
     "name": "stdout",
     "output_type": "stream",
     "text": [
      "첫 번째 수를 입력하세요 : 11\n",
      "두 번째 수를 입력하세요 : 11\n",
      "11와(과) 11의 최대공약수 : 11\n"
     ]
    }
   ],
   "source": [
    "num1 = int(input(\"첫 번째 수를 입력하세요 : \"))\n",
    "num2 = int(input(\"두 번째 수를 입력하세요 : \"))\n",
    "\n",
    "def compute_max_gong(a, b) : \n",
    "    result = 0\n",
    "    li1 = []\n",
    "    \n",
    "    if a > b :\n",
    "        c = a\n",
    "    elif a < b :\n",
    "        c = b\n",
    "    else :\n",
    "        return a\n",
    "        \n",
    "    for i in range(1, c+1) :\n",
    "        if a % i == 0 and b % i == 0 :\n",
    "            result = i\n",
    "    \n",
    "    return result\n",
    "\n",
    "max_gong = compute_max_gong(num1, num2)\n",
    "\n",
    "print(\"%d와(과) %d의 최대공약수 : %d\" % (num1, num2, max_gong))\n",
    "\n",
    "# 첫 번째 수를 입력하세요 : 10\n",
    "# 두 번째 수를 입력하세요 : 100\n",
    "# 10와(과) 100의 최대공약수 : 10"
   ]
  },
  {
   "cell_type": "code",
   "execution_count": 220,
   "id": "fe63a054",
   "metadata": {},
   "outputs": [],
   "source": [
    "def compute_max_gong(num1, num2):\n",
    "    n = 1\n",
    "    i = 2\n",
    "    while True:\n",
    "        if num1 % i == 0 and num2 % i == 0:\n",
    "            n *= i\n",
    "            num1 /= i\n",
    "            num2 /= i\n",
    "        elif num1 % i == 0:\n",
    "            num1 /= i\n",
    "        elif num2 % i == 0:\n",
    "            num2 /= i\n",
    "        else:\n",
    "            i += 1\n",
    "        if num1 == 1 or num2 == 1:\n",
    "            return n"
   ]
  },
  {
   "cell_type": "code",
   "execution_count": 226,
   "id": "cb25d154",
   "metadata": {},
   "outputs": [
    {
     "name": "stdout",
     "output_type": "stream",
     "text": [
      "시작 수를 입력하세요 : 10\n",
      "끝 수를 입력하세요 : 100\n",
      "10과(와) 100의 최대공약수 : 10\n"
     ]
    }
   ],
   "source": [
    "def compute_max(start, end):\n",
    "    c_m = 0\n",
    "    for i in range(1, start+1):\n",
    "        if start%i==0 and end%i==0 :\n",
    "            c_m = i\n",
    "    return c_m\n",
    "\n",
    "start = int(input('시작 수를 입력하세요 : '))\n",
    "end = int(input(\"끝 수를 입력하세요 : \"))\n",
    "max_common_measure = compute_max(start, end)\n",
    "print(f'{start}과(와) {end}의 최대공약수 : {max_common_measure}')"
   ]
  },
  {
   "cell_type": "code",
   "execution_count": null,
   "id": "60d5951f",
   "metadata": {},
   "outputs": [],
   "source": []
  }
 ],
 "metadata": {
  "kernelspec": {
   "display_name": "Python 3 (ipykernel)",
   "language": "python",
   "name": "python3"
  },
  "language_info": {
   "codemirror_mode": {
    "name": "ipython",
    "version": 3
   },
   "file_extension": ".py",
   "mimetype": "text/x-python",
   "name": "python",
   "nbconvert_exporter": "python",
   "pygments_lexer": "ipython3",
   "version": "3.9.12"
  }
 },
 "nbformat": 4,
 "nbformat_minor": 5
}
