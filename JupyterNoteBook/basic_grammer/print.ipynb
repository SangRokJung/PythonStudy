{
 "cells": [
  {
   "cell_type": "code",
   "execution_count": 6,
   "id": "1292ce33",
   "metadata": {},
   "outputs": [
    {
     "name": "stdout",
     "output_type": "stream",
     "text": [
      "안녕하세요 내 나이는 20살 입니다.\n"
     ]
    }
   ],
   "source": [
    "age = 20\n",
    "print(\"안녕하세요 내 나이는 %d살 입니다.\" % age)"
   ]
  },
  {
   "cell_type": "code",
   "execution_count": 18,
   "id": "4f57a85b",
   "metadata": {},
   "outputs": [
    {
     "name": "stdout",
     "output_type": "stream",
     "text": [
      "2022-09-05\n"
     ]
    }
   ],
   "source": [
    "year = 2022\n",
    "month = 9\n",
    "day = 5\n",
    "print(\"%d\" % year + \"-0%d\" % month + \"-0%d\" % day)"
   ]
  },
  {
   "cell_type": "code",
   "execution_count": 19,
   "id": "2174ff9f",
   "metadata": {},
   "outputs": [
    {
     "name": "stdout",
     "output_type": "stream",
     "text": [
      "2022-09-05\n"
     ]
    }
   ],
   "source": [
    "print(\"%d-0%d-0%d\" % (year, month, day))"
   ]
  },
  {
   "cell_type": "code",
   "execution_count": 20,
   "id": "51f61709",
   "metadata": {},
   "outputs": [
    {
     "name": "stdout",
     "output_type": "stream",
     "text": [
      "172.500000\n"
     ]
    }
   ],
   "source": [
    "height = 172.5\n",
    "\n",
    "print(\"내 키는 %f 입니다.\" % height)"
   ]
  },
  {
   "cell_type": "code",
   "execution_count": 31,
   "id": "31eee794",
   "metadata": {},
   "outputs": [
    {
     "name": "stdout",
     "output_type": "stream",
     "text": [
      "I have 3 children\n",
      "I have three children\n",
      "I have 3 children\n",
      "I have 3.140000 children wow\n"
     ]
    }
   ],
   "source": [
    "e = 3\n",
    "\n",
    "print(\"I have %d children\" % 3)\n",
    "print(\"I have %s children\" % \"three\")\n",
    "print(\"I have %d children\" % e)\n",
    "print(\"I have %f children %s\" % (3.14, \"wow\"))"
   ]
  },
  {
   "cell_type": "code",
   "execution_count": 43,
   "id": "5b636cba",
   "metadata": {},
   "outputs": [
    {
     "name": "stdout",
     "output_type": "stream",
     "text": [
      "This is 100% True!\n",
      "      good\n",
      "good      \n",
      "3.14\n",
      "3.141592            \n"
     ]
    }
   ],
   "source": [
    "print(\"This is %d%s True!\" % (100, \"%\"))\n",
    "print(\"{:>10}\".format(\"good\"))\n",
    "print(\"{:<10}\".format(\"good\"))\n",
    "\n",
    "pi = 3.141592\n",
    "print(\"{:.2f}\".format(pi))\n",
    "\n",
    "print(f\"{pi:<20}\")\n"
   ]
  },
  {
   "cell_type": "code",
   "execution_count": 48,
   "id": "25cad645",
   "metadata": {},
   "outputs": [
    {
     "name": "stdout",
     "output_type": "stream",
     "text": [
      "이름 : 최시연, 나이 : 33, 시력 : 1.5\n"
     ]
    }
   ],
   "source": [
    "name = \"최시연\"\n",
    "age = 33\n",
    "eyesight = 1.5\n",
    "\n",
    "print(\"이름 : {name}, 나이 : {age}, 시력 : {eyesight}\".format(name = \"최시연\" ,age = 33, eyesight = 1.5))"
   ]
  },
  {
   "cell_type": "code",
   "execution_count": 52,
   "id": "4050a412",
   "metadata": {},
   "outputs": [
    {
     "name": "stdout",
     "output_type": "stream",
     "text": [
      "I have 3 children\n",
      "I have three children\n",
      "I have 3 children\n",
      "I have 3 children wow\n"
     ]
    }
   ],
   "source": [
    "print(\"I have {} children\".format(3))\n",
    "print(\"I have {} children\".format(\"three\"))\n",
    "print(\"I have {g} children\".format(g = 3))\n",
    "print(\"I have {g} children {a}\".format(g = 3, a = \"wow\"))\n"
   ]
  },
  {
   "cell_type": "code",
   "execution_count": 66,
   "id": "f95583cc",
   "metadata": {},
   "outputs": [
    {
     "name": "stdout",
     "output_type": "stream",
     "text": [
      "good                \n",
      "                good\n",
      "        good        \n",
      "********good********\n"
     ]
    }
   ],
   "source": [
    "print(\"{:<20}\".format(\"good\"))\n",
    "print(\"{:>20}\".format(\"good\"))\n",
    "print(\"{:^20}\".format(\"good\"))\n",
    "print(\"{:*^20}\".format(\"good\"))"
   ]
  },
  {
   "cell_type": "code",
   "execution_count": 78,
   "id": "5822f7c9",
   "metadata": {},
   "outputs": [
    {
     "name": "stdout",
     "output_type": "stream",
     "text": [
      "4.56 Argentine Pesosare worth US1$\n"
     ]
    }
   ],
   "source": [
    "a = 4.5560\n",
    "b = 'Argentine Pesos'\n",
    "c = 1\n",
    "\n",
    "print('{0:.2f} {1}are worth US{2}$'.format(a, b, c))"
   ]
  },
  {
   "cell_type": "code",
   "execution_count": 80,
   "id": "190fb41e",
   "metadata": {},
   "outputs": [
    {
     "name": "stdout",
     "output_type": "stream",
     "text": [
      "{우리집}에 자주 놀러와요\n"
     ]
    }
   ],
   "source": [
    "print(\"{{우리집}}에 {} 놀러와요\".format(\"자주\"))"
   ]
  },
  {
   "cell_type": "code",
   "execution_count": 87,
   "id": "7d24562e",
   "metadata": {},
   "outputs": [
    {
     "name": "stdout",
     "output_type": "stream",
     "text": [
      "I have 3 children wow\n",
      "I have 5 children wow\n",
      "{good}{day}\n"
     ]
    }
   ],
   "source": [
    "a = 3\n",
    "b = 'wow'\n",
    "good = \"{good}{day}\"\n",
    "print(f\"I have {a} children {b}\")\n",
    "print(f\"I have {a+2} children {b}\")\n",
    "print(f\"{good}\")"
   ]
  },
  {
   "cell_type": "code",
   "execution_count": 112,
   "id": "c2a401f6",
   "metadata": {},
   "outputs": [
    {
     "name": "stdout",
     "output_type": "stream",
     "text": [
      "2\n",
      "0\n",
      "0\n",
      "K o r e a n   c u l t u r e\n",
      "1,2,3,4,5,6,7,8,9\n"
     ]
    }
   ],
   "source": [
    "sa = \"Korean culture\"\n",
    "\n",
    "print(sa.count(\"u\"))\n",
    "print(sa.find(\"K\"))\n",
    "print(sa.index(\"K\"))\n",
    "print(\" \".join(sa))\n",
    "print(\",\".join(\"123456789\"))"
   ]
  },
  {
   "cell_type": "code",
   "execution_count": 132,
   "id": "1fa5fa4f",
   "metadata": {},
   "outputs": [
    {
     "name": "stdout",
     "output_type": "stream",
     "text": [
      "KOREAN CULTURE\n",
      "korean culture\n",
      "korean\n",
      "korean   \n",
      "   korean\n",
      "American culture\n",
      "['Korean', 'culture']\n",
      "['Korean ', ' culture']\n"
     ]
    }
   ],
   "source": [
    "sa = \"Korean culture\"\n",
    "\n",
    "print(sa.upper())\n",
    "print(sa.lower())\n",
    "print('   korean   '.strip())\n",
    "print('   korean   '.lstrip())\n",
    "print('   korean   '.rstrip())\n",
    "print(sa.replace(\"Korean\", \"American\"))\n",
    "print(sa.split(\" \"))\n",
    "print(\"Korean & culture\".strip().split(\"&\"))"
   ]
  },
  {
   "cell_type": "code",
   "execution_count": 191,
   "id": "cab564dc",
   "metadata": {},
   "outputs": [
    {
     "name": "stdout",
     "output_type": "stream",
     "text": [
      "C:\\nano\n",
      "990316\n",
      "2030998\n",
      "2\n",
      "a@b@c@d\n",
      "['a', 'b', 'c', 'd']\n",
      "720\n",
      "100\n",
      "홀홀홀\n",
      "홀\n",
      "01012345678\n",
      "01012345678\n",
      "com\n"
     ]
    }
   ],
   "source": [
    "print(\"C:\\\\nano\")\n",
    "IU = \"990316-2030998\"\n",
    "print(IU[:6])\n",
    "print(IU[-7:])\n",
    "\n",
    "\n",
    "print(IUNum[0])\n",
    "print(\"a:b:c:d\".replace(\":\", \"@\"))\n",
    "print(\"a&b&c&d\".split(\"&\"))\n",
    "print(int(\"720\"))\n",
    "print(str(100))\n",
    "# 홀만 출력한다.\n",
    "game = \"짝홀짝홀짝홀\"\n",
    "print(game[1::2])\n",
    "print(game[len(game)-1])\n",
    "\n",
    "PN = \"010-1234-5678\"\n",
    "print(PN[0:3]+PN[4:8]+PN[9: ])\n",
    "print(PN.replace(\"-\", \"\"))\n",
    "add = \"http//s:www.samsung.com\"\n",
    "print(add[add.find(\"com\"):])"
   ]
  },
  {
   "cell_type": "code",
   "execution_count": null,
   "id": "4e4a581d",
   "metadata": {},
   "outputs": [],
   "source": []
  }
 ],
 "metadata": {
  "kernelspec": {
   "display_name": "Python 3 (ipykernel)",
   "language": "python",
   "name": "python3"
  },
  "language_info": {
   "codemirror_mode": {
    "name": "ipython",
    "version": 3
   },
   "file_extension": ".py",
   "mimetype": "text/x-python",
   "name": "python",
   "nbconvert_exporter": "python",
   "pygments_lexer": "ipython3",
   "version": "3.9.12"
  }
 },
 "nbformat": 4,
 "nbformat_minor": 5
}
