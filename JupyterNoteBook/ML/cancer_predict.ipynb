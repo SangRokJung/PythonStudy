{
 "cells": [
  {
   "cell_type": "code",
   "execution_count": 51,
   "id": "0479fe78",
   "metadata": {},
   "outputs": [],
   "source": [
    "import numpy as np\n",
    "import pandas as pd\n",
    "import seaborn as sns\n",
    "import matplotlib.pyplot as plt\n",
    "from matplotlib import font_manager, rc\n",
    "\n",
    "# 크롤링\n",
    "from bs4 import BeautifulSoup\n",
    "from selenium import webdriver\n",
    "import time, sys\n",
    "\n",
    "# 시각화 맵\n",
    "import folium\n",
    "\n",
    "# Label encoder\n",
    "from sklearn.preprocessing import LabelEncoder\n",
    "\n",
    "# dtclf\n",
    "from sklearn.tree import DecisionTreeClassifier\n",
    "finan_dtclf = DecisionTreeClassifier()\n",
    "from sklearn.model_selection import train_test_split\n",
    "\n",
    "from sklearn.preprocessing import Binarizer\n",
    "\n",
    "from sklearn.tree import export_graphviz\n",
    "import graphviz\n",
    "\n",
    "from sklearn.metrics import accuracy_score, precision_score, recall_score, confusion_matrix, f1_score"
   ]
  },
  {
   "cell_type": "code",
   "execution_count": 2,
   "id": "f40a582a",
   "metadata": {},
   "outputs": [],
   "source": [
    "df_train = pd.read_csv('./breast-cancer/train.csv')"
   ]
  },
  {
   "cell_type": "code",
   "execution_count": 4,
   "id": "3b3d8780",
   "metadata": {},
   "outputs": [
    {
     "data": {
      "text/plain": [
       "Index(['Id', 'clump_thickness', 'uniformity_of_cell_size',\n",
       "       'uniformity_of_cell_shape', 'marginal_adhesion',\n",
       "       'single_epithelial_cell_size', 'bare_nuclei', 'bland_chromatin',\n",
       "       'normal_nucleoli', 'mitosis', 'class'],\n",
       "      dtype='object')"
      ]
     },
     "execution_count": 4,
     "metadata": {},
     "output_type": "execute_result"
    }
   ],
   "source": [
    "df_train.columns\n",
    "# Id : ID\n",
    "# clump_thickness : 암세포의 두께 *\n",
    "# uniformity_of_cell_size : 균일성 세포 크기\n",
    "# uniformity_of_cell_shape : 세포모양의 균일성\n",
    "# marginal_adhesion : 한계 유착\n",
    "# single_epithelial_cell_size : 단일 상피 세포의 크기\n",
    "# bare_nuclei : 핵\n",
    "# bland_chromatin : 특징없는 염색질\n",
    "# normal_nucleoli : 정상 핵분열 *\n",
    "# mitosis : 체세포 분열\n",
    "# class : 2는 양성 2개, 4는 악성 4개"
   ]
  },
  {
   "cell_type": "code",
   "execution_count": 159,
   "id": "32522de0",
   "metadata": {},
   "outputs": [],
   "source": [
    "#  * Train Data\n",
    "df_train = pd.read_csv('./breast-cancer/train.csv')\n",
    "# 결측치 없음.V\n",
    "\n",
    "# 불피요한 컬럼 제거(아직 컬럼의 의미 파악 못함)\n",
    "\n",
    "# 문자형 데이터를 숫자형 데이터로 변환.V\n",
    "\n",
    "# 목적 데이터 지정\n",
    "X = df_train.drop(columns='class')\n",
    "y = df_train['class']\n",
    "# 학습, 테스트 비율 8:2\n",
    "from sklearn.model_selection import train_test_split\n",
    "X_train, X_test, y_train, y_test = train_test_split(X, y, test_size=0.2, random_state=12)\n",
    "\n",
    "# 학습\n",
    "dtclf = DecisionTreeClassifier(ccp_alpha=0.01, max_depth=5)\n",
    "dtclf.fit(X_train, y_train)\n",
    "\n",
    "\n",
    "\n",
    "# * Test Data\n",
    "df_test = pd.read_csv(\"./breast-cancer/test.csv\")\n",
    "# 결측치 없음\n",
    "\n",
    "# 불피요한 컬럼 제거\n",
    "\n",
    "# 문자형 데이터를 숫자형 데이터로 변환.V"
   ]
  },
  {
   "cell_type": "code",
   "execution_count": 160,
   "id": "28d6581a",
   "metadata": {},
   "outputs": [],
   "source": [
    "# 암 예측\n",
    "pred_result = dtclf.predict(df_test)\n",
    "df_test['class'] = pred_result\n",
    "\n",
    "\n",
    "# 파일 저장\n",
    "tit = pd.read_csv('./breast-cancer/test.csv')\n",
    "tit.drop(list(tit.columns)[1:], axis = 1, inplace=True)\n",
    "tit['class'] = df_test['class']\n",
    "tit.set_index('Id', inplace=True)\n",
    "tit.to_csv('tit_test.csv')"
   ]
  },
  {
   "cell_type": "code",
   "execution_count": 129,
   "id": "db6118af",
   "metadata": {},
   "outputs": [],
   "source": [
    "from sklearn.metrics import accuracy_score, precision_score, recall_score, confusion_matrix, roc_auc_score\n",
    "\n",
    "def get_clf_eval(y_test, pred) :\n",
    "#     print(\"-\" * 5)\n",
    "#     print(\"오차 행렬\\n\",confusion_matrix(y_test, pred))\n",
    "#     print(\"정확도 : %.2f\" %accuracy_score(y_test, pred))\n",
    "#     print(\"정밀도 : %.2f\" %precision_score(y_test, pred))\n",
    "#     print(\"재현율 : %.2f\" %recall_score(y_test, pred))\n",
    "#     print(\"f1 Score : %.2f\" %f1_score(y_test, pred))\n",
    "#     print(\"AUC : %.2f\" % roc_auc_score(y_test, pred))\n",
    "#     print(\"-\" * 5)\n",
    "    return accuracy_score(y_test, pred), precision_score(y_test, pred),recall_score(y_test, pred), f1_score(y_test, pred), roc_auc_score(y_test, pred) \n",
    "\n",
    "from sklearn.metrics import f1_score\n",
    "def get_eval_by_threshold(y_test, pred_proba):\n",
    "    ts_accuracy = []\n",
    "    ts_precision = []\n",
    "    ts_recall = []\n",
    "    ts_datas = {}\n",
    "    f1_list = []\n",
    "    auc_list= []\n",
    "    for custom_threshold in range(1, 11) :\n",
    "        tt_binarizer = Binarizer(threshold=custom_threshold * 0.1)\n",
    "        custom_predict = tt_binarizer.fit_transform(pred_proba)[:, 1]\n",
    "        accuracy  = accuracy_score(y_test, custom_predict)\n",
    "        recall    = recall_score(y_test, custom_predict)\n",
    "        precision = precision_score(y_test, custom_predict)\n",
    "        f1 = f1_score(y_test, custom_predict)\n",
    "        auc = roc_auc_score(y_test, custom_predict)\n",
    "        \n",
    "        ts_accuracy.append(accuracy)\n",
    "        ts_precision.append(precision)\n",
    "        ts_recall.append(recall)\n",
    "        f1_list.append(f1)\n",
    "        auc_list.append(auc)\n",
    "        \n",
    "    ts_datas['thresholds'] = [i * 0.1 for i in thresholds]\n",
    "    ts_datas['accuracy'] = ts_accuracy\n",
    "    ts_datas['precision'] = ts_precision\n",
    "    ts_datas['recall'] = ts_recall\n",
    "    ts_datas['f1_score'] = f1_list\n",
    "    ts_datas['auc'] = auc_list\n",
    "    \n",
    "    plt.figure(figsize=(14, 5))\n",
    "    pd.DataFrame(ts_datas).set_index('thresholds').plot()\n",
    "    plt.style.use('seaborn-whitegrid')\n",
    "\n",
    "    plt.show()"
   ]
  },
  {
   "cell_type": "code",
   "execution_count": 155,
   "id": "bbac51b3",
   "metadata": {},
   "outputs": [],
   "source": [
    "dtclf = DecisionTreeClassifier(max_depth=10, min_impurity_decrease=0.01)\n",
    "dtclf.fit(X_train, y_train)\n",
    "pred_proba = dtclf.predict_proba(X_test)"
   ]
  },
  {
   "cell_type": "code",
   "execution_count": 156,
   "id": "c9e47d79",
   "metadata": {},
   "outputs": [
    {
     "name": "stderr",
     "output_type": "stream",
     "text": [
      "/Users/werther/opt/anaconda3/lib/python3.9/site-packages/sklearn/metrics/_classification.py:1318: UndefinedMetricWarning: Precision is ill-defined and being set to 0.0 due to no predicted samples. Use `zero_division` parameter to control this behavior.\n",
      "  _warn_prf(average, modifier, msg_start, len(result))\n"
     ]
    },
    {
     "data": {
      "text/plain": [
       "<Figure size 1008x360 with 0 Axes>"
      ]
     },
     "metadata": {},
     "output_type": "display_data"
    },
    {
     "data": {
      "image/png": "[encoded data removed]",
      "text/plain": [
       "<Figure size 576x396 with 1 Axes>"
      ]
     },
     "metadata": {},
     "output_type": "display_data"
    }
   ],
   "source": [
    "#  * Train Data\n",
    "df_train = pd.read_csv('./breast-cancer/train.csv')\n",
    "df_train.loc[df_train['class'] == 2, 'class'] = 0\n",
    "df_train.loc[df_train['class'] == 4, 'class'] = 1\n",
    "\n",
    "X = df_train.drop(columns='class')\n",
    "y = df_train['class']\n",
    "# 학습, 테스트 비율 8:2\n",
    "from sklearn.model_selection import train_test_split\n",
    "X_train, X_test, y_train, y_test = train_test_split(X, y, test_size=0.2, random_state=12)\n",
    "\n",
    "dtclf = DecisionTreeClassifier() # option : max_depth=4, ccp_alpha=0.01\n",
    "dtclf.fit(X_train, y_train)\n",
    "pred_proba = dtclf.predict_proba(X_test)\n",
    "get_eval_by_threshold(y_test, pred_proba)"
   ]
  },
  {
   "cell_type": "code",
   "execution_count": 57,
   "id": "d0312e4c",
   "metadata": {},
   "outputs": [
    {
     "name": "stdout",
     "output_type": "stream",
     "text": [
      "DecisionTree 정확도: 0.98\n",
      "DecisionTree 정확도: 0.98\n"
     ]
    }
   ],
   "source": [
    "from sklearn.metrics import accuracy_score\n",
    "dt_pred = dtclf.predict(X_test)\n",
    "accuracy_score(y_test, dt_pred)\n",
    "print('DecisionTree 정확도: %.2f' % accuracy_score(y_test, dt_pred))\n",
    "# DecisionTree 정확도: 0.81\n",
    "\n",
    "print('DecisionTree 정확도: %.2f' % dtclf.score(X_test, y_test))\n",
    "# DecisionTree 정확도: 0.81"
   ]
  },
  {
   "cell_type": "code",
   "execution_count": 84,
   "id": "6fb4a140",
   "metadata": {},
   "outputs": [
    {
     "name": "stdout",
     "output_type": "stream",
     "text": [
      "3\n",
      "임곗값 배열의 index: [0 1 2]\n",
      "전체 임곗값: [2. 1. 0.]\n",
      "전체 임곗값별 FPR: [0.    0.052 1.   ]\n",
      "전체 임곗값별 TPR: [0.    0.972 1.   ]\n"
     ]
    },
    {
     "data": {
      "image/png": "[encoded data removed]",
      "text/plain": [
       "<Figure size 432x288 with 1 Axes>"
      ]
     },
     "metadata": {
      "needs_background": "light"
     },
     "output_type": "display_data"
    }
   ],
   "source": [
    "from sklearn.metrics import roc_curve\n",
    "\n",
    "# 레이블 값이 1일 때의 예측 확률을 추출\n",
    "pred_prob_class1 = dtclf.predict_proba(X_test)[:,1]\n",
    "fprs, tprs, thresholds = roc_curve(y_test, pred_prob_class1)\n",
    "print(thresholds.shape[0])\n",
    "\n",
    "# 반환된 임곗값 배열 로우가 47건 추출\n",
    "thr_index = np.arange(0, thresholds.shape[0])\n",
    "print('임곗값 배열의 index:', thr_index)\n",
    "print('전체 임곗값:', np.round(thresholds[thr_index], 2))\n",
    "\n",
    "# 추출된 임곗값에 따른 FPR, TPR 값\n",
    "print('전체 임곗값별 FPR:', np.round(fprs[thr_index], 3))\n",
    "print('전체 임곗값별 TPR:', np.round(tprs[thr_index], 3))\n",
    "\n",
    "def roc_curve_plot(y_test, pred_prob_c1):\n",
    "    # 임곗값에 따른 FPR, TPR 값을 반환받음\n",
    "    fprs, tprs, thresholds = roc_curve(y_test, pred_prob_c1)\n",
    "    # ROC 곡선을 그래프 곡선으로 그림\n",
    "    plt.plot(fprs, tprs, label='ROC')\n",
    "    # 가운데 대각선 직선을 그림\n",
    "    plt.plot([0,1], [0,1], 'k--', label='Random')\n",
    "    # FPR X 축의 Scale을 0.1 단위로 변경, X, Y측 명 설정 등\n",
    "    start, end = plt.xlim();\n",
    "    plt.xticks(np.round(np.arange(start, end, 0.1), 2))\n",
    "    plt.xlim(0,1); plt.ylim(0,1)\n",
    "    plt.xlabel('FPR(1-Sensitivity)'); plt.ylabel('TPR(Recall)')\n",
    "    plt.legend()\n",
    "roc_curve_plot(y_test, pred_proba[:,1])"
   ]
  }
 ],
 "metadata": {
  "kernelspec": {
   "display_name": "Python 3 (ipykernel)",
   "language": "python",
   "name": "python3"
  },
  "language_info": {
   "codemirror_mode": {
    "name": "ipython",
    "version": 3
   },
   "file_extension": ".py",
   "mimetype": "text/x-python",
   "name": "python",
   "nbconvert_exporter": "python",
   "pygments_lexer": "ipython3",
   "version": "3.9.13"
  }
 },
 "nbformat": 4,
 "nbformat_minor": 5
}
