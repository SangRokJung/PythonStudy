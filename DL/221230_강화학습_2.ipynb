{
 "cells": [
  {
   "cell_type": "code",
   "execution_count": 2,
   "id": "41e6cefa-9908-4fe1-9640-f9ac47907333",
   "metadata": {},
   "outputs": [
    {
     "name": "stderr",
     "output_type": "stream",
     "text": [
      "2023-01-03 09:26:34.515634: I tensorflow/core/platform/cpu_feature_guard.cc:193] This TensorFlow binary is optimized with oneAPI Deep Neural Network Library (oneDNN) to use the following CPU instructions in performance-critical operations:  AVX2 FMA\n",
      "To enable them in other operations, rebuild TensorFlow with the appropriate compiler flags.\n"
     ]
    }
   ],
   "source": [
    "import sys\n",
    "import sklearn\n",
    "import tensorflow as tf\n",
    "import numpy as np\n",
    "import os\n",
    "import matplotlib as mpl\n",
    "import matplotlib.pyplot as plt\n",
    "import matplotlib.animation as animation\n",
    "import keras as keras\n",
    "from keras.layers import Conv2D, MaxPool2D,  \\\n",
    "    Dropout, Dense, Input, concatenate,      \\\n",
    "    GlobalAveragePooling2D, AveragePooling2D,\\\n",
    "    Flatten, BatchNormalization\n",
    "from keras.initializers import glorot_uniform\n",
    "from keras.initializers import Constant\n",
    "from keras.utils import to_categorical\n",
    "from keras.utils import np_utils\n",
    "from keras.optimizers import SGD \n",
    "from keras.callbacks import LearningRateScheduler\n",
    "import tensorflow as tf\n",
    "from tensorflow.keras.layers import MaxPool2D\n",
    "from tensorflow.keras.datasets import cifar10, mnist, fashion_mnist\n",
    "from tensorflow.keras.models import Sequential\n",
    "from tensorflow.keras.layers import Rescaling, Resizing, RandomCrop, RandomFlip, RandomRotation\n",
    "from tensorflow.keras.models import Model\n",
    "from tensorflow.keras.utils import plot_model\n",
    "from tensorflow.keras.callbacks import Callback\n",
    "from tensorflow.keras.callbacks import ModelCheckpoint\n",
    "from tensorflow.keras.models import load_model\n",
    "import os\n",
    "import pandas as pd\n",
    "import numpy as np\n",
    "import matplotlib.pyplot as plt\n",
    "import seaborn as sns\n",
    "import matplotlib.pyplot as plt\n",
    "import cv2\n",
    "from sklearn.model_selection import train_test_split\n",
    "import math\n",
    "from IPython.display import Image\n",
    "import math "
   ]
  },
  {
   "cell_type": "code",
   "execution_count": 6,
   "id": "375ff5dd-f29e-4a9d-b329-5262058f7648",
   "metadata": {},
   "outputs": [],
   "source": [
    "import sys\n",
    "import sklearn\n",
    "import tensorflow as tf\n",
    "import numpy as np\n",
    "import os\n",
    "import matplotlib as mpl\n",
    "import matplotlib.pyplot as plt\n",
    "import matplotlib.animation as animation"
   ]
  },
  {
   "cell_type": "code",
   "execution_count": null,
   "id": "645807fe-bf96-4e82-a381-9f1eb2d0c4c5",
   "metadata": {},
   "outputs": [],
   "source": [
    "env = gym.make('CartPole-v1', render_mode=\"rgb_array\")\n",
    "obs = env.reset()"
   ]
  },
  {
   "cell_type": "code",
   "execution_count": 3,
   "id": "26c0dc24-bfcb-49db-936a-a828dd529626",
   "metadata": {},
   "outputs": [
    {
     "name": "stdout",
     "output_type": "stream",
     "text": [
      "Model: \"sequential_1\"\n",
      "_________________________________________________________________\n",
      " Layer (type)                Output Shape              Param #   \n",
      "=================================================================\n",
      " dense_2 (Dense)             (None, 5)                 25        \n",
      "                                                                 \n",
      " dense_3 (Dense)             (None, 1)                 6         \n",
      "                                                                 \n",
      "=================================================================\n",
      "Total params: 31\n",
      "Trainable params: 31\n",
      "Non-trainable params: 0\n",
      "_________________________________________________________________\n"
     ]
    }
   ],
   "source": [
    "n_inputs = 4\n",
    "model = tf.keras.models.Sequential()\n",
    "model.add(tf.keras.layers.Dense(5, activation='elu', input_shape=[n_inputs]))\n",
    "model.add(tf.keras.layers.Dense(1, activation='sigmoid'))\n",
    "model.summary()"
   ]
  },
  {
   "cell_type": "code",
   "execution_count": 4,
   "id": "15d2be43-06a4-4272-b7e5-976b7b29b1cd",
   "metadata": {},
   "outputs": [],
   "source": [
    "# one_step function\n",
    "def one_step(env, obs, model, loss_fn) :\n",
    "    with tf.GradientTape as tape :\n",
    "        left_proba = model(np.array(obs)) # left_proba 0.8 \n",
    "        action = (tf.random.uniform() > left_proba) #left_proba 크다 -> 오른쪽 80% 왼쪽 20%\n",
    "        y_target = 1 - action # 왼쪽 80%, 오른쪽 20%\n",
    "        loss = tf.reduce_mean(loss_fn(y_target, left_proba)) #MSE\n",
    "    grads = tape.gradient(loss, model.trainable_variables)\n",
    "    obs, reward, done, info = env.step(action)\n",
    "    return obs, reward, done, grads\n",
    "    "
   ]
  },
  {
   "cell_type": "code",
   "execution_count": 5,
   "id": "3e7af66d-ff76-4d2e-af61-08651e19a1d4",
   "metadata": {},
   "outputs": [
    {
     "ename": "TypeError",
     "evalue": "tuple indices must be integers or slices, not NoneType",
     "output_type": "error",
     "traceback": [
      "\u001b[0;31m---------------------------------------------------------------------------\u001b[0m",
      "\u001b[0;31mTypeError\u001b[0m                                 Traceback (most recent call last)",
      "\u001b[0;32m/var/folders/t4/vwr916y50fv3wcm0xlgfkyg00000gn/T/ipykernel_1074/3130591175.py\u001b[0m in \u001b[0;36m<module>\u001b[0;34m\u001b[0m\n\u001b[0;32m----> 1\u001b[0;31m \u001b[0mleft_proba\u001b[0m \u001b[0;34m=\u001b[0m \u001b[0mmodel\u001b[0m\u001b[0;34m(\u001b[0m\u001b[0mobs\u001b[0m\u001b[0;34m[\u001b[0m\u001b[0mnp\u001b[0m\u001b[0;34m.\u001b[0m\u001b[0mnewaxis\u001b[0m\u001b[0;34m]\u001b[0m\u001b[0;34m)\u001b[0m\u001b[0;34m\u001b[0m\u001b[0;34m\u001b[0m\u001b[0m\n\u001b[0m\u001b[1;32m      2\u001b[0m \u001b[0mleft_proba\u001b[0m\u001b[0;34m\u001b[0m\u001b[0;34m\u001b[0m\u001b[0m\n",
      "\u001b[0;31mTypeError\u001b[0m: tuple indices must be integers or slices, not NoneType"
     ]
    }
   ],
   "source": [
    "left_proba = model(obs[np.newaxis])\n",
    "left_proba"
   ]
  },
  {
   "cell_type": "code",
   "execution_count": null,
   "id": "388e5627-f93d-4da5-8f14-28f79c3a9485",
   "metadata": {},
   "outputs": [],
   "source": [
    "# episodes function, 여러 에피소드를 실행 했을 때 총 보상, 총 미분 값을 리턴해주는 함수 작성\n",
    "# episodes function, 여러 에피소드를 실행했을 때 총 보상, 총 미분값을 리턴해주는 함수 작성\n",
    "def multi_episodes(n_episodes, env, n_steps, model, loss_fn):\n",
    "    all_rewards = []\n",
    "    all_grads = []\n",
    "    for episode in range(n_episodes):\n",
    "        current_rewards = []\n",
    "        current_grads = []\n",
    "        obs = env.reset()\n",
    "        for step in range(n_steps):\n",
    "            obs, reward, done, grads = one_step(env, obs, model, loss_fn)\n",
    "            current_rewards.append(reward)\n",
    "            current_grads.append(grads)\n",
    "            if done:\n",
    "                break\n",
    "        all_rewards.append(current_rewards)\n",
    "        all_grads.append(current_grads)\n",
    "    return all_rewards, all_grads\n",
    "    "
   ]
  },
  {
   "cell_type": "code",
   "execution_count": null,
   "id": "3d78a2ed-a352-4cf2-90b0-9703446b2514",
   "metadata": {},
   "outputs": [],
   "source": [
    "# y = wx+b\n",
    "\n",
    "# obs(x) -> left_probality(P(0, 1), 확률값)\n",
    "\n",
    "# action -> \n",
    "#           True (1-P) = left\n",
    "#           False (P)  = right\n",
    "\n",
    "# y -> 1-action \n",
    "#                left = P\n",
    "#               right = 1-P\n",
    "# DL이 예측한 값이 y가 되는것.\n",
    "\n",
    "# [flow]\n",
    "# x -> P -> action -> step(action) -> y -> new obs -> x\n",
    "\n",
    "# loss = \"mse\"\n",
    "\n",
    "# 최종적으로 값이 고정되어 변하지 않는 상황이 발생. 반대의 값으로 출력.\n",
    "# Reward * mse \n",
    "# 정규화를 통해 -, + 값을 입력 한뒤 방향을 출력.\n",
    "# 랜덤한 값을 주어도 변하지 않을 때 까지 랜덤한 값을 준다.\n"
   ]
  },
  {
   "cell_type": "markdown",
   "id": "a89e2f52-a25c-4601-937f-2847b7825084",
   "metadata": {},
   "source": [
    "### discount rate을 적용한 보상 함수 생성"
   ]
  },
  {
   "cell_type": "code",
   "execution_count": 14,
   "id": "2f70d43d-c69e-409b-868c-bdf09e0c7757",
   "metadata": {},
   "outputs": [],
   "source": [
    "def discount_rewards(rewards, discount_rate):\n",
    "    discounted = np.array(rewards)\n",
    "    for step in range(len(rewards) - 2, -1, -1):\n",
    "        discounted[step] += discounted[step + 1] * discount_rate\n",
    "    return discounted"
   ]
  },
  {
   "cell_type": "code",
   "execution_count": 25,
   "id": "534c86a4-f96f-43b8-9dcb-115abfd54659",
   "metadata": {},
   "outputs": [
    {
     "data": {
      "text/plain": [
       "(array([  0, -12, -15]), array([ -2, -15]))"
      ]
     },
     "execution_count": 25,
     "metadata": {},
     "output_type": "execute_result"
    }
   ],
   "source": [
    "discount_rewards([10, 0, -15], 0.8), discount_rewards([10, -15], 0.8)"
   ]
  },
  {
   "cell_type": "markdown",
   "id": "b5ee2ce7-7519-44f9-8385-170c7dd8983e",
   "metadata": {},
   "source": [
    "### 보상을 정규화한 결과를 출력하는 함수 생성"
   ]
  },
  {
   "cell_type": "code",
   "execution_count": 19,
   "id": "ed29e1b7-bc12-4e55-a007-53f55a0d96ef",
   "metadata": {},
   "outputs": [],
   "source": [
    "\n",
    "def discount_and_normalize_rewards(all_rewards, discount_rate):\n",
    "    all_discounted_rewards = [discount_rewards(rewards, discount_rate)\n",
    "                              for rewards in all_rewards]\n",
    "    flat_rewards = np.concatenate(all_discounted_rewards)\n",
    "    reward_mean = flat_rewards.mean()\n",
    "    reward_std = flat_rewards.std()\n",
    "    return [(discounted_rewards - reward_mean) / reward_std\n",
    "            for discounted_rewards in all_discounted_rewards]            \n",
    "        "
   ]
  },
  {
   "cell_type": "code",
   "execution_count": 20,
   "id": "5a6cc003-694d-4119-b1d5-58e3a265b41f",
   "metadata": {},
   "outputs": [
    {
     "data": {
      "text/plain": [
       "[array([-0.22933216, -0.95353899, -1.13459069]),\n",
       " array([1.33978263, 0.97767921])]"
      ]
     },
     "execution_count": 20,
     "metadata": {},
     "output_type": "execute_result"
    }
   ],
   "source": [
    "discount_and_normalize_rewards([[10, 0, -15], [10, 20]], 0.8)"
   ]
  },
  {
   "cell_type": "code",
   "execution_count": null,
   "id": "0eaf0f12-923d-4256-b8c2-b0ae2cb5b3ea",
   "metadata": {},
   "outputs": [],
   "source": [
    "n_iterations = 150\n",
    "n_episode = 10\n",
    "n_steps = 200\n"
   ]
  }
 ],
 "metadata": {
  "kernelspec": {
   "display_name": "Python 3 (ipykernel)",
   "language": "python",
   "name": "python3"
  },
  "language_info": {
   "codemirror_mode": {
    "name": "ipython",
    "version": 3
   },
   "file_extension": ".py",
   "mimetype": "text/x-python",
   "name": "python",
   "nbconvert_exporter": "python",
   "pygments_lexer": "ipython3",
   "version": "3.9.13"
  }
 },
 "nbformat": 4,
 "nbformat_minor": 5
}
