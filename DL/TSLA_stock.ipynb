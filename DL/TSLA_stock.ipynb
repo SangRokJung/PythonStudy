{
 "cells": [
  {
   "cell_type": "markdown",
   "id": "c2bc3926",
   "metadata": {},
   "source": [
    "## Tesla 주가 예측 실습\n",
    " * 2018년 ~ 2021년 데이터를 활용해 2022년 결과를 예측하고 실제값과 비교\n",
    " * Convoluation 1D 사용"
   ]
  },
  {
   "cell_type": "code",
   "execution_count": 375,
   "id": "8b45c0bb",
   "metadata": {},
   "outputs": [],
   "source": [
    "import tensorflow as tf\n",
    "import numpy as np\n",
    "import pandas as pd\n",
    "import matplotlib.pyplot as plt\n",
    "from tensorflow.keras.models import Sequential\n",
    "from tensorflow.keras.layers import Dense, Dropout, Conv1D, LSTM\n",
    "from sklearn.preprocessing import MinMaxScaler\n",
    "from sklearn.model_selection import TimeSeriesSplit"
   ]
  },
  {
   "cell_type": "markdown",
   "id": "c072f072",
   "metadata": {},
   "source": [
    "### 데이터 불러오기\n",
    "* 데이터 출처 : yahoo finance(https://finance.yahoo.com/quote/TSLA/history?period1=1514764800&period2=1669334400&interval=1d&filter=history&frequency=1d&includeAdjustedClose=true)"
   ]
  },
  {
   "cell_type": "code",
   "execution_count": 376,
   "id": "26142348",
   "metadata": {},
   "outputs": [
    {
     "data": {
      "text/html": [
       "<div>\n",
       "<style scoped>\n",
       "    .dataframe tbody tr th:only-of-type {\n",
       "        vertical-align: middle;\n",
       "    }\n",
       "\n",
       "    .dataframe tbody tr th {\n",
       "        vertical-align: top;\n",
       "    }\n",
       "\n",
       "    .dataframe thead th {\n",
       "        text-align: right;\n",
       "    }\n",
       "</style>\n",
       "<table border=\"1\" class=\"dataframe\">\n",
       "  <thead>\n",
       "    <tr style=\"text-align: right;\">\n",
       "      <th></th>\n",
       "      <th>Date</th>\n",
       "      <th>Open</th>\n",
       "      <th>High</th>\n",
       "      <th>Low</th>\n",
       "      <th>Close</th>\n",
       "      <th>Adj Close</th>\n",
       "      <th>Volume</th>\n",
       "    </tr>\n",
       "  </thead>\n",
       "  <tbody>\n",
       "    <tr>\n",
       "      <th>0</th>\n",
       "      <td>2018-01-02</td>\n",
       "      <td>20.799999</td>\n",
       "      <td>21.474001</td>\n",
       "      <td>20.733334</td>\n",
       "      <td>21.368668</td>\n",
       "      <td>21.368668</td>\n",
       "      <td>65283000</td>\n",
       "    </tr>\n",
       "    <tr>\n",
       "      <th>1</th>\n",
       "      <td>2018-01-03</td>\n",
       "      <td>21.400000</td>\n",
       "      <td>21.683332</td>\n",
       "      <td>21.036667</td>\n",
       "      <td>21.150000</td>\n",
       "      <td>21.150000</td>\n",
       "      <td>67822500</td>\n",
       "    </tr>\n",
       "    <tr>\n",
       "      <th>2</th>\n",
       "      <td>2018-01-04</td>\n",
       "      <td>20.858000</td>\n",
       "      <td>21.236668</td>\n",
       "      <td>20.378668</td>\n",
       "      <td>20.974667</td>\n",
       "      <td>20.974667</td>\n",
       "      <td>149194500</td>\n",
       "    </tr>\n",
       "    <tr>\n",
       "      <th>3</th>\n",
       "      <td>2018-01-05</td>\n",
       "      <td>21.108000</td>\n",
       "      <td>21.149332</td>\n",
       "      <td>20.799999</td>\n",
       "      <td>21.105333</td>\n",
       "      <td>21.105333</td>\n",
       "      <td>68868000</td>\n",
       "    </tr>\n",
       "    <tr>\n",
       "      <th>4</th>\n",
       "      <td>2018-01-08</td>\n",
       "      <td>21.066668</td>\n",
       "      <td>22.468000</td>\n",
       "      <td>21.033333</td>\n",
       "      <td>22.427334</td>\n",
       "      <td>22.427334</td>\n",
       "      <td>147891000</td>\n",
       "    </tr>\n",
       "    <tr>\n",
       "      <th>...</th>\n",
       "      <td>...</td>\n",
       "      <td>...</td>\n",
       "      <td>...</td>\n",
       "      <td>...</td>\n",
       "      <td>...</td>\n",
       "      <td>...</td>\n",
       "      <td>...</td>\n",
       "    </tr>\n",
       "    <tr>\n",
       "      <th>1229</th>\n",
       "      <td>2022-11-17</td>\n",
       "      <td>183.960007</td>\n",
       "      <td>186.160004</td>\n",
       "      <td>180.899994</td>\n",
       "      <td>183.169998</td>\n",
       "      <td>183.169998</td>\n",
       "      <td>64336000</td>\n",
       "    </tr>\n",
       "    <tr>\n",
       "      <th>1230</th>\n",
       "      <td>2022-11-18</td>\n",
       "      <td>185.050003</td>\n",
       "      <td>185.190002</td>\n",
       "      <td>176.550003</td>\n",
       "      <td>180.190002</td>\n",
       "      <td>180.190002</td>\n",
       "      <td>75904900</td>\n",
       "    </tr>\n",
       "    <tr>\n",
       "      <th>1231</th>\n",
       "      <td>2022-11-21</td>\n",
       "      <td>175.850006</td>\n",
       "      <td>176.770004</td>\n",
       "      <td>167.539993</td>\n",
       "      <td>167.869995</td>\n",
       "      <td>167.869995</td>\n",
       "      <td>92882700</td>\n",
       "    </tr>\n",
       "    <tr>\n",
       "      <th>1232</th>\n",
       "      <td>2022-11-22</td>\n",
       "      <td>168.630005</td>\n",
       "      <td>170.919998</td>\n",
       "      <td>166.190002</td>\n",
       "      <td>169.910004</td>\n",
       "      <td>169.910004</td>\n",
       "      <td>78452300</td>\n",
       "    </tr>\n",
       "    <tr>\n",
       "      <th>1233</th>\n",
       "      <td>2022-11-23</td>\n",
       "      <td>173.570007</td>\n",
       "      <td>183.619995</td>\n",
       "      <td>172.500000</td>\n",
       "      <td>183.199997</td>\n",
       "      <td>183.199997</td>\n",
       "      <td>109536700</td>\n",
       "    </tr>\n",
       "  </tbody>\n",
       "</table>\n",
       "<p>1234 rows × 7 columns</p>\n",
       "</div>"
      ],
      "text/plain": [
       "            Date        Open        High         Low       Close   Adj Close     Volume\n",
       "0     2018-01-02   20.799999   21.474001   20.733334   21.368668   21.368668   65283000\n",
       "1     2018-01-03   21.400000   21.683332   21.036667   21.150000   21.150000   67822500\n",
       "2     2018-01-04   20.858000   21.236668   20.378668   20.974667   20.974667  149194500\n",
       "3     2018-01-05   21.108000   21.149332   20.799999   21.105333   21.105333   68868000\n",
       "4     2018-01-08   21.066668   22.468000   21.033333   22.427334   22.427334  147891000\n",
       "...          ...         ...         ...         ...         ...         ...        ...\n",
       "1229  2022-11-17  183.960007  186.160004  180.899994  183.169998  183.169998   64336000\n",
       "1230  2022-11-18  185.050003  185.190002  176.550003  180.190002  180.190002   75904900\n",
       "1231  2022-11-21  175.850006  176.770004  167.539993  167.869995  167.869995   92882700\n",
       "1232  2022-11-22  168.630005  170.919998  166.190002  169.910004  169.910004   78452300\n",
       "1233  2022-11-23  173.570007  183.619995  172.500000  183.199997  183.199997  109536700\n",
       "\n",
       "[1234 rows x 7 columns]"
      ]
     },
     "execution_count": 376,
     "metadata": {},
     "output_type": "execute_result"
    }
   ],
   "source": [
    "raw_df = pd.read_csv('./TSLA.csv')  \n",
    "raw_df"
   ]
  },
  {
   "cell_type": "code",
   "execution_count": 377,
   "id": "7ca4c0ea",
   "metadata": {},
   "outputs": [
    {
     "data": {
      "image/png": "[encoded data removed]",
      "text/plain": [
       "<Figure size 432x288 with 1 Axes>"
      ]
     },
     "metadata": {
      "needs_background": "light"
     },
     "output_type": "display_data"
    }
   ],
   "source": [
    "# 그래프로 추이 확인 \n",
    "# 최종가 기준\n",
    "\n",
    "plt.title('TESLA STCOK PRICE')\n",
    "plt.ylabel('price')\n",
    "plt.ylim(0, 430)\n",
    "plt.xlabel('period')\n",
    "plt.grid()\n",
    "plt.plot(raw_df['Adj Close'], label='Adj Close')\n",
    "\n",
    "plt.show()"
   ]
  },
  {
   "cell_type": "code",
   "execution_count": 378,
   "id": "e19c0d71",
   "metadata": {},
   "outputs": [
    {
     "data": {
      "text/html": [
       "<div>\n",
       "<style scoped>\n",
       "    .dataframe tbody tr th:only-of-type {\n",
       "        vertical-align: middle;\n",
       "    }\n",
       "\n",
       "    .dataframe tbody tr th {\n",
       "        vertical-align: top;\n",
       "    }\n",
       "\n",
       "    .dataframe thead th {\n",
       "        text-align: right;\n",
       "    }\n",
       "</style>\n",
       "<table border=\"1\" class=\"dataframe\">\n",
       "  <thead>\n",
       "    <tr style=\"text-align: right;\">\n",
       "      <th></th>\n",
       "      <th>Date</th>\n",
       "      <th>Open</th>\n",
       "      <th>High</th>\n",
       "      <th>Low</th>\n",
       "      <th>Close</th>\n",
       "      <th>Adj Close</th>\n",
       "      <th>Volume</th>\n",
       "    </tr>\n",
       "  </thead>\n",
       "  <tbody>\n",
       "    <tr>\n",
       "      <th>0</th>\n",
       "      <td>2018-01-02</td>\n",
       "      <td>20.799999</td>\n",
       "      <td>21.474001</td>\n",
       "      <td>20.733334</td>\n",
       "      <td>21.368668</td>\n",
       "      <td>21.368668</td>\n",
       "      <td>65283000</td>\n",
       "    </tr>\n",
       "    <tr>\n",
       "      <th>1</th>\n",
       "      <td>2018-01-03</td>\n",
       "      <td>21.400000</td>\n",
       "      <td>21.683332</td>\n",
       "      <td>21.036667</td>\n",
       "      <td>21.150000</td>\n",
       "      <td>21.150000</td>\n",
       "      <td>67822500</td>\n",
       "    </tr>\n",
       "    <tr>\n",
       "      <th>2</th>\n",
       "      <td>2018-01-04</td>\n",
       "      <td>20.858000</td>\n",
       "      <td>21.236668</td>\n",
       "      <td>20.378668</td>\n",
       "      <td>20.974667</td>\n",
       "      <td>20.974667</td>\n",
       "      <td>149194500</td>\n",
       "    </tr>\n",
       "    <tr>\n",
       "      <th>3</th>\n",
       "      <td>2018-01-05</td>\n",
       "      <td>21.108000</td>\n",
       "      <td>21.149332</td>\n",
       "      <td>20.799999</td>\n",
       "      <td>21.105333</td>\n",
       "      <td>21.105333</td>\n",
       "      <td>68868000</td>\n",
       "    </tr>\n",
       "    <tr>\n",
       "      <th>4</th>\n",
       "      <td>2018-01-08</td>\n",
       "      <td>21.066668</td>\n",
       "      <td>22.468000</td>\n",
       "      <td>21.033333</td>\n",
       "      <td>22.427334</td>\n",
       "      <td>22.427334</td>\n",
       "      <td>147891000</td>\n",
       "    </tr>\n",
       "    <tr>\n",
       "      <th>...</th>\n",
       "      <td>...</td>\n",
       "      <td>...</td>\n",
       "      <td>...</td>\n",
       "      <td>...</td>\n",
       "      <td>...</td>\n",
       "      <td>...</td>\n",
       "      <td>...</td>\n",
       "    </tr>\n",
       "    <tr>\n",
       "      <th>246</th>\n",
       "      <td>2018-12-24</td>\n",
       "      <td>20.900000</td>\n",
       "      <td>20.966667</td>\n",
       "      <td>19.680000</td>\n",
       "      <td>19.692667</td>\n",
       "      <td>19.692667</td>\n",
       "      <td>83398500</td>\n",
       "    </tr>\n",
       "    <tr>\n",
       "      <th>247</th>\n",
       "      <td>2018-12-26</td>\n",
       "      <td>20.000000</td>\n",
       "      <td>21.798000</td>\n",
       "      <td>19.606001</td>\n",
       "      <td>21.739332</td>\n",
       "      <td>21.739332</td>\n",
       "      <td>122446500</td>\n",
       "    </tr>\n",
       "    <tr>\n",
       "      <th>248</th>\n",
       "      <td>2018-12-27</td>\n",
       "      <td>21.322666</td>\n",
       "      <td>21.478001</td>\n",
       "      <td>20.100000</td>\n",
       "      <td>21.075333</td>\n",
       "      <td>21.075333</td>\n",
       "      <td>128626500</td>\n",
       "    </tr>\n",
       "    <tr>\n",
       "      <th>249</th>\n",
       "      <td>2018-12-28</td>\n",
       "      <td>21.540001</td>\n",
       "      <td>22.416000</td>\n",
       "      <td>21.227333</td>\n",
       "      <td>22.257999</td>\n",
       "      <td>22.257999</td>\n",
       "      <td>149085000</td>\n",
       "    </tr>\n",
       "    <tr>\n",
       "      <th>250</th>\n",
       "      <td>2018-12-31</td>\n",
       "      <td>22.519333</td>\n",
       "      <td>22.614000</td>\n",
       "      <td>21.684000</td>\n",
       "      <td>22.186666</td>\n",
       "      <td>22.186666</td>\n",
       "      <td>94534500</td>\n",
       "    </tr>\n",
       "  </tbody>\n",
       "</table>\n",
       "<p>251 rows × 7 columns</p>\n",
       "</div>"
      ],
      "text/plain": [
       "           Date       Open       High        Low      Close  Adj Close     Volume\n",
       "0    2018-01-02  20.799999  21.474001  20.733334  21.368668  21.368668   65283000\n",
       "1    2018-01-03  21.400000  21.683332  21.036667  21.150000  21.150000   67822500\n",
       "2    2018-01-04  20.858000  21.236668  20.378668  20.974667  20.974667  149194500\n",
       "3    2018-01-05  21.108000  21.149332  20.799999  21.105333  21.105333   68868000\n",
       "4    2018-01-08  21.066668  22.468000  21.033333  22.427334  22.427334  147891000\n",
       "..          ...        ...        ...        ...        ...        ...        ...\n",
       "246  2018-12-24  20.900000  20.966667  19.680000  19.692667  19.692667   83398500\n",
       "247  2018-12-26  20.000000  21.798000  19.606001  21.739332  21.739332  122446500\n",
       "248  2018-12-27  21.322666  21.478001  20.100000  21.075333  21.075333  128626500\n",
       "249  2018-12-28  21.540001  22.416000  21.227333  22.257999  22.257999  149085000\n",
       "250  2018-12-31  22.519333  22.614000  21.684000  22.186666  22.186666   94534500\n",
       "\n",
       "[251 rows x 7 columns]"
      ]
     },
     "execution_count": 378,
     "metadata": {},
     "output_type": "execute_result"
    }
   ],
   "source": [
    "# 초반에 주가가 너무 낮음 \n",
    "df_2018 = raw_df[raw_df['Date'] <= '2019-01-01']\n",
    "df_2018"
   ]
  },
  {
   "cell_type": "code",
   "execution_count": 379,
   "id": "7e33a159",
   "metadata": {},
   "outputs": [
    {
     "data": {
      "image/png": "[encoded data removed]",
      "text/plain": [
       "<Figure size 432x288 with 1 Axes>"
      ]
     },
     "metadata": {
      "needs_background": "light"
     },
     "output_type": "display_data"
    }
   ],
   "source": [
    "# 2018 주가 확인\n",
    "plt.title('TESLA STCOK PRICE')\n",
    "plt.ylabel('price')\n",
    "plt.ylim(0, 420)\n",
    "plt.xlabel('period')\n",
    "plt.grid()\n",
    "plt.plot(df_2018['Adj Close'], label='Adj Close')\n",
    "\n",
    "plt.show()"
   ]
  },
  {
   "cell_type": "code",
   "execution_count": 380,
   "id": "7a1deedd",
   "metadata": {},
   "outputs": [
    {
     "data": {
      "text/html": [
       "<div>\n",
       "<style scoped>\n",
       "    .dataframe tbody tr th:only-of-type {\n",
       "        vertical-align: middle;\n",
       "    }\n",
       "\n",
       "    .dataframe tbody tr th {\n",
       "        vertical-align: top;\n",
       "    }\n",
       "\n",
       "    .dataframe thead th {\n",
       "        text-align: right;\n",
       "    }\n",
       "</style>\n",
       "<table border=\"1\" class=\"dataframe\">\n",
       "  <thead>\n",
       "    <tr style=\"text-align: right;\">\n",
       "      <th></th>\n",
       "      <th>Date</th>\n",
       "      <th>Open</th>\n",
       "      <th>High</th>\n",
       "      <th>Low</th>\n",
       "      <th>Close</th>\n",
       "      <th>Adj Close</th>\n",
       "      <th>Volume</th>\n",
       "    </tr>\n",
       "  </thead>\n",
       "  <tbody>\n",
       "    <tr>\n",
       "      <th>251</th>\n",
       "      <td>2019-01-02</td>\n",
       "      <td>20.406668</td>\n",
       "      <td>21.008667</td>\n",
       "      <td>19.920000</td>\n",
       "      <td>20.674667</td>\n",
       "      <td>20.674667</td>\n",
       "      <td>174879000</td>\n",
       "    </tr>\n",
       "    <tr>\n",
       "      <th>252</th>\n",
       "      <td>2019-01-03</td>\n",
       "      <td>20.466667</td>\n",
       "      <td>20.626667</td>\n",
       "      <td>19.825333</td>\n",
       "      <td>20.024000</td>\n",
       "      <td>20.024000</td>\n",
       "      <td>104478000</td>\n",
       "    </tr>\n",
       "    <tr>\n",
       "      <th>253</th>\n",
       "      <td>2019-01-04</td>\n",
       "      <td>20.400000</td>\n",
       "      <td>21.200001</td>\n",
       "      <td>20.181999</td>\n",
       "      <td>21.179333</td>\n",
       "      <td>21.179333</td>\n",
       "      <td>110911500</td>\n",
       "    </tr>\n",
       "    <tr>\n",
       "      <th>254</th>\n",
       "      <td>2019-01-07</td>\n",
       "      <td>21.448000</td>\n",
       "      <td>22.449333</td>\n",
       "      <td>21.183332</td>\n",
       "      <td>22.330667</td>\n",
       "      <td>22.330667</td>\n",
       "      <td>113268000</td>\n",
       "    </tr>\n",
       "    <tr>\n",
       "      <th>255</th>\n",
       "      <td>2019-01-08</td>\n",
       "      <td>22.797333</td>\n",
       "      <td>22.934000</td>\n",
       "      <td>21.801332</td>\n",
       "      <td>22.356667</td>\n",
       "      <td>22.356667</td>\n",
       "      <td>105127500</td>\n",
       "    </tr>\n",
       "    <tr>\n",
       "      <th>...</th>\n",
       "      <td>...</td>\n",
       "      <td>...</td>\n",
       "      <td>...</td>\n",
       "      <td>...</td>\n",
       "      <td>...</td>\n",
       "      <td>...</td>\n",
       "      <td>...</td>\n",
       "    </tr>\n",
       "    <tr>\n",
       "      <th>1229</th>\n",
       "      <td>2022-11-17</td>\n",
       "      <td>183.960007</td>\n",
       "      <td>186.160004</td>\n",
       "      <td>180.899994</td>\n",
       "      <td>183.169998</td>\n",
       "      <td>183.169998</td>\n",
       "      <td>64336000</td>\n",
       "    </tr>\n",
       "    <tr>\n",
       "      <th>1230</th>\n",
       "      <td>2022-11-18</td>\n",
       "      <td>185.050003</td>\n",
       "      <td>185.190002</td>\n",
       "      <td>176.550003</td>\n",
       "      <td>180.190002</td>\n",
       "      <td>180.190002</td>\n",
       "      <td>75904900</td>\n",
       "    </tr>\n",
       "    <tr>\n",
       "      <th>1231</th>\n",
       "      <td>2022-11-21</td>\n",
       "      <td>175.850006</td>\n",
       "      <td>176.770004</td>\n",
       "      <td>167.539993</td>\n",
       "      <td>167.869995</td>\n",
       "      <td>167.869995</td>\n",
       "      <td>92882700</td>\n",
       "    </tr>\n",
       "    <tr>\n",
       "      <th>1232</th>\n",
       "      <td>2022-11-22</td>\n",
       "      <td>168.630005</td>\n",
       "      <td>170.919998</td>\n",
       "      <td>166.190002</td>\n",
       "      <td>169.910004</td>\n",
       "      <td>169.910004</td>\n",
       "      <td>78452300</td>\n",
       "    </tr>\n",
       "    <tr>\n",
       "      <th>1233</th>\n",
       "      <td>2022-11-23</td>\n",
       "      <td>173.570007</td>\n",
       "      <td>183.619995</td>\n",
       "      <td>172.500000</td>\n",
       "      <td>183.199997</td>\n",
       "      <td>183.199997</td>\n",
       "      <td>109536700</td>\n",
       "    </tr>\n",
       "  </tbody>\n",
       "</table>\n",
       "<p>983 rows × 7 columns</p>\n",
       "</div>"
      ],
      "text/plain": [
       "            Date        Open        High         Low       Close   Adj Close     Volume\n",
       "251   2019-01-02   20.406668   21.008667   19.920000   20.674667   20.674667  174879000\n",
       "252   2019-01-03   20.466667   20.626667   19.825333   20.024000   20.024000  104478000\n",
       "253   2019-01-04   20.400000   21.200001   20.181999   21.179333   21.179333  110911500\n",
       "254   2019-01-07   21.448000   22.449333   21.183332   22.330667   22.330667  113268000\n",
       "255   2019-01-08   22.797333   22.934000   21.801332   22.356667   22.356667  105127500\n",
       "...          ...         ...         ...         ...         ...         ...        ...\n",
       "1229  2022-11-17  183.960007  186.160004  180.899994  183.169998  183.169998   64336000\n",
       "1230  2022-11-18  185.050003  185.190002  176.550003  180.190002  180.190002   75904900\n",
       "1231  2022-11-21  175.850006  176.770004  167.539993  167.869995  167.869995   92882700\n",
       "1232  2022-11-22  168.630005  170.919998  166.190002  169.910004  169.910004   78452300\n",
       "1233  2022-11-23  173.570007  183.619995  172.500000  183.199997  183.199997  109536700\n",
       "\n",
       "[983 rows x 7 columns]"
      ]
     },
     "execution_count": 380,
     "metadata": {},
     "output_type": "execute_result"
    }
   ],
   "source": [
    "# 현재주가 예측에 있어서 정확도를 떨어뜨릴 것 같아 빼기로 함\n",
    "\n",
    "raw_df = raw_df[raw_df['Date'] >= '2019-01-01']\n",
    "raw_df"
   ]
  },
  {
   "cell_type": "code",
   "execution_count": 381,
   "id": "afbc58ed",
   "metadata": {},
   "outputs": [
    {
     "data": {
      "image/png": "[encoded data removed]",
      "text/plain": [
       "<Figure size 432x288 with 1 Axes>"
      ]
     },
     "metadata": {
      "needs_background": "light"
     },
     "output_type": "display_data"
    }
   ],
   "source": [
    "plt.title('TESLA STCOK PRICE')\n",
    "plt.ylabel('price')\n",
    "plt.ylim(0, 430)\n",
    "plt.xlabel('period')\n",
    "plt.grid()\n",
    "plt.plot(raw_df['Adj Close'], label='Adj Close')\n",
    "\n",
    "plt.show()"
   ]
  },
  {
   "cell_type": "markdown",
   "id": "6786c8a7",
   "metadata": {},
   "source": [
    "### 데이터 전처리"
   ]
  },
  {
   "cell_type": "code",
   "execution_count": 382,
   "id": "fc2936c3",
   "metadata": {},
   "outputs": [
    {
     "data": {
      "text/html": [
       "<div>\n",
       "<style scoped>\n",
       "    .dataframe tbody tr th:only-of-type {\n",
       "        vertical-align: middle;\n",
       "    }\n",
       "\n",
       "    .dataframe tbody tr th {\n",
       "        vertical-align: top;\n",
       "    }\n",
       "\n",
       "    .dataframe thead th {\n",
       "        text-align: right;\n",
       "    }\n",
       "</style>\n",
       "<table border=\"1\" class=\"dataframe\">\n",
       "  <thead>\n",
       "    <tr style=\"text-align: right;\">\n",
       "      <th></th>\n",
       "      <th>Open</th>\n",
       "      <th>High</th>\n",
       "      <th>Low</th>\n",
       "      <th>Close</th>\n",
       "      <th>Adj Close</th>\n",
       "      <th>Volume</th>\n",
       "    </tr>\n",
       "  </thead>\n",
       "  <tbody>\n",
       "    <tr>\n",
       "      <th>count</th>\n",
       "      <td>983.000000</td>\n",
       "      <td>983.000000</td>\n",
       "      <td>983.000000</td>\n",
       "      <td>983.000000</td>\n",
       "      <td>983.000000</td>\n",
       "      <td>9.830000e+02</td>\n",
       "    </tr>\n",
       "    <tr>\n",
       "      <th>mean</th>\n",
       "      <td>159.477633</td>\n",
       "      <td>163.171535</td>\n",
       "      <td>155.405202</td>\n",
       "      <td>159.363110</td>\n",
       "      <td>159.363110</td>\n",
       "      <td>1.332937e+08</td>\n",
       "    </tr>\n",
       "    <tr>\n",
       "      <th>std</th>\n",
       "      <td>117.940238</td>\n",
       "      <td>120.578623</td>\n",
       "      <td>114.906614</td>\n",
       "      <td>117.733191</td>\n",
       "      <td>117.733191</td>\n",
       "      <td>9.466376e+07</td>\n",
       "    </tr>\n",
       "    <tr>\n",
       "      <th>min</th>\n",
       "      <td>12.073333</td>\n",
       "      <td>12.445333</td>\n",
       "      <td>11.799333</td>\n",
       "      <td>11.931333</td>\n",
       "      <td>11.931333</td>\n",
       "      <td>2.940180e+07</td>\n",
       "    </tr>\n",
       "    <tr>\n",
       "      <th>25%</th>\n",
       "      <td>26.210667</td>\n",
       "      <td>27.328333</td>\n",
       "      <td>25.886000</td>\n",
       "      <td>26.987667</td>\n",
       "      <td>26.987667</td>\n",
       "      <td>7.312650e+07</td>\n",
       "    </tr>\n",
       "    <tr>\n",
       "      <th>50%</th>\n",
       "      <td>190.779999</td>\n",
       "      <td>195.729996</td>\n",
       "      <td>182.589996</td>\n",
       "      <td>190.563339</td>\n",
       "      <td>190.563339</td>\n",
       "      <td>1.000119e+08</td>\n",
       "    </tr>\n",
       "    <tr>\n",
       "      <th>75%</th>\n",
       "      <td>253.014999</td>\n",
       "      <td>257.413330</td>\n",
       "      <td>246.396667</td>\n",
       "      <td>252.541664</td>\n",
       "      <td>252.541664</td>\n",
       "      <td>1.582928e+08</td>\n",
       "    </tr>\n",
       "    <tr>\n",
       "      <th>max</th>\n",
       "      <td>411.470001</td>\n",
       "      <td>414.496674</td>\n",
       "      <td>405.666656</td>\n",
       "      <td>409.970001</td>\n",
       "      <td>409.970001</td>\n",
       "      <td>9.140820e+08</td>\n",
       "    </tr>\n",
       "  </tbody>\n",
       "</table>\n",
       "</div>"
      ],
      "text/plain": [
       "             Open        High         Low       Close   Adj Close        Volume\n",
       "count  983.000000  983.000000  983.000000  983.000000  983.000000  9.830000e+02\n",
       "mean   159.477633  163.171535  155.405202  159.363110  159.363110  1.332937e+08\n",
       "std    117.940238  120.578623  114.906614  117.733191  117.733191  9.466376e+07\n",
       "min     12.073333   12.445333   11.799333   11.931333   11.931333  2.940180e+07\n",
       "25%     26.210667   27.328333   25.886000   26.987667   26.987667  7.312650e+07\n",
       "50%    190.779999  195.729996  182.589996  190.563339  190.563339  1.000119e+08\n",
       "75%    253.014999  257.413330  246.396667  252.541664  252.541664  1.582928e+08\n",
       "max    411.470001  414.496674  405.666656  409.970001  409.970001  9.140820e+08"
      ]
     },
     "execution_count": 382,
     "metadata": {},
     "output_type": "execute_result"
    }
   ],
   "source": [
    "# 통계 정보 확인\n",
    "raw_df.describe()"
   ]
  },
  {
   "cell_type": "code",
   "execution_count": 383,
   "id": "f2fe6bf0",
   "metadata": {},
   "outputs": [
    {
     "data": {
      "text/plain": [
       "Date         0\n",
       "Open         0\n",
       "High         0\n",
       "Low          0\n",
       "Close        0\n",
       "Adj Close    0\n",
       "Volume       0\n",
       "dtype: int64"
      ]
     },
     "execution_count": 383,
     "metadata": {},
     "output_type": "execute_result"
    }
   ],
   "source": [
    "# 결측치 확인\n",
    "raw_df.isnull().sum()\n",
    "\n",
    "# lucky~~~"
   ]
  },
  {
   "cell_type": "code",
   "execution_count": 409,
   "id": "a8c3eab6",
   "metadata": {},
   "outputs": [
    {
     "name": "stdout",
     "output_type": "stream",
     "text": [
      "(757, 7)\n",
      "(226, 7)\n"
     ]
    }
   ],
   "source": [
    "# 2022년 idx를 기준으로 분리\n",
    "idx = raw_df[raw_df.Date <= '2022-01-01'].shape[0]\n",
    "\n",
    "TRAIN = raw_df[0:idx]\n",
    "TEST = raw_df[idx:]\n",
    "\n",
    "print(TRAIN.shape)\n",
    "print(TEST.shape)"
   ]
  },
  {
   "cell_type": "code",
   "execution_count": 410,
   "id": "07c6432a",
   "metadata": {},
   "outputs": [],
   "source": [
    "# 입력 파라미터 feature, label => numpy type\n",
    "\n",
    "def make_sequene_dataset(feature, label, window_size):\n",
    "\n",
    "    feature_list = []      # 생성될 feature list\n",
    "    label_list = []        # 생성될 label list\n",
    "\n",
    "    for i in range(len(feature)-window_size):\n",
    "\n",
    "        feature_list.append(feature[i:i+window_size])\n",
    "        label_list.append(label[i+window_size])\n",
    "\n",
    "    return np.array(feature_list), np.array(label_list)"
   ]
  },
  {
   "cell_type": "code",
   "execution_count": 411,
   "id": "172d603c",
   "metadata": {},
   "outputs": [],
   "source": [
    "# feature_df, label_df 생성\n",
    "\n",
    "feature_cols = [ 'Adj Close' ]\n",
    "label_cols = [ 'Adj Close' ]\n",
    "\n",
    "train_feature = pd.DataFrame(TRAIN, columns=feature_cols)\n",
    "test_feature = pd.DataFrame(TEST, columns=feature_cols)\n",
    "train_label =  pd.DataFrame(TRAIN, columns=label_cols)\n",
    "test_label =  pd.DataFrame(TEST, columns=label_cols)"
   ]
  },
  {
   "cell_type": "code",
   "execution_count": 412,
   "id": "53523abe",
   "metadata": {},
   "outputs": [
    {
     "name": "stdout",
     "output_type": "stream",
     "text": [
      "(757, 1) (757, 1)\n",
      "(226, 1) (226, 1)\n"
     ]
    }
   ],
   "source": [
    "# DataFrame => Numpy 변환\n",
    "\n",
    "train_feature_np = train_feature.to_numpy()\n",
    "test_feature_np = test_feature.to_numpy()\n",
    "train_label_np = train_label.to_numpy()\n",
    "test_label_np = test_label.to_numpy()\n",
    "\n",
    "print(train_feature_np.shape, train_label_np.shape)\n",
    "print(test_feature_np.shape, test_label_np.shape)"
   ]
  },
  {
   "cell_type": "code",
   "execution_count": 413,
   "id": "ed926c13",
   "metadata": {},
   "outputs": [
    {
     "name": "stdout",
     "output_type": "stream",
     "text": [
      "(727, 30, 1) (727, 1)\n",
      "(196, 30, 1) (196, 1)\n"
     ]
    }
   ],
   "source": [
    "window_size = 30\n",
    "\n",
    "x_train, y_train = make_sequene_dataset(train_feature_np, train_label_np, window_size)\n",
    "x_test, y_test = make_sequene_dataset(test_feature_np, test_label_np, window_size)\n",
    "\n",
    "print(x_train.shape, y_train.shape)\n",
    "print(x_test.shape, y_test.shape)"
   ]
  },
  {
   "cell_type": "code",
   "execution_count": 414,
   "id": "475ce231",
   "metadata": {},
   "outputs": [
    {
     "data": {
      "text/plain": [
       "array([[[ 20.674667],\n",
       "        [ 20.024   ],\n",
       "        [ 21.179333],\n",
       "        ...,\n",
       "        [ 20.856001],\n",
       "        [ 20.787333],\n",
       "        [ 20.544666]],\n",
       "\n",
       "       [[ 20.024   ],\n",
       "        [ 21.179333],\n",
       "        [ 22.330667],\n",
       "        ...,\n",
       "        [ 20.787333],\n",
       "        [ 20.544666],\n",
       "        [ 20.251333]],\n",
       "\n",
       "       [[ 21.179333],\n",
       "        [ 22.330667],\n",
       "        [ 22.356667],\n",
       "        ...,\n",
       "        [ 20.544666],\n",
       "        [ 20.251333],\n",
       "        [ 20.525333]],\n",
       "\n",
       "       ...,\n",
       "\n",
       "       [[337.796661],\n",
       "        [351.57666 ],\n",
       "        [363.003326],\n",
       "        ...,\n",
       "        [355.666656],\n",
       "        [364.646667],\n",
       "        [362.823334]],\n",
       "\n",
       "       [[351.57666 ],\n",
       "        [363.003326],\n",
       "        [365.459991],\n",
       "        ...,\n",
       "        [364.646667],\n",
       "        [362.823334],\n",
       "        [362.063324]],\n",
       "\n",
       "       [[363.003326],\n",
       "        [365.459991],\n",
       "        [379.019989],\n",
       "        ...,\n",
       "        [362.823334],\n",
       "        [362.063324],\n",
       "        [356.779999]]])"
      ]
     },
     "execution_count": 414,
     "metadata": {},
     "output_type": "execute_result"
    }
   ],
   "source": [
    "x_train"
   ]
  },
  {
   "cell_type": "markdown",
   "id": "b3b5de64",
   "metadata": {},
   "source": [
    "### 모델링"
   ]
  },
  {
   "cell_type": "code",
   "execution_count": 415,
   "id": "b9084a3e",
   "metadata": {},
   "outputs": [],
   "source": [
    "# model 생성\n",
    "\n",
    "model1 = Sequential()\n",
    "model1.add(Conv1D(filters=5, kernel_size=10, strides=1, padding='SAME', activation='elu'))\n",
    "model1.add(Dense(128))\n",
    "model1.add(Dense(1, activation='linear'))\n",
    "\n",
    "model1.compile(loss='mse', optimizer='adam', metrics=['mse'])"
   ]
  },
  {
   "cell_type": "code",
   "execution_count": 416,
   "id": "4ae84e70",
   "metadata": {},
   "outputs": [],
   "source": [
    "model2 = Sequential()\n",
    "model2.add(Dense(128, activation='elu', input_shape=x_train[0].shape))\n",
    "model2.add(Dense(128, activation='elu'))\n",
    "model2.add(Dense(1, activation='linear'))\n",
    "\n",
    "model2.compile(loss='mse', optimizer='adam', metrics=['mse'])"
   ]
  },
  {
   "cell_type": "code",
   "execution_count": 417,
   "id": "0b29e002",
   "metadata": {},
   "outputs": [],
   "source": [
    "model3 = Sequential()\n",
    "model3.add(LSTM(128, activation='elu', input_shape=x_train[0].shape))\n",
    "model3.add(Dense(128, activation='elu'))\n",
    "model3.add(Dense(1, activation='linear'))\n",
    "\n",
    "model3.compile(loss='mse', optimizer='adam', metrics=['mse'])"
   ]
  },
  {
   "cell_type": "code",
   "execution_count": 418,
   "id": "3e8639e4",
   "metadata": {
    "scrolled": true
   },
   "outputs": [
    {
     "name": "stdout",
     "output_type": "stream",
     "text": [
      "Epoch 1/30\n",
      "37/37 [==============================] - 1s 8ms/step - loss: 3801.7053 - mse: 3801.7053 - val_loss: 3071.3125 - val_mse: 3071.3125\n",
      "Epoch 2/30\n",
      "37/37 [==============================] - 0s 3ms/step - loss: 748.4750 - mse: 748.4750 - val_loss: 2556.7605 - val_mse: 2556.7605\n",
      "Epoch 3/30\n",
      "37/37 [==============================] - 0s 3ms/step - loss: 678.7739 - mse: 678.7739 - val_loss: 2269.1724 - val_mse: 2269.1724\n",
      "Epoch 4/30\n",
      "37/37 [==============================] - 0s 3ms/step - loss: 620.1395 - mse: 620.1395 - val_loss: 2119.0508 - val_mse: 2119.0508\n",
      "Epoch 5/30\n",
      "37/37 [==============================] - 0s 3ms/step - loss: 592.2533 - mse: 592.2533 - val_loss: 2062.9885 - val_mse: 2062.9885\n",
      "Epoch 6/30\n",
      "37/37 [==============================] - 0s 3ms/step - loss: 572.8469 - mse: 572.8469 - val_loss: 1990.6790 - val_mse: 1990.6790\n",
      "Epoch 7/30\n",
      "37/37 [==============================] - 0s 3ms/step - loss: 549.4531 - mse: 549.4531 - val_loss: 1863.8185 - val_mse: 1863.8185\n",
      "Epoch 8/30\n",
      "37/37 [==============================] - 0s 3ms/step - loss: 559.1498 - mse: 559.1498 - val_loss: 1729.7847 - val_mse: 1729.7847\n",
      "Epoch 9/30\n",
      "37/37 [==============================] - 0s 3ms/step - loss: 509.9227 - mse: 509.9227 - val_loss: 1647.7188 - val_mse: 1647.7188\n",
      "Epoch 10/30\n",
      "37/37 [==============================] - 0s 3ms/step - loss: 499.5780 - mse: 499.5780 - val_loss: 1667.4823 - val_mse: 1667.4823\n",
      "Epoch 11/30\n",
      "37/37 [==============================] - 0s 3ms/step - loss: 497.1232 - mse: 497.1232 - val_loss: 1573.2667 - val_mse: 1573.2667\n",
      "Epoch 12/30\n",
      "37/37 [==============================] - 0s 2ms/step - loss: 500.1967 - mse: 500.1967 - val_loss: 1833.2140 - val_mse: 1833.2140\n",
      "Epoch 13/30\n",
      "37/37 [==============================] - 0s 3ms/step - loss: 464.0396 - mse: 464.0396 - val_loss: 1894.9775 - val_mse: 1894.9775\n",
      "Epoch 14/30\n",
      "37/37 [==============================] - 0s 2ms/step - loss: 482.3279 - mse: 482.3279 - val_loss: 1398.2424 - val_mse: 1398.2424\n",
      "Epoch 15/30\n",
      "37/37 [==============================] - 0s 2ms/step - loss: 447.4554 - mse: 447.4554 - val_loss: 1409.8696 - val_mse: 1409.8696\n",
      "Epoch 16/30\n",
      "37/37 [==============================] - 0s 2ms/step - loss: 446.9111 - mse: 446.9111 - val_loss: 1331.6499 - val_mse: 1331.6499\n",
      "Epoch 17/30\n",
      "37/37 [==============================] - 0s 3ms/step - loss: 438.5869 - mse: 438.5869 - val_loss: 1946.7054 - val_mse: 1946.7054\n",
      "Epoch 18/30\n",
      "37/37 [==============================] - 0s 3ms/step - loss: 430.2278 - mse: 430.2278 - val_loss: 1508.3113 - val_mse: 1508.3113\n",
      "Epoch 19/30\n",
      "37/37 [==============================] - 0s 2ms/step - loss: 444.3170 - mse: 444.3170 - val_loss: 1269.1385 - val_mse: 1269.1385\n",
      "Epoch 20/30\n",
      "37/37 [==============================] - 0s 3ms/step - loss: 428.7162 - mse: 428.7162 - val_loss: 1285.8997 - val_mse: 1285.8997\n",
      "Epoch 21/30\n",
      "37/37 [==============================] - 0s 2ms/step - loss: 422.2232 - mse: 422.2232 - val_loss: 1294.6080 - val_mse: 1294.6080\n",
      "Epoch 22/30\n",
      "37/37 [==============================] - 0s 3ms/step - loss: 426.2964 - mse: 426.2964 - val_loss: 1204.3438 - val_mse: 1204.3438\n",
      "Epoch 23/30\n",
      "37/37 [==============================] - 0s 2ms/step - loss: 417.6295 - mse: 417.6295 - val_loss: 1437.4425 - val_mse: 1437.4425\n",
      "Epoch 24/30\n",
      "37/37 [==============================] - 0s 2ms/step - loss: 425.2249 - mse: 425.2249 - val_loss: 1206.8146 - val_mse: 1206.8146\n",
      "Epoch 25/30\n",
      "37/37 [==============================] - 0s 2ms/step - loss: 405.0033 - mse: 405.0033 - val_loss: 1314.4030 - val_mse: 1314.4030\n",
      "Epoch 26/30\n",
      "37/37 [==============================] - 0s 3ms/step - loss: 415.6230 - mse: 415.6230 - val_loss: 1346.6921 - val_mse: 1346.6921\n",
      "Epoch 27/30\n",
      "37/37 [==============================] - 0s 3ms/step - loss: 443.1759 - mse: 443.1759 - val_loss: 1453.3785 - val_mse: 1453.3785\n"
     ]
    },
    {
     "data": {
      "text/plain": [
       "<keras.callbacks.History at 0x1eef69466d0>"
      ]
     },
     "execution_count": 418,
     "metadata": {},
     "output_type": "execute_result"
    }
   ],
   "source": [
    "from tensorflow.keras.callbacks import EarlyStopping\n",
    "\n",
    "early_stop = EarlyStopping(monitor='val_loss', patience=5)\n",
    "\n",
    "model1.fit(x_train, y_train, \n",
    "          validation_split=0.2,\n",
    "          epochs=30, batch_size=16,\n",
    "          callbacks=[early_stop])"
   ]
  },
  {
   "cell_type": "code",
   "execution_count": 419,
   "id": "405b8433",
   "metadata": {},
   "outputs": [
    {
     "name": "stdout",
     "output_type": "stream",
     "text": [
      "Epoch 1/30\n",
      "37/37 [==============================] - 1s 9ms/step - loss: 2411.3821 - mse: 2411.3821 - val_loss: 2063.8967 - val_mse: 2063.8967\n",
      "Epoch 2/30\n",
      "37/37 [==============================] - 0s 4ms/step - loss: 472.3994 - mse: 472.3994 - val_loss: 1642.5682 - val_mse: 1642.5682\n",
      "Epoch 3/30\n",
      "37/37 [==============================] - 0s 4ms/step - loss: 453.9271 - mse: 453.9271 - val_loss: 1577.3608 - val_mse: 1577.3608\n",
      "Epoch 4/30\n",
      "37/37 [==============================] - 0s 4ms/step - loss: 448.3318 - mse: 448.3318 - val_loss: 1859.3097 - val_mse: 1859.3097\n",
      "Epoch 5/30\n",
      "37/37 [==============================] - 0s 4ms/step - loss: 450.7033 - mse: 450.7033 - val_loss: 1687.9165 - val_mse: 1687.9165\n",
      "Epoch 6/30\n",
      "37/37 [==============================] - 0s 3ms/step - loss: 434.5933 - mse: 434.5933 - val_loss: 1927.1381 - val_mse: 1927.1381\n",
      "Epoch 7/30\n",
      "37/37 [==============================] - 0s 4ms/step - loss: 456.9916 - mse: 456.9916 - val_loss: 1311.6334 - val_mse: 1311.6334\n",
      "Epoch 8/30\n",
      "37/37 [==============================] - 0s 4ms/step - loss: 445.8558 - mse: 445.8558 - val_loss: 1485.5662 - val_mse: 1485.5662\n",
      "Epoch 9/30\n",
      "37/37 [==============================] - 0s 4ms/step - loss: 437.6140 - mse: 437.6140 - val_loss: 1400.6890 - val_mse: 1400.6890\n",
      "Epoch 10/30\n",
      "37/37 [==============================] - 0s 3ms/step - loss: 448.7152 - mse: 448.7152 - val_loss: 1476.5851 - val_mse: 1476.5851\n",
      "Epoch 11/30\n",
      "37/37 [==============================] - 0s 4ms/step - loss: 418.3286 - mse: 418.3286 - val_loss: 1382.5773 - val_mse: 1382.5773\n",
      "Epoch 12/30\n",
      "37/37 [==============================] - 0s 3ms/step - loss: 420.5814 - mse: 420.5814 - val_loss: 1709.7017 - val_mse: 1709.7017\n"
     ]
    },
    {
     "data": {
      "text/plain": [
       "<keras.callbacks.History at 0x1eef7f20790>"
      ]
     },
     "execution_count": 419,
     "metadata": {},
     "output_type": "execute_result"
    }
   ],
   "source": [
    "from tensorflow.keras.callbacks import EarlyStopping\n",
    "\n",
    "early_stop = EarlyStopping(monitor='val_loss', patience=5)\n",
    "\n",
    "model2.fit(x_train, y_train, \n",
    "          validation_split=0.2,\n",
    "          epochs=30, batch_size=16,\n",
    "          callbacks=[early_stop])"
   ]
  },
  {
   "cell_type": "code",
   "execution_count": 420,
   "id": "07ed3d49",
   "metadata": {},
   "outputs": [
    {
     "name": "stdout",
     "output_type": "stream",
     "text": [
      "Epoch 1/30\n",
      "37/37 [==============================] - 2s 20ms/step - loss: 7246.7437 - mse: 7246.7437 - val_loss: 43066.2695 - val_mse: 43066.2695\n",
      "Epoch 2/30\n",
      "37/37 [==============================] - 1s 14ms/step - loss: 7969.7236 - mse: 7969.7236 - val_loss: 7245.8013 - val_mse: 7245.8013\n",
      "Epoch 3/30\n",
      "37/37 [==============================] - 0s 13ms/step - loss: 3021.2517 - mse: 3021.2520 - val_loss: 11079.3848 - val_mse: 11079.3848\n",
      "Epoch 4/30\n",
      "37/37 [==============================] - 1s 14ms/step - loss: 1475.7048 - mse: 1475.7048 - val_loss: 2367.1453 - val_mse: 2367.1453\n",
      "Epoch 5/30\n",
      "37/37 [==============================] - 0s 13ms/step - loss: 1180.4303 - mse: 1180.4303 - val_loss: 11085.7744 - val_mse: 11085.7744\n",
      "Epoch 6/30\n",
      "37/37 [==============================] - 1s 14ms/step - loss: 1403.7234 - mse: 1403.7234 - val_loss: 2776.1189 - val_mse: 2776.1189\n",
      "Epoch 7/30\n",
      "37/37 [==============================] - 0s 13ms/step - loss: 662.2720 - mse: 662.2720 - val_loss: 1274.7472 - val_mse: 1274.7472\n",
      "Epoch 8/30\n",
      "37/37 [==============================] - 1s 14ms/step - loss: 375.4968 - mse: 375.4968 - val_loss: 3322.1816 - val_mse: 3322.1816\n",
      "Epoch 9/30\n",
      "37/37 [==============================] - 1s 14ms/step - loss: 352.4686 - mse: 352.4686 - val_loss: 1700.3965 - val_mse: 1700.3965\n",
      "Epoch 10/30\n",
      "37/37 [==============================] - 0s 13ms/step - loss: 329.4982 - mse: 329.4982 - val_loss: 3227.4678 - val_mse: 3227.4678\n",
      "Epoch 11/30\n",
      "37/37 [==============================] - 1s 17ms/step - loss: 661.2658 - mse: 661.2658 - val_loss: 2336.1523 - val_mse: 2336.1523\n",
      "Epoch 12/30\n",
      "37/37 [==============================] - 1s 14ms/step - loss: 467.0300 - mse: 467.0300 - val_loss: 1999.1036 - val_mse: 1999.1036\n"
     ]
    },
    {
     "data": {
      "text/plain": [
       "<keras.callbacks.History at 0x1eef93e08e0>"
      ]
     },
     "execution_count": 420,
     "metadata": {},
     "output_type": "execute_result"
    }
   ],
   "source": [
    "early_stop = EarlyStopping(monitor='val_loss', patience=5)\n",
    "\n",
    "model3.fit(x_train, y_train, \n",
    "          validation_split=0.2,\n",
    "          epochs=30, batch_size=16,\n",
    "          callbacks=[early_stop])"
   ]
  },
  {
   "cell_type": "code",
   "execution_count": 431,
   "id": "2105d0c7",
   "metadata": {
    "scrolled": true
   },
   "outputs": [
    {
     "name": "stdout",
     "output_type": "stream",
     "text": [
      "7/7 [==============================] - 0s 2ms/step - loss: 1622.4526 - mse: 1622.4526\n",
      "7/7 [==============================] - 0s 3ms/step - loss: 1665.1398 - mse: 1665.1398\n",
      "7/7 [==============================] - 0s 7ms/step - loss: 2602.5156 - mse: 2602.5156\n",
      "[1622.45263671875, 1622.45263671875]\n",
      "[1665.1397705078125, 1665.1397705078125]\n",
      "[2602.515625, 2602.515625]\n"
     ]
    }
   ],
   "source": [
    "# 모델별 mse 확인\n",
    "mse1 = model1.evaluate(x_test, y_test)\n",
    "mse2 = model2.evaluate(x_test, y_test)\n",
    "mse3 = model3.evaluate(x_test, y_test)\n",
    "print(mse1)\n",
    "print(mse2)\n",
    "print(mse3)"
   ]
  },
  {
   "cell_type": "code",
   "execution_count": 426,
   "id": "7695bb7e",
   "metadata": {
    "scrolled": true
   },
   "outputs": [
    {
     "name": "stdout",
     "output_type": "stream",
     "text": [
      "7/7 [==============================] - 0s 2ms/step\n",
      "7/7 [==============================] - 0s 2ms/step\n",
      "7/7 [==============================] - 0s 3ms/step\n",
      "(196, 30, 1) (196, 30, 1) (196, 30, 1)\n"
     ]
    }
   ],
   "source": [
    "pred1 = model1.predict(x_test)\n",
    "pred2 = model2.predict(x_test)\n",
    "pred3 = model2.predict(x_test)\n",
    "\n",
    "print(pred1.shape, pred2.shape, pred3.shape)"
   ]
  },
  {
   "cell_type": "code",
   "execution_count": 427,
   "id": "35948373",
   "metadata": {
    "scrolled": true
   },
   "outputs": [
    {
     "data": {
      "text/plain": [
       "(196, 1)"
      ]
     },
     "execution_count": 427,
     "metadata": {},
     "output_type": "execute_result"
    }
   ],
   "source": [
    "y_test.shape"
   ]
  },
  {
   "cell_type": "code",
   "execution_count": 428,
   "id": "e05829af",
   "metadata": {},
   "outputs": [
    {
     "name": "stdout",
     "output_type": "stream",
     "text": [
      "(196, 30, 1)\n"
     ]
    }
   ],
   "source": [
    "print(pred1.shape)"
   ]
  },
  {
   "cell_type": "code",
   "execution_count": 402,
   "id": "f9b98a1c",
   "metadata": {},
   "outputs": [],
   "source": [
    "# # 차원 낳추기"
   ]
  },
  {
   "cell_type": "code",
   "execution_count": 430,
   "id": "ecb4424f",
   "metadata": {
    "scrolled": true
   },
   "outputs": [
    {
     "data": {
      "image/png": "[encoded data removed]",
      "text/plain": [
       "<Figure size 864x432 with 1 Axes>"
      ]
     },
     "metadata": {
      "needs_background": "light"
     },
     "output_type": "display_data"
    }
   ],
   "source": [
    "# 예측값 그래프 그리기\n",
    "plt.figure(figsize=(12, 6))\n",
    "plt.title('Prediction')\n",
    "plt.ylabel('adj close')\n",
    "plt.xlabel('period')\n",
    "plt.plot(y_test, label='actual', color='red')\n",
    "# plt.plot(pred1, label='prediction1', color='green')\n",
    "# plt.plot(pred2, label='prediction2', color='pink')\n",
    "# plt.plot(pred3, label='prediction3', color='blue')\n",
    "plt.grid()\n",
    "plt.legend(loc='best')\n",
    "\n",
    "plt.show()"
   ]
  },
  {
   "cell_type": "code",
   "execution_count": null,
   "id": "0719f1f6",
   "metadata": {},
   "outputs": [],
   "source": []
  },
  {
   "cell_type": "code",
   "execution_count": null,
   "id": "7b27c7cc",
   "metadata": {},
   "outputs": [],
   "source": []
  }
 ],
 "metadata": {
  "kernelspec": {
   "display_name": "Python 3 (ipykernel)",
   "language": "python",
   "name": "python3"
  },
  "language_info": {
   "codemirror_mode": {
    "name": "ipython",
    "version": 3
   },
   "file_extension": ".py",
   "mimetype": "text/x-python",
   "name": "python",
   "nbconvert_exporter": "python",
   "pygments_lexer": "ipython3",
   "version": "3.9.12"
  }
 },
 "nbformat": 4,
 "nbformat_minor": 5
}
