{
 "cells": [
  {
   "cell_type": "markdown",
   "id": "4e2b47c0-2ad8-4bc8-b8dc-bfc8cc58700c",
   "metadata": {},
   "source": [
    "## \"결과 더 보기\"로 바로 이어지는 코드"
   ]
  },
  {
   "cell_type": "code",
   "execution_count": null,
   "id": "8e83be4a",
   "metadata": {},
   "outputs": [
    {
     "name": "stderr",
     "output_type": "stream",
     "text": [
      "/var/folders/t4/vwr916y50fv3wcm0xlgfkyg00000gn/T/ipykernel_5608/14694374.py:17: DeprecationWarning: executable_path has been deprecated, please pass in a Service object\n",
      "  driver = webdriver.Chrome(driver)\n",
      "/var/folders/t4/vwr916y50fv3wcm0xlgfkyg00000gn/T/ipykernel_5608/14694374.py:21: DeprecationWarning: find_element_by_name is deprecated. Please use find_element(by=By.NAME, value=name) instead\n",
      "  elem = driver.find_element_by_name(\"q\")\n"
     ]
    },
    {
     "name": "stdout",
     "output_type": "stream",
     "text": [
      "page down\n",
      "page down\n",
      "page down\n",
      "page down\n",
      "page down\n",
      "page down\n"
     ]
    },
    {
     "name": "stderr",
     "output_type": "stream",
     "text": [
      "/var/folders/t4/vwr916y50fv3wcm0xlgfkyg00000gn/T/ipykernel_5608/14694374.py:52: DeprecationWarning: find_element_by_xpath is deprecated. Please use find_element(by=By.XPATH, value=xpath) instead\n",
      "  element = driver.find_element_by_xpath(BT_see_more2)\n"
     ]
    },
    {
     "name": "stdout",
     "output_type": "stream",
     "text": [
      "page : 1\n",
      "page down\n",
      "page down\n",
      "page down\n",
      "page down\n",
      "page down\n",
      "page down\n",
      "page down\n",
      "page down\n",
      "page down\n",
      "page down\n",
      "page down\n",
      "page down\n",
      "page down\n",
      "page down\n"
     ]
    }
   ],
   "source": [
    "from selenium import webdriver\n",
    "from urllib.request import urlopen\n",
    "from selenium.webdriver.common.keys import Keys\n",
    "import time\n",
    "import urllib.request\n",
    "import os\n",
    "\n",
    "driver = \"/Users/werther/chromedriver\" #chrome driver 위치\n",
    "path = 'https://www.google.co.kr/imghp?hl=ko&ogbl'\n",
    "keyword = 'face' \n",
    "new_keyword = keyword.replace(\" \", '_')\n",
    "\n",
    "def get_pic(driver, path, keyword) :\n",
    "    if not os.path.isdir(f\"{keyword}/\"):\n",
    "        os.makedirs(f\"{keyword}/\")\n",
    "\n",
    "    driver = webdriver.Chrome(driver)\n",
    "    driver.get(path)\n",
    "\n",
    "    search = keyword\n",
    "    elem = driver.find_element_by_name(\"q\")\n",
    "    elem.send_keys(search)\n",
    "    elem.send_keys(Keys.RETURN)\n",
    "\n",
    "    SCROLL_PAUSE_TIME = 1\n",
    "\n",
    "    last_height = driver.execute_script(\"return document.body.scrollHeight\")\n",
    "    BT_see_more = '//*[@id=\"islmp\"]/div/div/div/div/div[2]/span' # \n",
    "    BT_see_more2 = '//*[@id=\"islmp\"]/div/div/div/div/div/div[2]/div[2]/input' # 결과 더 보기\n",
    "    page = 0\n",
    "\n",
    "\n",
    "    while True:\n",
    "        driver.execute_script(\"window.scrollTo(0, document.body.scrollHeight);\")\n",
    "        time.sleep(SCROLL_PAUSE_TIME)\n",
    "        new_height = driver.execute_script(\"return document.body.scrollHeight\")\n",
    "        time.sleep(1)\n",
    "        print(\"page down\")\n",
    "              \n",
    "        # if new_height == last_height and page == 0: # 나머지 검색결과는 내가 찾고 있는 항목이 아닐 수도 있습니다.\n",
    "        #     print(\"if 1 start\")\n",
    "        #     element = driver.find_element_by_xpath(BT_see_more)   \n",
    "        #     element.click()\n",
    "        #     page += 1\n",
    "        #     time.sleep(1)\n",
    "        #     driver.execute_script(\"window.scrollTo(0, document.body.scrollHeight);\")\n",
    "        #     time.sleep(SCROLL_PAUSE_TIME)  \n",
    "        #     new_height = driver.execute_script(\"return document.body.scrollHeight\")            \n",
    "        #     print(f\"page : {page}\")\n",
    "                    \n",
    "        if new_height == last_height and page == 0 : #결과 더 보기\n",
    "            element = driver.find_element_by_xpath(BT_see_more2)   \n",
    "            element.click()\n",
    "            driver.execute_script(\"window.scrollTo(0, document.body.scrollHeight);\")\n",
    "            time.sleep(SCROLL_PAUSE_TIME)\n",
    "            new_height = driver.execute_script(\"return document.body.scrollHeight\")\n",
    "            page += 1\n",
    "            print(f\"page : {page}\")               \n",
    "\n",
    "        if new_height == last_height and page == 1 : #페이지 다 내림 \n",
    "            print(f\"page : {page}\")            \n",
    "            try:\n",
    "                time.sleep(1)\n",
    "                # print(\"checkk point 0\")                \n",
    "                # driver.find_element_by_css_selector(\".mye4qd\").click()\n",
    "                print(\"checkk point 1\")\n",
    "                images = driver.find_elements_by_css_selector(\".rg_i.Q4LuWd\")\n",
    "                print(\"checkk point 2\")                \n",
    "                count = 0\n",
    "                \n",
    "                # //*[@id=\"islrg\"]/div[1]/div[93]/a[1]/div[1]/img\n",
    "                for image in images:\n",
    "                    print(\"checkk point 3\")                     \n",
    "                    try:\n",
    "                        print(\"checkk point 4\")                                             \n",
    "                        image.click()\n",
    "                        time.sleep(2)\n",
    "                        count += 1\n",
    "                        print(count)\n",
    "                        imgUrl = driver.find_element_by_xpath(f\"//*[@id='islrg']/div[1]/div[{count}]/a[1]/div[1]/img\").get_attribute('src')\n",
    "    #                     print(imgUrl)\n",
    "                        urllib.request.urlretrieve(imgUrl, f\"{keyword}/\" + new_keyword + \"_\" + str(count) + \".jpg\")\n",
    "                        print(f\"Image saved: {keyword}{count}.jpg\")\n",
    "\n",
    "                    except:\n",
    "                        pass\n",
    "            except:\n",
    "                print(\"ERROR BREAK!!\")\n",
    "                break\n",
    "        last_height = new_height\n",
    "        \n",
    "get_pic(driver, path, keyword)        \n",
    "\n",
    "\n",
    "\n",
    "    # driver.close()"
   ]
  },
  {
   "cell_type": "code",
   "execution_count": null,
   "id": "82607c19-0fe0-4c81-9dc1-10ccb7779472",
   "metadata": {},
   "outputs": [],
   "source": []
  }
 ],
 "metadata": {
  "kernelspec": {
   "display_name": "Python 3 (ipykernel)",
   "language": "python",
   "name": "python3"
  },
  "language_info": {
   "codemirror_mode": {
    "name": "ipython",
    "version": 3
   },
   "file_extension": ".py",
   "mimetype": "text/x-python",
   "name": "python",
   "nbconvert_exporter": "python",
   "pygments_lexer": "ipython3",
   "version": "3.9.13"
  }
 },
 "nbformat": 4,
 "nbformat_minor": 5
}
