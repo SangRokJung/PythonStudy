{
 "cells": [
  {
   "cell_type": "code",
   "execution_count": 2,
   "id": "d2fad68a-c71d-4286-bdcc-c52c8f0a85f7",
   "metadata": {},
   "outputs": [
    {
     "name": "stdout",
     "output_type": "stream",
     "text": [
      "a_male_frontal_face\n"
     ]
    }
   ],
   "source": [
    "keyword = 'a male frontal face' \n",
    "new_keyword = keyword.replace(\" \", '_')\n",
    "print(new_keyword)"
   ]
  },
  {
   "cell_type": "code",
   "execution_count": 5,
   "id": "2e72883f-cdad-4817-a911-dccb603ed970",
   "metadata": {},
   "outputs": [
    {
     "name": "stdout",
     "output_type": "stream",
     "text": [
      "a_a_b/\n"
     ]
    }
   ],
   "source": [
    "new_keyword = \"a_a_b\"\n",
    "a=f\"{new_keyword}/\"\n",
    "print(a)"
   ]
  },
  {
   "cell_type": "code",
   "execution_count": null,
   "id": "2c9ef587-8b52-4b71-b578-8e2fd18e07ff",
   "metadata": {},
   "outputs": [],
   "source": []
  }
 ],
 "metadata": {
  "kernelspec": {
   "display_name": "Python 3 (ipykernel)",
   "language": "python",
   "name": "python3"
  },
  "language_info": {
   "codemirror_mode": {
    "name": "ipython",
    "version": 3
   },
   "file_extension": ".py",
   "mimetype": "text/x-python",
   "name": "python",
   "nbconvert_exporter": "python",
   "pygments_lexer": "ipython3",
   "version": "3.9.13"
  }
 },
 "nbformat": 4,
 "nbformat_minor": 5
}
