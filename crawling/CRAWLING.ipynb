{
 "cells": [
  {
   "cell_type": "code",
   "execution_count": 1,
   "id": "56973ce4",
   "metadata": {},
   "outputs": [
    {
     "name": "stdout",
     "output_type": "stream",
     "text": [
      "Collecting bs4\n",
      "  Downloading bs4-0.0.1.tar.gz (1.1 kB)\n",
      "  Preparing metadata (setup.py) ... \u001b[?25ldone\n",
      "\u001b[?25hRequirement already satisfied: beautifulsoup4 in ./opt/anaconda3/lib/python3.9/site-packages (from bs4) (4.11.1)\n",
      "Requirement already satisfied: soupsieve>1.2 in ./opt/anaconda3/lib/python3.9/site-packages (from beautifulsoup4->bs4) (2.3.1)\n",
      "Building wheels for collected packages: bs4\n",
      "  Building wheel for bs4 (setup.py) ... \u001b[?25ldone\n",
      "\u001b[?25h  Created wheel for bs4: filename=bs4-0.0.1-py3-none-any.whl size=1272 sha256=89f43011c394d139ddafe8ba53e621c6808c9585172421ef2a59537e13aa8ec6\n",
      "  Stored in directory: /Users/werther/Library/Caches/pip/wheels/73/2b/cb/099980278a0c9a3e57ff1a89875ec07bfa0b6fcbebb9a8cad3\n",
      "Successfully built bs4\n",
      "Installing collected packages: bs4\n",
      "Successfully installed bs4-0.0.1\n"
     ]
    }
   ],
   "source": [
    "!pip install bs4"
   ]
  },
  {
   "cell_type": "code",
   "execution_count": 2,
   "id": "f9c1252e",
   "metadata": {},
   "outputs": [],
   "source": [
    "import bs4"
   ]
  },
  {
   "cell_type": "code",
   "execution_count": 3,
   "id": "d5ba6729",
   "metadata": {},
   "outputs": [],
   "source": [
    "from bs4 import BeautifulSoup\n",
    "ex1 = \"\"\"\n",
    "<html>\n",
    "    <head>\n",
    "        <title> HTML 연습 </title>\n",
    "    </head>\n",
    "    <body>\n",
    "        <p align=\"center\"> text 1 </p>\n",
    "        <img src=\"./HTML 예제/좌우명.png\" alt=\"\">\n",
    "    </body>\n",
    "</html>\"\"\"\n",
    "\n"
   ]
  },
  {
   "cell_type": "code",
   "execution_count": 4,
   "id": "5bce5d36",
   "metadata": {},
   "outputs": [
    {
     "data": {
      "text/plain": [
       "'4.11.1'"
      ]
     },
     "execution_count": 4,
     "metadata": {},
     "output_type": "execute_result"
    }
   ],
   "source": [
    "bs4.__version__"
   ]
  },
  {
   "cell_type": "code",
   "execution_count": 16,
   "id": "cf27ba8c",
   "metadata": {},
   "outputs": [
    {
     "data": {
      "text/plain": [
       "<html>\n",
       "<head>\n",
       "<title> HTML 연습 </title>\n",
       "</head>\n",
       "<body>\n",
       "<p align=\"center\"> text 1 </p>\n",
       "<img alt=\"\" src=\"./HTML 예제/좌우명.png\"/>\n",
       "</body>\n",
       "</html>"
      ]
     },
     "execution_count": 16,
     "metadata": {},
     "output_type": "execute_result"
    }
   ],
   "source": [
    "soup = BeautifulSoup(ex1, \"html.parser\")\n",
    "soup.find(\"html\")"
   ]
  },
  {
   "cell_type": "code",
   "execution_count": 15,
   "id": "2897d4a1",
   "metadata": {},
   "outputs": [
    {
     "data": {
      "text/plain": [
       "<title> HTML 연습 </title>"
      ]
     },
     "execution_count": 15,
     "metadata": {},
     "output_type": "execute_result"
    }
   ],
   "source": [
    "soup.find(\"title\")"
   ]
  },
  {
   "cell_type": "code",
   "execution_count": 14,
   "id": "587797fc",
   "metadata": {},
   "outputs": [],
   "source": [
    "soup.find(\"q\")"
   ]
  },
  {
   "cell_type": "code",
   "execution_count": 13,
   "id": "66ba8361",
   "metadata": {},
   "outputs": [
    {
     "data": {
      "text/plain": [
       "<p align=\"center\"> text 1 </p>"
      ]
     },
     "execution_count": 13,
     "metadata": {},
     "output_type": "execute_result"
    }
   ],
   "source": [
    "soup.find(\"p\")"
   ]
  },
  {
   "cell_type": "code",
   "execution_count": 46,
   "id": "f09458e3",
   "metadata": {},
   "outputs": [
    {
     "data": {
      "text/plain": [
       "<p align=\"right\"> text2 </p>"
      ]
     },
     "execution_count": 46,
     "metadata": {},
     "output_type": "execute_result"
    }
   ],
   "source": [
    "from bs4 import BeautifulSoup\n",
    "ex1 = \"\"\"<html>\n",
    "    <head>\n",
    "        <title> HTML 연습 </title>\n",
    "    </head>\n",
    "    <body>\n",
    "        <p align=\"center\"> text1 </p>\n",
    "        <p align=\"right\"> text2 </p>\n",
    "        <p align=\"left\"> text3 </p>\n",
    "        <img src=\"./HTML 예제/좌우명\" alt=\"\">\n",
    "    </body>\n",
    "</html>\n",
    "\"\"\"\n",
    "\n",
    "soup = BeautifulSoup(ex1, \"html.parser\")\n",
    "# soup.find(\"p\", align = \"center\")\n",
    "# soup.find(\"p\", align = \"left\")\n",
    "soup.find(\"p\", align = \"right\")"
   ]
  },
  {
   "cell_type": "code",
   "execution_count": 47,
   "id": "4bda6e5d",
   "metadata": {},
   "outputs": [
    {
     "data": {
      "text/plain": [
       "[<p align=\"center\"> test1 </p>,\n",
       " <p align=\"center\"> test2 </p>,\n",
       " <p align=\"center\"> test3 </p>,\n",
       " <img alt=\"\" src=\"./HTML 예제/좌우명\"/>]"
      ]
     },
     "execution_count": 47,
     "metadata": {},
     "output_type": "execute_result"
    }
   ],
   "source": [
    "from bs4 import BeautifulSoup\n",
    "ex1 = \"\"\"<html>\n",
    "    <head>\n",
    "        <title> HTML 연습 </title>\n",
    "    </head>\n",
    "    <body>\n",
    "        <p align=\"center\"> test1 </p>\n",
    "        <p align=\"center\"> test2 </p>\n",
    "        <p align=\"center\"> test3 </p>\n",
    "        <img src=\"./HTML 예제/좌우명\" alt=\"\">\n",
    "    </body>\n",
    "</html>\n",
    "\"\"\"\n",
    "\n",
    "soup = BeautifulSoup(ex1, \"html.parser\")\n",
    "soup.find_all([\"p\", \"img\"])\n",
    "# [<p align=\"center\"> test1 </p>,\n",
    "#  <p align=\"center\"> test2 </p>,\n",
    "#  <p align=\"center\"> test3 </p>,\n",
    "#  <img alt=\"\" src=\"./HTML 예제/좌우명\"/>]\n"
   ]
  },
  {
   "cell_type": "code",
   "execution_count": 53,
   "id": "8dfd7601",
   "metadata": {},
   "outputs": [
    {
     "name": "stdout",
     "output_type": "stream",
     "text": [
      "<p align=\"center\"> test1 </p>\n",
      " test1 \n",
      " test1 \n"
     ]
    }
   ],
   "source": [
    "txt = soup.find(\"p\")\n",
    "print(txt)\n",
    "# <p align=\"center\"> test1 </p>\n",
    "print(txt.string)\n",
    "#  test1 \n",
    "print(txt.get_text())\n",
    "#  test1 "
   ]
  },
  {
   "cell_type": "code",
   "execution_count": 58,
   "id": "5f59a810",
   "metadata": {},
   "outputs": [
    {
     "name": "stdout",
     "output_type": "stream",
     "text": [
      " test1 \n",
      " test2 \n",
      " test3 \n"
     ]
    }
   ],
   "source": [
    "txt_all = soup.find_all([\"p\"])\n",
    "for i in txt_all :\n",
    "    print(i.string)\n",
    "#  test1 \n",
    "#  test2 \n",
    "#  test3 "
   ]
  },
  {
   "cell_type": "code",
   "execution_count": 59,
   "id": "775af034",
   "metadata": {},
   "outputs": [
    {
     "data": {
      "text/plain": [
       "[<p align=\"center\"> test1 </p>,\n",
       " <p align=\"center\"> test2 </p>,\n",
       " <p align=\"center\"> test3 </p>,\n",
       " <img alt=\"\" src=\"./HTML 예제/좌우명\"/>]"
      ]
     },
     "execution_count": 59,
     "metadata": {},
     "output_type": "execute_result"
    }
   ],
   "source": [
    "from bs4 import BeautifulSoup\n",
    "ex1 = \"\"\"<html>\n",
    "    <head>\n",
    "        <title> HTML 연습 </title>\n",
    "    </head>\n",
    "    <body>\n",
    "        <p align=\"center\"> test1 </p>\n",
    "        <p align=\"center\"> test2 </p>\n",
    "        <p align=\"center\"> test3 </p>\n",
    "        <img src=\"./HTML 예제/좌우명\" alt=\"\">\n",
    "    </body>\n",
    "</html>\n",
    "\"\"\"\n",
    "\n",
    "soup = BeautifulSoup(ex1, \"html.parser\")\n",
    "soup.find_all([\"p\", \"img\"])"
   ]
  },
  {
   "cell_type": "code",
   "execution_count": 63,
   "id": "b92bf8aa",
   "metadata": {},
   "outputs": [
    {
     "data": {
      "text/plain": [
       "[<p class=\"name3\" id=\"fruits3\" title=\"오렌지\"> 오렌지\n",
       "                 <span class=\"price\"> 500원 </span>\n",
       " <span class=\"count\"> 20개 </span>\n",
       " <span class=\"store\"> 오렌지가게 </span>\n",
       " <a href=\"https://www.orange.com\"> orange.com </a>\n",
       " </p>]"
      ]
     },
     "execution_count": 63,
     "metadata": {},
     "output_type": "execute_result"
    }
   ],
   "source": [
    "from bs4 import BeautifulSoup\n",
    "ex1 = \"\"\"<html>\n",
    "    <head>\n",
    "        <h1> 사야할 과일\n",
    "    </head>\n",
    "    <body>\n",
    "        <h1> 시장가서 사야할 과일 목록\n",
    "            <div>\n",
    "                <p id='fruits1' class='name1' title='바나나'> 바나나\n",
    "                <span class='price'> 3000원 </span>\n",
    "                <span class='count'> 10개 </span>\n",
    "                <span class='store'> 바나나가게 </span>\n",
    "                <a href='https://www.banana.com'> banana.com </a>\n",
    "                </p>\n",
    "            </div>\n",
    "            <div>\n",
    "                <p id='fruits2' class='name2' title='체리'> 체리\n",
    "                <span class='price'> 100원 </span>\n",
    "                <span class='count'> 50개 </span>\n",
    "                <span class='store'> 체리가게 </span>\n",
    "                <a href='https://www.cherry.com'> cherry.com </a>\n",
    "                </p>\n",
    "            </div>\n",
    "            <div>\n",
    "                <p id='fruits3' class='name3' title='오렌지'> 오렌지\n",
    "                <span class='price'> 500원 </span>\n",
    "                <span class='count'> 20개 </span>\n",
    "                <span class='store'> 오렌지가게 </span>\n",
    "                <a href='https://www.orange.com'> orange.com </a>\n",
    "                </p>\n",
    "            </div>\n",
    "    </body>\n",
    "</html>\n",
    "\"\"\"\n",
    "\n",
    "soup = BeautifulSoup(ex1, \"html.parser\")\n",
    "soup.select(\".name3\")"
   ]
  },
  {
   "cell_type": "code",
   "execution_count": 86,
   "id": "7f6ab94d",
   "metadata": {},
   "outputs": [
    {
     "data": {
      "text/plain": [
       "[<span class=\"price\"> 3000원 </span>,\n",
       " <span class=\"count\"> 10개 </span>,\n",
       " <span class=\"store\"> 바나나가게 </span>,\n",
       " <span class=\"price\"> 100원 </span>,\n",
       " <span class=\"count\"> 50개 </span>,\n",
       " <span class=\"store\"> 체리가게 </span>,\n",
       " <span class=\"price\"> 500원 </span>,\n",
       " <span class=\"count\"> 20개 </span>,\n",
       " <span class=\"store\"> 오렌지가게 </span>]"
      ]
     },
     "execution_count": 86,
     "metadata": {},
     "output_type": "execute_result"
    }
   ],
   "source": [
    "soup.select(\"div > p > span\")"
   ]
  },
  {
   "cell_type": "code",
   "execution_count": 91,
   "id": "504456d0",
   "metadata": {},
   "outputs": [
    {
     "data": {
      "text/plain": [
       "[<span class=\"store\"> 바나나가게 </span>]"
      ]
     },
     "execution_count": 91,
     "metadata": {},
     "output_type": "execute_result"
    }
   ],
   "source": [
    "soup.select(\"p.name1 > span.store\")"
   ]
  },
  {
   "cell_type": "code",
   "execution_count": 92,
   "id": "a4a9aaec",
   "metadata": {},
   "outputs": [
    {
     "data": {
      "text/plain": [
       "[<p class=\"name3\" id=\"fruits3\" title=\"오렌지\"> 오렌지\n",
       "                 <span class=\"price\"> 500원 </span>\n",
       " <span class=\"count\"> 20개 </span>\n",
       " <span class=\"store\"> 오렌지가게 </span>\n",
       " <a href=\"https://www.orange.com\"> orange.com </a>\n",
       " </p>]"
      ]
     },
     "execution_count": 92,
     "metadata": {},
     "output_type": "execute_result"
    }
   ],
   "source": [
    "soup.select(\"#fruits3\")"
   ]
  },
  {
   "cell_type": "code",
   "execution_count": 94,
   "id": "b9c99ea8",
   "metadata": {},
   "outputs": [
    {
     "data": {
      "text/plain": [
       "[<span class=\"store\"> 오렌지가게 </span>]"
      ]
     },
     "execution_count": 94,
     "metadata": {},
     "output_type": "execute_result"
    }
   ],
   "source": [
    "soup.select(\"#fruits3 > span.store\")"
   ]
  },
  {
   "cell_type": "code",
   "execution_count": 99,
   "id": "9862c67c",
   "metadata": {},
   "outputs": [
    {
     "data": {
      "text/plain": [
       "[<a href=\"https://www.banana.com\"> banana.com </a>,\n",
       " <a href=\"https://www.cherry.com\"> cherry.com </a>,\n",
       " <a href=\"https://www.orange.com\"> orange.com </a>]"
      ]
     },
     "execution_count": 99,
     "metadata": {},
     "output_type": "execute_result"
    }
   ],
   "source": [
    "soup.select(\"a[href]\")"
   ]
  },
  {
   "cell_type": "code",
   "execution_count": 100,
   "id": "fb31108a",
   "metadata": {},
   "outputs": [
    {
     "name": "stdout",
     "output_type": "stream",
     "text": [
      "Collecting selenium==4.2.0\n",
      "  Downloading selenium-4.2.0-py3-none-any.whl (983 kB)\n",
      "\u001b[2K     \u001b[90m━━━━━━━━━━━━━━━━━━━━━━━━━━━━━━━━━━━━━━\u001b[0m \u001b[32m983.2/983.2 kB\u001b[0m \u001b[31m12.8 MB/s\u001b[0m eta \u001b[36m0:00:00\u001b[0ma \u001b[36m0:00:01\u001b[0m\n",
      "\u001b[?25hCollecting trio-websocket~=0.9\n",
      "  Downloading trio_websocket-0.9.2-py3-none-any.whl (16 kB)\n",
      "Collecting trio~=0.17\n",
      "  Downloading trio-0.21.0-py3-none-any.whl (358 kB)\n",
      "\u001b[2K     \u001b[90m━━━━━━━━━━━━━━━━━━━━━━━━━━━━━━━━━━━━━━\u001b[0m \u001b[32m359.0/359.0 kB\u001b[0m \u001b[31m10.6 MB/s\u001b[0m eta \u001b[36m0:00:00\u001b[0m\n",
      "\u001b[?25hRequirement already satisfied: urllib3[secure,socks]~=1.26 in ./opt/anaconda3/lib/python3.9/site-packages (from selenium==4.2.0) (1.26.9)\n",
      "Requirement already satisfied: idna in ./opt/anaconda3/lib/python3.9/site-packages (from trio~=0.17->selenium==4.2.0) (3.3)\n",
      "Collecting outcome\n",
      "  Downloading outcome-1.2.0-py2.py3-none-any.whl (9.7 kB)\n",
      "Requirement already satisfied: sortedcontainers in ./opt/anaconda3/lib/python3.9/site-packages (from trio~=0.17->selenium==4.2.0) (2.4.0)\n",
      "Requirement already satisfied: sniffio in ./opt/anaconda3/lib/python3.9/site-packages (from trio~=0.17->selenium==4.2.0) (1.2.0)\n",
      "Collecting async-generator>=1.9\n",
      "  Downloading async_generator-1.10-py3-none-any.whl (18 kB)\n",
      "Requirement already satisfied: attrs>=19.2.0 in ./opt/anaconda3/lib/python3.9/site-packages (from trio~=0.17->selenium==4.2.0) (21.4.0)\n",
      "Collecting wsproto>=0.14\n",
      "  Downloading wsproto-1.2.0-py3-none-any.whl (24 kB)\n",
      "Requirement already satisfied: PySocks!=1.5.7,<2.0,>=1.5.6 in ./opt/anaconda3/lib/python3.9/site-packages (from urllib3[secure,socks]~=1.26->selenium==4.2.0) (1.7.1)\n",
      "Requirement already satisfied: pyOpenSSL>=0.14 in ./opt/anaconda3/lib/python3.9/site-packages (from urllib3[secure,socks]~=1.26->selenium==4.2.0) (21.0.0)\n",
      "Requirement already satisfied: certifi in ./opt/anaconda3/lib/python3.9/site-packages (from urllib3[secure,socks]~=1.26->selenium==4.2.0) (2021.10.8)\n",
      "Requirement already satisfied: cryptography>=1.3.4 in ./opt/anaconda3/lib/python3.9/site-packages (from urllib3[secure,socks]~=1.26->selenium==4.2.0) (3.4.8)\n",
      "Requirement already satisfied: cffi>=1.12 in ./opt/anaconda3/lib/python3.9/site-packages (from cryptography>=1.3.4->urllib3[secure,socks]~=1.26->selenium==4.2.0) (1.15.0)\n",
      "Requirement already satisfied: six>=1.5.2 in ./opt/anaconda3/lib/python3.9/site-packages (from pyOpenSSL>=0.14->urllib3[secure,socks]~=1.26->selenium==4.2.0) (1.16.0)\n",
      "Collecting h11<1,>=0.9.0\n",
      "  Downloading h11-0.13.0-py3-none-any.whl (58 kB)\n",
      "\u001b[2K     \u001b[90m━━━━━━━━━━━━━━━━━━━━━━━━━━━━━━━━━━━━━━━━\u001b[0m \u001b[32m58.2/58.2 kB\u001b[0m \u001b[31m2.1 MB/s\u001b[0m eta \u001b[36m0:00:00\u001b[0m\n",
      "\u001b[?25hRequirement already satisfied: pycparser in ./opt/anaconda3/lib/python3.9/site-packages (from cffi>=1.12->cryptography>=1.3.4->urllib3[secure,socks]~=1.26->selenium==4.2.0) (2.21)\n",
      "Installing collected packages: outcome, h11, async-generator, wsproto, trio, trio-websocket, selenium\n",
      "Successfully installed async-generator-1.10 h11-0.13.0 outcome-1.2.0 selenium-4.2.0 trio-0.21.0 trio-websocket-0.9.2 wsproto-1.2.0\n"
     ]
    }
   ],
   "source": [
    "!pip install selenium==4.2.0"
   ]
  },
  {
   "cell_type": "code",
   "execution_count": 87,
   "id": "3bf66459",
   "metadata": {},
   "outputs": [
    {
     "name": "stdout",
     "output_type": "stream",
     "text": [
      "크롤링 할 키워드 : 추석\n"
     ]
    },
    {
     "name": "stderr",
     "output_type": "stream",
     "text": [
      "/var/folders/t4/vwr916y50fv3wcm0xlgfkyg00000gn/T/ipykernel_1786/2939168780.py:10: DeprecationWarning: executable_path has been deprecated, please pass in a Service object\n",
      "  driver = webdriver.Chrome(path)\n",
      "/var/folders/t4/vwr916y50fv3wcm0xlgfkyg00000gn/T/ipykernel_1786/2939168780.py:15: DeprecationWarning: find_element_by_* commands are deprecated. Please use find_element() instead\n",
      "  driver.find_element_by_id(\"inp_search\").click()\n",
      "/var/folders/t4/vwr916y50fv3wcm0xlgfkyg00000gn/T/ipykernel_1786/2939168780.py:16: DeprecationWarning: find_element_by_* commands are deprecated. Please use find_element() instead\n",
      "  element = driver.find_element_by_id(\"inp_search\")\n",
      "/var/folders/t4/vwr916y50fv3wcm0xlgfkyg00000gn/T/ipykernel_1786/2939168780.py:19: DeprecationWarning: find_element_by_link_text is deprecated. Please use find_element(by=By.LINK_TEXT, value=link_text) instead\n",
      "  driver.find_element_by_link_text(\"검색\").click()\n"
     ]
    }
   ],
   "source": [
    "import bs4\n",
    "from bs4 import BeautifulSoup\n",
    "from selenium import webdriver\n",
    "import time\n",
    "import sys\n",
    "\n",
    "query_txt = input(\"크롤링 할 키워드 : \")\n",
    "\n",
    "path = \"./Downloads/chromedriver_mac64/chromedriver\"\n",
    "driver = webdriver.Chrome(path)\n",
    "\n",
    "driver.get(\"https://korean.visitkorea.or.kr/main/main.do#home\")\n",
    "time.sleep(2)\n",
    "\n",
    "driver.find_element_by_id(\"inp_search\").click()\n",
    "element = driver.find_element_by_id(\"inp_search\")\n",
    "element.send_keys(query_txt)\n",
    "\n",
    "driver.find_element_by_link_text(\"검색\").click()"
   ]
  },
  {
   "cell_type": "code",
   "execution_count": 2,
   "id": "705cc91d",
   "metadata": {},
   "outputs": [
    {
     "name": "stdout",
     "output_type": "stream",
     "text": [
      "크롤링 할 키워드 : 추석\n"
     ]
    },
    {
     "name": "stderr",
     "output_type": "stream",
     "text": [
      "/var/folders/t4/vwr916y50fv3wcm0xlgfkyg00000gn/T/ipykernel_1786/3691329624.py:4: DeprecationWarning: executable_path has been deprecated, please pass in a Service object\n",
      "  driver = webdriver.Chrome(path)\n",
      "/var/folders/t4/vwr916y50fv3wcm0xlgfkyg00000gn/T/ipykernel_1786/3691329624.py:9: DeprecationWarning: find_element_by_* commands are deprecated. Please use find_element() instead\n",
      "  driver.find_element_by_id(\"inp_search\").click()\n",
      "/var/folders/t4/vwr916y50fv3wcm0xlgfkyg00000gn/T/ipykernel_1786/3691329624.py:10: DeprecationWarning: find_element_by_* commands are deprecated. Please use find_element() instead\n",
      "  element = driver.find_element_by_id(\"inp_search\")\n",
      "/var/folders/t4/vwr916y50fv3wcm0xlgfkyg00000gn/T/ipykernel_1786/3691329624.py:13: DeprecationWarning: find_element_by_link_text is deprecated. Please use find_element(by=By.LINK_TEXT, value=link_text) instead\n",
      "  driver.find_element_by_link_text(\"검색\").click()\n"
     ]
    }
   ],
   "source": [
    "query_txt = input(\"크롤링 할 키워드 : \")\n",
    "\n",
    "path = \"./Downloads/chromedriver_mac64/chromedriver\"\n",
    "driver = webdriver.Chrome(path)\n",
    "\n",
    "driver.get(\"https://korean.visitkorea.or.kr/main/main.do#home\")\n",
    "time.sleep(2)\n",
    "\n",
    "driver.find_element_by_id(\"inp_search\").click()\n",
    "element = driver.find_element_by_id(\"inp_search\")\n",
    "element.send_keys(query_txt)\n",
    "\n",
    "driver.find_element_by_link_text(\"검색\").click()"
   ]
  },
  {
   "cell_type": "code",
   "execution_count": 25,
   "id": "294b6527",
   "metadata": {},
   "outputs": [
    {
     "name": "stderr",
     "output_type": "stream",
     "text": [
      "/var/folders/t4/vwr916y50fv3wcm0xlgfkyg00000gn/T/ipykernel_1786/4204072853.py:10: DeprecationWarning: executable_path has been deprecated, please pass in a Service object\n",
      "  driver = webdriver.Chrome(path)\n",
      "/var/folders/t4/vwr916y50fv3wcm0xlgfkyg00000gn/T/ipykernel_1786/4204072853.py:36: DeprecationWarning: find_element_by_class_name is deprecated. Please use find_element(by=By.CLASS_NAME, value=name) instead\n",
      "  driver.find_element_by_class_name(\"menu_btn\").click()\n",
      "/var/folders/t4/vwr916y50fv3wcm0xlgfkyg00000gn/T/ipykernel_1786/4204072853.py:40: DeprecationWarning: find_element_by_link_text is deprecated. Please use find_element(by=By.LINK_TEXT, value=link_text) instead\n",
      "  driver.find_element_by_link_text(\"특집관\").click()\n"
     ]
    }
   ],
   "source": [
    "from bs4 import BeautifulSoup\n",
    "from selenium import webdriver\n",
    "# 2.2.1 Ver.\n",
    "# from selenium.webdriver.common.BY\n",
    "import time\n",
    "\n",
    "\n",
    "# 크롬 드라이버를 사용한 웹 브라우저를 실행\n",
    "path = \"./Downloads/chromedriver_mac64/chromedriver\"\n",
    "driver = webdriver.Chrome(path)\n",
    "# 사파리 사용시\n",
    "# webdriver.Safari()\n",
    "\n",
    "\n",
    "driver.get(\"https://korean.visitkorea.or.kr/main/main.do#home\")\n",
    "time.sleep(1)\n",
    "\n",
    "\n",
    "# id로 가져온다.\n",
    "# driver.find_element_by_id(\"btnMenu\").click()\n",
    "\n",
    "# 태그명으로 가져온다.\n",
    "# 제일 위에있는 버튼 태그를 인식해서 가져온다.\n",
    "# driver.find_element_by_tag_name(\"button\").click()\n",
    "\n",
    "# xpath로 가져온다.\n",
    "# driver.find_element_by_xpath(\"/html/body/header/div/div/div/div/span\").click()\n",
    "# driver.find_element_by_xpath(\"//header/div/div/div/div/span\").click()\n",
    "# driver.find_element_by_xpath(\"//span/button[@id='btnMenu']\").click()\n",
    "\n",
    "\n",
    "# css Selector로 가져온다.\n",
    "# driver.find_element_by_css_selector(\"span.menuBtn\").click()\n",
    "\n",
    "# class name으로 가져온다.\n",
    "driver.find_element_by_class_name(\"menu_btn\").click()\n",
    "\n",
    "\n",
    "# link text로 가져온다.\n",
    "driver.find_element_by_link_text(\"특집관\").click()"
   ]
  },
  {
   "cell_type": "code",
   "execution_count": 52,
   "id": "ddcc0b81",
   "metadata": {},
   "outputs": [
    {
     "name": "stdout",
     "output_type": "stream",
     "text": [
      "검색어를 입력하세요 : 강남\n"
     ]
    },
    {
     "name": "stderr",
     "output_type": "stream",
     "text": [
      "/var/folders/t4/vwr916y50fv3wcm0xlgfkyg00000gn/T/ipykernel_1786/4070549940.py:5: DeprecationWarning: executable_path has been deprecated, please pass in a Service object\n",
      "  driver = webdriver.Chrome(path)\n",
      "/var/folders/t4/vwr916y50fv3wcm0xlgfkyg00000gn/T/ipykernel_1786/4070549940.py:13: DeprecationWarning: find_element_by_class_name is deprecated. Please use find_element(by=By.CLASS_NAME, value=name) instead\n",
      "  driver.find_element_by_class_name(\"map_go\").click()\n",
      "/var/folders/t4/vwr916y50fv3wcm0xlgfkyg00000gn/T/ipykernel_1786/4070549940.py:18: DeprecationWarning: find_element_by_* commands are deprecated. Please use find_element() instead\n",
      "  driver.find_element_by_id(\"inp_search\").click()\n",
      "/var/folders/t4/vwr916y50fv3wcm0xlgfkyg00000gn/T/ipykernel_1786/4070549940.py:19: DeprecationWarning: find_element_by_* commands are deprecated. Please use find_element() instead\n",
      "  element = driver.find_element_by_id(\"inp_search\")\n",
      "/var/folders/t4/vwr916y50fv3wcm0xlgfkyg00000gn/T/ipykernel_1786/4070549940.py:27: DeprecationWarning: find_element_by_xpath is deprecated. Please use find_element(by=By.XPATH, value=xpath) instead\n",
      "  driver.find_element_by_xpath(\"//ul/li[@label='tour']\").click()\n",
      "/var/folders/t4/vwr916y50fv3wcm0xlgfkyg00000gn/T/ipykernel_1786/4070549940.py:28: DeprecationWarning: find_element_by_xpath is deprecated. Please use find_element(by=By.XPATH, value=xpath) instead\n",
      "  driver.find_element_by_xpath(\"//ul/li[@label='food']\").click()\n",
      "/var/folders/t4/vwr916y50fv3wcm0xlgfkyg00000gn/T/ipykernel_1786/4070549940.py:29: DeprecationWarning: find_element_by_xpath is deprecated. Please use find_element(by=By.XPATH, value=xpath) instead\n",
      "  driver.find_element_by_xpath(\"//ul/li[@label='parking']\").click()\n",
      "/var/folders/t4/vwr916y50fv3wcm0xlgfkyg00000gn/T/ipykernel_1786/4070549940.py:30: DeprecationWarning: find_element_by_xpath is deprecated. Please use find_element(by=By.XPATH, value=xpath) instead\n",
      "  driver.find_element_by_xpath(\"//ul/li[@label='hotel']\").click()\n"
     ]
    }
   ],
   "source": [
    "# 검색어를 입력받습니다.\n",
    "keyword = input(\"검색어를 입력하세요 : \")\n",
    "\n",
    "path = \"./Downloads/chromedriver_mac64/chromedriver\"\n",
    "driver = webdriver.Chrome(path)\n",
    "# 사파리 사용시\n",
    "# webdriver.Safari()\n",
    "\n",
    "\n",
    "driver.get(\"https://korean.visitkorea.or.kr/main/main.do#home\")\n",
    "time.sleep(1)\n",
    "\n",
    "driver.find_element_by_class_name(\"map_go\").click()\n",
    "\n",
    "time.sleep(7)\n",
    "\n",
    "# 검색창에 입력값 입력.\n",
    "driver.find_element_by_id(\"inp_search\").click()\n",
    "element = driver.find_element_by_id(\"inp_search\")\n",
    "element.send_keys(keyword)\n",
    "\n",
    "# 엔터 버튼을 눌러 실행합니다.\n",
    "enter = webdriver.Keys.ENTER\n",
    "element.send_keys(enter)\n",
    "\n",
    "# 조건들을 클릭합니다.\n",
    "driver.find_element_by_xpath(\"//ul/li[@label='tour']\").click()\n",
    "driver.find_element_by_xpath(\"//ul/li[@label='food']\").click()\n",
    "driver.find_element_by_xpath(\"//ul/li[@label='parking']\").click()\n",
    "driver.find_element_by_xpath(\"//ul/li[@label='hotel']\").click()"
   ]
  },
  {
   "cell_type": "code",
   "execution_count": 53,
   "id": "e1c39406",
   "metadata": {},
   "outputs": [
    {
     "name": "stdout",
     "output_type": "stream",
     "text": [
      "검색어를 입력하세요 : 네이버\n"
     ]
    },
    {
     "name": "stderr",
     "output_type": "stream",
     "text": [
      "/var/folders/t4/vwr916y50fv3wcm0xlgfkyg00000gn/T/ipykernel_1786/1622334672.py:6: DeprecationWarning: executable_path has been deprecated, please pass in a Service object\n",
      "  driver = webdriver.Chrome(path)\n",
      "/var/folders/t4/vwr916y50fv3wcm0xlgfkyg00000gn/T/ipykernel_1786/1622334672.py:16: DeprecationWarning: find_element_by_xpath is deprecated. Please use find_element(by=By.XPATH, value=xpath) instead\n",
      "  driver.find_element_by_xpath(\"//div/input[@class='gLFyf gsfi']\").click()\n",
      "/var/folders/t4/vwr916y50fv3wcm0xlgfkyg00000gn/T/ipykernel_1786/1622334672.py:17: DeprecationWarning: find_element_by_xpath is deprecated. Please use find_element(by=By.XPATH, value=xpath) instead\n",
      "  element = driver.find_element_by_xpath(\"//div/input[@class='gLFyf gsfi']\")\n"
     ]
    }
   ],
   "source": [
    "# 구글 검색\n",
    "# 검색어를 입력받습니다.\n",
    "keyword = input(\"검색어를 입력하세요 : \")\n",
    "\n",
    "path = \"./Downloads/chromedriver_mac64/chromedriver\"\n",
    "driver = webdriver.Chrome(path)\n",
    "# 사파리 사용시\n",
    "# webdriver.Safari()\n",
    "\n",
    "# 웹에 주소를 입력합니다.\n",
    "driver.get(\"https://www.google.com\")\n",
    "time.sleep(1)\n",
    "\n",
    "\n",
    "# 검색창을 클릭한뒤 입력받은 키워드를 입력합니다.\n",
    "driver.find_element_by_xpath(\"//div/input[@class='gLFyf gsfi']\").click()\n",
    "element = driver.find_element_by_xpath(\"//div/input[@class='gLFyf gsfi']\")\n",
    "element.send_keys(keyword)\n",
    "\n",
    "\n",
    "# 엔터 버튼을 눌러 실행합니다.\n",
    "enter = webdriver.Keys.ENTER\n",
    "element.send_keys(enter)\n"
   ]
  },
  {
   "cell_type": "code",
   "execution_count": 61,
   "id": "b8db864e",
   "metadata": {},
   "outputs": [
    {
     "name": "stdout",
     "output_type": "stream",
     "text": [
      "id를 입력하세요 : ididid\n",
      "pw를 입력하세요 : pwpwpwpw\n"
     ]
    },
    {
     "name": "stderr",
     "output_type": "stream",
     "text": [
      "/var/folders/t4/vwr916y50fv3wcm0xlgfkyg00000gn/T/ipykernel_1786/159685270.py:9: DeprecationWarning: executable_path has been deprecated, please pass in a Service object\n",
      "  driver = webdriver.Chrome(path)\n",
      "/var/folders/t4/vwr916y50fv3wcm0xlgfkyg00000gn/T/ipykernel_1786/159685270.py:16: DeprecationWarning: find_element_by_xpath is deprecated. Please use find_element(by=By.XPATH, value=xpath) instead\n",
      "  driver.find_element_by_xpath(\"//div/a[@class='link_login']\").click()\n",
      "/var/folders/t4/vwr916y50fv3wcm0xlgfkyg00000gn/T/ipykernel_1786/159685270.py:19: DeprecationWarning: find_element_by_xpath is deprecated. Please use find_element(by=By.XPATH, value=xpath) instead\n",
      "  driver.find_element_by_xpath(\"//div/input[@id='id']\").click()\n",
      "/var/folders/t4/vwr916y50fv3wcm0xlgfkyg00000gn/T/ipykernel_1786/159685270.py:20: DeprecationWarning: find_element_by_xpath is deprecated. Please use find_element(by=By.XPATH, value=xpath) instead\n",
      "  ele_id = driver.find_element_by_xpath(\"//div/input[@id='id']\")\n",
      "/var/folders/t4/vwr916y50fv3wcm0xlgfkyg00000gn/T/ipykernel_1786/159685270.py:24: DeprecationWarning: find_element_by_xpath is deprecated. Please use find_element(by=By.XPATH, value=xpath) instead\n",
      "  driver.find_element_by_xpath(\"//div/input[@id='pw']\").click()\n",
      "/var/folders/t4/vwr916y50fv3wcm0xlgfkyg00000gn/T/ipykernel_1786/159685270.py:25: DeprecationWarning: find_element_by_xpath is deprecated. Please use find_element(by=By.XPATH, value=xpath) instead\n",
      "  ele_id = driver.find_element_by_xpath(\"//div/input[@id='pw']\")\n",
      "/var/folders/t4/vwr916y50fv3wcm0xlgfkyg00000gn/T/ipykernel_1786/159685270.py:29: DeprecationWarning: find_element_by_* commands are deprecated. Please use find_element() instead\n",
      "  driver.find_element_by_id(\"log.login\").click()\n"
     ]
    }
   ],
   "source": [
    "# 네이버 로그인\n",
    "# 아이디, 비번 입력받기.\n",
    "keyword_id = input(\"id를 입력하세요 : \")\n",
    "keyword_pw = input(\"pw를 입력하세요 : \")\n",
    "\n",
    "\n",
    "# 크롬 드라이버 실행\n",
    "path = \"./Downloads/chromedriver_mac64/chromedriver\"\n",
    "driver = webdriver.Chrome(path)\n",
    "\n",
    "# 웹 주소 입력 및 네이버 실행\n",
    "driver.get(\"https://www.naver.com\")\n",
    "time.sleep(1)\n",
    "\n",
    "# 로그인 버튼 클릭\n",
    "driver.find_element_by_xpath(\"//div/a[@class='link_login']\").click()\n",
    "\n",
    "# id 인풋에 id 입력\n",
    "driver.find_element_by_xpath(\"//div/input[@id='id']\").click()\n",
    "ele_id = driver.find_element_by_xpath(\"//div/input[@id='id']\")\n",
    "ele_id.send_keys(keyword_id)\n",
    "\n",
    "# pw 인풋에 pw 입력\n",
    "driver.find_element_by_xpath(\"//div/input[@id='pw']\").click()\n",
    "ele_id = driver.find_element_by_xpath(\"//div/input[@id='pw']\")\n",
    "ele_id.send_keys(keyword_pw)\n",
    "\n",
    "# 로그인 버튼 클릭\n",
    "driver.find_element_by_id(\"log.login\").click()"
   ]
  },
  {
   "cell_type": "code",
   "execution_count": 77,
   "id": "b341119b",
   "metadata": {},
   "outputs": [
    {
     "name": "stdout",
     "output_type": "stream",
     "text": [
      "검색어를 입력하세요 : 가로수길\n"
     ]
    },
    {
     "name": "stderr",
     "output_type": "stream",
     "text": [
      "/var/folders/t4/vwr916y50fv3wcm0xlgfkyg00000gn/T/ipykernel_1786/761915624.py:9: DeprecationWarning: executable_path has been deprecated, please pass in a Service object\n",
      "  driver = webdriver.Chrome(path)\n",
      "/var/folders/t4/vwr916y50fv3wcm0xlgfkyg00000gn/T/ipykernel_1786/761915624.py:16: DeprecationWarning: find_element_by_xpath is deprecated. Please use find_element(by=By.XPATH, value=xpath) instead\n",
      "  driver.find_element_by_xpath(\"//div/input[@class='gLFyf gsfi']\").click()\n",
      "/var/folders/t4/vwr916y50fv3wcm0xlgfkyg00000gn/T/ipykernel_1786/761915624.py:19: DeprecationWarning: find_element_by_xpath is deprecated. Please use find_element(by=By.XPATH, value=xpath) instead\n",
      "  g_search = driver.find_element_by_xpath(\"//div/input[@class='gLFyf gsfi']\")\n",
      "/var/folders/t4/vwr916y50fv3wcm0xlgfkyg00000gn/T/ipykernel_1786/761915624.py:25: DeprecationWarning: find_element_by_xpath is deprecated. Please use find_element(by=By.XPATH, value=xpath) instead\n",
      "  driver.find_element_by_xpath(\"//a/h3[@class='LC20lb MBeuO DKV0Md']\").click()\n",
      "/var/folders/t4/vwr916y50fv3wcm0xlgfkyg00000gn/T/ipykernel_1786/761915624.py:29: DeprecationWarning: find_element_by_css_selector is deprecated. Please use find_element(by=By.CSS_SELECTOR, value=css_selector) instead\n",
      "  n_search = driver.find_element_by_css_selector(\"input.input_search ng-pristine ng-valid ng-touched\")\n"
     ]
    },
    {
     "ename": "NoSuchElementException",
     "evalue": "Message: no such element: Unable to locate element: {\"method\":\"css selector\",\"selector\":\"input.input_search ng-pristine ng-valid ng-touched\"}\n  (Session info: chrome=105.0.5195.102)\nStacktrace:\n0   chromedriver                        0x000000010b936788 chromedriver + 4515720\n1   chromedriver                        0x000000010b8ba9d3 chromedriver + 4008403\n2   chromedriver                        0x000000010b54d12a chromedriver + 413994\n3   chromedriver                        0x000000010b584873 chromedriver + 641139\n4   chromedriver                        0x000000010b584a61 chromedriver + 641633\n5   chromedriver                        0x000000010b5b6f64 chromedriver + 847716\n6   chromedriver                        0x000000010b5a17fd chromedriver + 759805\n7   chromedriver                        0x000000010b5b4bd9 chromedriver + 838617\n8   chromedriver                        0x000000010b5a1603 chromedriver + 759299\n9   chromedriver                        0x000000010b577990 chromedriver + 588176\n10  chromedriver                        0x000000010b578a75 chromedriver + 592501\n11  chromedriver                        0x000000010b9066cd chromedriver + 4318925\n12  chromedriver                        0x000000010b90af35 chromedriver + 4337461\n13  chromedriver                        0x000000010b9121ff chromedriver + 4366847\n14  chromedriver                        0x000000010b90bc5a chromedriver + 4340826\n15  chromedriver                        0x000000010b8e1c2c chromedriver + 4168748\n16  chromedriver                        0x000000010b9284f8 chromedriver + 4457720\n17  chromedriver                        0x000000010b928693 chromedriver + 4458131\n18  chromedriver                        0x000000010b93da3e chromedriver + 4545086\n19  libsystem_pthread.dylib             0x00007ff80873a4e1 _pthread_start + 125\n20  libsystem_pthread.dylib             0x00007ff808735f6b thread_start + 15\n",
     "output_type": "error",
     "traceback": [
      "\u001b[0;31m---------------------------------------------------------------------------\u001b[0m",
      "\u001b[0;31mNoSuchElementException\u001b[0m                    Traceback (most recent call last)",
      "Input \u001b[0;32mIn [77]\u001b[0m, in \u001b[0;36m<cell line: 29>\u001b[0;34m()\u001b[0m\n\u001b[1;32m     27\u001b[0m \u001b[38;5;66;03m# 네이버 지도 검색창 클릭\u001b[39;00m\n\u001b[1;32m     28\u001b[0m time\u001b[38;5;241m.\u001b[39msleep(\u001b[38;5;241m6\u001b[39m)\n\u001b[0;32m---> 29\u001b[0m n_search \u001b[38;5;241m=\u001b[39m \u001b[43mdriver\u001b[49m\u001b[38;5;241;43m.\u001b[39;49m\u001b[43mfind_element_by_css_selector\u001b[49m\u001b[43m(\u001b[49m\u001b[38;5;124;43m\"\u001b[39;49m\u001b[38;5;124;43minput.input_search ng-pristine ng-valid ng-touched\u001b[39;49m\u001b[38;5;124;43m\"\u001b[39;49m\u001b[43m)\u001b[49m\n\u001b[1;32m     31\u001b[0m \u001b[38;5;66;03m# driver.find_element_by_xpath(\"//div/input[@class='input_search ng-pristine ng-valid ng-touched']\")\u001b[39;00m\n\u001b[1;32m     33\u001b[0m n_search\u001b[38;5;241m.\u001b[39msend_keys(naver_input)\n",
      "File \u001b[0;32m~/opt/anaconda3/lib/python3.9/site-packages/selenium/webdriver/remote/webdriver.py:814\u001b[0m, in \u001b[0;36mWebDriver.find_element_by_css_selector\u001b[0;34m(self, css_selector)\u001b[0m\n\u001b[1;32m    792\u001b[0m \u001b[38;5;124;03m\"\"\"\u001b[39;00m\n\u001b[1;32m    793\u001b[0m \u001b[38;5;124;03mFinds an element by css selector.\u001b[39;00m\n\u001b[1;32m    794\u001b[0m \n\u001b[0;32m   (...)\u001b[0m\n\u001b[1;32m    807\u001b[0m \u001b[38;5;124;03m        element = driver.find_element_by_css_selector('#foo')\u001b[39;00m\n\u001b[1;32m    808\u001b[0m \u001b[38;5;124;03m\"\"\"\u001b[39;00m\n\u001b[1;32m    809\u001b[0m warnings\u001b[38;5;241m.\u001b[39mwarn(\n\u001b[1;32m    810\u001b[0m     \u001b[38;5;124m\"\u001b[39m\u001b[38;5;124mfind_element_by_css_selector is deprecated. Please use find_element(by=By.CSS_SELECTOR, value=css_selector) instead\u001b[39m\u001b[38;5;124m\"\u001b[39m,\n\u001b[1;32m    811\u001b[0m     \u001b[38;5;167;01mDeprecationWarning\u001b[39;00m,\n\u001b[1;32m    812\u001b[0m     stacklevel\u001b[38;5;241m=\u001b[39m\u001b[38;5;241m2\u001b[39m,\n\u001b[1;32m    813\u001b[0m )\n\u001b[0;32m--> 814\u001b[0m \u001b[38;5;28;01mreturn\u001b[39;00m \u001b[38;5;28;43mself\u001b[39;49m\u001b[38;5;241;43m.\u001b[39;49m\u001b[43mfind_element\u001b[49m\u001b[43m(\u001b[49m\u001b[43mby\u001b[49m\u001b[38;5;241;43m=\u001b[39;49m\u001b[43mBy\u001b[49m\u001b[38;5;241;43m.\u001b[39;49m\u001b[43mCSS_SELECTOR\u001b[49m\u001b[43m,\u001b[49m\u001b[43m \u001b[49m\u001b[43mvalue\u001b[49m\u001b[38;5;241;43m=\u001b[39;49m\u001b[43mcss_selector\u001b[49m\u001b[43m)\u001b[49m\n",
      "File \u001b[0;32m~/opt/anaconda3/lib/python3.9/site-packages/selenium/webdriver/remote/webdriver.py:1251\u001b[0m, in \u001b[0;36mWebDriver.find_element\u001b[0;34m(self, by, value)\u001b[0m\n\u001b[1;32m   1248\u001b[0m     by \u001b[38;5;241m=\u001b[39m By\u001b[38;5;241m.\u001b[39mCSS_SELECTOR\n\u001b[1;32m   1249\u001b[0m     value \u001b[38;5;241m=\u001b[39m \u001b[38;5;124m'\u001b[39m\u001b[38;5;124m[name=\u001b[39m\u001b[38;5;124m\"\u001b[39m\u001b[38;5;132;01m%s\u001b[39;00m\u001b[38;5;124m\"\u001b[39m\u001b[38;5;124m]\u001b[39m\u001b[38;5;124m'\u001b[39m \u001b[38;5;241m%\u001b[39m value\n\u001b[0;32m-> 1251\u001b[0m \u001b[38;5;28;01mreturn\u001b[39;00m \u001b[38;5;28;43mself\u001b[39;49m\u001b[38;5;241;43m.\u001b[39;49m\u001b[43mexecute\u001b[49m\u001b[43m(\u001b[49m\u001b[43mCommand\u001b[49m\u001b[38;5;241;43m.\u001b[39;49m\u001b[43mFIND_ELEMENT\u001b[49m\u001b[43m,\u001b[49m\u001b[43m \u001b[49m\u001b[43m{\u001b[49m\n\u001b[1;32m   1252\u001b[0m \u001b[43m    \u001b[49m\u001b[38;5;124;43m'\u001b[39;49m\u001b[38;5;124;43musing\u001b[39;49m\u001b[38;5;124;43m'\u001b[39;49m\u001b[43m:\u001b[49m\u001b[43m \u001b[49m\u001b[43mby\u001b[49m\u001b[43m,\u001b[49m\n\u001b[1;32m   1253\u001b[0m \u001b[43m    \u001b[49m\u001b[38;5;124;43m'\u001b[39;49m\u001b[38;5;124;43mvalue\u001b[39;49m\u001b[38;5;124;43m'\u001b[39;49m\u001b[43m:\u001b[49m\u001b[43m \u001b[49m\u001b[43mvalue\u001b[49m\u001b[43m}\u001b[49m\u001b[43m)\u001b[49m[\u001b[38;5;124m'\u001b[39m\u001b[38;5;124mvalue\u001b[39m\u001b[38;5;124m'\u001b[39m]\n",
      "File \u001b[0;32m~/opt/anaconda3/lib/python3.9/site-packages/selenium/webdriver/remote/webdriver.py:430\u001b[0m, in \u001b[0;36mWebDriver.execute\u001b[0;34m(self, driver_command, params)\u001b[0m\n\u001b[1;32m    428\u001b[0m response \u001b[38;5;241m=\u001b[39m \u001b[38;5;28mself\u001b[39m\u001b[38;5;241m.\u001b[39mcommand_executor\u001b[38;5;241m.\u001b[39mexecute(driver_command, params)\n\u001b[1;32m    429\u001b[0m \u001b[38;5;28;01mif\u001b[39;00m response:\n\u001b[0;32m--> 430\u001b[0m     \u001b[38;5;28;43mself\u001b[39;49m\u001b[38;5;241;43m.\u001b[39;49m\u001b[43merror_handler\u001b[49m\u001b[38;5;241;43m.\u001b[39;49m\u001b[43mcheck_response\u001b[49m\u001b[43m(\u001b[49m\u001b[43mresponse\u001b[49m\u001b[43m)\u001b[49m\n\u001b[1;32m    431\u001b[0m     response[\u001b[38;5;124m'\u001b[39m\u001b[38;5;124mvalue\u001b[39m\u001b[38;5;124m'\u001b[39m] \u001b[38;5;241m=\u001b[39m \u001b[38;5;28mself\u001b[39m\u001b[38;5;241m.\u001b[39m_unwrap_value(\n\u001b[1;32m    432\u001b[0m         response\u001b[38;5;241m.\u001b[39mget(\u001b[38;5;124m'\u001b[39m\u001b[38;5;124mvalue\u001b[39m\u001b[38;5;124m'\u001b[39m, \u001b[38;5;28;01mNone\u001b[39;00m))\n\u001b[1;32m    433\u001b[0m     \u001b[38;5;28;01mreturn\u001b[39;00m response\n",
      "File \u001b[0;32m~/opt/anaconda3/lib/python3.9/site-packages/selenium/webdriver/remote/errorhandler.py:247\u001b[0m, in \u001b[0;36mErrorHandler.check_response\u001b[0;34m(self, response)\u001b[0m\n\u001b[1;32m    245\u001b[0m         alert_text \u001b[38;5;241m=\u001b[39m value[\u001b[38;5;124m'\u001b[39m\u001b[38;5;124malert\u001b[39m\u001b[38;5;124m'\u001b[39m]\u001b[38;5;241m.\u001b[39mget(\u001b[38;5;124m'\u001b[39m\u001b[38;5;124mtext\u001b[39m\u001b[38;5;124m'\u001b[39m)\n\u001b[1;32m    246\u001b[0m     \u001b[38;5;28;01mraise\u001b[39;00m exception_class(message, screen, stacktrace, alert_text)  \u001b[38;5;66;03m# type: ignore[call-arg]  # mypy is not smart enough here\u001b[39;00m\n\u001b[0;32m--> 247\u001b[0m \u001b[38;5;28;01mraise\u001b[39;00m exception_class(message, screen, stacktrace)\n",
      "\u001b[0;31mNoSuchElementException\u001b[0m: Message: no such element: Unable to locate element: {\"method\":\"css selector\",\"selector\":\"input.input_search ng-pristine ng-valid ng-touched\"}\n  (Session info: chrome=105.0.5195.102)\nStacktrace:\n0   chromedriver                        0x000000010b936788 chromedriver + 4515720\n1   chromedriver                        0x000000010b8ba9d3 chromedriver + 4008403\n2   chromedriver                        0x000000010b54d12a chromedriver + 413994\n3   chromedriver                        0x000000010b584873 chromedriver + 641139\n4   chromedriver                        0x000000010b584a61 chromedriver + 641633\n5   chromedriver                        0x000000010b5b6f64 chromedriver + 847716\n6   chromedriver                        0x000000010b5a17fd chromedriver + 759805\n7   chromedriver                        0x000000010b5b4bd9 chromedriver + 838617\n8   chromedriver                        0x000000010b5a1603 chromedriver + 759299\n9   chromedriver                        0x000000010b577990 chromedriver + 588176\n10  chromedriver                        0x000000010b578a75 chromedriver + 592501\n11  chromedriver                        0x000000010b9066cd chromedriver + 4318925\n12  chromedriver                        0x000000010b90af35 chromedriver + 4337461\n13  chromedriver                        0x000000010b9121ff chromedriver + 4366847\n14  chromedriver                        0x000000010b90bc5a chromedriver + 4340826\n15  chromedriver                        0x000000010b8e1c2c chromedriver + 4168748\n16  chromedriver                        0x000000010b9284f8 chromedriver + 4457720\n17  chromedriver                        0x000000010b928693 chromedriver + 4458131\n18  chromedriver                        0x000000010b93da3e chromedriver + 4545086\n19  libsystem_pthread.dylib             0x00007ff80873a4e1 _pthread_start + 125\n20  libsystem_pthread.dylib             0x00007ff808735f6b thread_start + 15\n"
     ]
    }
   ],
   "source": [
    "# 구글에서 네이버지도 입력해서 가로수길에 카페 검색하기\n",
    "# 아이디, 비번 입력받기.\n",
    "google_input = \"네이버 지도\"\n",
    "naver_input = input(\"검색어를 입력하세요 : \")\n",
    "\n",
    "\n",
    "# 크롬 드라이버 실행\n",
    "path = \"./Downloads/chromedriver_mac64/chromedriver\"\n",
    "driver = webdriver.Chrome(path)\n",
    "\n",
    "# 웹 주소 입력 및 네이버 실행\n",
    "driver.get(\"https://www.google.com\")\n",
    "time.sleep(1)\n",
    "\n",
    "# 구글 검색창 클릭\n",
    "driver.find_element_by_xpath(\"//div/input[@class='gLFyf gsfi']\").click()\n",
    "\n",
    "# 구글 검색창에 네이버 지도 입력 및 엔터\n",
    "g_search = driver.find_element_by_xpath(\"//div/input[@class='gLFyf gsfi']\")\n",
    "g_search.send_keys(google_input)\n",
    "enter = webdriver.Keys.ENTER\n",
    "g_search.send_keys(enter)\n",
    "\n",
    "# 네이버 지도 클릭\n",
    "driver.find_element_by_xpath(\"//a/h3[@class='LC20lb MBeuO DKV0Md']\").click()\n",
    "\n",
    "# 네이버 지도 검색창 클릭\n",
    "time.sleep(6)\n",
    "n_search = driver.find_element_by_css_selector(\"input.input_search ng-pristine ng-valid ng-touched\")\n",
    "\n",
    "# driver.find_element_by_xpath(\"//div/input[@class='input_search ng-pristine ng-valid ng-touched']\")\n",
    "\n",
    "n_search.send_keys(naver_input)\n",
    "\n",
    "# 네이버지도 검색창에 키워드 입력 및 엔터\n",
    "# n_search = driver.find_element_by_xpath(\"//div/input[@class='input_search ng-pristine ng-valid ng-touched']\")\n",
    "# n_search.send_keys(naver_input)\n",
    "# n_search.send_keys(enter)\n",
    "\n"
   ]
  },
  {
   "cell_type": "code",
   "execution_count": 100,
   "id": "2777b1b9",
   "metadata": {},
   "outputs": [
    {
     "name": "stdout",
     "output_type": "stream",
     "text": [
      "검색결과를 저장할 파일 경로와 이름을 입력하세요(예:/data/test.txt) : /Users/werther/festi.txt\n",
      "검색어를 입력하세요 : 축제\n"
     ]
    },
    {
     "name": "stderr",
     "output_type": "stream",
     "text": [
      "/var/folders/t4/vwr916y50fv3wcm0xlgfkyg00000gn/T/ipykernel_1786/2538862835.py:10: DeprecationWarning: executable_path has been deprecated, please pass in a Service object\n",
      "  driver = webdriver.Chrome(path)\n",
      "/var/folders/t4/vwr916y50fv3wcm0xlgfkyg00000gn/T/ipykernel_1786/2538862835.py:20: DeprecationWarning: find_element_by_xpath is deprecated. Please use find_element(by=By.XPATH, value=xpath) instead\n",
      "  driver.find_element_by_xpath(\"//div/input[@class='gLFyf gsfi']\").click()\n",
      "/var/folders/t4/vwr916y50fv3wcm0xlgfkyg00000gn/T/ipykernel_1786/2538862835.py:21: DeprecationWarning: find_element_by_xpath is deprecated. Please use find_element(by=By.XPATH, value=xpath) instead\n",
      "  element = driver.find_element_by_xpath(\"//div/input[@class='gLFyf gsfi']\")\n"
     ]
    },
    {
     "name": "stdout",
     "output_type": "stream",
     "text": [
      "['\\n', '\\n', '\\n', '이달의 행사 및 축제 - 서울특별시https://www.seoul.go.kr › thismteventfstvl › listhttps://www.seoul.go.kr › thismteventfstvl › list저장된\\xa0페이지이달의 행사 및 축제 · 분야 선택. 모든분야 교통 안전 주택 경제 환경 문화 복지 행정 · 기간 선택. 오늘 최근 일주일 최근 한달. 예) 2018-08-15. 시작날짜 선택 - 종료\\xa0...\\n', '축제https://korean.visitkorea.or.kr › list › fes_listhttps://korean.visitkorea.or.kr › list › fes_list저장된\\xa0페이지본문 바로가기. Hot축제. 새로고침 내 위치 OFF. 총건. 최신순 거리순 인기순. 상세조회. 최신순. 태그선택. 닫기. #전체; #1월; #2월; #3월; #4월; #5월; #6월; #7월\\n']\n"
     ]
    }
   ],
   "source": [
    "# 검색결과를 저장할 파일경로와 파일이름 입력\n",
    "f_name = input(\"검색결과를 저장할 파일 경로와 이름을 입력하세요(예:/data/test.txt) : \")\n",
    "\n",
    "\n",
    "# 구글 검색\n",
    "# 검색어를 입력받습니다.\n",
    "keyword = input(\"검색어를 입력하세요 : \")\n",
    "\n",
    "path = \"./Downloads/chromedriver_mac64/chromedriver\"\n",
    "driver = webdriver.Chrome(path)\n",
    "# 사파리 사용시\n",
    "# webdriver.Safari()\n",
    "\n",
    "# 웹에 주소를 입력합니다.\n",
    "driver.get(\"https://www.google.com\")\n",
    "time.sleep(1)\n",
    "\n",
    "\n",
    "# 검색창을 클릭한뒤 입력받은 키워드를 입력합니다.\n",
    "driver.find_element_by_xpath(\"//div/input[@class='gLFyf gsfi']\").click()\n",
    "element = driver.find_element_by_xpath(\"//div/input[@class='gLFyf gsfi']\")\n",
    "element.send_keys(keyword)\n",
    "\n",
    "\n",
    "# 엔터 버튼을 눌러 실행합니다.\n",
    "enter = webdriver.Keys.ENTER\n",
    "element.send_keys(enter)\n",
    "time.sleep(2)\n",
    "\n",
    "\n",
    "# 현제 페이지의 html코드를 불러온다. 지금 부터 BeautifulSoup 숲의 영역\n",
    "full_html = driver.page_source\n",
    "\n",
    "\n",
    "soup = BeautifulSoup(full_html, \"html.parser\")\n",
    "# soud.find('ul', class_ = \"list_thumType type1\")[0]\n",
    "contents = soup.select('ul', class_= \"dbg0pd\")\n",
    "\n",
    "\n",
    "# 파일 쓰기\n",
    "with open(f_name, 'a') as f :\n",
    "    for i in contents :\n",
    "        print(i.text.strip(), file = f)\n",
    "\n",
    "# 파일 읽기\n",
    "with open(f_name, \"r\") as f : \n",
    "    line = f.readlines()\n",
    "    print(line)\n",
    "    \n"
   ]
  },
  {
   "cell_type": "code",
   "execution_count": 86,
   "id": "ae440014",
   "metadata": {},
   "outputs": [
    {
     "name": "stderr",
     "output_type": "stream",
     "text": [
      "/var/folders/t4/vwr916y50fv3wcm0xlgfkyg00000gn/T/ipykernel_1786/3365369119.py:6: DeprecationWarning: executable_path has been deprecated, please pass in a Service object\n",
      "  driver = webdriver.Chrome(path)\n",
      "/var/folders/t4/vwr916y50fv3wcm0xlgfkyg00000gn/T/ipykernel_1786/3365369119.py:12: DeprecationWarning: find_element_by_css_selector is deprecated. Please use find_element(by=By.CSS_SELECTOR, value=css_selector) instead\n",
      "  driver.find_element_by_css_selector(\"li.link_navbar directions\").click()\n"
     ]
    },
    {
     "ename": "NoSuchElementException",
     "evalue": "Message: no such element: Unable to locate element: {\"method\":\"css selector\",\"selector\":\"li.link_navbar directions\"}\n  (Session info: chrome=105.0.5195.102)\nStacktrace:\n0   chromedriver                        0x000000010f554788 chromedriver + 4515720\n1   chromedriver                        0x000000010f4d89d3 chromedriver + 4008403\n2   chromedriver                        0x000000010f16b12a chromedriver + 413994\n3   chromedriver                        0x000000010f1a2873 chromedriver + 641139\n4   chromedriver                        0x000000010f1a2a61 chromedriver + 641633\n5   chromedriver                        0x000000010f1d4f64 chromedriver + 847716\n6   chromedriver                        0x000000010f1bf7fd chromedriver + 759805\n7   chromedriver                        0x000000010f1d2bd9 chromedriver + 838617\n8   chromedriver                        0x000000010f1bf603 chromedriver + 759299\n9   chromedriver                        0x000000010f195990 chromedriver + 588176\n10  chromedriver                        0x000000010f196a75 chromedriver + 592501\n11  chromedriver                        0x000000010f5246cd chromedriver + 4318925\n12  chromedriver                        0x000000010f528f35 chromedriver + 4337461\n13  chromedriver                        0x000000010f5301ff chromedriver + 4366847\n14  chromedriver                        0x000000010f529c5a chromedriver + 4340826\n15  chromedriver                        0x000000010f4ffc2c chromedriver + 4168748\n16  chromedriver                        0x000000010f5464f8 chromedriver + 4457720\n17  chromedriver                        0x000000010f546693 chromedriver + 4458131\n18  chromedriver                        0x000000010f55ba3e chromedriver + 4545086\n19  libsystem_pthread.dylib             0x00007ff80873a4e1 _pthread_start + 125\n20  libsystem_pthread.dylib             0x00007ff808735f6b thread_start + 15\n",
     "output_type": "error",
     "traceback": [
      "\u001b[0;31m---------------------------------------------------------------------------\u001b[0m",
      "\u001b[0;31mNoSuchElementException\u001b[0m                    Traceback (most recent call last)",
      "Input \u001b[0;32mIn [86]\u001b[0m, in \u001b[0;36m<cell line: 12>\u001b[0;34m()\u001b[0m\n\u001b[1;32m      9\u001b[0m driver\u001b[38;5;241m.\u001b[39mget(\u001b[38;5;124m\"\u001b[39m\u001b[38;5;124mhttps://map.naver.com/v5/?c=14124081.2944503,4502627.5097655,15,0,0,0,dh\u001b[39m\u001b[38;5;124m\"\u001b[39m)\n\u001b[1;32m     10\u001b[0m time\u001b[38;5;241m.\u001b[39msleep(\u001b[38;5;241m5\u001b[39m)\n\u001b[0;32m---> 12\u001b[0m \u001b[43mdriver\u001b[49m\u001b[38;5;241;43m.\u001b[39;49m\u001b[43mfind_element_by_css_selector\u001b[49m\u001b[43m(\u001b[49m\u001b[38;5;124;43m\"\u001b[39;49m\u001b[38;5;124;43mli.link_navbar directions\u001b[39;49m\u001b[38;5;124;43m\"\u001b[39;49m\u001b[43m)\u001b[49m\u001b[38;5;241m.\u001b[39mclick()\n",
      "File \u001b[0;32m~/opt/anaconda3/lib/python3.9/site-packages/selenium/webdriver/remote/webdriver.py:814\u001b[0m, in \u001b[0;36mWebDriver.find_element_by_css_selector\u001b[0;34m(self, css_selector)\u001b[0m\n\u001b[1;32m    792\u001b[0m \u001b[38;5;124;03m\"\"\"\u001b[39;00m\n\u001b[1;32m    793\u001b[0m \u001b[38;5;124;03mFinds an element by css selector.\u001b[39;00m\n\u001b[1;32m    794\u001b[0m \n\u001b[0;32m   (...)\u001b[0m\n\u001b[1;32m    807\u001b[0m \u001b[38;5;124;03m        element = driver.find_element_by_css_selector('#foo')\u001b[39;00m\n\u001b[1;32m    808\u001b[0m \u001b[38;5;124;03m\"\"\"\u001b[39;00m\n\u001b[1;32m    809\u001b[0m warnings\u001b[38;5;241m.\u001b[39mwarn(\n\u001b[1;32m    810\u001b[0m     \u001b[38;5;124m\"\u001b[39m\u001b[38;5;124mfind_element_by_css_selector is deprecated. Please use find_element(by=By.CSS_SELECTOR, value=css_selector) instead\u001b[39m\u001b[38;5;124m\"\u001b[39m,\n\u001b[1;32m    811\u001b[0m     \u001b[38;5;167;01mDeprecationWarning\u001b[39;00m,\n\u001b[1;32m    812\u001b[0m     stacklevel\u001b[38;5;241m=\u001b[39m\u001b[38;5;241m2\u001b[39m,\n\u001b[1;32m    813\u001b[0m )\n\u001b[0;32m--> 814\u001b[0m \u001b[38;5;28;01mreturn\u001b[39;00m \u001b[38;5;28;43mself\u001b[39;49m\u001b[38;5;241;43m.\u001b[39;49m\u001b[43mfind_element\u001b[49m\u001b[43m(\u001b[49m\u001b[43mby\u001b[49m\u001b[38;5;241;43m=\u001b[39;49m\u001b[43mBy\u001b[49m\u001b[38;5;241;43m.\u001b[39;49m\u001b[43mCSS_SELECTOR\u001b[49m\u001b[43m,\u001b[49m\u001b[43m \u001b[49m\u001b[43mvalue\u001b[49m\u001b[38;5;241;43m=\u001b[39;49m\u001b[43mcss_selector\u001b[49m\u001b[43m)\u001b[49m\n",
      "File \u001b[0;32m~/opt/anaconda3/lib/python3.9/site-packages/selenium/webdriver/remote/webdriver.py:1251\u001b[0m, in \u001b[0;36mWebDriver.find_element\u001b[0;34m(self, by, value)\u001b[0m\n\u001b[1;32m   1248\u001b[0m     by \u001b[38;5;241m=\u001b[39m By\u001b[38;5;241m.\u001b[39mCSS_SELECTOR\n\u001b[1;32m   1249\u001b[0m     value \u001b[38;5;241m=\u001b[39m \u001b[38;5;124m'\u001b[39m\u001b[38;5;124m[name=\u001b[39m\u001b[38;5;124m\"\u001b[39m\u001b[38;5;132;01m%s\u001b[39;00m\u001b[38;5;124m\"\u001b[39m\u001b[38;5;124m]\u001b[39m\u001b[38;5;124m'\u001b[39m \u001b[38;5;241m%\u001b[39m value\n\u001b[0;32m-> 1251\u001b[0m \u001b[38;5;28;01mreturn\u001b[39;00m \u001b[38;5;28;43mself\u001b[39;49m\u001b[38;5;241;43m.\u001b[39;49m\u001b[43mexecute\u001b[49m\u001b[43m(\u001b[49m\u001b[43mCommand\u001b[49m\u001b[38;5;241;43m.\u001b[39;49m\u001b[43mFIND_ELEMENT\u001b[49m\u001b[43m,\u001b[49m\u001b[43m \u001b[49m\u001b[43m{\u001b[49m\n\u001b[1;32m   1252\u001b[0m \u001b[43m    \u001b[49m\u001b[38;5;124;43m'\u001b[39;49m\u001b[38;5;124;43musing\u001b[39;49m\u001b[38;5;124;43m'\u001b[39;49m\u001b[43m:\u001b[49m\u001b[43m \u001b[49m\u001b[43mby\u001b[49m\u001b[43m,\u001b[49m\n\u001b[1;32m   1253\u001b[0m \u001b[43m    \u001b[49m\u001b[38;5;124;43m'\u001b[39;49m\u001b[38;5;124;43mvalue\u001b[39;49m\u001b[38;5;124;43m'\u001b[39;49m\u001b[43m:\u001b[49m\u001b[43m \u001b[49m\u001b[43mvalue\u001b[49m\u001b[43m}\u001b[49m\u001b[43m)\u001b[49m[\u001b[38;5;124m'\u001b[39m\u001b[38;5;124mvalue\u001b[39m\u001b[38;5;124m'\u001b[39m]\n",
      "File \u001b[0;32m~/opt/anaconda3/lib/python3.9/site-packages/selenium/webdriver/remote/webdriver.py:430\u001b[0m, in \u001b[0;36mWebDriver.execute\u001b[0;34m(self, driver_command, params)\u001b[0m\n\u001b[1;32m    428\u001b[0m response \u001b[38;5;241m=\u001b[39m \u001b[38;5;28mself\u001b[39m\u001b[38;5;241m.\u001b[39mcommand_executor\u001b[38;5;241m.\u001b[39mexecute(driver_command, params)\n\u001b[1;32m    429\u001b[0m \u001b[38;5;28;01mif\u001b[39;00m response:\n\u001b[0;32m--> 430\u001b[0m     \u001b[38;5;28;43mself\u001b[39;49m\u001b[38;5;241;43m.\u001b[39;49m\u001b[43merror_handler\u001b[49m\u001b[38;5;241;43m.\u001b[39;49m\u001b[43mcheck_response\u001b[49m\u001b[43m(\u001b[49m\u001b[43mresponse\u001b[49m\u001b[43m)\u001b[49m\n\u001b[1;32m    431\u001b[0m     response[\u001b[38;5;124m'\u001b[39m\u001b[38;5;124mvalue\u001b[39m\u001b[38;5;124m'\u001b[39m] \u001b[38;5;241m=\u001b[39m \u001b[38;5;28mself\u001b[39m\u001b[38;5;241m.\u001b[39m_unwrap_value(\n\u001b[1;32m    432\u001b[0m         response\u001b[38;5;241m.\u001b[39mget(\u001b[38;5;124m'\u001b[39m\u001b[38;5;124mvalue\u001b[39m\u001b[38;5;124m'\u001b[39m, \u001b[38;5;28;01mNone\u001b[39;00m))\n\u001b[1;32m    433\u001b[0m     \u001b[38;5;28;01mreturn\u001b[39;00m response\n",
      "File \u001b[0;32m~/opt/anaconda3/lib/python3.9/site-packages/selenium/webdriver/remote/errorhandler.py:247\u001b[0m, in \u001b[0;36mErrorHandler.check_response\u001b[0;34m(self, response)\u001b[0m\n\u001b[1;32m    245\u001b[0m         alert_text \u001b[38;5;241m=\u001b[39m value[\u001b[38;5;124m'\u001b[39m\u001b[38;5;124malert\u001b[39m\u001b[38;5;124m'\u001b[39m]\u001b[38;5;241m.\u001b[39mget(\u001b[38;5;124m'\u001b[39m\u001b[38;5;124mtext\u001b[39m\u001b[38;5;124m'\u001b[39m)\n\u001b[1;32m    246\u001b[0m     \u001b[38;5;28;01mraise\u001b[39;00m exception_class(message, screen, stacktrace, alert_text)  \u001b[38;5;66;03m# type: ignore[call-arg]  # mypy is not smart enough here\u001b[39;00m\n\u001b[0;32m--> 247\u001b[0m \u001b[38;5;28;01mraise\u001b[39;00m exception_class(message, screen, stacktrace)\n",
      "\u001b[0;31mNoSuchElementException\u001b[0m: Message: no such element: Unable to locate element: {\"method\":\"css selector\",\"selector\":\"li.link_navbar directions\"}\n  (Session info: chrome=105.0.5195.102)\nStacktrace:\n0   chromedriver                        0x000000010f554788 chromedriver + 4515720\n1   chromedriver                        0x000000010f4d89d3 chromedriver + 4008403\n2   chromedriver                        0x000000010f16b12a chromedriver + 413994\n3   chromedriver                        0x000000010f1a2873 chromedriver + 641139\n4   chromedriver                        0x000000010f1a2a61 chromedriver + 641633\n5   chromedriver                        0x000000010f1d4f64 chromedriver + 847716\n6   chromedriver                        0x000000010f1bf7fd chromedriver + 759805\n7   chromedriver                        0x000000010f1d2bd9 chromedriver + 838617\n8   chromedriver                        0x000000010f1bf603 chromedriver + 759299\n9   chromedriver                        0x000000010f195990 chromedriver + 588176\n10  chromedriver                        0x000000010f196a75 chromedriver + 592501\n11  chromedriver                        0x000000010f5246cd chromedriver + 4318925\n12  chromedriver                        0x000000010f528f35 chromedriver + 4337461\n13  chromedriver                        0x000000010f5301ff chromedriver + 4366847\n14  chromedriver                        0x000000010f529c5a chromedriver + 4340826\n15  chromedriver                        0x000000010f4ffc2c chromedriver + 4168748\n16  chromedriver                        0x000000010f5464f8 chromedriver + 4457720\n17  chromedriver                        0x000000010f546693 chromedriver + 4458131\n18  chromedriver                        0x000000010f55ba3e chromedriver + 4545086\n19  libsystem_pthread.dylib             0x00007ff80873a4e1 _pthread_start + 125\n20  libsystem_pthread.dylib             0x00007ff808735f6b thread_start + 15\n"
     ]
    }
   ],
   "source": [
    "# 네이버 지도\n",
    "\n",
    "\n",
    "# 크롬 드라이버 실행\n",
    "path = \"./Downloads/chromedriver_mac64/chromedriver\"\n",
    "driver = webdriver.Chrome(path)\n",
    "\n",
    "# 웹 주소 입력 및 네이버 실행\n",
    "driver.get(\"https://map.naver.com/v5/?c=14124081.2944503,4502627.5097655,15,0,0,0,dh\")\n",
    "time.sleep(5)\n",
    "\n",
    "driver.find_element_by_xpath()\n",
    "# driver.find_element_by_xpath(\"//li/a[@class='link_navbar directions active']\").click()\n",
    "\n"
   ]
  },
  {
   "cell_type": "code",
   "execution_count": 119,
   "id": "8e0124dd",
   "metadata": {},
   "outputs": [
    {
     "name": "stdout",
     "output_type": "stream",
     "text": [
      "검색결과를 저장할 파일 경로와 이름을 입력하세요(예:/Users/werther/test.txt) : /Users/werther/naver2.txt\n"
     ]
    },
    {
     "name": "stderr",
     "output_type": "stream",
     "text": [
      "/var/folders/t4/vwr916y50fv3wcm0xlgfkyg00000gn/T/ipykernel_1786/3144417359.py:8: DeprecationWarning: executable_path has been deprecated, please pass in a Service object\n",
      "  driver = webdriver.Chrome(path)\n",
      "/var/folders/t4/vwr916y50fv3wcm0xlgfkyg00000gn/T/ipykernel_1786/3144417359.py:14: DeprecationWarning: find_element_by_* commands are deprecated. Please use find_element() instead\n",
      "  search = driver.find_element_by_id(\"query\")\n",
      "/var/folders/t4/vwr916y50fv3wcm0xlgfkyg00000gn/T/ipykernel_1786/3144417359.py:19: DeprecationWarning: find_element_by_link_text is deprecated. Please use find_element(by=By.LINK_TEXT, value=link_text) instead\n",
      "  driver.find_element_by_link_text(\"VIEW\").click()\n",
      "/var/folders/t4/vwr916y50fv3wcm0xlgfkyg00000gn/T/ipykernel_1786/3144417359.py:20: DeprecationWarning: find_element_by_link_text is deprecated. Please use find_element(by=By.LINK_TEXT, value=link_text) instead\n",
      "  driver.find_element_by_link_text(\"블로그\").click()\n"
     ]
    },
    {
     "name": "stdout",
     "output_type": "stream",
     "text": [
      "['\\n', '문서 저장하기  Keep에 저장 Keep 바로가기          2시간 전   미오의 즐거운 인생 ♥      제주도 항공권 특가 소식 + 제주 가을 여행 고고!    제주 가을 여행 생각하고 계셨던 분들은 오늘 당장 비행기표 알아보고... 올 한해 해외 다닌다고 제주도 여행을 못 가서 너무나 슬픈 저에요. 하반기엔 꼭 가야지. 단...       35\\n', '\\n', \"문서 저장하기  Keep에 저장 Keep 바로가기          3일 전   열씨미 카메라세상      파주 마장호수 출렁다리 흔들다리 둘레길 경기도 가을여행지    일정으로 여행 코스를 짜도 좋을텐데요. 바쁜 생활 속 여유로움을 즐기고 싶다면 경기도 가을여행지로 파주 소울원을 추천해 드려요. '웃음이 넘치는 동산'이란 뜻을...       28\\n\", '\\n', '문서 저장하기  Keep에 저장 Keep 바로가기          2022.08.12.   유니크의 제주살이      이상한 변호사 우영우 제주도 촬영지 돌고래 절 제주 가을여행...     제주 가을여행지로도 손색이 없기에 촬영지 포함하여 갈만한 코스도 소개해... 일주일 뒤에 오빠부부가 제주여행을 왔었고 저날의 감동을 함께 나누고 싶어서...       41\\n', '\\n', '문서 저장하기  Keep에 저장 Keep 바로가기          공식 2일 전   전라북도 공식 블로그      바코드 하나로 저렴하게 - 전북투어패스 가을 여행    가을이다. 뺨에 맞닿는 바람이 기분 좋아지는 이때, 전북투어패스 모바일 티켓과 함께 여행을 떠나자. 잊지 못할 이야기와 추억이 기다리고 있다. 전북투어패스 모바일...       4\\n', '\\n', '문서 저장하기  Keep에 저장 Keep 바로가기          2022.09.04.   for냐 포냐(봤냐?가봤냐?해봤냐?행복하냐?)      [2018] 1박2일 대마도 가을여행    물론 1박2일이라는 짧은 여정이라 #대마도가을여행 에 대해 악평을 할 순 없지만... 가을~~ 정말 여행 다니기 좋은 계절이 다가왔습니다. 어딘가에서 본 \"여행은 마음의...       32\\n', '\\n', '문서 저장하기  Keep에 저장 Keep 바로가기          2일 전   매일소풍      양평 두물머리 양평 가볼만한곳 가을 여행    좋은 가을 여행지입니다. ● 여행일 : 2022 년 9월 9일 밤~ 10일 아침 ● 사진 , 글 by... 남한강변 습지에 걷기 좋게 데크 길이 있어 가을날에 산보하기 좋은 곳입니다....       37\\n', '\\n', '문서 저장하기  Keep에 저장 Keep 바로가기          2022.09.04.   일상탈출      전북 가볼만한곳 고창 가을 여행지 보리나라 학원농장 도깨비...     여행 일자 : 2022년 8월 22일 고창 학원농장 전북 고창군 공음면 학원농장길 154 이곳은... 여름과 가을의 공존을 보게 되는 특별함이 있었습니다. 그래도 가을 여행지를...       25\\n', '\\n', '문서 저장하기  Keep에 저장 Keep 바로가기          2022.08.26.   삼춘~ 어드레 감수광?      국내가을여행지 대전 근교 괴산여행 가볼만한곳 문광저수지...     국내가을여행지 대전 근교 괴산여행 가볼만한곳 문광저수지 은행나무길,수옥폭포 등. 더위가 가신다는 처서가 지나니 다행히 폭염이 한 풀 꺽이듯 합니다. 서서히...       26\\n', '\\n', '문서 저장하기  Keep에 저장 Keep 바로가기          3일 전   Travel portfolio      제주 스누피가든 입장료 할인 제주도 가을여행 고고링    제주 스누피가든 입장료 할인 제주도 가을여행 고고링 9월이니까 분명... 가을 무드 제주도 여행 스누피가든에서 10월의 제주 스누피가든이 즐거운 이유는 할로윈...       39\\n', '\\n', '문서 저장하기  Keep에 저장 Keep 바로가기          3일 전   바람, 돌, 그리고 우리..      제주도 가을여행 9월 제주 꽃 맨드라미 사진스팟    제주도 가을여행 9월 제주 꽃 맨드라미 사진스팟 글/사진 광령댁 청명한 하늘이... 이날은 정말이지 가을임을 증명이라도 하듯 하늘이 무척이나 높고 예뻤어요. 비행기가...       21\\n', '\\n', '문서 저장하기  Keep에 저장 Keep 바로가기          2022.08.17.   입안의 혀같은 내새끼들      미리 준비하는 제주도 가을여행 인기 스팟 모음    한편에는 가을정원이 운영되고 있어서 가을여행과 딱 어울리는 컨셉이었어요. 여기저기 갈대와 핑크뮬리가 자라고 있는지라 몽환적인 분위기가 물씬 느껴졌어요....       32\\n', '\\n', '문서 저장하기  Keep에 저장 Keep 바로가기          2022.09.03.   에릭샘의 즐거운 나들이      울산 가볼만한곳 대왕암 출렁다리 포함 가을 여행 코스 5곳    괜찮은 여행지가 많은 도시인 것만큼은 분명해 보입니다. 그렇다면 추석을 코앞에 다가온 요즘, 울산 가볼만한곳으로는 어떤 곳들이 있을까요? 오늘은 가을 여행을...       34\\n', '\\n', '문서 저장하기  Keep에 저장 Keep 바로가기          어제   프림커피의 달달한 여행      가을 여행 홍성 내포신도시 코스모스 풍경    자연스럽게 자라는 건지 일부러 심은 건지는 모르지만 이제 막 피기 시작하는 코스모스 풍경을 보면서 이상으로 이번 가을철에 가을 여행 장소로 추천드리는 홍성과...       20\\n', '\\n', '문서 저장하기  Keep에 저장 Keep 바로가기          2022.09.05.   타임머신 타고 과거로 딱따구리의 발자취를 찾아서      9월 꽃구경 가을 여행지 평창 백일홍축제와 평창바위공원    추석 연휴에도 열리는 평창 백일홍축제는 9월 꽃구경 갈만한 곳으로 돌문화체험관이 있는 평창바위공원과 함께 가을 여행지 잘 다녀왔어요. (여행 일시 : 2022년 9월...       37\\n', '\\n', '문서 저장하기  Keep에 저장 Keep 바로가기          6일 전   세상구경꾼 필의 세상탐구생활      홍성여행 1박 2일 한우 꽃게... 그리고 노을로 채운 가을여행    확인하세요~ 가을여행 홍성여행 1박 2일 파란하늘 바라보며 가을산책 홍성여행 둘째날 아침이 밝았습니다~ 가을 날 길을 걸으며 힐링하는 산책의 맛은 걸어본 사람은...       46\\n', '\\n', '문서 저장하기  Keep에 저장 Keep 바로가기          2시간 전   킴스제주 스토리      가을여행 제주 금능해수욕장 매력 포인트    제주 가을여행 때는 햇살도 적당하고 바람도 시원해 바쁜 여행길에 잠시 해변가로 내려가 아무 곳이라도 앉아 쉬어보세요. 파란 가을 하늘 아래 돌 틈 사이 작은 게를...       18\\n', '\\n', '문서 저장하기  Keep에 저장 Keep 바로가기          2022.08.29.   망고요정의 트래블라이프      제주도 항공권 에어부산 특가 예약 제주 가을여행    제주 가을여행 가볼만한곳 BEST 5 제주 가을여행에 빼놓을 수 없는 곳이 바로... 웹투어 x 에어부산 * 추천해요 * 9월 10월 가을 제주도 여행 준비한다면 제두도 항공권 2...       37\\n', '\\n', '문서 저장하기  Keep에 저장 Keep 바로가기          2022.08.31.   센루크 스토리      강원도 평창 가을여행지 동강 슬로우보트 투어, 청옥산...     강원도 평창 가을여행을 다녀왔어요. 주말에는 벌초로 차가 막히기만 집에서 나와... 지금은 늦여름이라 녹음이 진한데 가을에는 예쁜 단풍을 볼 수 있다고 하니 단풍...       68\\n', '\\n', '문서 저장하기  Keep에 저장 Keep 바로가기          2022.09.01.   아빠는여행중      신창역에서 시작되는 가을여행    가을은 여행을 하기에 너무 좋은 계절이다. 이렇게 기차 여행을 하면서 가을을... 이제 다시 집으로 돌아가야 할 시간, 짧지만 기분 좋은 가을 여행을 시작했다는 것에...       16\\n', '\\n', '문서 저장하기  Keep에 저장 Keep 바로가기          2022.08.29.   긍정과 열정 사이의 일상      가능하고 풍경이 아름다운 항구로 떠난 조용한 가을여행    이제 가을이 시작되나봐요 조용하고 아늑한 서해바다 해변가을 고즈넉하게... 딱입니다 #서해바다 #가로림만 #항구 #갯벌체험 #서해 #가을여행 #가족여행 #키즈펜션...       40\\n', '\\n', '문서 저장하기  Keep에 저장 Keep 바로가기          공식 2022.08.31.   함안군 공식 블로그      경남 함안 가을여행 추천, 강주마을 해바라기 축제    곧 가을이지만 아직 한낮의 햇살을 강렬하니 양산이나 선글라스, 모자는 꼭 잘 챙겨주세요. 이제 시작인 강주 마을 해바라기 축제, 8월 말 9월 초 경남의 가볼 만한 여행...       26\\n', '\\n', '문서 저장하기  Keep에 저장 Keep 바로가기          2022.09.05.   여럿이 함께      함안 가을여행 강주 해바라기 마을 축제 관람 후기    ㅎㅎ 8월말~~ 제주를 떠나 육지 가을여행을 시작했습니다. 9월내내 육지를 돌아다니며 대한민국 구석구석 둘러보고 10월에나 제주로 돌아갈 것 같아요. 뭐 여행인지...       28\\n', '\\n', '문서 저장하기  Keep에 저장 Keep 바로가기          5일 전   ♥마리안의 여행이야기-마음이 머무는 이곳♥      강원도 평창 가볼만한곳 가을 여행지 추천 월정사 인근    강원도 평창 가볼만한곳 가을 여행지 추천, 평창 월정사 전나무숲길과 함께 가을 가볼만한곳, 힐링 가을 여행지인 선재길과 월정사 주변 맛집 포함 여행 코스예요....       34\\n', '\\n', '문서 저장하기  Keep에 저장 Keep 바로가기          2022.08.26.   마음이 쉬어가는 남해 비경 여행      남해가볼만한곳 가을여행 딱좋아    남해가볼만한곳 가을여행 망운암 며칠전 동생이랑 남해에서 제일 높은 산 망운산... 힐링여행입니다 울 엄마는 목탁소리가 좋으시다고 합니다 나는 그저 마음 가는 곳이...       40\\n', '\\n', '문서 저장하기  Keep에 저장 Keep 바로가기          2022.08.29.   여행쟁이 우쑤      제주 가을여행 제주도 항공권 에어부산 비행기표 특가로 준비    제주의 가을은 준성수기라고 할 수 있을만큼 여행하기 좋은 계절이라 제주 가을여행 준비하는 분들 많으실 것 같은데 여행 준비 중인 분들이 반가워하실만한 제주도...       30\\n', '\\n', '문서 저장하기  Keep에 저장 Keep 바로가기          7시간 전   대박웃음디자인연구소      대구근교 경북 아이와 가을여행 떠나기 좋은 곳    밤송이도 가을의 시작을 아리고 야간에 조명등이 켜지면 정말 예쁜곳입니다... 불가합니다 #대구근교경북여행 #아이와떠나고싶은가을여행 우리 모두의 마음속에는...       37\\n', '\\n', '문서 저장하기  Keep에 저장 Keep 바로가기          2022.09.01.   프림커피의 달달한 여행      경기도 가을 여행지 파주 문산자유시장 문산노을길    경기도 가을 여행지 중에 하나인 문산 노을길 구경을 하러 이동해 보았습니다.... 지나야 가을 코스모스를 제대로 만나 볼 수 있을 거 같네요. 아직 이른거 같아서 너무...       35\\n', '\\n', '문서 저장하기  Keep에 저장 Keep 바로가기          4일 전   제주 택시투어 승합차투어 친절한 이팀장~!      제주도 쏠라티 투어 하나면 제주 가을여행 준비 끝    계절 가을! 이 좋은 계절에 소중한 사람들과 함께 하는 제주 가을여행은 더욱더 행복할겁니다 제주에서 맑은 공기를 마시면서 아름다운 자연과 함께 자유여행을...       25\\n', '\\n', '문서 저장하기  Keep에 저장 Keep 바로가기          2022.08.29.   킴스제주 스토리      제주도 수월봉 전기자전거 제주 가을여행으로 저장    제주 가을여행을 소개해야겠다 싶어 그 첫 번째 여행으로 수월봉 전기자전거를... 제주 가을의 기분을 느낄 수 있었고요. 전기자전거를 타고 달리는 중간에 잠시...       23\\n', '\\n', '문서 저장하기  Keep에 저장 Keep 바로가기          6일 전   Shoot for the Sky!      서울 가볼만한곳 데이트하기 좋은 가을 여행지 상암 하늘공원    아래 링크된 지난해 가을 여행의 후기를 보면 왜 이곳이 가을 가볼만한곳인지를 느낄 것이랍니다. 태풍이 지나가고난 후의 맑은 하늘 아래이기에 손을 뻗으면 북한산이...       45\\n', '\\n']\n"
     ]
    }
   ],
   "source": [
    "# 네이버 검색창에 가을여행 검색해 출력되는 결과중 블로그 섹션의 텍스트를 추출\n",
    "\n",
    "# 검색결과를 저장할 파일경로와 파일이름 입력\n",
    "f_name = input(\"검색결과를 저장할 파일 경로와 이름을 입력하세요(예:/Users/werther/test.txt) : \")\n",
    "\n",
    "# 크롬 드라이버 실행\n",
    "path = \"./Downloads/chromedriver_mac64/chromedriver\"\n",
    "driver = webdriver.Chrome(path)\n",
    "\n",
    "# 웹 주소 입력 및 네이버 실행\n",
    "driver.get(\"https://www.naver.com/\")\n",
    "time.sleep(1)\n",
    "\n",
    "search = driver.find_element_by_id(\"query\")\n",
    "search.send_keys(\"가을여행\")\n",
    "enter = webdriver.Keys.ENTER\n",
    "search.send_keys(enter)\n",
    "\n",
    "driver.find_element_by_link_text(\"VIEW\").click()\n",
    "driver.find_element_by_link_text(\"블로그\").click()\n",
    "\n",
    "\n",
    "# 현제 페이지의 html코드를 불러온다. 지금 부터 BeautifulSoup 숲의 영역\n",
    "full_html = driver.page_source\n",
    "\n",
    "\n",
    "soup = BeautifulSoup(full_html, \"html.parser\")\n",
    "# soud.find('ul', class_ = \"list_thumType type1\")[0]\n",
    "contents = soup.find('ul', class_= \"lst_total\")\n",
    "\n",
    "\n",
    "# 파일 쓰기\n",
    "with open(f_name, 'a') as f :\n",
    "    for i in contents :\n",
    "        print(i.text.strip(), file = f)\n",
    "\n",
    "# 파일 읽기\n",
    "with open(f_name, \"r\") as f : \n",
    "    line = f.readlines()\n",
    "    print(line)\n",
    "\n",
    "\n"
   ]
  },
  {
   "cell_type": "code",
   "execution_count": 121,
   "id": "aef34c06",
   "metadata": {},
   "outputs": [
    {
     "name": "stdout",
     "output_type": "stream",
     "text": [
      "검색결과를 저장할 파일 경로와 이름을 입력하세요(예:/Users/werther/test.txt) : /Users/werther/daum2.txt\n"
     ]
    },
    {
     "name": "stderr",
     "output_type": "stream",
     "text": [
      "/var/folders/t4/vwr916y50fv3wcm0xlgfkyg00000gn/T/ipykernel_1786/1674607984.py:8: DeprecationWarning: executable_path has been deprecated, please pass in a Service object\n",
      "  driver = webdriver.Chrome(path)\n",
      "/var/folders/t4/vwr916y50fv3wcm0xlgfkyg00000gn/T/ipykernel_1786/1674607984.py:14: DeprecationWarning: find_element_by_* commands are deprecated. Please use find_element() instead\n",
      "  search = driver.find_element_by_id(\"q\")\n"
     ]
    },
    {
     "name": "stdout",
     "output_type": "stream",
     "text": [
      "['\\n', \"프리미엄링크  '가을여행' 관련 광고입니다. 이 광고의 표시 사유  광고노출기준은 검색어 연관성과 광고주의 입찰가이며, 상황에 따라 제휴 광고가 포함될 수 있습니다. 광고 안내 레이어 닫기   신청하기        카름스테이   www.kareumstay.com     다정한 제주, 카름스테이. 제주마을관광통합브랜드              가을여행 전문 여행사 다고   dago.co.kr/main/main.php     쉽고 편하게 가는 나만의 가을여행, 단독/단체 맞춤형 여행 견적 플랫폼 DAGO!       국내 패키지여행 99,000원부터     역사/문화 탐방 253,000원부터     힐링/미식 투어 320,000원부터              당신에게 좋은여행,승우여행사   www.swtour.co.kr    아름다운 가을 단풍여행    국내여행패키지, 서울 부산출발, 맛집여행, 버스여행, 제주도여행, 핫플레이스여행         11번가 가을여행   www.11st.co.kr     가을여행,9월 모두의 챌린지! 최대 11,000원 쿠폰 증정+카드사 ~12% 할인       오늘 장보기 쿠폰 7,000원     VIP전용 쿠폰 4,000원     페이코쿠폰 3,000원              가을여행 하얀마을펜션   www.whitevillage.co.kr    홍천은행나무숲 인근 펜션    홍천 은행나무숲 20분 소요, 인제계곡펜션, 계곡낚시, 가을단풍구경.              가을여행 오션투유리조트   www.ocean2you.co.kr     속초ic인근, 삼포해수욕장 앞, 오션뷰객실보유! 바닷가바베큐장&조식뷔페, 특가할인.         가을여행 G마켓   www.gmarket.kr    G마켓베스트 슈퍼딜특가 스마일배송 스마일클럽    가을여행 멤버십 유니버스의 시작! 스마일클럽 12%쿠폰x4장 지급!         쿠팡 가을여행   www.coupang.com    로켓와우멤버 무제한 무료배송    가을여행, 국내여행, 숙박, 펜션예약, 쿠팡에서 빠르고 편리하게!              인터파크 가을여행 간편예약!   tour.interpark.com     가을여행 간편예약! 카드사별 2만원 할인쿠폰, 지역별 인기숙소, 100%객실확보.              국내여행 전문 하늘투어   www.hnltour.co.kr    기차여행 버스여행 섬여행 제주도여행    대한민국 구석구석 추천여행! 기차여행, 버스여행, 섬여행, 울릉도여행, 제주도여행      프리미엄링크 더보기\\n\", '\\n']\n"
     ]
    }
   ],
   "source": [
    "# 다음 검색창에 가을여행 검색해 출력되는 결과중 블로그 섹션의 텍스트를 추출\n",
    "\n",
    "# 검색결과를 저장할 파일경로와 파일이름 입력\n",
    "f_name = input(\"검색결과를 저장할 파일 경로와 이름을 입력하세요(예:/Users/werther/test.txt) : \")\n",
    "\n",
    "# 크롬 드라이버 실행\n",
    "path = \"./Downloads/chromedriver_mac64/chromedriver\"\n",
    "driver = webdriver.Chrome(path)\n",
    "\n",
    "# 웹 주소 입력 및 네이버 실행\n",
    "driver.get(\"https://www.daum.net/\")\n",
    "time.sleep(1)\n",
    "\n",
    "search = driver.find_element_by_id(\"q\")\n",
    "search.send_keys(\"가을여행\")\n",
    "enter = webdriver.Keys.ENTER\n",
    "search.send_keys(enter)\n",
    "\n",
    "# 현제 페이지의 html코드를 불러온다. 지금 부터 BeautifulSoup 숲의 영역\n",
    "full_html = driver.page_source\n",
    "\n",
    "\n",
    "soup = BeautifulSoup(full_html, \"html.parser\")\n",
    "# soud.find('ul', class_ = \"list_thumType type1\")[0]\n",
    "contents = soup.find('div', class_= \"adLinkColl log_wide\")\n",
    "\n",
    "\n",
    "# 파일 쓰기\n",
    "with open(f_name, 'a') as f :\n",
    "    for i in contents :\n",
    "        print(i.text.strip(), file = f)\n",
    "\n",
    "# 파일 읽기\n",
    "with open(f_name, \"r\") as f : \n",
    "    line = f.readlines()\n",
    "    print(line)"
   ]
  },
  {
   "cell_type": "code",
   "execution_count": 122,
   "id": "2611b2ad",
   "metadata": {},
   "outputs": [
    {
     "name": "stdout",
     "output_type": "stream",
     "text": [
      "검색결과를 저장할 파일 경로와 이름을 입력하세요(예:/Users/werther/test.txt) : /Users/werther/google2.txt\n"
     ]
    },
    {
     "name": "stderr",
     "output_type": "stream",
     "text": [
      "/var/folders/t4/vwr916y50fv3wcm0xlgfkyg00000gn/T/ipykernel_1786/1513752744.py:8: DeprecationWarning: executable_path has been deprecated, please pass in a Service object\n",
      "  driver = webdriver.Chrome(path)\n",
      "/var/folders/t4/vwr916y50fv3wcm0xlgfkyg00000gn/T/ipykernel_1786/1513752744.py:14: DeprecationWarning: find_element_by_xpath is deprecated. Please use find_element(by=By.XPATH, value=xpath) instead\n",
      "  search = driver.find_element_by_xpath(\"//div/input[@class='gLFyf gsfi']\")\n"
     ]
    },
    {
     "name": "stdout",
     "output_type": "stream",
     "text": [
      "[\"동영상미리보기미리보기12:123년 동안 직접 다녀온 가을에 꼭 가봐야하는 걷기 편하고 좋은 ...YouTube · 일상이 여행 Everyday travel12분 12초2021. 9. 18.미리보기미리보기19:09[Talk] 10월 11월에 가면 좋은 가을 국내여행지 베스트7 / 내장사 ...YouTube · 킴스트래블 Kim's Travel19분 9초2019. 10. 4.미리보기미리보기11:33Best Autumn Travel Destinations in KoreaYouTube · 일상이 여행 Everyday travel11분 33초2021. 10. 3.이 동영상에서 중요한 부분\\xa019개00:00부터충남 태안 #청산수목원 (팜파스 &핑크뮬리축제 10월 초 중반이 절정)00:57부터경남 함양 #상림공원 ( #함양삼산항노화엑스포 10월 중순까지)01:39부터전남 순천 #순천만국가정원02:26부터전남 순천 #순천만습지03:00부터서울 #상암하늘공원 ( 여행하기 좋은 시기 10월 중 순이 절정 )03:41부터서울 #궁중문화축전 ( 여행하기 좋은 시기 10월 16일 ~ 31일)04:12부터강원도 고성 #미시령옛길 ( 단풍 절정 시기 10월 중 순 )04:31부터강원도 #양양 #오색약수 ( 단풍 절정 시기 10월 중 순 )05:01부터울산 #태화강국가정원 ( 국화꽃 만개 10월 중 순 )05:39부터강원도 진부 #오대산국립공원 #선재길 ( 단풍 만개 10월 중 순 )06:22부터경북 청송 #주왕산국립공원 ( 여행하기 좋은 시기 10월 말 ~ 11월 초 )07:01부터충남 #안면도수목원 ( 여행하기 좋은 시기 10월 중 순 ~ 11월 초 )07:35부터서울 #북한산국립공원 #진관사 #한옥마을 ( 여행하기 좋은 시기 10월 말 ~ 11월 초 )08:12부터충북 단양 #보발재 ( 단풍 절정 시기 11월 초 )08:40부터경남 거제 #외도보타니아 ( 여행하기 좋은 시기 10월 중 순~11월초 )09:14부터전남 담양 #관방제림 ( 단풍 절정 시기 11월 초 ~ 중순)09:45부터전남 담양 #메타쉐콰이어길 ( 단풍 절정 시기 11월 초 ~ 중순 )10:20부터전남 장성 #백양사 ( 단풍 절정 시기 11월 초 ~ 중순 )10:52부터충남 서천 #신성리갈대밭 ( 여행하기 좋은 시기 11월 중 순 ~ 말 )모두 보기\\n\", '억새가 유혹하는 비대면 가을 여행지 25선 - 매일경제https://www.mk.co.kr › news › culture › view › 2021/09https://www.mk.co.kr › news › culture › view › 2021/09저장된\\xa0페이지2021. 9. 22. — 억새가 유혹하는 비대면 가을 여행지 25선 · 1. 간송옛집 & 도봉산둘레길 / 경기도 의정부시. 906546 기사의 0번째 이미지 · 2. 파사성 & 파사성길(여강길 8\\xa0...가을해외여행가을 여행지 베스트 10국내 가을 여행 추천11월 가을여행우리나라 가을 여행지9월 여행지함께 검색한 항목\\n', '9월~10월 가을여행 가볼만곳 추천 국내 여행지 베스트10 - 블로그https://blog.naver.com › ping746https://blog.naver.com › ping746저장된\\xa0페이지2021. 8. 18. — 1. 춘천 김유정역. \\u200b · 2. 삼척 낭만가도 · 3. 대전 로하스 산호빛공원 핑크뮬리 · 4. 부여 부소산성 · 5. 속초 설악산 권금성 케이블카 · 6. 춘천 제이드가든.가을해외여행가을 여행지 베스트 10국내 가을 여행 추천11월 가을여행우리나라 가을 여행지9월 여행지함께 검색한 항목\\n', '가을에 떠나기 좋은 국내 주말 여행지 6곳 - 스카이스캐너https://www.skyscanner.co.kr › ... › 여행지 추천https://www.skyscanner.co.kr › ... › 여행지 추천저장된\\xa0페이지2020. 9. 9. — 가을에 떠나기 좋은 국내 주말 여행지 6곳 · 가을 피크닉 명소, 선바위 공원 – 울산광역시 · 가을 하늘에서 즐기는 패러글라이딩 체험 – 충북 단양 · 가을\\xa0...\\u200e가을 하늘에서 즐기는 패러글라... · \\u200e핑크빛 가을 여행 – 전북 고창가을해외여행가을 여행지 베스트 10국내 가을 여행 추천11월 가을여행우리나라 가을 여행지9월 여행지함께 검색한 항목\\n', '가을에 가볼만한 곳 베스트 10, 마음이 풍요로운 여행 - 브런치https://brunch.co.kr › ...https://brunch.co.kr › ...저장된\\xa0페이지2019. 10. 1. — 가을 여행, 가을 국내 여행, 가을 가볼만한 곳, | 가을이야말로 여행을 떠나기 좋은 계절입니다. 각 계절마다 햇빛의 느낌이 다른데요.가을해외여행가을 여행지 베스트 10국내 가을 여행 추천11월 가을여행우리나라 가을 여행지9월 여행지함께 검색한 항목\\n', '가을 여행 베스트10 (여행지 최신) - 미니여행가 - Tistoryhttps://fn3995.tistory.com › ...https://fn3995.tistory.com › ...저장된\\xa0페이지2020. 10. 5. — 가을 여행 베스트10 (여행지 최신) · 1. 내장산. 내장산국립공원. , 전화번호:063-538-7875 · 2. 우음도 (화성 공룡알 화석지). 우음도 · 3. 순천만 습지.가을해외여행가을 여행지 베스트 10국내 가을 여행 추천11월 가을여행우리나라 가을 여행지9월 여행지함께 검색한 항목\\n', '선선한 가을바람 따라 떠나고픈 국내 가을여행 TOP5https://www.expedia.co.kr › storieshttps://www.expedia.co.kr › stories저장된\\xa0페이지2021. 10. 5. — 선선한 기온에 반팔 옷이 어색해진 요즘, 이제 정말 뜨거웠던 여름은 지나고 여행하기 좋은 가을이 왔습니다. 사랑하는 가족들과 함께 혹은 친구들과\\xa0...가까운 곳에서 감성가득 여행! 국내가을여행지 Best 5 - 익스피디아https://www.expedia.co.kr › storieshttps://www.expedia.co.kr › stories저장된\\xa0페이지2021. 9. 24. — 가까운 곳에서 감성가득 여행! 국내가을여행지 Best 5 · 1. 순천 Suncheon · 2. 제주 Jeju · 3. 평창 Pyeongchang · 4. 거제 geoje · 5. 안동 Andong.\\n', '가을 여행 - 위키백과, 우리 모두의 백과사전https://ko.wikipedia.org › wiki › 가을_여행https://ko.wikipedia.org › wiki › 가을_여행저장된\\xa0페이지유사한 페이지가을 여행은 1992년 공개된 대한민국의 영화이다. 스승의 마지막 비밀을 간직한 천호(이경영), 아버지를 악당들에게 잃은 소연(이미연), 7년전 잃어버린 동생을 찾는\\xa0...가을해외여행가을 여행지 베스트 10국내 가을 여행 추천11월 가을여행우리나라 가을 여행지9월 여행지함께 검색한 항목\\n', '가을여행 관련 이미지검색 안내 필터뉴질랜드청도경주sapporo나주충북화담숲가볼만한곳운문사산림자원단풍명소가을단풍여행지추천잠자리동영상동영상모두 보기의견을 보낼 이미지를 선택하세요.피드백모두 보기\\n', '\\n']\n"
     ]
    }
   ],
   "source": [
    "# 구글 검색창에 가을여행 검색해 출력되는 결과중 블로그 섹션의 텍스트를 추출\n",
    "\n",
    "# 검색결과를 저장할 파일경로와 파일이름 입력\n",
    "f_name = input(\"검색결과를 저장할 파일 경로와 이름을 입력하세요(예:/Users/werther/test.txt) : \")\n",
    "\n",
    "# 크롬 드라이버 실행\n",
    "path = \"./Downloads/chromedriver_mac64/chromedriver\"\n",
    "driver = webdriver.Chrome(path)\n",
    "\n",
    "# 웹 주소 입력 및 네이버 실행\n",
    "driver.get(\"https://www.google.com/webhp?hl=ko&sa=X&ved=0ahUKEwiMk5mRkZH6AhXUEXAKHTEzAWUQPAgI\")\n",
    "time.sleep(1)\n",
    "\n",
    "search = driver.find_element_by_xpath(\"//div/input[@class='gLFyf gsfi']\")\n",
    "search.send_keys(\"가을여행\")\n",
    "enter = webdriver.Keys.ENTER\n",
    "search.send_keys(enter)\n",
    "\n",
    "time.sleep(2)\n",
    "\n",
    "# 현제 페이지의 html코드를 불러온다. 지금 부터 BeautifulSoup 숲의 영역\n",
    "full_html = driver.page_source\n",
    "\n",
    "\n",
    "soup = BeautifulSoup(full_html, \"html.parser\")\n",
    "# soud.find('ul', class_ = \"list_thumType type1\")[0]\n",
    "contents = soup.find('div', class_= \"v7W49e\")\n",
    "\n",
    "\n",
    "# 파일 쓰기\n",
    "with open(f_name, 'a') as f :\n",
    "    for i in contents :\n",
    "        print(i.text.strip(), file = f)\n",
    "\n",
    "# 파일 읽기\n",
    "with open(f_name, \"r\") as f : \n",
    "    line = f.readlines()\n",
    "    print(line)"
   ]
  },
  {
   "cell_type": "code",
   "execution_count": 171,
   "id": "e8f674b8",
   "metadata": {},
   "outputs": [
    {
     "name": "stdout",
     "output_type": "stream",
     "text": [
      "검색결과를 저장할 파일 경로와 이름을 입력하세요(예:/Users/werther/test.txt) : /Users/werther/test.txt\n",
      "요청할 건수를 입력하세요(숫자 입력) : 7\n"
     ]
    },
    {
     "name": "stderr",
     "output_type": "stream",
     "text": [
      "/var/folders/t4/vwr916y50fv3wcm0xlgfkyg00000gn/T/ipykernel_1786/3238453292.py:17: DeprecationWarning: executable_path has been deprecated, please pass in a Service object\n",
      "  driver = webdriver.Chrome(path)\n",
      "/var/folders/t4/vwr916y50fv3wcm0xlgfkyg00000gn/T/ipykernel_1786/3238453292.py:23: DeprecationWarning: find_element_by_* commands are deprecated. Please use find_element() instead\n",
      "  search = driver.find_element_by_id(\"inp_search\")\n"
     ]
    },
    {
     "name": "stdout",
     "output_type": "stream",
     "text": [
      "2\n"
     ]
    },
    {
     "name": "stderr",
     "output_type": "stream",
     "text": [
      "/var/folders/t4/vwr916y50fv3wcm0xlgfkyg00000gn/T/ipykernel_1786/3238453292.py:40: DeprecationWarning: find_element_by_xpath is deprecated. Please use find_element(by=By.XPATH, value=xpath) instead\n",
      "  driver.find_element_by_xpath(f\"//div/a[@id='{i}']\").click()\n"
     ]
    },
    {
     "name": "stdout",
     "output_type": "stream",
     "text": [
      "3\n",
      "4\n",
      "5\n",
      "6\n",
      "7\n",
      "7페이지의 크롤링이 완료 되었습니다.\n",
      "['#의령여행#의령가볼만한곳#소도시여행#가을여행#호국의병의숲#일붕사#의령구름다리#구름다리#의령천#공공누리#마이리틀시티#2022_추석_당일치기_여행\\n', '#가을꽃여행#가을여행#꽃여행#단풍여행#갈대#댑싸리#코스모스#핑크뮬리#꽃무릇#칠면초#팜파스#해국#천일홍#아스타국화#테마여행\\n', '#영주여행#영주가볼만한곳#만수주조#발효체험학교#발효체험학교띄움#소백산꽃차이야기#체험프로그램#체험여행#꽃차#부석사#영주부석사#부석사(영주)#무량수전#소수서원#영주선비촌#선비촌#가을여행#랜선여행\\n', '#2021가을시즌비대면안심관광지25선#2021비대면안심관광지#비대면안심관광지#비대면_안심관광지#가을_비대면관광지#대구여행#대구가볼만한곳#가을여행#억새군락지#억새#대명유수지#달성습지#생태탐방로#경상권_비대면관광지#자연과함께\\n', '#가을여행#DMZ#DMZ테마#DMZ테마여행\\n', '#이천여행#이천가볼만한곳#당일치기여행#예스파크#시몬스테라스#티하우스에덴#설봉호수#별빛정원우주#경기도당일코스\\n', '#간이역여행#감성여행#가을여행지추천#가을여행#기차여행#간이역\\n', '#전남담양#담양후산리은행나무#창평향교#한옥에서#양동호가옥#화순양참사댁#한국관광품질인증테마여행#품질인증콘텐츠\\n', '#2021가을시즌비대면안심관광지25선#2021비대면안심관광지#비대면안심관광지#비대면_안심관광지#가을_비대면관광지#하동여행#하동가볼만한곳#동정호#형제봉#자연과함께#경상권_비대면관광지#2022_추석_당일치기_여행\\n', '#파주가볼만한곳#파주여행#파주여행코스#파주당일치기코스#지혜의숲#더티트렁크#마장호수#보광사#율곡습지공원#11월가볼만한곳#10월가볼만한곳#당일치기여행#가을타는당신께#경기도당일코스#2022_추석_당일치기_여행#9월가볼만한곳#당일치기\\n', '#추천가볼만한곳#완주가볼만한곳#삼례책마을#그림책미술관#비비정#송광사#위봉산성#위봉폭포#대아수목원#가을여행#당일치기여행\\n', '#상주여행#상주가볼만한곳#태평성대경상감영공원#학전망대#전망대#가을여행#아이와함께가기좋은\\n', '#구인사#주산지#남미륵사#지리산치즈랜드#화담숲#웅도#감악산#장태산자연휴양림#원대리자작나무숲#은평한옥마을#상족암군립공원#수선사#마이산#죽녹원#태화강십리대숲#스페이스워크#대왕암공원출렁다리#용추폭포#용산공원#부산_롯데월드#레고랜드#소금산_그랜드밸리\\n', '#2021가을시즌비대면안심관광지25선#2021비대면안심관광지#비대면안심관광지#비대면_안심관광지#가을_비대면관광지#청도여행#청도가볼만한곳#공암풍벽#운문호#운문호반에코트레일#거연정#경상권_비대면관광지#산책하기좋은\\n', '#철원여행#철원가볼만한곳#고석정#송대소주상절리#송대소#직탕폭포#소이산\\n', '#2021가을시즌비대면안심관광지25선#2021비대면안심관광지#비대면안심관광지#비대면_안심관광지#가을_비대면관광지#서울여행#서울가볼만한곳#도봉산#도봉산둘레길#간송옛집#둘레길#북한산둘레길#수도권_비대면관광지#산책하기좋은\\n', '#2021가을시즌비대면안심관광지25선#2021비대면안심관광지#비대면안심관광지#비대면_안심관광지#가을_비대면관광지#울산여행#울산가볼만한곳#억새#간월재억새평원#가을여행#신불산#경상권_비대면관광지#자연과함께\\n', '#한옥#전통한옥#전통한옥체험#경남한옥#고성여행#경남고성여행#고성여행코스#이색여행#청량한가을#가을여행#가을여행코스\\n', '#2021가을시즌비대면안심관광지25선#2021비대면안심관광지#비대면안심관광지#비대면_안심관광지#가을_비대면관광지#남원여행#남원가볼만한곳#지리산둘레길#지리산둘레길코스#걷기여행#전라권_비대면관광지#산책하기좋은\\n', '#2021가을시즌비대면안심관광지25선#2021비대면안심관광지#비대면안심관광지#비대면_안심관광지#가을_비대면관광지#인천여행#인천가볼만한곳#섬여행#소무의도#수도권_비대면관광지#자연과함께\\n', '#인천여행#인천가볼만한곳#배다리헌책방골목#촬영지#드라마촬영지#영화촬영지#인천도시역사관#역사여행#송도센트럴파크#야경#맛집#야경여행#가을여행\\n', '#웰니스#웰니스여행#치유의숲#거창여행#거창가볼만한곳#우두산출렁다리#Y자형출렁다리#항노화힐링랜드#산림치유센터#숲여행\\n', '#품질인증콘텐츠#변산마실길#부안청자박물관#한옥펜션나비의꿈#샤니모텔#변산반도국립공원#전북부안#한국관광품질인증테마여행#가을여행#바다#바다여행#1박2일\\n', '#국민안전여행가이드#안전여행#슬기로운여행생활#낭만적인여행생활#가을산행#안전한가을산행#안전여행카드뉴스\\n', '#품질인증콘텐츠#곡성기차마을전통시장#도림사#채원당#곡성강빛마을펜션#전남곡성#한국관광품질인증테마여행#기차여행#가을여행#곡성여행\\n', '#한옥#전통한옥#영암구림전통한옥마을#영암#영암여행#영암구림마을#전남여행#가을여행#가을여행코스#이색여행#전통여행\\n', '#2021가을시즌비대면안심관광지25선#2021비대면안심관광지#비대면안심관광지#비대면_안심관광지#가을_비대면관광지#무주여행#무주가볼만한곳#적상산사고#적상산#역사여행#가을여행#안국사#전라권_비대면관광지#역사관광지\\n', '#2021가을시즌비대면안심관광지25선#2021비대면안심관광지#비대면안심관광지#비대면_안심관광지#가을_비대면관광지#영동여행#충북영동여행#영동가볼만한곳#충북영동가볼만한곳#둘레길#강선대#금강둘레길#함벽정#송호관광지#가을여행#솔숲#충청권_비대면관광지#산책하기좋은\\n', '#한옥#전통한옥#한옥스테이#신식한옥#전라도여행#전북여행#전주여행#가족여행#데이트코스#자연여행#가을여행\\n', '#2021가을시즌비대면안심관광지25선#2021비대면안심관광지#비대면안심관광지#비대면_안심관광지#가을_비대면관광지#담양여행#담양가볼만한곳#금성산성#가을여행#보국문#역사관광지#전라권_비대면관광지\\n', '#밀양여행#밀양가볼만한곳#랜선여행#밀양카페#카페#가을여행#SNS감성사진#감성카페#SNS감성핫플레이스\\n', '#숨은관광지#밀양여행#밀양가볼만한곳#밀양아리랑우주천문대#국립밀양기상과학관#가족과함께#가을여행#가을가볼만한곳#공공누리#체험여행\\n', '#2021가을시즌비대면안심관광지25선#2021비대면안심관광지#비대면안심관광지#비대면_안심관광지#가을_비대면관광지#강원권_비대면관광지#강릉여행#강릉가볼만한곳#노추산#노추산모정탑#노추산모정탑길#돌탑#가을여행#자연과함께\\n', '#대한민국안심여행캠페인#2021대한민국안심여행캠페인#안심여행#안심여행캠페인#버추얼인플루언서\\n', '#통영여행#거제여행#통영가볼만한곳#거제가볼만한곳#비대면#웰니스#통영생태숲#통영나폴리농원#나폴리농원#거제숲소리공원#숲소리공원#웰니스프로그램#체험여행#웰니스여행\\n', '#국민안전여행가이드#가을철라이딩주의사항#라이딩주의사항#안전여행#가을안전여행#안전여행카드뉴스\\n', '#곡성여행#곡성가볼만한곳#제월섬#도림사#뚝방마켓#곡성뚝방마켓#침실습지#섬진강기차마을#곡성섬진강기차마을#당일치기여행#당일치기#곡성당일치기\\n', '#2020생태테마관광지#2020생태테마사업#생태관광#생태여행코스#생태테마사업#악양생태공원#입곡산림욕장#함안군승마공원#함안말이산고분군#입곡군립공원#아이와함께가기좋은#체험프로그램이있는#혼자가도좋은#힐링하고싶다면\\n', '#관람차#테마파크#풍경여행#가을여행#SNS감성사진\\n', '#2021가을시즌비대면안심관광지25선#2021비대면안심관광지#비대면안심관광지#비대면_안심관광지#가을_비대면관광지#고양여행#고양가볼만한곳#고양대덕생태공원#생태공원#갈대군락지#가을여행#수도권_비대면관광지#자연과함께\\n', '#의령여행#의령가볼만한곳#소도시여행#가을여행#호국의병의숲#일붕사#의령구름다리#구름다리#의령천#공공누리#마이리틀시티#2022_추석_당일치기_여행\\n', '#가을꽃여행#가을여행#꽃여행#단풍여행#갈대#댑싸리#코스모스#핑크뮬리#꽃무릇#칠면초#팜파스#해국#천일홍#아스타국화#테마여행\\n', '#영주여행#영주가볼만한곳#만수주조#발효체험학교#발효체험학교띄움#소백산꽃차이야기#체험프로그램#체험여행#꽃차#부석사#영주부석사#부석사(영주)#무량수전#소수서원#영주선비촌#선비촌#가을여행#랜선여행\\n', '#2021가을시즌비대면안심관광지25선#2021비대면안심관광지#비대면안심관광지#비대면_안심관광지#가을_비대면관광지#대구여행#대구가볼만한곳#가을여행#억새군락지#억새#대명유수지#달성습지#생태탐방로#경상권_비대면관광지#자연과함께\\n', '#가을여행#DMZ#DMZ테마#DMZ테마여행\\n', '#이천여행#이천가볼만한곳#당일치기여행#예스파크#시몬스테라스#티하우스에덴#설봉호수#별빛정원우주#경기도당일코스\\n', '#간이역여행#감성여행#가을여행지추천#가을여행#기차여행#간이역\\n', '#전남담양#담양후산리은행나무#창평향교#한옥에서#양동호가옥#화순양참사댁#한국관광품질인증테마여행#품질인증콘텐츠\\n', '#2021가을시즌비대면안심관광지25선#2021비대면안심관광지#비대면안심관광지#비대면_안심관광지#가을_비대면관광지#하동여행#하동가볼만한곳#동정호#형제봉#자연과함께#경상권_비대면관광지#2022_추석_당일치기_여행\\n', '#파주가볼만한곳#파주여행#파주여행코스#파주당일치기코스#지혜의숲#더티트렁크#마장호수#보광사#율곡습지공원#11월가볼만한곳#10월가볼만한곳#당일치기여행#가을타는당신께#경기도당일코스#2022_추석_당일치기_여행#9월가볼만한곳#당일치기\\n', '#한옥#전통한옥#전통한옥체험#전통체험#광주여행#광주여행코스#역사여행#이색여행#가을여행#가을여행코스\\n', '#2021비대면안심관광지_홍보영상#랜선여행#동영상#비대면안심관광#가을여행\\n', '#ASMR_비대면안심관광지#랜선여행#ASMR영상#비대면안심관광#대구여행#대명유수지\\n', '#숨은관광지#울진여행#울진가볼만한곳#울진국립해양과학관#과학관#가족과함께#가을여행#가을가볼만한곳#공공누리#체험여행#산불피해지역\\n', '#숨은관광지#제천여행#제천가볼만한곳#용추폭포#유리전망대#의림지#솔밭공원#가족과함께#가을여행#가을가볼만한곳#공공누리\\n', '#숨은관광지#제주여행#제주가볼만한곳#서귀포치유의숲#힐링여행#숲길#엄부랑치유숲길#가을여행#가을가볼만한곳#공공누리\\n', '#2021가을시즌비대면안심관광지25선#2021비대면안심관광지#비대면안심관광지#비대면_안심관광지#가을_비대면관광지#부산여행#부산가볼만한곳#무장애#무장애데크로드#봉래산#영도봉래산#경상권_비대면관광지#산책하기좋은\\n', '#2021가을시즌비대면안심관광지25선#2021비대면안심관광지#비대면안심관광지#비대면_안심관광지#가을_비대면관광지#광주여행#광주가볼만한곳#광주폴리#광주비엔날레#전라권_비대면관광지#산책하기좋은\\n', '#한옥#전통한옥#한옥마을#해남한옥마을#무선동한옥마을#해남여행#전라도여행#가을여행\\n', '#한옥#전통한옥#용인한옥#용인여행#가족여행#아이와함께가기좋은#한옥펜션#이색체험#가을여행\\n']\n"
     ]
    }
   ],
   "source": [
    "# 구글 검색창에 가을여행 검색해 출력되는 결과중 블로그 섹션의 텍스트를 추출\n",
    "\n",
    "# 검색결과를 저장할 파일경로와 파일이름 입력\n",
    "f_name = input(\"검색결과를 저장할 파일 경로와 이름을 입력하세요(예:/Users/werther/test.txt) : \")\n",
    "\n",
    "count = 1\n",
    "    \n",
    "try : \n",
    "    limit_num = int(input(\"요청할 건수를 입력하세요(숫자 입력) : \"))\n",
    "except : \n",
    "    limit_num = 100\n",
    "    \n",
    "count = 1\n",
    "\n",
    "# 크롬 드라이버 실행\n",
    "path = \"./Downloads/chromedriver_mac64/chromedriver\"\n",
    "driver = webdriver.Chrome(path)\n",
    "\n",
    "# 웹 주소 입력 및 네이버 실행\n",
    "driver.get(\"https://korean.visitkorea.or.kr/main/main.do#home\")\n",
    "time.sleep(1)\n",
    "\n",
    "search = driver.find_element_by_id(\"inp_search\")\n",
    "search.send_keys(\"가을여행\")\n",
    "enter = webdriver.Keys.ENTER\n",
    "search.send_keys(enter)\n",
    "\n",
    "\n",
    "for i in range(2, limit_num+1) : \n",
    "    time.sleep(1)\n",
    "    count += 1\n",
    "    \n",
    "    # 현제 페이지의 html코드를 불러온다. 지금 부터 BeautifulSoup 숲의 영역\n",
    "    full_html = driver.page_source\n",
    "\n",
    "    soup = BeautifulSoup(full_html, \"html.parser\")\n",
    "    contents = soup.select(\".tag_type\")\n",
    "\n",
    "    driver.find_element_by_xpath(f\"//div/a[@id='{i}']\").click()\n",
    "    \n",
    "    # 파일 쓰기\n",
    "    with open(f_name, 'a') as f :\n",
    "        for s in contents :\n",
    "            print(s.text.strip(), file = f)\n",
    "    \n",
    "print(f\"{count}페이지의 크롤링이 완료 되었습니다.\")\n",
    "\n",
    "# 파일 읽기\n",
    "with open(f_name, \"r\") as f : \n",
    "    line = f.readlines()\n",
    "    print(line)"
   ]
  },
  {
   "cell_type": "code",
   "execution_count": null,
   "id": "14251f81",
   "metadata": {},
   "outputs": [],
   "source": []
  }
 ],
 "metadata": {
  "kernelspec": {
   "display_name": "Python 3 (ipykernel)",
   "language": "python",
   "name": "python3"
  },
  "language_info": {
   "codemirror_mode": {
    "name": "ipython",
    "version": 3
   },
   "file_extension": ".py",
   "mimetype": "text/x-python",
   "name": "python",
   "nbconvert_exporter": "python",
   "pygments_lexer": "ipython3",
   "version": "3.9.12"
  }
 },
 "nbformat": 4,
 "nbformat_minor": 5
}
