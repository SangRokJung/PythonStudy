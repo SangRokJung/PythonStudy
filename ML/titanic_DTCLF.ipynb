{
 "cells": [
  {
   "cell_type": "code",
   "execution_count": 37,
   "id": "81646b79",
   "metadata": {},
   "outputs": [],
   "source": [
    "import numpy as np\n",
    "import pandas as pd\n",
    "import seaborn as sns\n",
    "import matplotlib.pyplot as plt\n",
    "from matplotlib import font_manager, rc\n",
    "\n",
    "# 크롤링\n",
    "from bs4 import BeautifulSoup\n",
    "from selenium import webdriver\n",
    "import time, sys\n",
    "\n",
    "# 시각화 맵\n",
    "import folium\n",
    "\n",
    "# Label encoder\n",
    "from sklearn.preprocessing import LabelEncoder\n",
    "\n",
    "# dtclf\n",
    "from sklearn.tree import DecisionTreeClassifier\n",
    "finan_dtclf = DecisionTreeClassifier()\n",
    "\n",
    "from sklearn.preprocessing import Binarizer\n",
    "\n",
    "from sklearn.tree import export_graphviz\n",
    "import graphviz\n",
    "\n",
    "from sklearn.metrics import accuracy_score, precision_score, recall_score, confusion_matrix, f1_score\n",
    "\n"
   ]
  },
  {
   "cell_type": "code",
   "execution_count": 81,
   "id": "386f7afa",
   "metadata": {},
   "outputs": [],
   "source": [
    "df_t = sns.load_dataset('titanic')\n",
    "\n",
    "df_t.drop(columns=['class', 'alive', 'embark_town', 'who', 'adult_male', 'alone'], inplace=True)\n",
    "\n",
    "# age_new 컬럼 생성.\n",
    "df_t.loc[df_t.age >= 50, \"age_new\"] = \"old\"\n",
    "df_t.loc[(df_t.age < 50) & (df_t.age>=10), \"age_new\"] = \"young\"\n",
    "df_t.loc[df_t.age < 10, \"age_new\"] = \"baby\"\n",
    "\n",
    "for column in ['sex', 'embarked', 'age_new'] :\n",
    "    datas = df_t[column].unique()\n",
    "    for i, d in enumerate(datas) :\n",
    "        df_t[column].replace(d, i, inplace=True)\n",
    "        \n",
    "for i in ['sex', 'embarked'] : \n",
    "    encoder = LabelEncoder()\n",
    "    encoder.fit(df_t[i])\n",
    "    df_t[i] = encoder.transform(df_t[i])\n",
    "    \n",
    "for i in ['sex', 'embarked', 'age_new']:\n",
    "    globals()[f'df1_{i}_encoder'] = LabelEncoder()\n",
    "    globals()[f'df1_{i}_encoder'].fit(df_t[i])\n",
    "    df_t[i] = globals()[f'df1_{i}_encoder'].transform(df_t[i])\n",
    "    \n",
    "# 타이타닉 데이터 전처리\n",
    "\n",
    "df_t = sns.load_dataset('titanic')\n",
    "df_t.drop(columns=['class', 'alive', 'embark_town', 'who', 'adult_male', 'alone'], inplace=True)\n",
    "\n",
    "# 연령의 결측치 해결\n",
    "age_md = df_t.groupby(['pclass', 'sex']).age.agg(['median'])\n",
    "df_t.loc[(df_t['sex'] == 'male') & (df_t['pclass'] == 1) & (df_t.age.isna()), \"age\"] = age_md.loc[1, 'male'][0]\n",
    "df_t.loc[(df_t['sex'] == 'male') & (df_t['pclass'] == 2) & (df_t.age.isna()), \"age\"] = age_md.loc[2, 'male'][0]\n",
    "df_t.loc[(df_t['sex'] == 'male') & (df_t['pclass'] == 3) & (df_t.age.isna()), \"age\"] = age_md.loc[3, 'male'][0]\n",
    "df_t.loc[(df_t['sex'] == 'female') & (df_t['pclass'] == 1) & (df_t.age.isna()), \"age\"] = age_md.loc[1, 'female'][0]\n",
    "df_t.loc[(df_t['sex'] == 'female') & (df_t['pclass'] == 2) & (df_t.age.isna()), \"age\"] = age_md.loc[2, 'female'][0]\n",
    "df_t.loc[(df_t['sex'] == 'female') & (df_t['pclass'] == 3) & (df_t.age.isna()), \"age\"] = age_md.loc[3, 'female'][0]\n",
    "\n",
    "# embarked 결측치 해결\n",
    "df_t.embarked.fillna(df_t.embarked.unique()[0], inplace=True)\n",
    "\n",
    "# 연령층 별 컬럼 생성.\n",
    "df_t.loc[df_t.age >= 50, \"age_new\"] = \"old\"\n",
    "df_t.loc[(df_t.age < 50) & (df_t.age>=10), \"age_new\"] = \"young\"\n",
    "df_t.loc[df_t.age < 10, \"age_new\"] = \"baby\"\n",
    "\n",
    "# 불필요 컬럼 제거\n",
    "df_t.drop(columns=['deck', 'sibsp', 'parch', 'age', 'embarked'], inplace=True)\n",
    "\n",
    "# df_t.info()\n",
    "# sex, embarked, age_new 해결해야함\n",
    "\n",
    "# Labeling으로 문자형 데이터를 숫자형으로 변환\n",
    "for i in ['sex', 'survived', 'age_new']:\n",
    "    globals()[f'df_t{i}_encoder'] = LabelEncoder()\n",
    "    globals()[f'df_t{i}_encoder'].fit(df_t[i])\n",
    "    df_t[i] = globals()[f'df_t{i}_encoder'].transform(df_t[i])\n",
    "\n",
    "# 타이타닉 머신러닝 예측 학습\n",
    "\n",
    "# 머신러닝이 목적으로 할 데이터를 설정\n",
    "X = df_t.drop(columns='survived')\n",
    "y = df_t['survived']\n",
    "\n",
    "from sklearn.tree import DecisionTreeClassifier\n",
    "finan_dtclf_2 = DecisionTreeClassifier()\n",
    "\n",
    "# fit = 머신러닝의 학습의 의미\n",
    "finan_dtclf_2.fit(X, y)\n",
    "# 분석-decision tree classification\n",
    "\n",
    "# 새로운 타이타닉 데이터 전처리 \n",
    "\n",
    "df_test = pd.read_csv('./test.csv')\n",
    "\n",
    "# df_test.info()\n",
    "# Name, Sex, Ticket, Cabin, Embarked 해결 필요\n",
    "\n",
    "# 연령의 결측치 해결\n",
    "# fare 결측치 해결\n",
    "age_md = df_test.groupby(['Pclass', 'Sex']).Age.agg(['median'])\n",
    "fare_md = df_test.groupby(['Pclass', 'Sex']).Fare.agg(['median'])\n",
    "for i in ['male', 'female'] : \n",
    "    for y in range(1, 4) : \n",
    "        f\"df_test.loc[(df_test['Sex'] == '{i}') & (df_test['Pclass'] == {y}) & (df_test.Age.isna()), 'Age'] = age_md.loc[{y}, '{i}'][0]\"\n",
    "        f\"df_test.loc[(df_test['Sex'] == '{i}') & (df_test['Pclass'] == {y}) & (df_test.Fare.isna()), 'Fare'] = fare_md.loc[{y}, '{i}'][0]\"\n",
    "        \n",
    "\n",
    "# 결측치가 너무 많은 데이터, 컬럼 삭제\n",
    "df_test.drop(columns=['Cabin'], inplace=True)\n",
    "\n",
    "# age_new 생성\n",
    "df_test.loc[df_test.Age >= 50, \"age_new\"] = \"old\"\n",
    "df_test.loc[(df_test.Age < 50) & (df_test.Age>=10), \"age_new\"] = \"young\"\n",
    "df_test.loc[df_test.Age < 10, \"age_new\"] = \"baby\"\n",
    "\n",
    "# 필요 없는 데이터 제거\n",
    "df_test.drop(columns=['Name', 'Ticket', 'PassengerId', \"SibSp\", \"Parch\", 'Age', 'Embarked'], inplace=True)\n",
    "\n",
    "\n",
    "# 컬럼 소문자로 변경 \n",
    "l1 = []\n",
    "for i in list(df_test.columns):\n",
    "    l1.append(i.lower())\n",
    "df_test.set_axis(l1, axis='columns', inplace=True)\n",
    "\n",
    "# Index(['pclass', 'sex', 'age', 'fare', 'embarked', 'predict survived'], dtype='object')\n",
    "# Labeling으로 문자형 데이터를 숫자형으로 변환\n",
    "for i in ['sex', 'age_new']:\n",
    "    globals()[f'df_test{i}_encoder'] = LabelEncoder()\n",
    "    globals()[f'df_test{i}_encoder'].fit(df_test[i])\n",
    "    df_test[i] = globals()[f'df_test{i}_encoder'].transform(df_test[i])\n",
    "\n",
    "# fare 결측치 해결    \n",
    "df_test['fare'].fillna(df_test['fare'].mean(), inplace=True)\n",
    "# df_test[df_test['fare'].isna() == True] \n",
    "\n",
    "# 학습 데이터 70%, 테스트 데이터 30%\n",
    "\n",
    "from sklearn.model_selection import train_test_split\n",
    "\n",
    "X = df_t.drop('survived', axis=1)\n",
    "y = df_t.survived\n",
    "\n",
    "X_train, X_test, y_train, y_test = train_test_split(X, y, test_size=0.1, random_state=12)\n",
    "# 직접구현\n",
    "# X_train = df_t.iloc[:round(891 * 0.7), 1:]\n",
    "# X_test = df_t.iloc[round(891 * 0.3), 1:]\n",
    "# y_train = df_t.iloc[:round(891 * 0.7), 0]\n",
    "# y_test = df_t.iloc[round(891 * 0.3), 0]\n",
    "\n",
    "# np.random.shuffle\n",
    "dtclf = DecisionTreeClassifier(ccp_alpha=0.0) #ccp : 분기점\n",
    "dtclf.fit(X_train, y_train)\n",
    "# predict이 필요한 이유 : 정답이 없는 경우가 있기 때문.\n",
    "dt_pred = dtclf.predict(X_test)"
   ]
  },
  {
   "cell_type": "code",
   "execution_count": 35,
   "id": "6aceb78e",
   "metadata": {},
   "outputs": [
    {
     "name": "stdout",
     "output_type": "stream",
     "text": [
      "DecisionTree 정확도: 0.81\n",
      "DecisionTree 정확도: 0.81\n"
     ]
    }
   ],
   "source": [
    "from sklearn.metrics import accuracy_score\n",
    "accuracy_score(y_test, dt_pred)\n",
    "print('DecisionTree 정확도: %.2f' % accuracy_score(y_test, dt_pred))\n",
    "# DecisionTree 정확도: 0.81\n",
    "\n",
    "print('DecisionTree 정확도: %.2f' % dtclf.score(X_test, y_test))\n",
    "# DecisionTree 정확도: 0.81"
   ]
  },
  {
   "cell_type": "code",
   "execution_count": 9,
   "id": "3e935180",
   "metadata": {},
   "outputs": [],
   "source": [
    "from sklearn.metrics import accuracy_score, precision_score, recall_score, confusion_matrix, roc_auc_score\n",
    "\n",
    "def get_clf_eval(y_test, pred) :\n",
    "#     print(\"-\" * 5)\n",
    "#     print(\"오차 행렬\\n\",confusion_matrix(y_test, pred))\n",
    "#     print(\"정확도 : %.2f\" %accuracy_score(y_test, pred))\n",
    "#     print(\"정밀도 : %.2f\" %precision_score(y_test, pred))\n",
    "#     print(\"재현율 : %.2f\" %recall_score(y_test, pred))\n",
    "#     print(\"f1 Score : %.2f\" %f1_score(y_test, pred))\n",
    "#     print(\"AUC : %.2f\" % roc_auc_score(y_test, pred))\n",
    "#     print(\"-\" * 5)\n",
    "    return accuracy_score(y_test, pred), precision_score(y_test, pred),recall_score(y_test, pred), f1_score(y_test, pred), roc_auc_score(y_test, pred) \n",
    "\n",
    "from sklearn.metrics import f1_score\n",
    "def get_eval_by_threshold(y_test, pred_proba) :\n",
    "    accuracy = []\n",
    "    precision = []\n",
    "    recall = []\n",
    "    thr_list = []\n",
    "    f1_list = []\n",
    "    auc_list= []\n",
    "\n",
    "    thr = 0\n",
    "    while thr <= 1 :\n",
    "        b = Binarizer(threshold=thr)\n",
    "        custom_predict = b.fit_transform(pred_proba)[:, 1]\n",
    "        get_clf_eval(y_test, custom_predict)\n",
    "        thr += 0.1\n",
    "\n",
    "        thr_list.append(thr)\n",
    "        accuracy.append(get_clf_eval(y_test, custom_predict)[0])\n",
    "        precision.append(get_clf_eval(y_test, custom_predict)[1])\n",
    "        recall.append(get_clf_eval(y_test, custom_predict)[2])\n",
    "        f1_list.append(get_clf_eval(y_test, custom_predict)[3])\n",
    "        auc_list.append(get_clf_eval(y_test, custom_predict)[4])\n",
    "    ts_datas={}\n",
    "    ts_datas['thresholds'] = thr_list\n",
    "    ts_datas[\"accuracy\"] = accuracy\n",
    "    ts_datas['precision'] = precision\n",
    "    ts_datas['recall'] = recall\n",
    "    ts_datas['f1Score'] = f1_list\n",
    "    ts_datas['AUC'] = auc_list\n",
    "    \n",
    "    pd.DataFrame(ts_datas).set_index(\"thresholds\").plot()\n",
    "    \n",
    "    plt.show()"
   ]
  },
  {
   "cell_type": "code",
   "execution_count": 203,
   "id": "7ae0e462",
   "metadata": {},
   "outputs": [
    {
     "name": "stdout",
     "output_type": "stream",
     "text": [
      "-----\n",
      "오차 행렬\n",
      " [[55  0]\n",
      " [ 5 30]]\n",
      "정확도 : 0.94\n",
      "정밀도 : 1.00\n",
      "재현율 : 0.86\n",
      "-----\n"
     ]
    }
   ],
   "source": [
    "dtclf = DecisionTreeClassifier()\n",
    "dtclf.fit(X_test, y_test)\n",
    "dt_pred = dtclf.predict(X_test)\n",
    "get_clf_eval(y_test, dt_pred)"
   ]
  },
  {
   "cell_type": "code",
   "execution_count": 235,
   "id": "559034ba",
   "metadata": {},
   "outputs": [
    {
     "name": "stdout",
     "output_type": "stream",
     "text": [
      "-----\n",
      "오차 행렬\n",
      " [[45 10]\n",
      " [10 25]]\n",
      "정확도 : 0.78\n",
      "정밀도 : 0.71\n",
      "재현율 : 0.71\n",
      "-----\n"
     ]
    },
    {
     "name": "stderr",
     "output_type": "stream",
     "text": [
      "/Users/werther/opt/anaconda3/lib/python3.9/site-packages/sklearn/base.py:443: UserWarning: X has feature names, but DecisionTreeClassifier was fitted without feature names\n",
      "  warnings.warn(\n"
     ]
    },
    {
     "data": {
      "text/plain": [
       "(0.7777777777777778, 0.7142857142857143, 0.7142857142857143)"
      ]
     },
     "execution_count": 235,
     "metadata": {},
     "output_type": "execute_result"
    }
   ],
   "source": [
    "dtclf = DecisionTreeClassifier(max_depth=4)\n",
    "dtclf.fit(X_train, y_train)\n",
    "dt_pred = dtclf.predict(X_test)\n",
    "get_clf_eval(y_test, dt_pred)"
   ]
  },
  {
   "cell_type": "code",
   "execution_count": 159,
   "id": "c60c06b6",
   "metadata": {},
   "outputs": [],
   "source": [
    "# 새로운 타이타닉 데이터 생존 여부 예측\n",
    "pred_result = finan_dtclf_2.predict(df_test)\n",
    "pred_result_2 =  df_tsurvived_encoder.inverse_transform(pred_result)\n",
    "df_test['pr_survived'] = pred_result_2"
   ]
  },
  {
   "cell_type": "code",
   "execution_count": 243,
   "id": "2673d82b",
   "metadata": {},
   "outputs": [
    {
     "name": "stderr",
     "output_type": "stream",
     "text": [
      "/Users/werther/opt/anaconda3/lib/python3.9/site-packages/sklearn/base.py:443: UserWarning: X has feature names, but DecisionTreeClassifier was fitted without feature names\n",
      "  warnings.warn(\n",
      "/Users/werther/opt/anaconda3/lib/python3.9/site-packages/sklearn/base.py:443: UserWarning: X has feature names, but DecisionTreeClassifier was fitted without feature names\n",
      "  warnings.warn(\n",
      "/Users/werther/opt/anaconda3/lib/python3.9/site-packages/sklearn/base.py:443: UserWarning: X has feature names, but DecisionTreeClassifier was fitted without feature names\n",
      "  warnings.warn(\n"
     ]
    },
    {
     "data": {
      "text/html": [
       "<div>\n",
       "<style scoped>\n",
       "    .dataframe tbody tr th:only-of-type {\n",
       "        vertical-align: middle;\n",
       "    }\n",
       "\n",
       "    .dataframe tbody tr th {\n",
       "        vertical-align: top;\n",
       "    }\n",
       "\n",
       "    .dataframe thead th {\n",
       "        text-align: right;\n",
       "    }\n",
       "</style>\n",
       "<table border=\"1\" class=\"dataframe\">\n",
       "  <thead>\n",
       "    <tr style=\"text-align: right;\">\n",
       "      <th></th>\n",
       "      <th>pred</th>\n",
       "      <th>pred_proba</th>\n",
       "    </tr>\n",
       "  </thead>\n",
       "  <tbody>\n",
       "    <tr>\n",
       "      <th>0</th>\n",
       "      <td>0.0</td>\n",
       "      <td>0.166316</td>\n",
       "    </tr>\n",
       "    <tr>\n",
       "      <th>1</th>\n",
       "      <td>0.0</td>\n",
       "      <td>0.166316</td>\n",
       "    </tr>\n",
       "    <tr>\n",
       "      <th>2</th>\n",
       "      <td>0.0</td>\n",
       "      <td>0.166316</td>\n",
       "    </tr>\n",
       "    <tr>\n",
       "      <th>3</th>\n",
       "      <td>0.0</td>\n",
       "      <td>0.166316</td>\n",
       "    </tr>\n",
       "    <tr>\n",
       "      <th>4</th>\n",
       "      <td>0.0</td>\n",
       "      <td>0.166316</td>\n",
       "    </tr>\n",
       "    <tr>\n",
       "      <th>5</th>\n",
       "      <td>0.0</td>\n",
       "      <td>0.166316</td>\n",
       "    </tr>\n",
       "    <tr>\n",
       "      <th>6</th>\n",
       "      <td>1.0</td>\n",
       "      <td>0.754864</td>\n",
       "    </tr>\n",
       "    <tr>\n",
       "      <th>7</th>\n",
       "      <td>1.0</td>\n",
       "      <td>0.754864</td>\n",
       "    </tr>\n",
       "    <tr>\n",
       "      <th>8</th>\n",
       "      <td>0.0</td>\n",
       "      <td>0.166316</td>\n",
       "    </tr>\n",
       "    <tr>\n",
       "      <th>9</th>\n",
       "      <td>0.0</td>\n",
       "      <td>0.166316</td>\n",
       "    </tr>\n",
       "    <tr>\n",
       "      <th>10</th>\n",
       "      <td>1.0</td>\n",
       "      <td>0.592593</td>\n",
       "    </tr>\n",
       "    <tr>\n",
       "      <th>11</th>\n",
       "      <td>0.0</td>\n",
       "      <td>0.166316</td>\n",
       "    </tr>\n",
       "    <tr>\n",
       "      <th>12</th>\n",
       "      <td>0.0</td>\n",
       "      <td>0.166316</td>\n",
       "    </tr>\n",
       "    <tr>\n",
       "      <th>13</th>\n",
       "      <td>1.0</td>\n",
       "      <td>0.754864</td>\n",
       "    </tr>\n",
       "    <tr>\n",
       "      <th>14</th>\n",
       "      <td>1.0</td>\n",
       "      <td>0.629630</td>\n",
       "    </tr>\n",
       "    <tr>\n",
       "      <th>15</th>\n",
       "      <td>0.0</td>\n",
       "      <td>0.166316</td>\n",
       "    </tr>\n",
       "    <tr>\n",
       "      <th>16</th>\n",
       "      <td>0.0</td>\n",
       "      <td>0.166316</td>\n",
       "    </tr>\n",
       "    <tr>\n",
       "      <th>17</th>\n",
       "      <td>1.0</td>\n",
       "      <td>0.592593</td>\n",
       "    </tr>\n",
       "    <tr>\n",
       "      <th>18</th>\n",
       "      <td>0.0</td>\n",
       "      <td>0.166316</td>\n",
       "    </tr>\n",
       "    <tr>\n",
       "      <th>19</th>\n",
       "      <td>0.0</td>\n",
       "      <td>0.166316</td>\n",
       "    </tr>\n",
       "  </tbody>\n",
       "</table>\n",
       "</div>"
      ],
      "text/plain": [
       "    pred  pred_proba\n",
       "0    0.0    0.166316\n",
       "1    0.0    0.166316\n",
       "2    0.0    0.166316\n",
       "3    0.0    0.166316\n",
       "4    0.0    0.166316\n",
       "5    0.0    0.166316\n",
       "6    1.0    0.754864\n",
       "7    1.0    0.754864\n",
       "8    0.0    0.166316\n",
       "9    0.0    0.166316\n",
       "10   1.0    0.592593\n",
       "11   0.0    0.166316\n",
       "12   0.0    0.166316\n",
       "13   1.0    0.754864\n",
       "14   1.0    0.629630\n",
       "15   0.0    0.166316\n",
       "16   0.0    0.166316\n",
       "17   1.0    0.592593\n",
       "18   0.0    0.166316\n",
       "19   0.0    0.166316"
      ]
     },
     "execution_count": 243,
     "metadata": {},
     "output_type": "execute_result"
    }
   ],
   "source": [
    "# 새로운 타이타닉 데이터 생존 여부 예측\n",
    "pred = dtclf.predict(X_test)\n",
    "pred_proba = dtclf.predict_proba(X_test)[:, 1]\n",
    "len(dtclf.predict(X_test))\n",
    "p_pp_df = pd.DataFrame([pred, pred_proba]).T\n",
    "p_pp_df.columns = ['pred', 'pred_proba']\n",
    "p_pp_df.head(20)"
   ]
  },
  {
   "cell_type": "code",
   "execution_count": 171,
   "id": "c6ce573e",
   "metadata": {},
   "outputs": [
    {
     "name": "stderr",
     "output_type": "stream",
     "text": [
      "/Users/werther/opt/anaconda3/lib/python3.9/site-packages/sklearn/base.py:443: UserWarning: X has feature names, but Binarizer was fitted without feature names\n",
      "  warnings.warn(\n"
     ]
    },
    {
     "data": {
      "text/plain": [
       "array([[1., 0., 1., 1.],\n",
       "       [0., 0., 1., 1.],\n",
       "       [0., 0., 1., 0.],\n",
       "       ...,\n",
       "       [0., 0., 1., 1.],\n",
       "       [1., 0., 1., 1.],\n",
       "       [1., 0., 1., 1.]])"
      ]
     },
     "execution_count": 171,
     "metadata": {},
     "output_type": "execute_result"
    }
   ],
   "source": [
    "# 1.1보다 같거나 작으면 0, 크면 1을 반환.\n",
    "from sklearn.preprocessing import Binarizer\n",
    "\n",
    "X = [[1, -1, 2],\n",
    "    [2, 0, 0], \n",
    "    [0, 1.1, 1.2]]\n",
    "\n",
    "b = Binarizer(threshold=1.1)\n",
    "b.transform(X_train)"
   ]
  },
  {
   "cell_type": "code",
   "execution_count": 239,
   "id": "e997de67",
   "metadata": {},
   "outputs": [
    {
     "data": {
      "text/plain": [
       "array([0.16631579, 0.75486381, 0.75486381, 0.75486381, 0.16631579,\n",
       "       0.16631579, 0.75486381, 0.62962963, 0.75486381, 0.62962963,\n",
       "       0.59259259, 0.16631579, 0.75486381, 0.16631579, 0.59259259,\n",
       "       0.16631579, 0.16631579, 0.16631579, 0.75486381, 0.75486381,\n",
       "       0.75486381, 0.75486381, 0.75486381, 0.75486381, 0.62962963,\n",
       "       0.75486381, 0.75486381, 0.16631579, 0.59259259, 0.16631579,\n",
       "       0.16631579, 0.16631579, 0.59259259, 0.16631579, 0.75486381,\n",
       "       0.16631579, 0.16631579, 0.75486381, 0.75486381, 0.75486381,\n",
       "       0.16631579, 0.75486381, 0.16631579, 0.75486381, 0.16631579,\n",
       "       0.75486381, 0.06666667, 0.75486381, 0.62962963, 0.16631579,\n",
       "       0.75486381, 0.75486381, 0.16631579, 0.16631579, 0.75486381,\n",
       "       0.75486381, 0.16631579, 0.75486381, 0.16631579, 0.16631579,\n",
       "       0.16631579, 0.75486381, 0.16631579, 0.75486381, 0.16631579,\n",
       "       0.75486381, 0.16631579, 0.16631579, 0.75486381, 0.16631579,\n",
       "       0.16631579, 0.16631579, 0.16631579, 0.16631579, 0.75486381,\n",
       "       0.16631579, 0.75486381, 0.75486381, 0.75486381, 0.75486381,\n",
       "       0.75486381, 0.16631579, 0.16631579, 0.16631579, 0.16631579,\n",
       "       0.16631579, 0.16631579, 0.16631579, 0.75486381, 0.75486381,\n",
       "       0.16631579, 0.16631579, 0.16631579, 0.16631579, 0.16631579,\n",
       "       0.16631579, 0.16631579, 0.59259259, 0.75486381, 0.75486381,\n",
       "       0.16631579, 0.75486381, 0.16631579, 0.16631579, 0.16631579,\n",
       "       0.16631579, 0.75486381, 0.16631579, 0.16631579, 0.75486381,\n",
       "       0.75486381, 0.16631579, 0.75486381, 0.16631579, 0.16631579,\n",
       "       0.75486381, 0.16631579, 0.16631579, 0.75486381, 0.16631579,\n",
       "       0.16631579, 0.06666667, 0.16631579, 0.16631579, 0.75486381,\n",
       "       0.16631579, 0.16631579, 0.16631579, 0.62962963, 0.75486381,\n",
       "       0.16631579, 0.16631579, 0.16631579, 0.16631579, 0.16631579,\n",
       "       0.06666667, 0.75486381, 0.16631579, 0.75486381, 0.75486381,\n",
       "       0.16631579, 0.16631579, 0.16631579, 0.16631579, 0.16631579,\n",
       "       0.75486381, 0.16631579, 0.16631579, 0.16631579, 0.75486381,\n",
       "       0.16631579, 0.16631579, 0.75486381, 0.16631579, 0.16631579,\n",
       "       0.75486381, 0.16631579, 0.16631579, 0.16631579, 0.16631579,\n",
       "       0.75486381, 0.16631579, 0.75486381, 0.75486381, 0.16631579,\n",
       "       0.16631579, 0.16631579, 0.16631579, 0.16631579, 0.16631579,\n",
       "       0.75486381, 0.16631579, 0.75486381, 0.16631579, 0.16631579,\n",
       "       0.16631579, 0.16631579, 0.75486381, 0.16631579, 0.16631579,\n",
       "       0.16631579, 0.16631579, 0.16631579, 0.75486381, 0.16631579,\n",
       "       0.16631579, 0.75486381, 0.59259259, 0.16631579, 0.75486381,\n",
       "       0.75486381, 0.75486381, 0.75486381, 0.75486381, 0.16631579,\n",
       "       0.16631579, 0.16631579, 0.16631579, 0.62962963, 0.75486381,\n",
       "       0.62962963, 0.16631579, 0.16631579, 0.16631579, 0.75486381,\n",
       "       0.16631579, 0.16631579, 0.16631579, 0.16631579, 0.16631579,\n",
       "       0.16631579, 0.75486381, 0.16631579, 0.16631579, 0.16631579,\n",
       "       0.16631579, 0.75486381, 0.16631579, 0.16631579, 0.75486381,\n",
       "       0.75486381, 0.16631579, 0.75486381, 0.59259259, 0.75486381,\n",
       "       0.16631579, 0.16631579, 0.16631579, 0.16631579, 0.16631579,\n",
       "       0.16631579, 0.75486381, 0.75486381, 0.06666667, 0.16631579,\n",
       "       0.75486381, 0.16631579, 0.75486381, 0.75486381, 0.16631579,\n",
       "       0.16631579, 0.75486381, 0.16631579, 0.16631579, 0.16631579,\n",
       "       0.59259259, 0.75486381, 0.16631579, 0.16631579, 0.16631579,\n",
       "       0.16631579, 0.16631579, 0.16631579, 0.59259259, 0.16631579,\n",
       "       0.16631579, 0.75486381, 0.16631579, 0.16631579, 0.16631579,\n",
       "       0.16631579, 0.16631579, 0.16631579, 0.75486381, 0.16631579,\n",
       "       0.75486381, 0.75486381, 0.16631579, 0.16631579, 0.16631579,\n",
       "       0.16631579, 0.16631579, 0.16631579, 0.16631579, 0.16631579,\n",
       "       0.75486381, 0.16631579, 0.16631579, 0.16631579, 0.16631579,\n",
       "       0.75486381, 0.16631579, 0.16631579, 0.16631579, 0.16631579,\n",
       "       0.16631579, 0.16631579, 0.75486381, 0.16631579, 0.16631579,\n",
       "       0.16631579, 0.16631579, 0.16631579, 0.75486381, 0.75486381,\n",
       "       0.75486381, 0.75486381, 0.75486381, 0.16631579, 0.59259259,\n",
       "       0.16631579, 0.16631579, 0.75486381, 0.75486381, 0.16631579,\n",
       "       0.59259259, 0.75486381, 0.16631579, 0.75486381, 0.16631579,\n",
       "       0.75486381, 0.62962963, 0.75486381, 0.75486381, 0.16631579,\n",
       "       0.59259259, 0.16631579, 0.16631579, 0.16631579, 0.16631579,\n",
       "       0.75486381, 0.16631579, 0.16631579, 0.16631579, 0.16631579,\n",
       "       0.16631579, 0.16631579, 0.16631579, 0.16631579, 0.75486381,\n",
       "       0.16631579, 0.16631579, 0.16631579, 0.06666667, 0.16631579,\n",
       "       0.75486381, 0.16631579, 0.16631579, 0.16631579, 0.16631579,\n",
       "       0.16631579, 0.75486381, 0.16631579, 0.75486381, 0.75486381,\n",
       "       0.16631579, 0.75486381, 0.16631579, 0.75486381, 0.75486381,\n",
       "       0.16631579, 0.16631579, 0.75486381, 0.75486381, 0.16631579,\n",
       "       0.16631579, 0.16631579, 0.75486381, 0.75486381, 0.16631579,\n",
       "       0.75486381, 0.59259259, 0.75486381, 0.16631579, 0.16631579,\n",
       "       0.16631579, 0.16631579, 0.16631579, 0.16631579, 0.16631579,\n",
       "       0.62962963, 0.75486381, 0.16631579, 0.16631579, 0.75486381,\n",
       "       0.75486381, 0.16631579, 0.16631579, 0.16631579, 0.16631579,\n",
       "       0.16631579, 0.16631579, 0.75486381, 0.16631579, 0.75486381,\n",
       "       0.16631579, 0.16631579, 0.16631579, 0.16631579, 0.16631579,\n",
       "       0.16631579, 0.75486381, 0.16631579, 0.16631579, 0.75486381,\n",
       "       0.16631579, 0.16631579, 0.16631579, 0.16631579, 0.75486381,\n",
       "       0.06666667, 0.75486381, 0.75486381, 0.16631579, 0.75486381,\n",
       "       0.75486381, 0.16631579, 0.75486381, 0.75486381, 0.16631579,\n",
       "       0.75486381, 0.75486381, 0.16631579, 0.16631579, 0.16631579,\n",
       "       0.16631579, 0.75486381, 0.16631579, 0.16631579, 0.16631579,\n",
       "       0.16631579, 0.16631579, 0.16631579, 0.16631579, 0.75486381,\n",
       "       0.16631579, 0.75486381, 0.16631579, 0.75486381, 0.62962963,\n",
       "       0.16631579, 0.16631579, 0.75486381, 0.16631579, 0.62962963,\n",
       "       0.16631579, 0.16631579, 0.16631579, 0.75486381, 0.16631579,\n",
       "       0.16631579, 0.75486381, 0.16631579, 0.75486381, 0.59259259,\n",
       "       0.16631579, 0.16631579, 0.16631579, 0.16631579, 0.75486381,\n",
       "       0.16631579, 0.59259259, 0.16631579, 0.16631579, 0.59259259,\n",
       "       0.75486381, 0.16631579, 0.75486381, 0.16631579, 0.62962963,\n",
       "       0.16631579, 0.62962963, 0.16631579, 0.75486381, 0.75486381,\n",
       "       0.16631579, 0.75486381, 0.16631579, 0.75486381, 0.75486381,\n",
       "       0.75486381, 0.75486381, 0.75486381, 0.06666667, 0.16631579,\n",
       "       0.16631579, 0.62962963, 0.75486381, 0.16631579, 0.16631579,\n",
       "       0.16631579, 0.75486381, 0.62962963, 0.16631579, 0.75486381,\n",
       "       0.16631579, 0.16631579, 0.16631579, 0.75486381, 0.16631579,\n",
       "       0.59259259, 0.16631579, 0.75486381, 0.75486381, 0.16631579,\n",
       "       0.16631579, 0.16631579, 0.16631579, 0.16631579, 0.06666667,\n",
       "       0.16631579, 0.16631579, 0.75486381, 0.16631579, 0.16631579,\n",
       "       0.16631579, 0.75486381, 0.16631579, 0.75486381, 0.16631579,\n",
       "       0.16631579, 0.16631579, 0.16631579, 0.16631579, 0.16631579,\n",
       "       0.16631579, 0.16631579, 0.62962963, 0.16631579, 0.16631579,\n",
       "       0.59259259, 0.16631579, 0.75486381, 0.62962963, 0.75486381,\n",
       "       0.75486381, 0.75486381, 0.16631579, 0.16631579, 0.16631579,\n",
       "       0.62962963, 0.75486381, 0.16631579, 0.75486381, 0.75486381,\n",
       "       0.75486381, 0.75486381, 0.75486381, 0.75486381, 0.75486381,\n",
       "       0.16631579, 0.75486381, 0.16631579, 0.16631579, 0.75486381,\n",
       "       0.75486381, 0.16631579, 0.75486381, 0.75486381, 0.75486381,\n",
       "       0.16631579, 0.16631579, 0.06666667, 0.16631579, 0.75486381,\n",
       "       0.16631579, 0.16631579, 0.16631579, 0.75486381, 0.16631579,\n",
       "       0.16631579, 0.75486381, 0.16631579, 0.16631579, 0.75486381,\n",
       "       0.16631579, 0.75486381, 0.16631579, 0.16631579, 0.75486381,\n",
       "       0.16631579, 0.16631579, 0.16631579, 0.06666667, 0.75486381,\n",
       "       0.75486381, 0.16631579, 0.16631579, 0.16631579, 0.59259259,\n",
       "       0.16631579, 0.16631579, 0.16631579, 0.62962963, 0.16631579,\n",
       "       0.16631579, 0.16631579, 0.16631579, 0.16631579, 0.16631579,\n",
       "       0.16631579, 0.16631579, 0.16631579, 0.16631579, 0.16631579,\n",
       "       0.75486381, 0.75486381, 0.16631579, 0.16631579, 0.16631579,\n",
       "       0.16631579, 0.75486381, 0.16631579, 0.16631579, 0.16631579,\n",
       "       0.16631579, 0.62962963, 0.16631579, 0.16631579, 0.59259259,\n",
       "       0.06666667, 0.16631579, 0.16631579, 0.62962963, 0.16631579,\n",
       "       0.75486381, 0.75486381, 0.75486381, 0.75486381, 0.16631579,\n",
       "       0.16631579, 0.75486381, 0.75486381, 0.16631579, 0.16631579,\n",
       "       0.16631579, 0.16631579, 0.16631579, 0.16631579, 0.16631579,\n",
       "       0.16631579, 0.16631579, 0.16631579, 0.75486381, 0.75486381,\n",
       "       0.75486381, 0.16631579, 0.75486381, 0.16631579, 0.16631579,\n",
       "       0.16631579, 0.16631579, 0.16631579, 0.16631579, 0.75486381,\n",
       "       0.75486381, 0.16631579, 0.59259259, 0.16631579, 0.75486381,\n",
       "       0.16631579, 0.16631579, 0.75486381, 0.16631579, 0.16631579,\n",
       "       0.16631579, 0.16631579, 0.75486381, 0.16631579, 0.16631579,\n",
       "       0.75486381, 0.62962963, 0.75486381, 0.75486381, 0.16631579,\n",
       "       0.16631579, 0.75486381, 0.16631579, 0.16631579, 0.16631579,\n",
       "       0.16631579, 0.75486381, 0.16631579, 0.16631579, 0.75486381,\n",
       "       0.75486381, 0.16631579, 0.75486381, 0.16631579, 0.75486381,\n",
       "       0.16631579, 0.75486381, 0.75486381, 0.16631579, 0.16631579,\n",
       "       0.16631579, 0.16631579, 0.16631579, 0.16631579, 0.75486381,\n",
       "       0.59259259, 0.16631579, 0.62962963, 0.16631579, 0.75486381,\n",
       "       0.16631579, 0.75486381, 0.16631579, 0.75486381, 0.16631579,\n",
       "       0.75486381, 0.75486381, 0.16631579, 0.16631579, 0.16631579,\n",
       "       0.75486381, 0.16631579, 0.16631579, 0.16631579, 0.06666667,\n",
       "       0.75486381, 0.16631579, 0.75486381, 0.06666667, 0.16631579,\n",
       "       0.16631579, 0.06666667, 0.16631579, 0.06666667, 0.62962963,\n",
       "       0.75486381, 0.16631579, 0.59259259, 0.59259259, 0.16631579,\n",
       "       0.75486381, 0.75486381, 0.62962963, 0.75486381, 0.75486381,\n",
       "       0.75486381, 0.75486381, 0.75486381, 0.16631579, 0.16631579,\n",
       "       0.16631579, 0.16631579, 0.16631579, 0.75486381, 0.16631579,\n",
       "       0.16631579, 0.16631579, 0.16631579, 0.16631579, 0.75486381,\n",
       "       0.16631579, 0.75486381, 0.59259259, 0.75486381, 0.59259259,\n",
       "       0.16631579, 0.16631579, 0.75486381, 0.16631579, 0.16631579,\n",
       "       0.16631579, 0.75486381, 0.16631579, 0.16631579, 0.16631579,\n",
       "       0.16631579, 0.16631579, 0.75486381, 0.16631579, 0.75486381,\n",
       "       0.16631579, 0.75486381, 0.16631579, 0.16631579, 0.16631579,\n",
       "       0.16631579, 0.62962963, 0.75486381, 0.75486381, 0.75486381,\n",
       "       0.75486381, 0.75486381, 0.16631579, 0.75486381, 0.75486381,\n",
       "       0.16631579, 0.16631579, 0.16631579, 0.16631579, 0.16631579,\n",
       "       0.16631579, 0.16631579, 0.16631579, 0.75486381, 0.75486381,\n",
       "       0.75486381, 0.59259259, 0.75486381, 0.16631579, 0.75486381,\n",
       "       0.62962963, 0.75486381, 0.16631579, 0.16631579, 0.16631579,\n",
       "       0.16631579])"
      ]
     },
     "execution_count": 239,
     "metadata": {},
     "output_type": "execute_result"
    }
   ],
   "source": [
    "dtclf.predict_proba(X_train)[:, 1]"
   ]
  },
  {
   "cell_type": "code",
   "execution_count": 92,
   "id": "8584fd15",
   "metadata": {},
   "outputs": [
    {
     "name": "stderr",
     "output_type": "stream",
     "text": [
      "/Users/werther/opt/anaconda3/lib/python3.9/site-packages/sklearn/metrics/_classification.py:1318: UndefinedMetricWarning: Precision is ill-defined and being set to 0.0 due to no predicted samples. Use `zero_division` parameter to control this behavior.\n",
      "  _warn_prf(average, modifier, msg_start, len(result))\n",
      "/Users/werther/opt/anaconda3/lib/python3.9/site-packages/sklearn/metrics/_classification.py:1318: UndefinedMetricWarning: Precision is ill-defined and being set to 0.0 due to no predicted samples. Use `zero_division` parameter to control this behavior.\n",
      "  _warn_prf(average, modifier, msg_start, len(result))\n",
      "/Users/werther/opt/anaconda3/lib/python3.9/site-packages/sklearn/metrics/_classification.py:1318: UndefinedMetricWarning: Precision is ill-defined and being set to 0.0 due to no predicted samples. Use `zero_division` parameter to control this behavior.\n",
      "  _warn_prf(average, modifier, msg_start, len(result))\n",
      "/Users/werther/opt/anaconda3/lib/python3.9/site-packages/sklearn/metrics/_classification.py:1318: UndefinedMetricWarning: Precision is ill-defined and being set to 0.0 due to no predicted samples. Use `zero_division` parameter to control this behavior.\n",
      "  _warn_prf(average, modifier, msg_start, len(result))\n",
      "/Users/werther/opt/anaconda3/lib/python3.9/site-packages/sklearn/metrics/_classification.py:1318: UndefinedMetricWarning: Precision is ill-defined and being set to 0.0 due to no predicted samples. Use `zero_division` parameter to control this behavior.\n",
      "  _warn_prf(average, modifier, msg_start, len(result))\n",
      "/Users/werther/opt/anaconda3/lib/python3.9/site-packages/sklearn/metrics/_classification.py:1318: UndefinedMetricWarning: Precision is ill-defined and being set to 0.0 due to no predicted samples. Use `zero_division` parameter to control this behavior.\n",
      "  _warn_prf(average, modifier, msg_start, len(result))\n"
     ]
    },
    {
     "data": {
      "image/png": "[encoded data removed]",
      "text/plain": [
       "<Figure size 432x288 with 1 Axes>"
      ]
     },
     "metadata": {
      "needs_background": "light"
     },
     "output_type": "display_data"
    }
   ],
   "source": [
    "dtclf = DecisionTreeClassifier(max_depth=4, ccp_alpha=0.01)\n",
    "dtclf.fit(X_train, y_train)\n",
    "pred_proba = dtclf.predict_proba(X_test)\n",
    "get_eval_by_threshold(y_test, pred_proba)"
   ]
  },
  {
   "cell_type": "code",
   "execution_count": 96,
   "id": "df51eaf6",
   "metadata": {},
   "outputs": [
    {
     "data": {
      "text/plain": [
       "456    0\n",
       "351    0\n",
       "173    0\n",
       "671    0\n",
       "836    0\n",
       "      ..\n",
       "193    1\n",
       "299    1\n",
       "320    0\n",
       "528    0\n",
       "831    1\n",
       "Name: survived, Length: 90, dtype: int64"
      ]
     },
     "execution_count": 96,
     "metadata": {},
     "output_type": "execute_result"
    }
   ],
   "source": [
    "y_test"
   ]
  },
  {
   "cell_type": "code",
   "execution_count": 99,
   "id": "c79526b0",
   "metadata": {},
   "outputs": [
    {
     "name": "stdout",
     "output_type": "stream",
     "text": [
      "7\n",
      "임곗값 배열의 index: [0 1 2 3 4 5 6]\n",
      "전체 임곗값: [1.94 0.94 0.9  0.59 0.35 0.12 0.1 ]\n",
      "전체 임곗값별 FPR: [0.    0.    0.    0.091 0.327 0.382 1.   ]\n",
      "전체 임곗값별 TPR: [0.    0.429 0.514 0.714 0.829 0.829 1.   ]\n"
     ]
    },
    {
     "data": {
      "image/png": "[encoded data removed]",
      "text/plain": [
       "<Figure size 432x288 with 1 Axes>"
      ]
     },
     "metadata": {
      "needs_background": "light"
     },
     "output_type": "display_data"
    }
   ],
   "source": [
    "from sklearn.metrics import roc_curve\n",
    "\n",
    "# 레이블 값이 1일 때의 예측 확률을 추출\n",
    "pred_prob_class1 = dtclf.predict_proba(X_test)[:,1]\n",
    "fprs, tprs, thresholds = roc_curve(y_test, pred_prob_class1)\n",
    "print(thresholds.shape[0])\n",
    "\n",
    "# 반환된 임곗값 배열 로우가 47건 추출\n",
    "thr_index = np.arange(0, thresholds.shape[0])\n",
    "print('임곗값 배열의 index:', thr_index)\n",
    "print('전체 임곗값:', np.round(thresholds[thr_index], 2))\n",
    "\n",
    "# 추출된 임곗값에 따른 FPR, TPR 값\n",
    "print('전체 임곗값별 FPR:', np.round(fprs[thr_index], 3))\n",
    "print('전체 임곗값별 TPR:', np.round(tprs[thr_index], 3))\n",
    "\n",
    "def roc_curve_plot(y_test, pred_prob_c1):\n",
    "    # 임곗값에 따른 FPR, TPR 값을 반환받음\n",
    "    fprs, tprs, thresholds = roc_curve(y_test, pred_prob_c1)\n",
    "    # ROC 곡선을 그래프 곡선으로 그림\n",
    "    plt.plot(fprs, tprs, label='ROC')\n",
    "    # 가운데 대각선 직선을 그림\n",
    "    plt.plot([0,1], [0,1], 'k--', label='Random')\n",
    "    # FPR X 축의 Scale을 0.1 단위로 변경, X, Y측 명 설정 등\n",
    "    start, end = plt.xlim();\n",
    "    plt.xticks(np.round(np.arange(start, end, 0.1), 2))\n",
    "    plt.xlim(0,1); plt.ylim(0,1)\n",
    "    plt.xlabel('FPR(1-Sensitivity)'); plt.ylabel('TPR(Recall)')\n",
    "    plt.legend()\n",
    "roc_curve_plot(y_test, pred_proba[:,1])"
   ]
  },
  {
   "cell_type": "code",
   "execution_count": 75,
   "id": "de8ec512",
   "metadata": {},
   "outputs": [
    {
     "name": "stdout",
     "output_type": "stream",
     "text": [
      "Feature improtanes : [0.112 0.39  0.426 0.072]\n",
      "pclass : 0.112\n",
      "sex : 0.390\n",
      "fare : 0.426\n",
      "age_new : 0.072\n"
     ]
    },
    {
     "data": {
      "text/plain": [
       "<AxesSubplot:xlabel='importance', ylabel='feature'>"
      ]
     },
     "execution_count": 75,
     "metadata": {},
     "output_type": "execute_result"
    },
    {
     "data": {
      "image/png": "[encoded data removed]",
      "text/plain": [
       "<Figure size 432x288 with 1 Axes>"
      ]
     },
     "metadata": {
      "needs_background": "light"
     },
     "output_type": "display_data"
    }
   ],
   "source": [
    "# feature importance 추출\n",
    "print(\"Feature improtanes : {0}\".format(np.round(dtclf.feature_importances_, 3)))\n",
    "\n",
    "# feature impotance 매핑\n",
    "for name, value, in zip(df_test.columns, dtclf.feature_importances_) :\n",
    "    print('{0} : {1:.3f}'.format(name, value))\n",
    "\n",
    "feature_importance = pd.DataFrame({\n",
    "    'feature': df_test.columns,\n",
    "    'importance': dtclf.feature_importances_\n",
    "})\n",
    "\n",
    "# feature_importance['importance'].sort_values()\n",
    "# 위의 방식은 inplace=True를 적으면 오류가 난다.\n",
    "feature_importance.sort_values('importance', inplace=True, ascending=False)\n",
    "\n",
    "# drop=True를 안적으면 위의 index가 column으로 추가되게 된다.\n",
    "feature_importance.reset_index(drop=True, inplace=True)\n",
    "\n",
    "# 시각화\n",
    "sns.barplot(data=feature_importance, y=\"feature\", x=\"importance\")\n"
   ]
  },
  {
   "cell_type": "code",
   "execution_count": 76,
   "id": "b1a59059",
   "metadata": {},
   "outputs": [
    {
     "name": "stdout",
     "output_type": "stream",
     "text": [
      "Feature importanes:\n",
      "[0.112 0.39  0.426 0.072]\n",
      "pclass : 0.112\n",
      "sex : 0.390\n",
      "fare : 0.426\n",
      "age_new : 0.072\n"
     ]
    },
    {
     "data": {
      "image/png": "[encoded data removed]",
      "text/plain": [
       "<Figure size 432x288 with 1 Axes>"
      ]
     },
     "metadata": {
      "needs_background": "light"
     },
     "output_type": "display_data"
    }
   ],
   "source": [
    "# feature importance 추출\n",
    "print(\"Feature importanes:\\n{0}\".format(np.round(dtclf.feature_importances_, 3)))\n",
    "# feature별 importance 매핑\n",
    "f_i1 = {}\n",
    "f_i2 = {}\n",
    "for name, value in zip(X.columns, dtclf.feature_importances_):\n",
    "    print('{0} : {1:.3f}'.format(name, value))\n",
    "    f_i1[name] = value\n",
    "result1 = sorted(f_i1.items(), key=lambda x:x[1], reverse=True)\n",
    "for i, j in result1:\n",
    "    f_i2[i] = j\n",
    "# feature importance를 column 별로 시각화하기\n",
    "sns.barplot(x=list(f_i2.values()), y=list(f_i2.keys()))\n",
    "plt.show()"
   ]
  },
  {
   "cell_type": "code",
   "execution_count": 77,
   "id": "2fe6cde1",
   "metadata": {},
   "outputs": [],
   "source": [
    "import numpy as np\n",
    "# Classifier의 Decision Boundary를 시각화 하는 함수\n",
    "def visualize_boundary(model, X, y):\n",
    "    fig,ax = plt.subplots()\n",
    "    # 학습 데이타 scatter plot으로 나타내기\n",
    "    ax.scatter(X.iloc[:, 0], X.iloc[:, 1], c=y, s=25, cmap='rainbow',\n",
    "               edgecolor='k', clim=(y.min(), y.max()), zorder=3)\n",
    "    ax.axis('tight')\n",
    "    ax.axis('on')\n",
    "    xlim_start, xlim_end = ax.get_xlim()\n",
    "    ylim_start, ylim_end = ax.get_ylim()\n",
    "    \n",
    "    # 호출 파라미터로 들어온 training 데이타로 model 학습 .\n",
    "    model.fit(X, y)\n",
    "    \n",
    "    # meshgrid 형태인 모든 좌표값으로 예측 수행.\n",
    "    xx, yy = np.meshgrid(np.linspace(xlim_start,xlim_end, num=200),\n",
    "                         np.linspace(ylim_start,ylim_end, num=200))\n",
    "    Z = model.predict(np.c_[xx.ravel(), yy.ravel()]).reshape(xx.shape)\n",
    "    \n",
    "    # contourf() 를 이용하여 class boundary 를 visualization 수행.\n",
    "    n_classes = len(np.unique(y))\n",
    "    contours = ax.contourf(xx, yy, Z, alpha=0.3,\n",
    "                           levels=np.arange(n_classes + 1) - 0.5,\n",
    "                           cmap='rainbow', clim=(y.min(), y.max()),\n",
    "                           zorder=1)"
   ]
  },
  {
   "cell_type": "code",
   "execution_count": 85,
   "id": "acca3793",
   "metadata": {},
   "outputs": [
    {
     "name": "stderr",
     "output_type": "stream",
     "text": [
      "/Users/werther/opt/anaconda3/lib/python3.9/site-packages/sklearn/base.py:450: UserWarning: X does not have valid feature names, but DecisionTreeClassifier was fitted with feature names\n",
      "  warnings.warn(\n",
      "/var/folders/t4/vwr916y50fv3wcm0xlgfkyg00000gn/T/ipykernel_992/2311863821.py:23: UserWarning: The following kwargs were not used by contour: 'clim'\n",
      "  contours = ax.contourf(xx, yy, Z, alpha=0.3,\n",
      "/Users/werther/opt/anaconda3/lib/python3.9/site-packages/sklearn/base.py:450: UserWarning: X does not have valid feature names, but DecisionTreeClassifier was fitted with feature names\n",
      "  warnings.warn(\n",
      "/var/folders/t4/vwr916y50fv3wcm0xlgfkyg00000gn/T/ipykernel_992/2311863821.py:23: UserWarning: The following kwargs were not used by contour: 'clim'\n",
      "  contours = ax.contourf(xx, yy, Z, alpha=0.3,\n",
      "/Users/werther/opt/anaconda3/lib/python3.9/site-packages/sklearn/base.py:450: UserWarning: X does not have valid feature names, but DecisionTreeClassifier was fitted with feature names\n",
      "  warnings.warn(\n",
      "/var/folders/t4/vwr916y50fv3wcm0xlgfkyg00000gn/T/ipykernel_992/2311863821.py:23: UserWarning: The following kwargs were not used by contour: 'clim'\n",
      "  contours = ax.contourf(xx, yy, Z, alpha=0.3,\n",
      "/Users/werther/opt/anaconda3/lib/python3.9/site-packages/sklearn/base.py:450: UserWarning: X does not have valid feature names, but DecisionTreeClassifier was fitted with feature names\n",
      "  warnings.warn(\n",
      "/var/folders/t4/vwr916y50fv3wcm0xlgfkyg00000gn/T/ipykernel_992/2311863821.py:23: UserWarning: The following kwargs were not used by contour: 'clim'\n",
      "  contours = ax.contourf(xx, yy, Z, alpha=0.3,\n",
      "/Users/werther/opt/anaconda3/lib/python3.9/site-packages/sklearn/base.py:450: UserWarning: X does not have valid feature names, but DecisionTreeClassifier was fitted with feature names\n",
      "  warnings.warn(\n",
      "/var/folders/t4/vwr916y50fv3wcm0xlgfkyg00000gn/T/ipykernel_992/2311863821.py:23: UserWarning: The following kwargs were not used by contour: 'clim'\n",
      "  contours = ax.contourf(xx, yy, Z, alpha=0.3,\n",
      "/Users/werther/opt/anaconda3/lib/python3.9/site-packages/sklearn/base.py:450: UserWarning: X does not have valid feature names, but DecisionTreeClassifier was fitted with feature names\n",
      "  warnings.warn(\n",
      "/var/folders/t4/vwr916y50fv3wcm0xlgfkyg00000gn/T/ipykernel_992/2311863821.py:23: UserWarning: The following kwargs were not used by contour: 'clim'\n",
      "  contours = ax.contourf(xx, yy, Z, alpha=0.3,\n",
      "/Users/werther/opt/anaconda3/lib/python3.9/site-packages/sklearn/base.py:450: UserWarning: X does not have valid feature names, but DecisionTreeClassifier was fitted with feature names\n",
      "  warnings.warn(\n",
      "/var/folders/t4/vwr916y50fv3wcm0xlgfkyg00000gn/T/ipykernel_992/2311863821.py:23: UserWarning: The following kwargs were not used by contour: 'clim'\n",
      "  contours = ax.contourf(xx, yy, Z, alpha=0.3,\n",
      "/Users/werther/opt/anaconda3/lib/python3.9/site-packages/sklearn/base.py:450: UserWarning: X does not have valid feature names, but DecisionTreeClassifier was fitted with feature names\n",
      "  warnings.warn(\n",
      "/var/folders/t4/vwr916y50fv3wcm0xlgfkyg00000gn/T/ipykernel_992/2311863821.py:23: UserWarning: The following kwargs were not used by contour: 'clim'\n",
      "  contours = ax.contourf(xx, yy, Z, alpha=0.3,\n",
      "/Users/werther/opt/anaconda3/lib/python3.9/site-packages/sklearn/base.py:450: UserWarning: X does not have valid feature names, but DecisionTreeClassifier was fitted with feature names\n",
      "  warnings.warn(\n",
      "/var/folders/t4/vwr916y50fv3wcm0xlgfkyg00000gn/T/ipykernel_992/2311863821.py:23: UserWarning: The following kwargs were not used by contour: 'clim'\n",
      "  contours = ax.contourf(xx, yy, Z, alpha=0.3,\n",
      "/Users/werther/opt/anaconda3/lib/python3.9/site-packages/sklearn/base.py:450: UserWarning: X does not have valid feature names, but DecisionTreeClassifier was fitted with feature names\n",
      "  warnings.warn(\n",
      "/var/folders/t4/vwr916y50fv3wcm0xlgfkyg00000gn/T/ipykernel_992/2311863821.py:23: UserWarning: The following kwargs were not used by contour: 'clim'\n",
      "  contours = ax.contourf(xx, yy, Z, alpha=0.3,\n",
      "/Users/werther/opt/anaconda3/lib/python3.9/site-packages/sklearn/base.py:450: UserWarning: X does not have valid feature names, but DecisionTreeClassifier was fitted with feature names\n",
      "  warnings.warn(\n",
      "/var/folders/t4/vwr916y50fv3wcm0xlgfkyg00000gn/T/ipykernel_992/2311863821.py:23: UserWarning: The following kwargs were not used by contour: 'clim'\n",
      "  contours = ax.contourf(xx, yy, Z, alpha=0.3,\n",
      "/Users/werther/opt/anaconda3/lib/python3.9/site-packages/sklearn/base.py:450: UserWarning: X does not have valid feature names, but DecisionTreeClassifier was fitted with feature names\n",
      "  warnings.warn(\n",
      "/var/folders/t4/vwr916y50fv3wcm0xlgfkyg00000gn/T/ipykernel_992/2311863821.py:23: UserWarning: The following kwargs were not used by contour: 'clim'\n",
      "  contours = ax.contourf(xx, yy, Z, alpha=0.3,\n"
     ]
    },
    {
     "data": {
      "image/png": "[encoded data removed]",
      "text/plain": [
       "<Figure size 432x288 with 1 Axes>"
      ]
     },
     "metadata": {
      "needs_background": "light"
     },
     "output_type": "display_data"
    },
    {
     "data": {
      "image/png": "[encoded data removed]",
      "text/plain": [
       "<Figure size 432x288 with 1 Axes>"
      ]
     },
     "metadata": {
      "needs_background": "light"
     },
     "output_type": "display_data"
    },
    {
     "data": {
      "image/png": "[encoded data removed]",
      "text/plain": [
       "<Figure size 432x288 with 1 Axes>"
      ]
     },
     "metadata": {
      "needs_background": "light"
     },
     "output_type": "display_data"
    },
    {
     "data": {
      "image/png": "[encoded data removed]",
      "text/plain": [
       "<Figure size 432x288 with 1 Axes>"
      ]
     },
     "metadata": {
      "needs_background": "light"
     },
     "output_type": "display_data"
    },
    {
     "data": {
      "image/png": "[encoded data removed]",
      "text/plain": [
       "<Figure size 432x288 with 1 Axes>"
      ]
     },
     "metadata": {
      "needs_background": "light"
     },
     "output_type": "display_data"
    },
    {
     "data": {
      "image/png": "[encoded data removed]",
      "text/plain": [
       "<Figure size 432x288 with 1 Axes>"
      ]
     },
     "metadata": {
      "needs_background": "light"
     },
     "output_type": "display_data"
    },
    {
     "data": {
      "image/png": "[encoded data removed]",
      "text/plain": [
       "<Figure size 432x288 with 1 Axes>"
      ]
     },
     "metadata": {
      "needs_background": "light"
     },
     "output_type": "display_data"
    },
    {
     "data": {
      "image/png": "[encoded data removed]",
      "text/plain": [
       "<Figure size 432x288 with 1 Axes>"
      ]
     },
     "metadata": {
      "needs_background": "light"
     },
     "output_type": "display_data"
    },
    {
     "data": {
      "image/png": "[encoded data removed]",
      "text/plain": [
       "<Figure size 432x288 with 1 Axes>"
      ]
     },
     "metadata": {
      "needs_background": "light"
     },
     "output_type": "display_data"
    },
    {
     "data": {
      "image/png": "[encoded data removed]",
      "text/plain": [
       "<Figure size 432x288 with 1 Axes>"
      ]
     },
     "metadata": {
      "needs_background": "light"
     },
     "output_type": "display_data"
    },
    {
     "data": {
      "image/png": "[encoded data removed]",
      "text/plain": [
       "<Figure size 432x288 with 1 Axes>"
      ]
     },
     "metadata": {
      "needs_background": "light"
     },
     "output_type": "display_data"
    },
    {
     "data": {
      "image/png": "[encoded data removed]",
      "text/plain": [
       "<Figure size 432x288 with 1 Axes>"
      ]
     },
     "metadata": {
      "needs_background": "light"
     },
     "output_type": "display_data"
    }
   ],
   "source": [
    "for i in X_train.columns:\n",
    "    for j in X_train.columns:\n",
    "        if i != j :\n",
    "            visualize_boundary(dtclf, X_train[[i,j]], y_train)\n",
    "        else:\n",
    "             pass"
   ]
  },
  {
   "cell_type": "code",
   "execution_count": 83,
   "id": "0e896f3d",
   "metadata": {},
   "outputs": [
    {
     "data": {
      "text/html": [
       "<div>\n",
       "<style scoped>\n",
       "    .dataframe tbody tr th:only-of-type {\n",
       "        vertical-align: middle;\n",
       "    }\n",
       "\n",
       "    .dataframe tbody tr th {\n",
       "        vertical-align: top;\n",
       "    }\n",
       "\n",
       "    .dataframe thead th {\n",
       "        text-align: right;\n",
       "    }\n",
       "</style>\n",
       "<table border=\"1\" class=\"dataframe\">\n",
       "  <thead>\n",
       "    <tr style=\"text-align: right;\">\n",
       "      <th></th>\n",
       "      <th>pclass</th>\n",
       "      <th>sex</th>\n",
       "      <th>fare</th>\n",
       "      <th>age_new</th>\n",
       "    </tr>\n",
       "  </thead>\n",
       "  <tbody>\n",
       "    <tr>\n",
       "      <th>715</th>\n",
       "      <td>3</td>\n",
       "      <td>1</td>\n",
       "      <td>7.6500</td>\n",
       "      <td>2</td>\n",
       "    </tr>\n",
       "    <tr>\n",
       "      <th>319</th>\n",
       "      <td>1</td>\n",
       "      <td>0</td>\n",
       "      <td>134.5000</td>\n",
       "      <td>2</td>\n",
       "    </tr>\n",
       "    <tr>\n",
       "      <th>829</th>\n",
       "      <td>1</td>\n",
       "      <td>0</td>\n",
       "      <td>80.0000</td>\n",
       "      <td>1</td>\n",
       "    </tr>\n",
       "    <tr>\n",
       "      <th>79</th>\n",
       "      <td>3</td>\n",
       "      <td>0</td>\n",
       "      <td>12.4750</td>\n",
       "      <td>2</td>\n",
       "    </tr>\n",
       "    <tr>\n",
       "      <th>484</th>\n",
       "      <td>1</td>\n",
       "      <td>1</td>\n",
       "      <td>91.0792</td>\n",
       "      <td>2</td>\n",
       "    </tr>\n",
       "    <tr>\n",
       "      <th>...</th>\n",
       "      <td>...</td>\n",
       "      <td>...</td>\n",
       "      <td>...</td>\n",
       "      <td>...</td>\n",
       "    </tr>\n",
       "    <tr>\n",
       "      <th>241</th>\n",
       "      <td>3</td>\n",
       "      <td>0</td>\n",
       "      <td>15.5000</td>\n",
       "      <td>2</td>\n",
       "    </tr>\n",
       "    <tr>\n",
       "      <th>253</th>\n",
       "      <td>3</td>\n",
       "      <td>1</td>\n",
       "      <td>16.1000</td>\n",
       "      <td>2</td>\n",
       "    </tr>\n",
       "    <tr>\n",
       "      <th>390</th>\n",
       "      <td>1</td>\n",
       "      <td>1</td>\n",
       "      <td>120.0000</td>\n",
       "      <td>2</td>\n",
       "    </tr>\n",
       "    <tr>\n",
       "      <th>667</th>\n",
       "      <td>3</td>\n",
       "      <td>1</td>\n",
       "      <td>7.7750</td>\n",
       "      <td>2</td>\n",
       "    </tr>\n",
       "    <tr>\n",
       "      <th>843</th>\n",
       "      <td>3</td>\n",
       "      <td>1</td>\n",
       "      <td>6.4375</td>\n",
       "      <td>2</td>\n",
       "    </tr>\n",
       "  </tbody>\n",
       "</table>\n",
       "<p>801 rows × 4 columns</p>\n",
       "</div>"
      ],
      "text/plain": [
       "     pclass  sex      fare  age_new\n",
       "715       3    1    7.6500        2\n",
       "319       1    0  134.5000        2\n",
       "829       1    0   80.0000        1\n",
       "79        3    0   12.4750        2\n",
       "484       1    1   91.0792        2\n",
       "..      ...  ...       ...      ...\n",
       "241       3    0   15.5000        2\n",
       "253       3    1   16.1000        2\n",
       "390       1    1  120.0000        2\n",
       "667       3    1    7.7750        2\n",
       "843       3    1    6.4375        2\n",
       "\n",
       "[801 rows x 4 columns]"
      ]
     },
     "execution_count": 83,
     "metadata": {},
     "output_type": "execute_result"
    }
   ],
   "source": []
  },
  {
   "cell_type": "code",
   "execution_count": 69,
   "id": "4846047b",
   "metadata": {},
   "outputs": [
    {
     "data": {
      "text/html": [
       "<div>\n",
       "<style scoped>\n",
       "    .dataframe tbody tr th:only-of-type {\n",
       "        vertical-align: middle;\n",
       "    }\n",
       "\n",
       "    .dataframe tbody tr th {\n",
       "        vertical-align: top;\n",
       "    }\n",
       "\n",
       "    .dataframe thead th {\n",
       "        text-align: right;\n",
       "    }\n",
       "</style>\n",
       "<table border=\"1\" class=\"dataframe\">\n",
       "  <thead>\n",
       "    <tr style=\"text-align: right;\">\n",
       "      <th></th>\n",
       "      <th>feature</th>\n",
       "      <th>importance</th>\n",
       "    </tr>\n",
       "  </thead>\n",
       "  <tbody>\n",
       "    <tr>\n",
       "      <th>0</th>\n",
       "      <td>age_new</td>\n",
       "      <td>0.071970</td>\n",
       "    </tr>\n",
       "    <tr>\n",
       "      <th>1</th>\n",
       "      <td>pclass</td>\n",
       "      <td>0.112401</td>\n",
       "    </tr>\n",
       "    <tr>\n",
       "      <th>2</th>\n",
       "      <td>sex</td>\n",
       "      <td>0.389692</td>\n",
       "    </tr>\n",
       "    <tr>\n",
       "      <th>3</th>\n",
       "      <td>fare</td>\n",
       "      <td>0.425938</td>\n",
       "    </tr>\n",
       "  </tbody>\n",
       "</table>\n",
       "</div>"
      ],
      "text/plain": [
       "   feature  importance\n",
       "0  age_new    0.071970\n",
       "1   pclass    0.112401\n",
       "2      sex    0.389692\n",
       "3     fare    0.425938"
      ]
     },
     "execution_count": 69,
     "metadata": {},
     "output_type": "execute_result"
    }
   ],
   "source": [
    "feature_importance"
   ]
  },
  {
   "cell_type": "code",
   "execution_count": null,
   "id": "5e3d0417",
   "metadata": {},
   "outputs": [],
   "source": []
  }
 ],
 "metadata": {
  "kernelspec": {
   "display_name": "Python 3 (ipykernel)",
   "language": "python",
   "name": "python3"
  },
  "language_info": {
   "codemirror_mode": {
    "name": "ipython",
    "version": 3
   },
   "file_extension": ".py",
   "mimetype": "text/x-python",
   "name": "python",
   "nbconvert_exporter": "python",
   "pygments_lexer": "ipython3",
   "version": "3.9.13"
  }
 },
 "nbformat": 4,
 "nbformat_minor": 5
}
