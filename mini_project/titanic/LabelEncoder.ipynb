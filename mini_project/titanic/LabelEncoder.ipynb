{
 "cells": [
  {
   "cell_type": "code",
   "execution_count": 2,
   "id": "24eeb4c0",
   "metadata": {},
   "outputs": [],
   "source": [
    "import numpy as np\n",
    "import pandas as pd\n",
    "import seaborn as sns\n",
    "import matplotlib.pyplot as plt\n",
    "from matplotlib import font_manager, rc\n",
    "\n",
    "# 크롤링\n",
    "from bs4 import BeautifulSoup\n",
    "from selenium import webdriver\n",
    "import time, sys\n",
    "\n",
    "# 시각화 맵\n",
    "import folium\n",
    "\n",
    "# Label encoder\n",
    "from sklearn.preprocessing import LabelEncoder\n",
    "\n",
    "# dtclf\n",
    "from sklearn.tree import DecisionTreeClassifier\n",
    "finan_dtclf = DecisionTreeClassifier()"
   ]
  },
  {
   "cell_type": "code",
   "execution_count": 146,
   "id": "26da2cdf",
   "metadata": {},
   "outputs": [],
   "source": [
    "df_t = sns.load_dataset('titanic')"
   ]
  },
  {
   "cell_type": "code",
   "execution_count": 147,
   "id": "e45b41ec",
   "metadata": {},
   "outputs": [
    {
     "data": {
      "text/plain": [
       "<AxesSubplot:xlabel='pclass', ylabel='survived'>"
      ]
     },
     "execution_count": 147,
     "metadata": {},
     "output_type": "execute_result"
    },
    {
     "data": {
      "image/png": "[encoded data removed]",
      "text/plain": [
       "<Figure size 432x288 with 1 Axes>"
      ]
     },
     "metadata": {
      "needs_background": "light"
     },
     "output_type": "display_data"
    }
   ],
   "source": [
    "sns.barplot(data=df_t, x='pclass', y='survived',hue='sex', palette='Set1')"
   ]
  },
  {
   "cell_type": "code",
   "execution_count": 148,
   "id": "046862db",
   "metadata": {},
   "outputs": [],
   "source": [
    "df_t.drop(columns=['class', 'alive', 'embark_town', 'who', 'adult_male', 'alone'], inplace=True)"
   ]
  },
  {
   "cell_type": "code",
   "execution_count": 47,
   "id": "e67e9219",
   "metadata": {},
   "outputs": [],
   "source": [
    "# age_new 컬럼 생성.\n",
    "df_t.loc[df_t.age >= 50, \"age_new\"] = \"old\"\n",
    "df_t.loc[(df_t.age < 50) & (df_t.age>=10), \"age_new\"] = \"young\"\n",
    "df_t.loc[df_t.age < 10, \"age_new\"] = \"baby\"\n",
    "\n",
    "for column in ['sex', 'embarked', 'age_new'] :\n",
    "    datas = df_t[column].unique()\n",
    "    for i, d in enumerate(datas) :\n",
    "        df_t[column].replace(d, i, inplace=True)"
   ]
  },
  {
   "cell_type": "code",
   "execution_count": 96,
   "id": "1cffe874",
   "metadata": {},
   "outputs": [],
   "source": [
    "from sklearn.preprocessing import LabelEncoder\n",
    "\n",
    "items = ['TESLA', '삼성', '카카오', '네이버', 'Apple', 'Benz', 'Benz', 'Apple']"
   ]
  },
  {
   "cell_type": "code",
   "execution_count": 97,
   "id": "780b1c77",
   "metadata": {},
   "outputs": [],
   "source": [
    "lb = LabelEncoder()"
   ]
  },
  {
   "cell_type": "code",
   "execution_count": 98,
   "id": "6174adcc",
   "metadata": {},
   "outputs": [
    {
     "data": {
      "text/plain": [
       "LabelEncoder()"
      ]
     },
     "execution_count": 98,
     "metadata": {},
     "output_type": "execute_result"
    }
   ],
   "source": [
    "# items의 값의 유니크한 값이 오름차순으로 정렬된다.\n",
    "lb.fit(items)"
   ]
  },
  {
   "cell_type": "code",
   "execution_count": 101,
   "id": "ff1ae759",
   "metadata": {},
   "outputs": [
    {
     "name": "stdout",
     "output_type": "stream",
     "text": [
      "[2 4 5 3 0 1 1 0]\n"
     ]
    },
    {
     "data": {
      "text/plain": [
       "array(['카카오'], dtype='<U5')"
      ]
     },
     "execution_count": 101,
     "metadata": {},
     "output_type": "execute_result"
    }
   ],
   "source": [
    "labels = lb.transform(items)\n",
    "print(labels)\n",
    "[2 4 5 3 0 1 1 0]\n",
    "\n",
    "# 숫자데이터를 문자데이터로 확인이 가능하다.\n",
    "lb.inverse_transform([5])\n",
    "# array(['카카오'], dtype='<U5')"
   ]
  },
  {
   "cell_type": "code",
   "execution_count": 86,
   "id": "314f16e6",
   "metadata": {},
   "outputs": [
    {
     "name": "stdout",
     "output_type": "stream",
     "text": [
      "0 Apple\n",
      "1 Benz\n",
      "2 TESLA\n",
      "3 네이버\n",
      "4 삼성\n",
      "5 카카오\n"
     ]
    }
   ],
   "source": [
    "for i, n in enumerate(lb.classes_) :\n",
    "    print(i, n)"
   ]
  },
  {
   "cell_type": "code",
   "execution_count": 136,
   "id": "19b9941f",
   "metadata": {},
   "outputs": [
    {
     "name": "stdout",
     "output_type": "stream",
     "text": [
      "0 0\n",
      "1 1\n"
     ]
    }
   ],
   "source": [
    "items2 = [df_t.sex.unique()]\n",
    "t_sex_encoder = LabelEncoder()\n",
    "lb2.fit(items2[0])\n",
    "\n",
    "for i, d in enumerate(lb2.classes_):\n",
    "    print(i, d)"
   ]
  },
  {
   "cell_type": "code",
   "execution_count": 137,
   "id": "9bc301f1",
   "metadata": {},
   "outputs": [],
   "source": [
    "for i in ['sex', 'embarked'] : \n",
    "    encoder = LabelEncoder()\n",
    "    encoder.fit(df_t[i])\n",
    "    df_t[i] = encoder.transform(df_t[i])"
   ]
  },
  {
   "cell_type": "code",
   "execution_count": 203,
   "id": "81a29b8b",
   "metadata": {},
   "outputs": [
    {
     "data": {
      "text/html": [
       "<div>\n",
       "<style scoped>\n",
       "    .dataframe tbody tr th:only-of-type {\n",
       "        vertical-align: middle;\n",
       "    }\n",
       "\n",
       "    .dataframe tbody tr th {\n",
       "        vertical-align: top;\n",
       "    }\n",
       "\n",
       "    .dataframe thead th {\n",
       "        text-align: right;\n",
       "    }\n",
       "</style>\n",
       "<table border=\"1\" class=\"dataframe\">\n",
       "  <thead>\n",
       "    <tr style=\"text-align: right;\">\n",
       "      <th></th>\n",
       "      <th>survived</th>\n",
       "      <th>pclass</th>\n",
       "      <th>sex</th>\n",
       "      <th>age</th>\n",
       "      <th>sibsp</th>\n",
       "      <th>parch</th>\n",
       "      <th>fare</th>\n",
       "      <th>embarked</th>\n",
       "      <th>deck</th>\n",
       "    </tr>\n",
       "  </thead>\n",
       "  <tbody>\n",
       "    <tr>\n",
       "      <th>0</th>\n",
       "      <td>0</td>\n",
       "      <td>3</td>\n",
       "      <td>male</td>\n",
       "      <td>22.0</td>\n",
       "      <td>1</td>\n",
       "      <td>0</td>\n",
       "      <td>7.2500</td>\n",
       "      <td>S</td>\n",
       "      <td>NaN</td>\n",
       "    </tr>\n",
       "    <tr>\n",
       "      <th>1</th>\n",
       "      <td>1</td>\n",
       "      <td>1</td>\n",
       "      <td>female</td>\n",
       "      <td>38.0</td>\n",
       "      <td>1</td>\n",
       "      <td>0</td>\n",
       "      <td>71.2833</td>\n",
       "      <td>C</td>\n",
       "      <td>C</td>\n",
       "    </tr>\n",
       "    <tr>\n",
       "      <th>2</th>\n",
       "      <td>1</td>\n",
       "      <td>3</td>\n",
       "      <td>female</td>\n",
       "      <td>26.0</td>\n",
       "      <td>0</td>\n",
       "      <td>0</td>\n",
       "      <td>7.9250</td>\n",
       "      <td>S</td>\n",
       "      <td>NaN</td>\n",
       "    </tr>\n",
       "    <tr>\n",
       "      <th>3</th>\n",
       "      <td>1</td>\n",
       "      <td>1</td>\n",
       "      <td>female</td>\n",
       "      <td>35.0</td>\n",
       "      <td>1</td>\n",
       "      <td>0</td>\n",
       "      <td>53.1000</td>\n",
       "      <td>S</td>\n",
       "      <td>C</td>\n",
       "    </tr>\n",
       "    <tr>\n",
       "      <th>4</th>\n",
       "      <td>0</td>\n",
       "      <td>3</td>\n",
       "      <td>male</td>\n",
       "      <td>35.0</td>\n",
       "      <td>0</td>\n",
       "      <td>0</td>\n",
       "      <td>8.0500</td>\n",
       "      <td>S</td>\n",
       "      <td>NaN</td>\n",
       "    </tr>\n",
       "    <tr>\n",
       "      <th>...</th>\n",
       "      <td>...</td>\n",
       "      <td>...</td>\n",
       "      <td>...</td>\n",
       "      <td>...</td>\n",
       "      <td>...</td>\n",
       "      <td>...</td>\n",
       "      <td>...</td>\n",
       "      <td>...</td>\n",
       "      <td>...</td>\n",
       "    </tr>\n",
       "    <tr>\n",
       "      <th>886</th>\n",
       "      <td>0</td>\n",
       "      <td>2</td>\n",
       "      <td>male</td>\n",
       "      <td>27.0</td>\n",
       "      <td>0</td>\n",
       "      <td>0</td>\n",
       "      <td>13.0000</td>\n",
       "      <td>S</td>\n",
       "      <td>NaN</td>\n",
       "    </tr>\n",
       "    <tr>\n",
       "      <th>887</th>\n",
       "      <td>1</td>\n",
       "      <td>1</td>\n",
       "      <td>female</td>\n",
       "      <td>19.0</td>\n",
       "      <td>0</td>\n",
       "      <td>0</td>\n",
       "      <td>30.0000</td>\n",
       "      <td>S</td>\n",
       "      <td>B</td>\n",
       "    </tr>\n",
       "    <tr>\n",
       "      <th>888</th>\n",
       "      <td>0</td>\n",
       "      <td>3</td>\n",
       "      <td>female</td>\n",
       "      <td>NaN</td>\n",
       "      <td>1</td>\n",
       "      <td>2</td>\n",
       "      <td>23.4500</td>\n",
       "      <td>S</td>\n",
       "      <td>NaN</td>\n",
       "    </tr>\n",
       "    <tr>\n",
       "      <th>889</th>\n",
       "      <td>1</td>\n",
       "      <td>1</td>\n",
       "      <td>male</td>\n",
       "      <td>26.0</td>\n",
       "      <td>0</td>\n",
       "      <td>0</td>\n",
       "      <td>30.0000</td>\n",
       "      <td>C</td>\n",
       "      <td>C</td>\n",
       "    </tr>\n",
       "    <tr>\n",
       "      <th>890</th>\n",
       "      <td>0</td>\n",
       "      <td>3</td>\n",
       "      <td>male</td>\n",
       "      <td>32.0</td>\n",
       "      <td>0</td>\n",
       "      <td>0</td>\n",
       "      <td>7.7500</td>\n",
       "      <td>Q</td>\n",
       "      <td>NaN</td>\n",
       "    </tr>\n",
       "  </tbody>\n",
       "</table>\n",
       "<p>891 rows × 9 columns</p>\n",
       "</div>"
      ],
      "text/plain": [
       "     survived  pclass     sex   age  sibsp  parch     fare embarked deck\n",
       "0           0       3    male  22.0      1      0   7.2500        S  NaN\n",
       "1           1       1  female  38.0      1      0  71.2833        C    C\n",
       "2           1       3  female  26.0      0      0   7.9250        S  NaN\n",
       "3           1       1  female  35.0      1      0  53.1000        S    C\n",
       "4           0       3    male  35.0      0      0   8.0500        S  NaN\n",
       "..        ...     ...     ...   ...    ...    ...      ...      ...  ...\n",
       "886         0       2    male  27.0      0      0  13.0000        S  NaN\n",
       "887         1       1  female  19.0      0      0  30.0000        S    B\n",
       "888         0       3  female   NaN      1      2  23.4500        S  NaN\n",
       "889         1       1    male  26.0      0      0  30.0000        C    C\n",
       "890         0       3    male  32.0      0      0   7.7500        Q  NaN\n",
       "\n",
       "[891 rows x 9 columns]"
      ]
     },
     "execution_count": 203,
     "metadata": {},
     "output_type": "execute_result"
    }
   ],
   "source": [
    "df_t"
   ]
  },
  {
   "cell_type": "code",
   "execution_count": 141,
   "id": "e60a2527",
   "metadata": {},
   "outputs": [],
   "source": [
    "df1_sex_encoder = LabelEncoder()\n",
    "df1_embarked_encoder = LabelEncoder()\n",
    "df1_agenew_encoder = LabelEncoder()\n",
    "df1_sex_encoder.fit(df_t['sex'])\n",
    "df1_embarked_encoder.fit(df_t['embarked'])\n",
    "df1_agenew_encoder.fit(df_t['age_new'])\n",
    "df_t['sex'] = df1_sex_encoder.transform(df_t['sex'])\n",
    "df_t['embarked'] = df1_embarked_encoder.transform(df_t['embarked'])\n",
    "df_t['age_new'] = df1_agenew_encoder.transform(df_t['age_new'])"
   ]
  },
  {
   "cell_type": "code",
   "execution_count": 144,
   "id": "250c0c34",
   "metadata": {},
   "outputs": [],
   "source": [
    "for i in ['sex', 'embarked', 'age_new']:\n",
    "    globals()[f'df1_{i}_encoder'] = LabelEncoder()\n",
    "    globals()[f'df1_{i}_encoder'].fit(df_t[i])\n",
    "    df_t[i] = globals()[f'df1_{i}_encoder'].transform(df_t[i])"
   ]
  },
  {
   "cell_type": "code",
   "execution_count": 228,
   "id": "de3d5ad3",
   "metadata": {},
   "outputs": [],
   "source": [
    "df_t2 = pd.get_dummies(df_t, prefix=['sex', 'embarked', 'deck'])"
   ]
  },
  {
   "cell_type": "code",
   "execution_count": 161,
   "id": "04542213",
   "metadata": {},
   "outputs": [
    {
     "data": {
      "text/plain": [
       "14.526497332334044"
      ]
     },
     "execution_count": 161,
     "metadata": {},
     "output_type": "execute_result"
    }
   ],
   "source": [
    "df_t2.age.mean()\n",
    "df_t2.age.var()\n",
    "df_t2.age.std()"
   ]
  },
  {
   "cell_type": "code",
   "execution_count": 197,
   "id": "a75f8e79",
   "metadata": {},
   "outputs": [
    {
     "data": {
      "text/plain": [
       "<AxesSubplot:xlabel='age'>"
      ]
     },
     "execution_count": 197,
     "metadata": {},
     "output_type": "execute_result"
    },
    {
     "data": {
      "image/png": "[encoded data removed]",
      "text/plain": [
       "<Figure size 720x720 with 1 Axes>"
      ]
     },
     "metadata": {
      "needs_background": "light"
     },
     "output_type": "display_data"
    }
   ],
   "source": [
    "from scipy.stats import norm\n",
    "\n",
    "fig = plt.figure(figsize=(10, 10))\n",
    "\n",
    "ax1 = fig.add_subplot(2, 2, 1)\n",
    "\n",
    "sns.lineplot(x='age' ,y=norm.pdf(df_t['age'], loc=df_t['age'].mean(), scale=2), data=df_t2, ax=ax1)"
   ]
  },
  {
   "cell_type": "code",
   "execution_count": 194,
   "id": "049286ca",
   "metadata": {},
   "outputs": [
    {
     "name": "stdout",
     "output_type": "stream",
     "text": [
      "mean: \n",
      "survived       0.383838\n",
      "pclass         2.308642\n",
      "age           29.699118\n",
      "sibsp          0.523008\n",
      "parch          0.381594\n",
      "fare          32.204208\n",
      "sex_female     0.352413\n",
      "sex_male       0.647587\n",
      "embarked_C     0.188552\n",
      "embarked_Q     0.086420\n",
      "embarked_S     0.722783\n",
      "deck_A         0.016835\n",
      "deck_B         0.052750\n",
      "deck_C         0.066218\n",
      "deck_D         0.037037\n",
      "deck_E         0.035915\n",
      "deck_F         0.014590\n",
      "deck_G         0.004489\n",
      "dtype: float64\n",
      "std : \n",
      "survived      1.0\n",
      "pclass        1.0\n",
      "age           1.0\n",
      "sibsp         1.0\n",
      "parch         1.0\n",
      "fare          1.0\n",
      "sex_female    1.0\n",
      "sex_male      1.0\n",
      "embarked_C    1.0\n",
      "embarked_Q    1.0\n",
      "embarked_S    1.0\n",
      "deck_A        1.0\n",
      "deck_B        1.0\n",
      "deck_C        1.0\n",
      "deck_D        1.0\n",
      "deck_E        1.0\n",
      "deck_F        1.0\n",
      "deck_G        1.0\n",
      "dtype: float64\n"
     ]
    },
    {
     "name": "stderr",
     "output_type": "stream",
     "text": [
      "/Users/werther/opt/anaconda3/lib/python3.9/site-packages/seaborn/distributions.py:2619: FutureWarning: `distplot` is a deprecated function and will be removed in a future version. Please adapt your code to use either `displot` (a figure-level function with similar flexibility) or `histplot` (an axes-level function for histograms).\n",
      "  warnings.warn(msg, FutureWarning)\n",
      "/Users/werther/opt/anaconda3/lib/python3.9/site-packages/seaborn/distributions.py:2619: FutureWarning: `distplot` is a deprecated function and will be removed in a future version. Please adapt your code to use either `displot` (a figure-level function with similar flexibility) or `histplot` (an axes-level function for histograms).\n",
      "  warnings.warn(msg, FutureWarning)\n",
      "/Users/werther/opt/anaconda3/lib/python3.9/site-packages/seaborn/distributions.py:2619: FutureWarning: `distplot` is a deprecated function and will be removed in a future version. Please adapt your code to use either `displot` (a figure-level function with similar flexibility) or `histplot` (an axes-level function for histograms).\n",
      "  warnings.warn(msg, FutureWarning)\n",
      "/Users/werther/opt/anaconda3/lib/python3.9/site-packages/seaborn/distributions.py:2619: FutureWarning: `distplot` is a deprecated function and will be removed in a future version. Please adapt your code to use either `displot` (a figure-level function with similar flexibility) or `histplot` (an axes-level function for histograms).\n",
      "  warnings.warn(msg, FutureWarning)\n",
      "/Users/werther/opt/anaconda3/lib/python3.9/site-packages/seaborn/distributions.py:2619: FutureWarning: `distplot` is a deprecated function and will be removed in a future version. Please adapt your code to use either `displot` (a figure-level function with similar flexibility) or `histplot` (an axes-level function for histograms).\n",
      "  warnings.warn(msg, FutureWarning)\n",
      "/Users/werther/opt/anaconda3/lib/python3.9/site-packages/seaborn/distributions.py:2619: FutureWarning: `distplot` is a deprecated function and will be removed in a future version. Please adapt your code to use either `displot` (a figure-level function with similar flexibility) or `histplot` (an axes-level function for histograms).\n",
      "  warnings.warn(msg, FutureWarning)\n",
      "/Users/werther/opt/anaconda3/lib/python3.9/site-packages/seaborn/distributions.py:2619: FutureWarning: `distplot` is a deprecated function and will be removed in a future version. Please adapt your code to use either `displot` (a figure-level function with similar flexibility) or `histplot` (an axes-level function for histograms).\n",
      "  warnings.warn(msg, FutureWarning)\n",
      "/Users/werther/opt/anaconda3/lib/python3.9/site-packages/seaborn/distributions.py:2619: FutureWarning: `distplot` is a deprecated function and will be removed in a future version. Please adapt your code to use either `displot` (a figure-level function with similar flexibility) or `histplot` (an axes-level function for histograms).\n",
      "  warnings.warn(msg, FutureWarning)\n",
      "/Users/werther/opt/anaconda3/lib/python3.9/site-packages/seaborn/distributions.py:2619: FutureWarning: `distplot` is a deprecated function and will be removed in a future version. Please adapt your code to use either `displot` (a figure-level function with similar flexibility) or `histplot` (an axes-level function for histograms).\n",
      "  warnings.warn(msg, FutureWarning)\n"
     ]
    },
    {
     "ename": "ValueError",
     "evalue": "num must be 1 <= num <= 9, not 10",
     "output_type": "error",
     "traceback": [
      "\u001b[0;31m---------------------------------------------------------------------------\u001b[0m",
      "\u001b[0;31mValueError\u001b[0m                                Traceback (most recent call last)",
      "Input \u001b[0;32mIn [194]\u001b[0m, in \u001b[0;36m<cell line: 9>\u001b[0;34m()\u001b[0m\n\u001b[1;32m      7\u001b[0m fig \u001b[38;5;241m=\u001b[39m plt\u001b[38;5;241m.\u001b[39mfigure(figsize\u001b[38;5;241m=\u001b[39m(\u001b[38;5;241m10\u001b[39m, \u001b[38;5;241m10\u001b[39m))\n\u001b[1;32m      9\u001b[0m \u001b[38;5;28;01mfor\u001b[39;00m no, i \u001b[38;5;129;01min\u001b[39;00m \u001b[38;5;28menumerate\u001b[39m(df_t2\u001b[38;5;241m.\u001b[39mcolumns):\n\u001b[0;32m---> 10\u001b[0m     \u001b[38;5;28mglobals\u001b[39m()[\u001b[38;5;124mf\u001b[39m\u001b[38;5;124m'\u001b[39m\u001b[38;5;124max\u001b[39m\u001b[38;5;132;01m{\u001b[39;00mno\u001b[38;5;241m+\u001b[39m\u001b[38;5;241m1\u001b[39m\u001b[38;5;132;01m}\u001b[39;00m\u001b[38;5;124m'\u001b[39m] \u001b[38;5;241m=\u001b[39m \u001b[43mfig\u001b[49m\u001b[38;5;241;43m.\u001b[39;49m\u001b[43madd_subplot\u001b[49m\u001b[43m(\u001b[49m\u001b[38;5;241;43m3\u001b[39;49m\u001b[43m,\u001b[49m\u001b[38;5;241;43m3\u001b[39;49m\u001b[43m,\u001b[49m\u001b[43mno\u001b[49m\u001b[38;5;241;43m+\u001b[39;49m\u001b[38;5;241;43m1\u001b[39;49m\u001b[43m)\u001b[49m\n\u001b[1;32m     11\u001b[0m     sns\u001b[38;5;241m.\u001b[39mdistplot(df1_fs[i], ax\u001b[38;5;241m=\u001b[39m\u001b[38;5;28mglobals\u001b[39m()[\u001b[38;5;124mf\u001b[39m\u001b[38;5;124m'\u001b[39m\u001b[38;5;124max\u001b[39m\u001b[38;5;132;01m{\u001b[39;00mno\u001b[38;5;241m+\u001b[39m\u001b[38;5;241m1\u001b[39m\u001b[38;5;132;01m}\u001b[39;00m\u001b[38;5;124m'\u001b[39m])\n\u001b[1;32m     12\u001b[0m plt\u001b[38;5;241m.\u001b[39mshow()\n",
      "File \u001b[0;32m~/opt/anaconda3/lib/python3.9/site-packages/matplotlib/figure.py:772\u001b[0m, in \u001b[0;36mFigureBase.add_subplot\u001b[0;34m(self, *args, **kwargs)\u001b[0m\n\u001b[1;32m    769\u001b[0m         args \u001b[38;5;241m=\u001b[39m \u001b[38;5;28mtuple\u001b[39m(\u001b[38;5;28mmap\u001b[39m(\u001b[38;5;28mint\u001b[39m, \u001b[38;5;28mstr\u001b[39m(args[\u001b[38;5;241m0\u001b[39m])))\n\u001b[1;32m    770\u001b[0m     projection_class, pkw \u001b[38;5;241m=\u001b[39m \u001b[38;5;28mself\u001b[39m\u001b[38;5;241m.\u001b[39m_process_projection_requirements(\n\u001b[1;32m    771\u001b[0m         \u001b[38;5;241m*\u001b[39margs, \u001b[38;5;241m*\u001b[39m\u001b[38;5;241m*\u001b[39mkwargs)\n\u001b[0;32m--> 772\u001b[0m     ax \u001b[38;5;241m=\u001b[39m \u001b[43msubplot_class_factory\u001b[49m\u001b[43m(\u001b[49m\u001b[43mprojection_class\u001b[49m\u001b[43m)\u001b[49m\u001b[43m(\u001b[49m\u001b[38;5;28;43mself\u001b[39;49m\u001b[43m,\u001b[49m\u001b[43m \u001b[49m\u001b[38;5;241;43m*\u001b[39;49m\u001b[43margs\u001b[49m\u001b[43m,\u001b[49m\u001b[43m \u001b[49m\u001b[38;5;241;43m*\u001b[39;49m\u001b[38;5;241;43m*\u001b[39;49m\u001b[43mpkw\u001b[49m\u001b[43m)\u001b[49m\n\u001b[1;32m    773\u001b[0m     key \u001b[38;5;241m=\u001b[39m (projection_class, pkw)\n\u001b[1;32m    774\u001b[0m \u001b[38;5;28;01mreturn\u001b[39;00m \u001b[38;5;28mself\u001b[39m\u001b[38;5;241m.\u001b[39m_add_axes_internal(ax, key)\n",
      "File \u001b[0;32m~/opt/anaconda3/lib/python3.9/site-packages/matplotlib/axes/_subplots.py:36\u001b[0m, in \u001b[0;36mSubplotBase.__init__\u001b[0;34m(self, fig, *args, **kwargs)\u001b[0m\n\u001b[1;32m     34\u001b[0m \u001b[38;5;28mself\u001b[39m\u001b[38;5;241m.\u001b[39m_axes_class\u001b[38;5;241m.\u001b[39m\u001b[38;5;21m__init__\u001b[39m(\u001b[38;5;28mself\u001b[39m, fig, [\u001b[38;5;241m0\u001b[39m, \u001b[38;5;241m0\u001b[39m, \u001b[38;5;241m1\u001b[39m, \u001b[38;5;241m1\u001b[39m], \u001b[38;5;241m*\u001b[39m\u001b[38;5;241m*\u001b[39mkwargs)\n\u001b[1;32m     35\u001b[0m \u001b[38;5;66;03m# This will also update the axes position.\u001b[39;00m\n\u001b[0;32m---> 36\u001b[0m \u001b[38;5;28mself\u001b[39m\u001b[38;5;241m.\u001b[39mset_subplotspec(\u001b[43mSubplotSpec\u001b[49m\u001b[38;5;241;43m.\u001b[39;49m\u001b[43m_from_subplot_args\u001b[49m\u001b[43m(\u001b[49m\u001b[43mfig\u001b[49m\u001b[43m,\u001b[49m\u001b[43m \u001b[49m\u001b[43margs\u001b[49m\u001b[43m)\u001b[49m)\n",
      "File \u001b[0;32m~/opt/anaconda3/lib/python3.9/site-packages/matplotlib/gridspec.py:608\u001b[0m, in \u001b[0;36mSubplotSpec._from_subplot_args\u001b[0;34m(figure, args)\u001b[0m\n\u001b[1;32m    606\u001b[0m \u001b[38;5;28;01melse\u001b[39;00m:\n\u001b[1;32m    607\u001b[0m     \u001b[38;5;28;01mif\u001b[39;00m \u001b[38;5;129;01mnot\u001b[39;00m \u001b[38;5;28misinstance\u001b[39m(num, Integral) \u001b[38;5;129;01mor\u001b[39;00m num \u001b[38;5;241m<\u001b[39m \u001b[38;5;241m1\u001b[39m \u001b[38;5;129;01mor\u001b[39;00m num \u001b[38;5;241m>\u001b[39m rows\u001b[38;5;241m*\u001b[39mcols:\n\u001b[0;32m--> 608\u001b[0m         \u001b[38;5;28;01mraise\u001b[39;00m \u001b[38;5;167;01mValueError\u001b[39;00m(\n\u001b[1;32m    609\u001b[0m             \u001b[38;5;124mf\u001b[39m\u001b[38;5;124m\"\u001b[39m\u001b[38;5;124mnum must be 1 <= num <= \u001b[39m\u001b[38;5;132;01m{\u001b[39;00mrows\u001b[38;5;241m*\u001b[39mcols\u001b[38;5;132;01m}\u001b[39;00m\u001b[38;5;124m, not \u001b[39m\u001b[38;5;132;01m{\u001b[39;00mnum\u001b[38;5;132;01m!r}\u001b[39;00m\u001b[38;5;124m\"\u001b[39m)\n\u001b[1;32m    610\u001b[0m     i \u001b[38;5;241m=\u001b[39m j \u001b[38;5;241m=\u001b[39m num\n\u001b[1;32m    611\u001b[0m \u001b[38;5;28;01mreturn\u001b[39;00m gs[i\u001b[38;5;241m-\u001b[39m\u001b[38;5;241m1\u001b[39m:j]\n",
      "\u001b[0;31mValueError\u001b[0m: num must be 1 <= num <= 9, not 10"
     ]
    },
    {
     "data": {
      "image/png": "[encoded data removed]",
      "text/plain": [
       "<Figure size 720x720 with 9 Axes>"
      ]
     },
     "metadata": {
      "needs_background": "light"
     },
     "output_type": "display_data"
    }
   ],
   "source": [
    "# 분산\n",
    "df1_fs = (df_t2 - df_t2.mean())/df_t2.std()\n",
    "print('mean: ')\n",
    "print(df_t2.mean())\n",
    "print('std : ')\n",
    "print(df1_fs.std())\n",
    "      \n",
    "fig = plt.figure(figsize=(10, 10))\n",
    "      \n",
    "for no, i in enumerate(df_t2.columns):\n",
    "    globals()[f'ax{no+1}'] = fig.add_subplot(3,3,no+1)\n",
    "    \n",
    "    sns.distplot(df1_fs[i], ax=globals()[f'ax{no+1}'])\n",
    "    \n",
    "plt.show()"
   ]
  },
  {
   "cell_type": "code",
   "execution_count": 211,
   "id": "41990101",
   "metadata": {},
   "outputs": [
    {
     "ename": "ValueError",
     "evalue": "Shape of passed values is (891, 18), indices imply (891, 891)",
     "output_type": "error",
     "traceback": [
      "\u001b[0;31m---------------------------------------------------------------------------\u001b[0m",
      "\u001b[0;31mValueError\u001b[0m                                Traceback (most recent call last)",
      "Input \u001b[0;32mIn [211]\u001b[0m, in \u001b[0;36m<cell line: 7>\u001b[0;34m()\u001b[0m\n\u001b[1;32m      4\u001b[0m scaler\u001b[38;5;241m.\u001b[39mfit(df_t2)\n\u001b[1;32m      5\u001b[0m df_t_scaled \u001b[38;5;241m=\u001b[39m scaler\u001b[38;5;241m.\u001b[39mtransform(df_t2)\n\u001b[0;32m----> 7\u001b[0m df_t_scaled \u001b[38;5;241m=\u001b[39m \u001b[43mpd\u001b[49m\u001b[38;5;241;43m.\u001b[39;49m\u001b[43mDataFrame\u001b[49m\u001b[43m(\u001b[49m\u001b[43mdf_t_scaled\u001b[49m\u001b[43m,\u001b[49m\u001b[43m \u001b[49m\u001b[43mcolumns\u001b[49m\u001b[43m \u001b[49m\u001b[38;5;241;43m=\u001b[39;49m\u001b[43m \u001b[49m\u001b[43mdf_t2\u001b[49m\u001b[43m[\u001b[49m\u001b[38;5;124;43m'\u001b[39;49m\u001b[38;5;124;43mage\u001b[39;49m\u001b[38;5;124;43m'\u001b[39;49m\u001b[43m]\u001b[49m\u001b[43m)\u001b[49m\n\u001b[1;32m      8\u001b[0m \u001b[38;5;28mprint\u001b[39m(\u001b[38;5;124m'\u001b[39m\u001b[38;5;124mage의 최솟값\u001b[39m\u001b[38;5;124m'\u001b[39m)\n\u001b[1;32m      9\u001b[0m \u001b[38;5;28mprint\u001b[39m(df_t_scaled\u001b[38;5;241m.\u001b[39mmin())\n",
      "File \u001b[0;32m~/opt/anaconda3/lib/python3.9/site-packages/pandas/core/frame.py:694\u001b[0m, in \u001b[0;36mDataFrame.__init__\u001b[0;34m(self, data, index, columns, dtype, copy)\u001b[0m\n\u001b[1;32m    684\u001b[0m         mgr \u001b[38;5;241m=\u001b[39m dict_to_mgr(\n\u001b[1;32m    685\u001b[0m             \u001b[38;5;66;03m# error: Item \"ndarray\" of \"Union[ndarray, Series, Index]\" has no\u001b[39;00m\n\u001b[1;32m    686\u001b[0m             \u001b[38;5;66;03m# attribute \"name\"\u001b[39;00m\n\u001b[0;32m   (...)\u001b[0m\n\u001b[1;32m    691\u001b[0m             typ\u001b[38;5;241m=\u001b[39mmanager,\n\u001b[1;32m    692\u001b[0m         )\n\u001b[1;32m    693\u001b[0m     \u001b[38;5;28;01melse\u001b[39;00m:\n\u001b[0;32m--> 694\u001b[0m         mgr \u001b[38;5;241m=\u001b[39m \u001b[43mndarray_to_mgr\u001b[49m\u001b[43m(\u001b[49m\n\u001b[1;32m    695\u001b[0m \u001b[43m            \u001b[49m\u001b[43mdata\u001b[49m\u001b[43m,\u001b[49m\n\u001b[1;32m    696\u001b[0m \u001b[43m            \u001b[49m\u001b[43mindex\u001b[49m\u001b[43m,\u001b[49m\n\u001b[1;32m    697\u001b[0m \u001b[43m            \u001b[49m\u001b[43mcolumns\u001b[49m\u001b[43m,\u001b[49m\n\u001b[1;32m    698\u001b[0m \u001b[43m            \u001b[49m\u001b[43mdtype\u001b[49m\u001b[38;5;241;43m=\u001b[39;49m\u001b[43mdtype\u001b[49m\u001b[43m,\u001b[49m\n\u001b[1;32m    699\u001b[0m \u001b[43m            \u001b[49m\u001b[43mcopy\u001b[49m\u001b[38;5;241;43m=\u001b[39;49m\u001b[43mcopy\u001b[49m\u001b[43m,\u001b[49m\n\u001b[1;32m    700\u001b[0m \u001b[43m            \u001b[49m\u001b[43mtyp\u001b[49m\u001b[38;5;241;43m=\u001b[39;49m\u001b[43mmanager\u001b[49m\u001b[43m,\u001b[49m\n\u001b[1;32m    701\u001b[0m \u001b[43m        \u001b[49m\u001b[43m)\u001b[49m\n\u001b[1;32m    703\u001b[0m \u001b[38;5;66;03m# For data is list-like, or Iterable (will consume into list)\u001b[39;00m\n\u001b[1;32m    704\u001b[0m \u001b[38;5;28;01melif\u001b[39;00m is_list_like(data):\n",
      "File \u001b[0;32m~/opt/anaconda3/lib/python3.9/site-packages/pandas/core/internals/construction.py:351\u001b[0m, in \u001b[0;36mndarray_to_mgr\u001b[0;34m(values, index, columns, dtype, copy, typ)\u001b[0m\n\u001b[1;32m    346\u001b[0m \u001b[38;5;66;03m# _prep_ndarray ensures that values.ndim == 2 at this point\u001b[39;00m\n\u001b[1;32m    347\u001b[0m index, columns \u001b[38;5;241m=\u001b[39m _get_axes(\n\u001b[1;32m    348\u001b[0m     values\u001b[38;5;241m.\u001b[39mshape[\u001b[38;5;241m0\u001b[39m], values\u001b[38;5;241m.\u001b[39mshape[\u001b[38;5;241m1\u001b[39m], index\u001b[38;5;241m=\u001b[39mindex, columns\u001b[38;5;241m=\u001b[39mcolumns\n\u001b[1;32m    349\u001b[0m )\n\u001b[0;32m--> 351\u001b[0m \u001b[43m_check_values_indices_shape_match\u001b[49m\u001b[43m(\u001b[49m\u001b[43mvalues\u001b[49m\u001b[43m,\u001b[49m\u001b[43m \u001b[49m\u001b[43mindex\u001b[49m\u001b[43m,\u001b[49m\u001b[43m \u001b[49m\u001b[43mcolumns\u001b[49m\u001b[43m)\u001b[49m\n\u001b[1;32m    353\u001b[0m \u001b[38;5;28;01mif\u001b[39;00m typ \u001b[38;5;241m==\u001b[39m \u001b[38;5;124m\"\u001b[39m\u001b[38;5;124marray\u001b[39m\u001b[38;5;124m\"\u001b[39m:\n\u001b[1;32m    355\u001b[0m     \u001b[38;5;28;01mif\u001b[39;00m \u001b[38;5;28missubclass\u001b[39m(values\u001b[38;5;241m.\u001b[39mdtype\u001b[38;5;241m.\u001b[39mtype, \u001b[38;5;28mstr\u001b[39m):\n",
      "File \u001b[0;32m~/opt/anaconda3/lib/python3.9/site-packages/pandas/core/internals/construction.py:422\u001b[0m, in \u001b[0;36m_check_values_indices_shape_match\u001b[0;34m(values, index, columns)\u001b[0m\n\u001b[1;32m    420\u001b[0m passed \u001b[38;5;241m=\u001b[39m values\u001b[38;5;241m.\u001b[39mshape\n\u001b[1;32m    421\u001b[0m implied \u001b[38;5;241m=\u001b[39m (\u001b[38;5;28mlen\u001b[39m(index), \u001b[38;5;28mlen\u001b[39m(columns))\n\u001b[0;32m--> 422\u001b[0m \u001b[38;5;28;01mraise\u001b[39;00m \u001b[38;5;167;01mValueError\u001b[39;00m(\u001b[38;5;124mf\u001b[39m\u001b[38;5;124m\"\u001b[39m\u001b[38;5;124mShape of passed values is \u001b[39m\u001b[38;5;132;01m{\u001b[39;00mpassed\u001b[38;5;132;01m}\u001b[39;00m\u001b[38;5;124m, indices imply \u001b[39m\u001b[38;5;132;01m{\u001b[39;00mimplied\u001b[38;5;132;01m}\u001b[39;00m\u001b[38;5;124m\"\u001b[39m)\n",
      "\u001b[0;31mValueError\u001b[0m: Shape of passed values is (891, 18), indices imply (891, 891)"
     ]
    }
   ],
   "source": [
    "from sklearn.preprocessing import MinMaxScaler\n",
    "\n",
    "scaler = MinMaxScaler()\n",
    "scaler.fit(df_t2)\n",
    "df_t_scaled = scaler.transform(df_t2)\n",
    "\n",
    "df_t_scaled = pd.DataFrame(df_t_scaled, columns = df_t2['age'])\n",
    "print('age의 최솟값')\n",
    "print(df_t_scaled.min())\n",
    "print('\\n age의 최댓값')\n",
    "print(df_t_scaled.max())"
   ]
  },
  {
   "cell_type": "code",
   "execution_count": 226,
   "id": "4e26ad2b",
   "metadata": {},
   "outputs": [
    {
     "data": {
      "text/plain": [
       "<AxesSubplot:>"
      ]
     },
     "execution_count": 226,
     "metadata": {},
     "output_type": "execute_result"
    },
    {
     "data": {
      "image/png": "[encoded data removed]",
      "text/plain": [
       "<Figure size 432x288 with 2 Axes>"
      ]
     },
     "metadata": {
      "needs_background": "light"
     },
     "output_type": "display_data"
    }
   ],
   "source": [
    "sns.heatmap(df_t2,\n",
    "           cmap='coolwarm',)"
   ]
  },
  {
   "cell_type": "code",
   "execution_count": 229,
   "id": "9d133b14",
   "metadata": {},
   "outputs": [
    {
     "data": {
      "text/html": [
       "<div>\n",
       "<style scoped>\n",
       "    .dataframe tbody tr th:only-of-type {\n",
       "        vertical-align: middle;\n",
       "    }\n",
       "\n",
       "    .dataframe tbody tr th {\n",
       "        vertical-align: top;\n",
       "    }\n",
       "\n",
       "    .dataframe thead th {\n",
       "        text-align: right;\n",
       "    }\n",
       "</style>\n",
       "<table border=\"1\" class=\"dataframe\">\n",
       "  <thead>\n",
       "    <tr style=\"text-align: right;\">\n",
       "      <th></th>\n",
       "      <th>survived</th>\n",
       "      <th>pclass</th>\n",
       "      <th>age</th>\n",
       "      <th>sibsp</th>\n",
       "      <th>parch</th>\n",
       "      <th>fare</th>\n",
       "      <th>sex_female</th>\n",
       "      <th>sex_male</th>\n",
       "      <th>embarked_C</th>\n",
       "      <th>embarked_Q</th>\n",
       "      <th>embarked_S</th>\n",
       "      <th>deck_A</th>\n",
       "      <th>deck_B</th>\n",
       "      <th>deck_C</th>\n",
       "      <th>deck_D</th>\n",
       "      <th>deck_E</th>\n",
       "      <th>deck_F</th>\n",
       "      <th>deck_G</th>\n",
       "    </tr>\n",
       "  </thead>\n",
       "  <tbody>\n",
       "    <tr>\n",
       "      <th>0</th>\n",
       "      <td>0</td>\n",
       "      <td>3</td>\n",
       "      <td>22.0</td>\n",
       "      <td>1</td>\n",
       "      <td>0</td>\n",
       "      <td>7.2500</td>\n",
       "      <td>0</td>\n",
       "      <td>1</td>\n",
       "      <td>0</td>\n",
       "      <td>0</td>\n",
       "      <td>1</td>\n",
       "      <td>0</td>\n",
       "      <td>0</td>\n",
       "      <td>0</td>\n",
       "      <td>0</td>\n",
       "      <td>0</td>\n",
       "      <td>0</td>\n",
       "      <td>0</td>\n",
       "    </tr>\n",
       "    <tr>\n",
       "      <th>1</th>\n",
       "      <td>1</td>\n",
       "      <td>1</td>\n",
       "      <td>38.0</td>\n",
       "      <td>1</td>\n",
       "      <td>0</td>\n",
       "      <td>71.2833</td>\n",
       "      <td>1</td>\n",
       "      <td>0</td>\n",
       "      <td>1</td>\n",
       "      <td>0</td>\n",
       "      <td>0</td>\n",
       "      <td>0</td>\n",
       "      <td>0</td>\n",
       "      <td>1</td>\n",
       "      <td>0</td>\n",
       "      <td>0</td>\n",
       "      <td>0</td>\n",
       "      <td>0</td>\n",
       "    </tr>\n",
       "    <tr>\n",
       "      <th>2</th>\n",
       "      <td>1</td>\n",
       "      <td>3</td>\n",
       "      <td>26.0</td>\n",
       "      <td>0</td>\n",
       "      <td>0</td>\n",
       "      <td>7.9250</td>\n",
       "      <td>1</td>\n",
       "      <td>0</td>\n",
       "      <td>0</td>\n",
       "      <td>0</td>\n",
       "      <td>1</td>\n",
       "      <td>0</td>\n",
       "      <td>0</td>\n",
       "      <td>0</td>\n",
       "      <td>0</td>\n",
       "      <td>0</td>\n",
       "      <td>0</td>\n",
       "      <td>0</td>\n",
       "    </tr>\n",
       "    <tr>\n",
       "      <th>3</th>\n",
       "      <td>1</td>\n",
       "      <td>1</td>\n",
       "      <td>35.0</td>\n",
       "      <td>1</td>\n",
       "      <td>0</td>\n",
       "      <td>53.1000</td>\n",
       "      <td>1</td>\n",
       "      <td>0</td>\n",
       "      <td>0</td>\n",
       "      <td>0</td>\n",
       "      <td>1</td>\n",
       "      <td>0</td>\n",
       "      <td>0</td>\n",
       "      <td>1</td>\n",
       "      <td>0</td>\n",
       "      <td>0</td>\n",
       "      <td>0</td>\n",
       "      <td>0</td>\n",
       "    </tr>\n",
       "    <tr>\n",
       "      <th>4</th>\n",
       "      <td>0</td>\n",
       "      <td>3</td>\n",
       "      <td>35.0</td>\n",
       "      <td>0</td>\n",
       "      <td>0</td>\n",
       "      <td>8.0500</td>\n",
       "      <td>0</td>\n",
       "      <td>1</td>\n",
       "      <td>0</td>\n",
       "      <td>0</td>\n",
       "      <td>1</td>\n",
       "      <td>0</td>\n",
       "      <td>0</td>\n",
       "      <td>0</td>\n",
       "      <td>0</td>\n",
       "      <td>0</td>\n",
       "      <td>0</td>\n",
       "      <td>0</td>\n",
       "    </tr>\n",
       "    <tr>\n",
       "      <th>...</th>\n",
       "      <td>...</td>\n",
       "      <td>...</td>\n",
       "      <td>...</td>\n",
       "      <td>...</td>\n",
       "      <td>...</td>\n",
       "      <td>...</td>\n",
       "      <td>...</td>\n",
       "      <td>...</td>\n",
       "      <td>...</td>\n",
       "      <td>...</td>\n",
       "      <td>...</td>\n",
       "      <td>...</td>\n",
       "      <td>...</td>\n",
       "      <td>...</td>\n",
       "      <td>...</td>\n",
       "      <td>...</td>\n",
       "      <td>...</td>\n",
       "      <td>...</td>\n",
       "    </tr>\n",
       "    <tr>\n",
       "      <th>886</th>\n",
       "      <td>0</td>\n",
       "      <td>2</td>\n",
       "      <td>27.0</td>\n",
       "      <td>0</td>\n",
       "      <td>0</td>\n",
       "      <td>13.0000</td>\n",
       "      <td>0</td>\n",
       "      <td>1</td>\n",
       "      <td>0</td>\n",
       "      <td>0</td>\n",
       "      <td>1</td>\n",
       "      <td>0</td>\n",
       "      <td>0</td>\n",
       "      <td>0</td>\n",
       "      <td>0</td>\n",
       "      <td>0</td>\n",
       "      <td>0</td>\n",
       "      <td>0</td>\n",
       "    </tr>\n",
       "    <tr>\n",
       "      <th>887</th>\n",
       "      <td>1</td>\n",
       "      <td>1</td>\n",
       "      <td>19.0</td>\n",
       "      <td>0</td>\n",
       "      <td>0</td>\n",
       "      <td>30.0000</td>\n",
       "      <td>1</td>\n",
       "      <td>0</td>\n",
       "      <td>0</td>\n",
       "      <td>0</td>\n",
       "      <td>1</td>\n",
       "      <td>0</td>\n",
       "      <td>1</td>\n",
       "      <td>0</td>\n",
       "      <td>0</td>\n",
       "      <td>0</td>\n",
       "      <td>0</td>\n",
       "      <td>0</td>\n",
       "    </tr>\n",
       "    <tr>\n",
       "      <th>888</th>\n",
       "      <td>0</td>\n",
       "      <td>3</td>\n",
       "      <td>NaN</td>\n",
       "      <td>1</td>\n",
       "      <td>2</td>\n",
       "      <td>23.4500</td>\n",
       "      <td>1</td>\n",
       "      <td>0</td>\n",
       "      <td>0</td>\n",
       "      <td>0</td>\n",
       "      <td>1</td>\n",
       "      <td>0</td>\n",
       "      <td>0</td>\n",
       "      <td>0</td>\n",
       "      <td>0</td>\n",
       "      <td>0</td>\n",
       "      <td>0</td>\n",
       "      <td>0</td>\n",
       "    </tr>\n",
       "    <tr>\n",
       "      <th>889</th>\n",
       "      <td>1</td>\n",
       "      <td>1</td>\n",
       "      <td>26.0</td>\n",
       "      <td>0</td>\n",
       "      <td>0</td>\n",
       "      <td>30.0000</td>\n",
       "      <td>0</td>\n",
       "      <td>1</td>\n",
       "      <td>1</td>\n",
       "      <td>0</td>\n",
       "      <td>0</td>\n",
       "      <td>0</td>\n",
       "      <td>0</td>\n",
       "      <td>1</td>\n",
       "      <td>0</td>\n",
       "      <td>0</td>\n",
       "      <td>0</td>\n",
       "      <td>0</td>\n",
       "    </tr>\n",
       "    <tr>\n",
       "      <th>890</th>\n",
       "      <td>0</td>\n",
       "      <td>3</td>\n",
       "      <td>32.0</td>\n",
       "      <td>0</td>\n",
       "      <td>0</td>\n",
       "      <td>7.7500</td>\n",
       "      <td>0</td>\n",
       "      <td>1</td>\n",
       "      <td>0</td>\n",
       "      <td>1</td>\n",
       "      <td>0</td>\n",
       "      <td>0</td>\n",
       "      <td>0</td>\n",
       "      <td>0</td>\n",
       "      <td>0</td>\n",
       "      <td>0</td>\n",
       "      <td>0</td>\n",
       "      <td>0</td>\n",
       "    </tr>\n",
       "  </tbody>\n",
       "</table>\n",
       "<p>891 rows × 18 columns</p>\n",
       "</div>"
      ],
      "text/plain": [
       "     survived  pclass   age  sibsp  parch     fare  sex_female  sex_male  \\\n",
       "0           0       3  22.0      1      0   7.2500           0         1   \n",
       "1           1       1  38.0      1      0  71.2833           1         0   \n",
       "2           1       3  26.0      0      0   7.9250           1         0   \n",
       "3           1       1  35.0      1      0  53.1000           1         0   \n",
       "4           0       3  35.0      0      0   8.0500           0         1   \n",
       "..        ...     ...   ...    ...    ...      ...         ...       ...   \n",
       "886         0       2  27.0      0      0  13.0000           0         1   \n",
       "887         1       1  19.0      0      0  30.0000           1         0   \n",
       "888         0       3   NaN      1      2  23.4500           1         0   \n",
       "889         1       1  26.0      0      0  30.0000           0         1   \n",
       "890         0       3  32.0      0      0   7.7500           0         1   \n",
       "\n",
       "     embarked_C  embarked_Q  embarked_S  deck_A  deck_B  deck_C  deck_D  \\\n",
       "0             0           0           1       0       0       0       0   \n",
       "1             1           0           0       0       0       1       0   \n",
       "2             0           0           1       0       0       0       0   \n",
       "3             0           0           1       0       0       1       0   \n",
       "4             0           0           1       0       0       0       0   \n",
       "..          ...         ...         ...     ...     ...     ...     ...   \n",
       "886           0           0           1       0       0       0       0   \n",
       "887           0           0           1       0       1       0       0   \n",
       "888           0           0           1       0       0       0       0   \n",
       "889           1           0           0       0       0       1       0   \n",
       "890           0           1           0       0       0       0       0   \n",
       "\n",
       "     deck_E  deck_F  deck_G  \n",
       "0         0       0       0  \n",
       "1         0       0       0  \n",
       "2         0       0       0  \n",
       "3         0       0       0  \n",
       "4         0       0       0  \n",
       "..      ...     ...     ...  \n",
       "886       0       0       0  \n",
       "887       0       0       0  \n",
       "888       0       0       0  \n",
       "889       0       0       0  \n",
       "890       0       0       0  \n",
       "\n",
       "[891 rows x 18 columns]"
      ]
     },
     "execution_count": 229,
     "metadata": {},
     "output_type": "execute_result"
    }
   ],
   "source": [
    "df_t2"
   ]
  },
  {
   "cell_type": "code",
   "execution_count": 316,
   "id": "0af84726",
   "metadata": {},
   "outputs": [],
   "source": [
    "def solution(s) : \n",
    "    answer = 'Yes'\n",
    "    if s['집 소유'] <= 'No' :\n",
    "        if s['결혼'] != '기혼' :\n",
    "            if s['연소득'] > 70 and s['연소득'] <= 95 : answer = 'Yes'\n",
    "            else : answer = \"No\"\n",
    "        else : answer = \"No\"\n",
    "    else : answer = \"No\"\n",
    "    return answer"
   ]
  },
  {
   "cell_type": "code",
   "execution_count": 317,
   "id": "fe53f3de",
   "metadata": {},
   "outputs": [],
   "source": [
    "s = {'연소득' : 200, '결혼' : '미혼', '집 소유' : 'No'}"
   ]
  },
  {
   "cell_type": "code",
   "execution_count": 318,
   "id": "6659196e",
   "metadata": {},
   "outputs": [
    {
     "data": {
      "text/plain": [
       "'No'"
      ]
     },
     "execution_count": 318,
     "metadata": {},
     "output_type": "execute_result"
    }
   ],
   "source": [
    "solution(s)"
   ]
  },
  {
   "cell_type": "code",
   "execution_count": 325,
   "id": "739e436f",
   "metadata": {},
   "outputs": [],
   "source": [
    "def solution_t(s) :\n",
    "    answer = False\n",
    "    if s['survived'] == 1 :\n",
    "        answer = True\n",
    "    return answer"
   ]
  },
  {
   "cell_type": "code",
   "execution_count": 343,
   "id": "407a9dbe",
   "metadata": {},
   "outputs": [
    {
     "name": "stdout",
     "output_type": "stream",
     "text": [
      "No\n",
      "No\n",
      "No\n",
      "No\n",
      "Yes\n",
      "No\n",
      "No\n",
      "Yes\n",
      "No\n",
      "Yes\n"
     ]
    }
   ],
   "source": [
    "for i in dt.index :\n",
    "    print(solution(dt.loc[i]))\n"
   ]
  },
  {
   "cell_type": "code",
   "execution_count": 78,
   "id": "d73e403c",
   "metadata": {},
   "outputs": [],
   "source": [
    "fin = {'ID': list(range(1, 11)),\n",
    "        '집소유' : ['Yes', 'No', 'No', 'Yes', 'No', 'No', 'Yes', 'No', 'No', 'No'],\n",
    "      '결혼' : ['미혼', '기혼', '미혼', '기혼', '이혼', '기혼', '이혼', '미혼', '기혼', '미혼'],\n",
    "       '연소득' : [125, 100, 70, 120, 95, 60, 220, 85, 75, 90],\n",
    "       '채무불이행' : ['No', 'No', 'No', 'No', 'Yes', 'No', 'No', 'Yes', 'No', 'Yes']}\n",
    "\n",
    "df = pd.DataFrame(fin)\n",
    "df.set_index('ID', inplace=True)"
   ]
  },
  {
   "cell_type": "code",
   "execution_count": 4,
   "id": "f5121069",
   "metadata": {},
   "outputs": [],
   "source": [
    "# for column in ['집 소유', '결혼', '채무 불이행'] :\n",
    "#     datas = df[column].unique()\n",
    "#     for i, d in enumerate(datas) :\n",
    "#         df[column].replace(d, i, inplace=True)"
   ]
  },
  {
   "cell_type": "code",
   "execution_count": 79,
   "id": "b765e1fe",
   "metadata": {},
   "outputs": [],
   "source": [
    "# Labeling으로 문자형 데이터를 숫자형으로 변환\n",
    "for i in ['집소유', '결혼', '채무불이행']:\n",
    "    globals()[f'df_{i}_encoder'] = LabelEncoder()\n",
    "    globals()[f'df_{i}_encoder'].fit(df[i])\n",
    "    df[i] = globals()[f'df_{i}_encoder'].transform(df[i])"
   ]
  },
  {
   "cell_type": "code",
   "execution_count": 80,
   "id": "9a720c40",
   "metadata": {},
   "outputs": [],
   "source": [
    "# 머신러닝이 목적으로 할 데이터를 설정\n",
    "X = df.drop(columns='채무불이행')\n",
    "y = df['채무불이행']"
   ]
  },
  {
   "cell_type": "code",
   "execution_count": 51,
   "id": "1ad66245",
   "metadata": {},
   "outputs": [],
   "source": [
    "from sklearn.tree import DecisionTreeClassifier\n",
    "finan_dtclf = DecisionTreeClassifier()"
   ]
  },
  {
   "cell_type": "code",
   "execution_count": 81,
   "id": "7844a255",
   "metadata": {},
   "outputs": [
    {
     "data": {
      "text/plain": [
       "DecisionTreeClassifier()"
      ]
     },
     "execution_count": 81,
     "metadata": {},
     "output_type": "execute_result"
    }
   ],
   "source": [
    "# fit = 머신러닝의 학습의 \n",
    "finan_dtclf.fit(X, y)"
   ]
  },
  {
   "cell_type": "code",
   "execution_count": 53,
   "id": "f69cf2c8",
   "metadata": {},
   "outputs": [
    {
     "name": "stdout",
     "output_type": "stream",
     "text": [
      "Requirement already satisfied: graphviz in ./opt/anaconda3/lib/python3.9/site-packages (0.20.1)\r\n"
     ]
    }
   ],
   "source": [
    "!pip install graphviz"
   ]
  },
  {
   "cell_type": "code",
   "execution_count": 54,
   "id": "d9e40436",
   "metadata": {},
   "outputs": [],
   "source": [
    "from sklearn.tree import export_graphviz\n",
    "import graphviz"
   ]
  },
  {
   "cell_type": "code",
   "execution_count": 82,
   "id": "f70f7541",
   "metadata": {},
   "outputs": [
    {
     "data": {
      "image/svg+xml": [
       "<?xml version=\"1.0\" encoding=\"UTF-8\" standalone=\"no\"?>\n",
       "<!DOCTYPE svg PUBLIC \"-//W3C//DTD SVG 1.1//EN\"\n",
       " \"http://www.w3.org/Graphics/SVG/1.1/DTD/svg11.dtd\">\n",
       "<!-- Generated by graphviz version 6.0.1 (20220911.1526)\n",
       " -->\n",
       "<!-- Title: Tree Pages: 1 -->\n",
       "<svg width=\"277pt\" height=\"314pt\"\n",
       " viewBox=\"0.00 0.00 277.00 314.00\" xmlns=\"http://www.w3.org/2000/svg\" xmlns:xlink=\"http://www.w3.org/1999/xlink\">\n",
       "<g id=\"graph0\" class=\"graph\" transform=\"scale(1 1) rotate(0) translate(4 310)\">\n",
       "<title>Tree</title>\n",
       "<polygon fill=\"white\" stroke=\"none\" points=\"-4,4 -4,-310 273,-310 273,4 -4,4\"/>\n",
       "<!-- 0 -->\n",
       "<g id=\"node1\" class=\"node\">\n",
       "<title>0</title>\n",
       "<polygon fill=\"#f0b78e\" stroke=\"black\" points=\"214,-306 111,-306 111,-223 214,-223 214,-306\"/>\n",
       "<text text-anchor=\"middle\" x=\"162.5\" y=\"-290.8\" font-family=\"Helvetica,sans-Serif\" font-size=\"14.00\">연소득 &lt;= 97.5</text>\n",
       "<text text-anchor=\"middle\" x=\"162.5\" y=\"-275.8\" font-family=\"Helvetica,sans-Serif\" font-size=\"14.00\">gini = 0.42</text>\n",
       "<text text-anchor=\"middle\" x=\"162.5\" y=\"-260.8\" font-family=\"Helvetica,sans-Serif\" font-size=\"14.00\">samples = 10</text>\n",
       "<text text-anchor=\"middle\" x=\"162.5\" y=\"-245.8\" font-family=\"Helvetica,sans-Serif\" font-size=\"14.00\">value = [7, 3]</text>\n",
       "<text text-anchor=\"middle\" x=\"162.5\" y=\"-230.8\" font-family=\"Helvetica,sans-Serif\" font-size=\"14.00\">class = 이행</text>\n",
       "</g>\n",
       "<!-- 1 -->\n",
       "<g id=\"node2\" class=\"node\">\n",
       "<title>1</title>\n",
       "<polygon fill=\"#ffffff\" stroke=\"black\" points=\"156,-187 53,-187 53,-104 156,-104 156,-187\"/>\n",
       "<text text-anchor=\"middle\" x=\"104.5\" y=\"-171.8\" font-family=\"Helvetica,sans-Serif\" font-size=\"14.00\">연소득 &lt;= 80.0</text>\n",
       "<text text-anchor=\"middle\" x=\"104.5\" y=\"-156.8\" font-family=\"Helvetica,sans-Serif\" font-size=\"14.00\">gini = 0.5</text>\n",
       "<text text-anchor=\"middle\" x=\"104.5\" y=\"-141.8\" font-family=\"Helvetica,sans-Serif\" font-size=\"14.00\">samples = 6</text>\n",
       "<text text-anchor=\"middle\" x=\"104.5\" y=\"-126.8\" font-family=\"Helvetica,sans-Serif\" font-size=\"14.00\">value = [3, 3]</text>\n",
       "<text text-anchor=\"middle\" x=\"104.5\" y=\"-111.8\" font-family=\"Helvetica,sans-Serif\" font-size=\"14.00\">class = 이행</text>\n",
       "</g>\n",
       "<!-- 0&#45;&gt;1 -->\n",
       "<g id=\"edge1\" class=\"edge\">\n",
       "<title>0&#45;&gt;1</title>\n",
       "<path fill=\"none\" stroke=\"black\" d=\"M142.38,-222.91C138.1,-214.29 133.54,-205.09 129.13,-196.17\"/>\n",
       "<polygon fill=\"black\" stroke=\"black\" points=\"132.16,-194.43 124.59,-187.02 125.89,-197.53 132.16,-194.43\"/>\n",
       "<text text-anchor=\"middle\" x=\"116.6\" y=\"-207.01\" font-family=\"Helvetica,sans-Serif\" font-size=\"14.00\">True</text>\n",
       "</g>\n",
       "<!-- 4 -->\n",
       "<g id=\"node5\" class=\"node\">\n",
       "<title>4</title>\n",
       "<polygon fill=\"#e58139\" stroke=\"black\" points=\"269,-179.5 174,-179.5 174,-111.5 269,-111.5 269,-179.5\"/>\n",
       "<text text-anchor=\"middle\" x=\"221.5\" y=\"-164.3\" font-family=\"Helvetica,sans-Serif\" font-size=\"14.00\">gini = 0.0</text>\n",
       "<text text-anchor=\"middle\" x=\"221.5\" y=\"-149.3\" font-family=\"Helvetica,sans-Serif\" font-size=\"14.00\">samples = 4</text>\n",
       "<text text-anchor=\"middle\" x=\"221.5\" y=\"-134.3\" font-family=\"Helvetica,sans-Serif\" font-size=\"14.00\">value = [4, 0]</text>\n",
       "<text text-anchor=\"middle\" x=\"221.5\" y=\"-119.3\" font-family=\"Helvetica,sans-Serif\" font-size=\"14.00\">class = 이행</text>\n",
       "</g>\n",
       "<!-- 0&#45;&gt;4 -->\n",
       "<g id=\"edge4\" class=\"edge\">\n",
       "<title>0&#45;&gt;4</title>\n",
       "<path fill=\"none\" stroke=\"black\" d=\"M182.97,-222.91C188.53,-211.87 194.57,-199.9 200.18,-188.77\"/>\n",
       "<polygon fill=\"black\" stroke=\"black\" points=\"203.4,-190.17 204.77,-179.67 197.15,-187.02 203.4,-190.17\"/>\n",
       "<text text-anchor=\"middle\" x=\"212.6\" y=\"-199.71\" font-family=\"Helvetica,sans-Serif\" font-size=\"14.00\">False</text>\n",
       "</g>\n",
       "<!-- 2 -->\n",
       "<g id=\"node3\" class=\"node\">\n",
       "<title>2</title>\n",
       "<polygon fill=\"#e58139\" stroke=\"black\" points=\"95,-68 0,-68 0,0 95,0 95,-68\"/>\n",
       "<text text-anchor=\"middle\" x=\"47.5\" y=\"-52.8\" font-family=\"Helvetica,sans-Serif\" font-size=\"14.00\">gini = 0.0</text>\n",
       "<text text-anchor=\"middle\" x=\"47.5\" y=\"-37.8\" font-family=\"Helvetica,sans-Serif\" font-size=\"14.00\">samples = 3</text>\n",
       "<text text-anchor=\"middle\" x=\"47.5\" y=\"-22.8\" font-family=\"Helvetica,sans-Serif\" font-size=\"14.00\">value = [3, 0]</text>\n",
       "<text text-anchor=\"middle\" x=\"47.5\" y=\"-7.8\" font-family=\"Helvetica,sans-Serif\" font-size=\"14.00\">class = 이행</text>\n",
       "</g>\n",
       "<!-- 1&#45;&gt;2 -->\n",
       "<g id=\"edge2\" class=\"edge\">\n",
       "<title>1&#45;&gt;2</title>\n",
       "<path fill=\"none\" stroke=\"black\" d=\"M83.28,-103.73C78.76,-95.06 73.99,-85.9 69.46,-77.18\"/>\n",
       "<polygon fill=\"black\" stroke=\"black\" points=\"72.56,-75.55 64.83,-68.3 66.35,-78.79 72.56,-75.55\"/>\n",
       "</g>\n",
       "<!-- 3 -->\n",
       "<g id=\"node4\" class=\"node\">\n",
       "<title>3</title>\n",
       "<polygon fill=\"#399de5\" stroke=\"black\" points=\"212,-68 113,-68 113,0 212,0 212,-68\"/>\n",
       "<text text-anchor=\"middle\" x=\"162.5\" y=\"-52.8\" font-family=\"Helvetica,sans-Serif\" font-size=\"14.00\">gini = 0.0</text>\n",
       "<text text-anchor=\"middle\" x=\"162.5\" y=\"-37.8\" font-family=\"Helvetica,sans-Serif\" font-size=\"14.00\">samples = 3</text>\n",
       "<text text-anchor=\"middle\" x=\"162.5\" y=\"-22.8\" font-family=\"Helvetica,sans-Serif\" font-size=\"14.00\">value = [0, 3]</text>\n",
       "<text text-anchor=\"middle\" x=\"162.5\" y=\"-7.8\" font-family=\"Helvetica,sans-Serif\" font-size=\"14.00\">class = 불이행</text>\n",
       "</g>\n",
       "<!-- 1&#45;&gt;3 -->\n",
       "<g id=\"edge3\" class=\"edge\">\n",
       "<title>1&#45;&gt;3</title>\n",
       "<path fill=\"none\" stroke=\"black\" d=\"M126.1,-103.73C130.69,-95.06 135.54,-85.9 140.16,-77.18\"/>\n",
       "<polygon fill=\"black\" stroke=\"black\" points=\"143.27,-78.77 144.86,-68.3 137.09,-75.5 143.27,-78.77\"/>\n",
       "</g>\n",
       "</g>\n",
       "</svg>\n"
      ],
      "text/plain": [
       "<graphviz.sources.Source at 0x7ff2bdf16fd0>"
      ]
     },
     "execution_count": 82,
     "metadata": {},
     "output_type": "execute_result"
    }
   ],
   "source": [
    "export_graphviz(finan_dtclf, out_file='finance1.dot', \n",
    "                feature_names=X.columns,\n",
    "                class_names=['이행', '불이행'],\n",
    "                max_depth=None,\n",
    "                filled=True,\n",
    "                leaves_parallel=False,\n",
    "                impurity=True,\n",
    "                node_ids=False,\n",
    "                proportion=False,)\n",
    "\n",
    "with open('./finance1.dot') as f :\n",
    "    finance1 = f.read()\n",
    "graphviz.Source(finance1)"
   ]
  },
  {
   "cell_type": "code",
   "execution_count": 83,
   "id": "f4cd2db5",
   "metadata": {},
   "outputs": [],
   "source": [
    "new = ({'ID': list(range(1, 6)),\n",
    "       '집 소유' : ['No', 'Yes', 'Yes', 'No', 'No'],\n",
    "      '결혼' : ['미혼', '기혼', '미혼', '기혼', '이혼'],\n",
    "       '연소득(K)' : [55, 80, 110, 95, 300]\n",
    "      })\n",
    "new_p = pd.DataFrame(new)\n",
    "new_p.set_index('ID', inplace=True)\n",
    "\n",
    "# Labeling으로 문자형 데이터를 숫자형으로 변환\n",
    "for i in ['집 소유', '결혼']:\n",
    "    globals()[f'new_p{i}_encoder'] = LabelEncoder()\n",
    "    globals()[f'new_p{i}_encoder'].fit(new_p[i])\n",
    "    new_p[i] = globals()[f'new_p{i}_encoder'].transform(new_p[i])"
   ]
  },
  {
   "cell_type": "code",
   "execution_count": 84,
   "id": "95d7d0f8",
   "metadata": {},
   "outputs": [
    {
     "data": {
      "text/html": [
       "<div>\n",
       "<style scoped>\n",
       "    .dataframe tbody tr th:only-of-type {\n",
       "        vertical-align: middle;\n",
       "    }\n",
       "\n",
       "    .dataframe tbody tr th {\n",
       "        vertical-align: top;\n",
       "    }\n",
       "\n",
       "    .dataframe thead th {\n",
       "        text-align: right;\n",
       "    }\n",
       "</style>\n",
       "<table border=\"1\" class=\"dataframe\">\n",
       "  <thead>\n",
       "    <tr style=\"text-align: right;\">\n",
       "      <th></th>\n",
       "      <th>집 소유</th>\n",
       "      <th>결혼</th>\n",
       "      <th>연소득(K)</th>\n",
       "    </tr>\n",
       "    <tr>\n",
       "      <th>ID</th>\n",
       "      <th></th>\n",
       "      <th></th>\n",
       "      <th></th>\n",
       "    </tr>\n",
       "  </thead>\n",
       "  <tbody>\n",
       "    <tr>\n",
       "      <th>1</th>\n",
       "      <td>0</td>\n",
       "      <td>1</td>\n",
       "      <td>55</td>\n",
       "    </tr>\n",
       "    <tr>\n",
       "      <th>2</th>\n",
       "      <td>1</td>\n",
       "      <td>0</td>\n",
       "      <td>80</td>\n",
       "    </tr>\n",
       "    <tr>\n",
       "      <th>3</th>\n",
       "      <td>1</td>\n",
       "      <td>1</td>\n",
       "      <td>110</td>\n",
       "    </tr>\n",
       "    <tr>\n",
       "      <th>4</th>\n",
       "      <td>0</td>\n",
       "      <td>0</td>\n",
       "      <td>95</td>\n",
       "    </tr>\n",
       "    <tr>\n",
       "      <th>5</th>\n",
       "      <td>0</td>\n",
       "      <td>2</td>\n",
       "      <td>300</td>\n",
       "    </tr>\n",
       "  </tbody>\n",
       "</table>\n",
       "</div>"
      ],
      "text/plain": [
       "    집 소유  결혼  연소득(K)\n",
       "ID                  \n",
       "1      0   1      55\n",
       "2      1   0      80\n",
       "3      1   1     110\n",
       "4      0   0      95\n",
       "5      0   2     300"
      ]
     },
     "execution_count": 84,
     "metadata": {},
     "output_type": "execute_result"
    }
   ],
   "source": [
    "new_p"
   ]
  },
  {
   "cell_type": "code",
   "execution_count": 90,
   "id": "64e31055",
   "metadata": {},
   "outputs": [
    {
     "name": "stderr",
     "output_type": "stream",
     "text": [
      "/Users/werther/opt/anaconda3/lib/python3.9/site-packages/sklearn/base.py:493: FutureWarning: The feature names should match those that were passed during fit. Starting version 1.2, an error will be raised.\n",
      "Feature names unseen at fit time:\n",
      "- 연소득(K)\n",
      "- 집 소유\n",
      "- 채무불이행예측\n",
      "Feature names seen at fit time, yet now missing:\n",
      "- 연소득\n",
      "- 집소유\n",
      "\n",
      "  warnings.warn(message, FutureWarning)\n"
     ]
    },
    {
     "ename": "ValueError",
     "evalue": "could not convert string to float: 'No'",
     "output_type": "error",
     "traceback": [
      "\u001b[0;31m---------------------------------------------------------------------------\u001b[0m",
      "\u001b[0;31mValueError\u001b[0m                                Traceback (most recent call last)",
      "Input \u001b[0;32mIn [90]\u001b[0m, in \u001b[0;36m<cell line: 2>\u001b[0;34m()\u001b[0m\n\u001b[1;32m      1\u001b[0m \u001b[38;5;66;03m# predict() = 예측을 하겠다.\u001b[39;00m\n\u001b[0;32m----> 2\u001b[0m pred_result \u001b[38;5;241m=\u001b[39m \u001b[43mfinan_dtclf\u001b[49m\u001b[38;5;241;43m.\u001b[39;49m\u001b[43mpredict\u001b[49m\u001b[43m(\u001b[49m\u001b[43mnew_p\u001b[49m\u001b[43m)\u001b[49m\n\u001b[1;32m      3\u001b[0m pred_result_2 \u001b[38;5;241m=\u001b[39m  df_채무불이행_encoder\u001b[38;5;241m.\u001b[39minverse_transform(pred_result)\n\u001b[1;32m      4\u001b[0m new_p[\u001b[38;5;124m'\u001b[39m\u001b[38;5;124m채무불이행예측\u001b[39m\u001b[38;5;124m'\u001b[39m] \u001b[38;5;241m=\u001b[39m pred_result_2\n",
      "File \u001b[0;32m~/opt/anaconda3/lib/python3.9/site-packages/sklearn/tree/_classes.py:467\u001b[0m, in \u001b[0;36mBaseDecisionTree.predict\u001b[0;34m(self, X, check_input)\u001b[0m\n\u001b[1;32m    444\u001b[0m \u001b[38;5;124;03m\"\"\"Predict class or regression value for X.\u001b[39;00m\n\u001b[1;32m    445\u001b[0m \n\u001b[1;32m    446\u001b[0m \u001b[38;5;124;03mFor a classification model, the predicted class for each sample in X is\u001b[39;00m\n\u001b[0;32m   (...)\u001b[0m\n\u001b[1;32m    464\u001b[0m \u001b[38;5;124;03m    The predicted classes, or the predict values.\u001b[39;00m\n\u001b[1;32m    465\u001b[0m \u001b[38;5;124;03m\"\"\"\u001b[39;00m\n\u001b[1;32m    466\u001b[0m check_is_fitted(\u001b[38;5;28mself\u001b[39m)\n\u001b[0;32m--> 467\u001b[0m X \u001b[38;5;241m=\u001b[39m \u001b[38;5;28;43mself\u001b[39;49m\u001b[38;5;241;43m.\u001b[39;49m\u001b[43m_validate_X_predict\u001b[49m\u001b[43m(\u001b[49m\u001b[43mX\u001b[49m\u001b[43m,\u001b[49m\u001b[43m \u001b[49m\u001b[43mcheck_input\u001b[49m\u001b[43m)\u001b[49m\n\u001b[1;32m    468\u001b[0m proba \u001b[38;5;241m=\u001b[39m \u001b[38;5;28mself\u001b[39m\u001b[38;5;241m.\u001b[39mtree_\u001b[38;5;241m.\u001b[39mpredict(X)\n\u001b[1;32m    469\u001b[0m n_samples \u001b[38;5;241m=\u001b[39m X\u001b[38;5;241m.\u001b[39mshape[\u001b[38;5;241m0\u001b[39m]\n",
      "File \u001b[0;32m~/opt/anaconda3/lib/python3.9/site-packages/sklearn/tree/_classes.py:433\u001b[0m, in \u001b[0;36mBaseDecisionTree._validate_X_predict\u001b[0;34m(self, X, check_input)\u001b[0m\n\u001b[1;32m    431\u001b[0m \u001b[38;5;124;03m\"\"\"Validate the training data on predict (probabilities).\"\"\"\u001b[39;00m\n\u001b[1;32m    432\u001b[0m \u001b[38;5;28;01mif\u001b[39;00m check_input:\n\u001b[0;32m--> 433\u001b[0m     X \u001b[38;5;241m=\u001b[39m \u001b[38;5;28;43mself\u001b[39;49m\u001b[38;5;241;43m.\u001b[39;49m\u001b[43m_validate_data\u001b[49m\u001b[43m(\u001b[49m\u001b[43mX\u001b[49m\u001b[43m,\u001b[49m\u001b[43m \u001b[49m\u001b[43mdtype\u001b[49m\u001b[38;5;241;43m=\u001b[39;49m\u001b[43mDTYPE\u001b[49m\u001b[43m,\u001b[49m\u001b[43m \u001b[49m\u001b[43maccept_sparse\u001b[49m\u001b[38;5;241;43m=\u001b[39;49m\u001b[38;5;124;43m\"\u001b[39;49m\u001b[38;5;124;43mcsr\u001b[39;49m\u001b[38;5;124;43m\"\u001b[39;49m\u001b[43m,\u001b[49m\u001b[43m \u001b[49m\u001b[43mreset\u001b[49m\u001b[38;5;241;43m=\u001b[39;49m\u001b[38;5;28;43;01mFalse\u001b[39;49;00m\u001b[43m)\u001b[49m\n\u001b[1;32m    434\u001b[0m     \u001b[38;5;28;01mif\u001b[39;00m issparse(X) \u001b[38;5;129;01mand\u001b[39;00m (\n\u001b[1;32m    435\u001b[0m         X\u001b[38;5;241m.\u001b[39mindices\u001b[38;5;241m.\u001b[39mdtype \u001b[38;5;241m!=\u001b[39m np\u001b[38;5;241m.\u001b[39mintc \u001b[38;5;129;01mor\u001b[39;00m X\u001b[38;5;241m.\u001b[39mindptr\u001b[38;5;241m.\u001b[39mdtype \u001b[38;5;241m!=\u001b[39m np\u001b[38;5;241m.\u001b[39mintc\n\u001b[1;32m    436\u001b[0m     ):\n\u001b[1;32m    437\u001b[0m         \u001b[38;5;28;01mraise\u001b[39;00m \u001b[38;5;167;01mValueError\u001b[39;00m(\u001b[38;5;124m\"\u001b[39m\u001b[38;5;124mNo support for np.int64 index based sparse matrices\u001b[39m\u001b[38;5;124m\"\u001b[39m)\n",
      "File \u001b[0;32m~/opt/anaconda3/lib/python3.9/site-packages/sklearn/base.py:566\u001b[0m, in \u001b[0;36mBaseEstimator._validate_data\u001b[0;34m(self, X, y, reset, validate_separately, **check_params)\u001b[0m\n\u001b[1;32m    564\u001b[0m     \u001b[38;5;28;01mraise\u001b[39;00m \u001b[38;5;167;01mValueError\u001b[39;00m(\u001b[38;5;124m\"\u001b[39m\u001b[38;5;124mValidation should be done on X, y or both.\u001b[39m\u001b[38;5;124m\"\u001b[39m)\n\u001b[1;32m    565\u001b[0m \u001b[38;5;28;01melif\u001b[39;00m \u001b[38;5;129;01mnot\u001b[39;00m no_val_X \u001b[38;5;129;01mand\u001b[39;00m no_val_y:\n\u001b[0;32m--> 566\u001b[0m     X \u001b[38;5;241m=\u001b[39m \u001b[43mcheck_array\u001b[49m\u001b[43m(\u001b[49m\u001b[43mX\u001b[49m\u001b[43m,\u001b[49m\u001b[43m \u001b[49m\u001b[38;5;241;43m*\u001b[39;49m\u001b[38;5;241;43m*\u001b[39;49m\u001b[43mcheck_params\u001b[49m\u001b[43m)\u001b[49m\n\u001b[1;32m    567\u001b[0m     out \u001b[38;5;241m=\u001b[39m X\n\u001b[1;32m    568\u001b[0m \u001b[38;5;28;01melif\u001b[39;00m no_val_X \u001b[38;5;129;01mand\u001b[39;00m \u001b[38;5;129;01mnot\u001b[39;00m no_val_y:\n",
      "File \u001b[0;32m~/opt/anaconda3/lib/python3.9/site-packages/sklearn/utils/validation.py:746\u001b[0m, in \u001b[0;36mcheck_array\u001b[0;34m(array, accept_sparse, accept_large_sparse, dtype, order, copy, force_all_finite, ensure_2d, allow_nd, ensure_min_samples, ensure_min_features, estimator)\u001b[0m\n\u001b[1;32m    744\u001b[0m         array \u001b[38;5;241m=\u001b[39m array\u001b[38;5;241m.\u001b[39mastype(dtype, casting\u001b[38;5;241m=\u001b[39m\u001b[38;5;124m\"\u001b[39m\u001b[38;5;124munsafe\u001b[39m\u001b[38;5;124m\"\u001b[39m, copy\u001b[38;5;241m=\u001b[39m\u001b[38;5;28;01mFalse\u001b[39;00m)\n\u001b[1;32m    745\u001b[0m     \u001b[38;5;28;01melse\u001b[39;00m:\n\u001b[0;32m--> 746\u001b[0m         array \u001b[38;5;241m=\u001b[39m \u001b[43mnp\u001b[49m\u001b[38;5;241;43m.\u001b[39;49m\u001b[43masarray\u001b[49m\u001b[43m(\u001b[49m\u001b[43marray\u001b[49m\u001b[43m,\u001b[49m\u001b[43m \u001b[49m\u001b[43morder\u001b[49m\u001b[38;5;241;43m=\u001b[39;49m\u001b[43morder\u001b[49m\u001b[43m,\u001b[49m\u001b[43m \u001b[49m\u001b[43mdtype\u001b[49m\u001b[38;5;241;43m=\u001b[39;49m\u001b[43mdtype\u001b[49m\u001b[43m)\u001b[49m\n\u001b[1;32m    747\u001b[0m \u001b[38;5;28;01mexcept\u001b[39;00m ComplexWarning \u001b[38;5;28;01mas\u001b[39;00m complex_warning:\n\u001b[1;32m    748\u001b[0m     \u001b[38;5;28;01mraise\u001b[39;00m \u001b[38;5;167;01mValueError\u001b[39;00m(\n\u001b[1;32m    749\u001b[0m         \u001b[38;5;124m\"\u001b[39m\u001b[38;5;124mComplex data not supported\u001b[39m\u001b[38;5;130;01m\\n\u001b[39;00m\u001b[38;5;132;01m{}\u001b[39;00m\u001b[38;5;130;01m\\n\u001b[39;00m\u001b[38;5;124m\"\u001b[39m\u001b[38;5;241m.\u001b[39mformat(array)\n\u001b[1;32m    750\u001b[0m     ) \u001b[38;5;28;01mfrom\u001b[39;00m \u001b[38;5;21;01mcomplex_warning\u001b[39;00m\n",
      "File \u001b[0;32m~/opt/anaconda3/lib/python3.9/site-packages/pandas/core/generic.py:2064\u001b[0m, in \u001b[0;36mNDFrame.__array__\u001b[0;34m(self, dtype)\u001b[0m\n\u001b[1;32m   2063\u001b[0m \u001b[38;5;28;01mdef\u001b[39;00m \u001b[38;5;21m__array__\u001b[39m(\u001b[38;5;28mself\u001b[39m, dtype: npt\u001b[38;5;241m.\u001b[39mDTypeLike \u001b[38;5;241m|\u001b[39m \u001b[38;5;28;01mNone\u001b[39;00m \u001b[38;5;241m=\u001b[39m \u001b[38;5;28;01mNone\u001b[39;00m) \u001b[38;5;241m-\u001b[39m\u001b[38;5;241m>\u001b[39m np\u001b[38;5;241m.\u001b[39mndarray:\n\u001b[0;32m-> 2064\u001b[0m     \u001b[38;5;28;01mreturn\u001b[39;00m \u001b[43mnp\u001b[49m\u001b[38;5;241;43m.\u001b[39;49m\u001b[43masarray\u001b[49m\u001b[43m(\u001b[49m\u001b[38;5;28;43mself\u001b[39;49m\u001b[38;5;241;43m.\u001b[39;49m\u001b[43m_values\u001b[49m\u001b[43m,\u001b[49m\u001b[43m \u001b[49m\u001b[43mdtype\u001b[49m\u001b[38;5;241;43m=\u001b[39;49m\u001b[43mdtype\u001b[49m\u001b[43m)\u001b[49m\n",
      "\u001b[0;31mValueError\u001b[0m: could not convert string to float: 'No'"
     ]
    }
   ],
   "source": [
    "# predict() = 예측을 하겠다.\n",
    "pred_result = finan_dtclf.predict(new_p)\n",
    "pred_result_2 =  df_채무불이행_encoder.inverse_transform(pred_result)\n",
    "new_p['채무불이행예측'] = pred_result_2\n"
   ]
  },
  {
   "cell_type": "code",
   "execution_count": 92,
   "id": "22b3925c",
   "metadata": {},
   "outputs": [
    {
     "data": {
      "text/html": [
       "<div>\n",
       "<style scoped>\n",
       "    .dataframe tbody tr th:only-of-type {\n",
       "        vertical-align: middle;\n",
       "    }\n",
       "\n",
       "    .dataframe tbody tr th {\n",
       "        vertical-align: top;\n",
       "    }\n",
       "\n",
       "    .dataframe thead th {\n",
       "        text-align: right;\n",
       "    }\n",
       "</style>\n",
       "<table border=\"1\" class=\"dataframe\">\n",
       "  <thead>\n",
       "    <tr style=\"text-align: right;\">\n",
       "      <th></th>\n",
       "      <th>집 소유</th>\n",
       "      <th>결혼</th>\n",
       "      <th>연소득(K)</th>\n",
       "      <th>채무불이행예측</th>\n",
       "    </tr>\n",
       "    <tr>\n",
       "      <th>ID</th>\n",
       "      <th></th>\n",
       "      <th></th>\n",
       "      <th></th>\n",
       "      <th></th>\n",
       "    </tr>\n",
       "  </thead>\n",
       "  <tbody>\n",
       "    <tr>\n",
       "      <th>1</th>\n",
       "      <td>0</td>\n",
       "      <td>1</td>\n",
       "      <td>55</td>\n",
       "      <td>No</td>\n",
       "    </tr>\n",
       "    <tr>\n",
       "      <th>2</th>\n",
       "      <td>1</td>\n",
       "      <td>0</td>\n",
       "      <td>80</td>\n",
       "      <td>No</td>\n",
       "    </tr>\n",
       "    <tr>\n",
       "      <th>3</th>\n",
       "      <td>1</td>\n",
       "      <td>1</td>\n",
       "      <td>110</td>\n",
       "      <td>No</td>\n",
       "    </tr>\n",
       "    <tr>\n",
       "      <th>4</th>\n",
       "      <td>0</td>\n",
       "      <td>0</td>\n",
       "      <td>95</td>\n",
       "      <td>Yes</td>\n",
       "    </tr>\n",
       "    <tr>\n",
       "      <th>5</th>\n",
       "      <td>0</td>\n",
       "      <td>2</td>\n",
       "      <td>300</td>\n",
       "      <td>No</td>\n",
       "    </tr>\n",
       "  </tbody>\n",
       "</table>\n",
       "</div>"
      ],
      "text/plain": [
       "    집 소유  결혼  연소득(K) 채무불이행예측\n",
       "ID                          \n",
       "1      0   1      55      No\n",
       "2      1   0      80      No\n",
       "3      1   1     110      No\n",
       "4      0   0      95     Yes\n",
       "5      0   2     300      No"
      ]
     },
     "execution_count": 92,
     "metadata": {},
     "output_type": "execute_result"
    }
   ],
   "source": [
    "new_p"
   ]
  },
  {
   "cell_type": "code",
   "execution_count": 97,
   "id": "d455c836",
   "metadata": {},
   "outputs": [
    {
     "data": {
      "text/plain": [
       "array(['기혼', '미혼', '이혼'], dtype=object)"
      ]
     },
     "execution_count": 97,
     "metadata": {},
     "output_type": "execute_result"
    }
   ],
   "source": [
    "df_결혼_encoder.classes_"
   ]
  },
  {
   "cell_type": "code",
   "execution_count": 98,
   "id": "194e34e8",
   "metadata": {},
   "outputs": [
    {
     "data": {
      "text/plain": [
       "array(['No', 'Yes'], dtype=object)"
      ]
     },
     "execution_count": 98,
     "metadata": {},
     "output_type": "execute_result"
    }
   ],
   "source": [
    "df_집소유_encoder.classes_"
   ]
  },
  {
   "cell_type": "code",
   "execution_count": 105,
   "id": "aedcfc2a",
   "metadata": {},
   "outputs": [],
   "source": [
    "for i in ['집 소유', '결혼']:\n",
    "    new_p[i] = globals()[f'new_p{i}_encoder'].classes_[new_p[i]]\n",
    "new_p"
   ]
  },
  {
   "cell_type": "code",
   "execution_count": 330,
   "id": "8ba61251",
   "metadata": {},
   "outputs": [
    {
     "data": {
      "text/html": [
       "<div>\n",
       "<style scoped>\n",
       "    .dataframe tbody tr th:only-of-type {\n",
       "        vertical-align: middle;\n",
       "    }\n",
       "\n",
       "    .dataframe tbody tr th {\n",
       "        vertical-align: top;\n",
       "    }\n",
       "\n",
       "    .dataframe thead th {\n",
       "        text-align: right;\n",
       "    }\n",
       "</style>\n",
       "<table border=\"1\" class=\"dataframe\">\n",
       "  <thead>\n",
       "    <tr style=\"text-align: right;\">\n",
       "      <th></th>\n",
       "      <th>survived</th>\n",
       "      <th>pclass</th>\n",
       "      <th>sex</th>\n",
       "      <th>fare</th>\n",
       "      <th>age_new</th>\n",
       "    </tr>\n",
       "  </thead>\n",
       "  <tbody>\n",
       "    <tr>\n",
       "      <th>0</th>\n",
       "      <td>0</td>\n",
       "      <td>3</td>\n",
       "      <td>1</td>\n",
       "      <td>7.2500</td>\n",
       "      <td>2</td>\n",
       "    </tr>\n",
       "    <tr>\n",
       "      <th>1</th>\n",
       "      <td>1</td>\n",
       "      <td>1</td>\n",
       "      <td>0</td>\n",
       "      <td>71.2833</td>\n",
       "      <td>2</td>\n",
       "    </tr>\n",
       "    <tr>\n",
       "      <th>2</th>\n",
       "      <td>1</td>\n",
       "      <td>3</td>\n",
       "      <td>0</td>\n",
       "      <td>7.9250</td>\n",
       "      <td>2</td>\n",
       "    </tr>\n",
       "    <tr>\n",
       "      <th>3</th>\n",
       "      <td>1</td>\n",
       "      <td>1</td>\n",
       "      <td>0</td>\n",
       "      <td>53.1000</td>\n",
       "      <td>2</td>\n",
       "    </tr>\n",
       "    <tr>\n",
       "      <th>4</th>\n",
       "      <td>0</td>\n",
       "      <td>3</td>\n",
       "      <td>1</td>\n",
       "      <td>8.0500</td>\n",
       "      <td>2</td>\n",
       "    </tr>\n",
       "    <tr>\n",
       "      <th>...</th>\n",
       "      <td>...</td>\n",
       "      <td>...</td>\n",
       "      <td>...</td>\n",
       "      <td>...</td>\n",
       "      <td>...</td>\n",
       "    </tr>\n",
       "    <tr>\n",
       "      <th>886</th>\n",
       "      <td>0</td>\n",
       "      <td>2</td>\n",
       "      <td>1</td>\n",
       "      <td>13.0000</td>\n",
       "      <td>2</td>\n",
       "    </tr>\n",
       "    <tr>\n",
       "      <th>887</th>\n",
       "      <td>1</td>\n",
       "      <td>1</td>\n",
       "      <td>0</td>\n",
       "      <td>30.0000</td>\n",
       "      <td>2</td>\n",
       "    </tr>\n",
       "    <tr>\n",
       "      <th>888</th>\n",
       "      <td>0</td>\n",
       "      <td>3</td>\n",
       "      <td>0</td>\n",
       "      <td>23.4500</td>\n",
       "      <td>2</td>\n",
       "    </tr>\n",
       "    <tr>\n",
       "      <th>889</th>\n",
       "      <td>1</td>\n",
       "      <td>1</td>\n",
       "      <td>1</td>\n",
       "      <td>30.0000</td>\n",
       "      <td>2</td>\n",
       "    </tr>\n",
       "    <tr>\n",
       "      <th>890</th>\n",
       "      <td>0</td>\n",
       "      <td>3</td>\n",
       "      <td>1</td>\n",
       "      <td>7.7500</td>\n",
       "      <td>2</td>\n",
       "    </tr>\n",
       "  </tbody>\n",
       "</table>\n",
       "<p>891 rows × 5 columns</p>\n",
       "</div>"
      ],
      "text/plain": [
       "     survived  pclass  sex     fare  age_new\n",
       "0           0       3    1   7.2500        2\n",
       "1           1       1    0  71.2833        2\n",
       "2           1       3    0   7.9250        2\n",
       "3           1       1    0  53.1000        2\n",
       "4           0       3    1   8.0500        2\n",
       "..        ...     ...  ...      ...      ...\n",
       "886         0       2    1  13.0000        2\n",
       "887         1       1    0  30.0000        2\n",
       "888         0       3    0  23.4500        2\n",
       "889         1       1    1  30.0000        2\n",
       "890         0       3    1   7.7500        2\n",
       "\n",
       "[891 rows x 5 columns]"
      ]
     },
     "execution_count": 330,
     "metadata": {},
     "output_type": "execute_result"
    }
   ],
   "source": [
    "# 타이타닉 데이터 전처리\n",
    "\n",
    "df_t = sns.load_dataset('titanic')\n",
    "df_t.drop(columns=['class', 'alive', 'embark_town', 'who', 'adult_male', 'alone'], inplace=True)\n",
    "\n",
    "# 연령의 결측치 해결\n",
    "age_md = df_t.groupby(['pclass', 'sex']).age.agg(['median'])\n",
    "df_t.loc[(df_t['sex'] == 'male') & (df_t['pclass'] == 1) & (df_t.age.isna()), \"age\"] = age_md.loc[1, 'male'][0]\n",
    "df_t.loc[(df_t['sex'] == 'male') & (df_t['pclass'] == 2) & (df_t.age.isna()), \"age\"] = age_md.loc[2, 'male'][0]\n",
    "df_t.loc[(df_t['sex'] == 'male') & (df_t['pclass'] == 3) & (df_t.age.isna()), \"age\"] = age_md.loc[3, 'male'][0]\n",
    "df_t.loc[(df_t['sex'] == 'female') & (df_t['pclass'] == 1) & (df_t.age.isna()), \"age\"] = age_md.loc[1, 'female'][0]\n",
    "df_t.loc[(df_t['sex'] == 'female') & (df_t['pclass'] == 2) & (df_t.age.isna()), \"age\"] = age_md.loc[2, 'female'][0]\n",
    "df_t.loc[(df_t['sex'] == 'female') & (df_t['pclass'] == 3) & (df_t.age.isna()), \"age\"] = age_md.loc[3, 'female'][0]\n",
    "\n",
    "# embarked 결측치 해결\n",
    "df_t.embarked.fillna(df_t.embarked.unique()[0], inplace=True)\n",
    "\n",
    "# 연령층 별 컬럼 생성.\n",
    "df_t.loc[df_t.age >= 50, \"age_new\"] = \"old\"\n",
    "df_t.loc[(df_t.age < 50) & (df_t.age>=10), \"age_new\"] = \"young\"\n",
    "df_t.loc[df_t.age < 10, \"age_new\"] = \"baby\"\n",
    "\n",
    "# 불필요 컬럼 제거\n",
    "df_t.drop(columns=['deck', 'sibsp', 'parch', 'age', 'embarked'], inplace=True)\n",
    "\n",
    "# df_t.info()\n",
    "# sex, embarked, age_new 해결해야함\n",
    "\n",
    "# Labeling으로 문자형 데이터를 숫자형으로 변환\n",
    "for i in ['sex', 'survived', 'age_new']:\n",
    "    globals()[f'df_t{i}_encoder'] = LabelEncoder()\n",
    "    globals()[f'df_t{i}_encoder'].fit(df_t[i])\n",
    "    df_t[i] = globals()[f'df_t{i}_encoder'].transform(df_t[i])\n",
    "    \n",
    "df_t"
   ]
  },
  {
   "cell_type": "code",
   "execution_count": 331,
   "id": "4e34c223",
   "metadata": {},
   "outputs": [
    {
     "data": {
      "text/plain": [
       "'tree.png.pdf'"
      ]
     },
     "execution_count": 331,
     "metadata": {},
     "output_type": "execute_result"
    }
   ],
   "source": [
    "# 타이타닉 머신러닝 예측 학습\n",
    "\n",
    "# 머신러닝이 목적으로 할 데이터를 설정\n",
    "X = df_t.drop(columns='survived')\n",
    "y = df_t['survived']\n",
    "\n",
    "from sklearn.tree import DecisionTreeClassifier\n",
    "finan_dtclf_2 = DecisionTreeClassifier()\n",
    "\n",
    "# fit = 머신러닝의 학습의 의미\n",
    "finan_dtclf_2.fit(X, y)\n",
    "# 분석-decision tree classification\n",
    "\n",
    "from sklearn.tree import export_graphviz\n",
    "import graphviz\n",
    "\n",
    "export_graphviz(finan_dtclf_2, out_file='finance2.dot', \n",
    "                feature_names=X.columns,\n",
    "                class_names=['생존', '사망'],\n",
    "                max_depth=5,\n",
    "                filled=True,\n",
    "                leaves_parallel=False,\n",
    "                impurity=True,\n",
    "                node_ids=False,\n",
    "                proportion=False,)\n",
    "\n",
    "with open('./finance2.dot') as f :\n",
    "    finance2 = f.read()\n",
    "graphviz.Source(finance2)\n",
    "\n",
    "# dot_graph의 source 저장\n",
    "# dot = graphviz.Source(finance2) \n",
    "# png로 저장\n",
    "# dot.render(filename='tree.png') "
   ]
  },
  {
   "cell_type": "code",
   "execution_count": 342,
   "id": "cd7f0e24",
   "metadata": {},
   "outputs": [
    {
     "data": {
      "text/html": [
       "<div>\n",
       "<style scoped>\n",
       "    .dataframe tbody tr th:only-of-type {\n",
       "        vertical-align: middle;\n",
       "    }\n",
       "\n",
       "    .dataframe tbody tr th {\n",
       "        vertical-align: top;\n",
       "    }\n",
       "\n",
       "    .dataframe thead th {\n",
       "        text-align: right;\n",
       "    }\n",
       "</style>\n",
       "<table border=\"1\" class=\"dataframe\">\n",
       "  <thead>\n",
       "    <tr style=\"text-align: right;\">\n",
       "      <th></th>\n",
       "      <th>pclass</th>\n",
       "      <th>sex</th>\n",
       "      <th>fare</th>\n",
       "      <th>age_new</th>\n",
       "    </tr>\n",
       "  </thead>\n",
       "  <tbody>\n",
       "    <tr>\n",
       "      <th>152</th>\n",
       "      <td>3</td>\n",
       "      <td>1</td>\n",
       "      <td>NaN</td>\n",
       "      <td>1</td>\n",
       "    </tr>\n",
       "  </tbody>\n",
       "</table>\n",
       "</div>"
      ],
      "text/plain": [
       "     pclass  sex  fare  age_new\n",
       "152       3    1   NaN        1"
      ]
     },
     "execution_count": 342,
     "metadata": {},
     "output_type": "execute_result"
    }
   ],
   "source": [
    "# 새로운 타이타닉 데이터 전처리 \n",
    "\n",
    "df_test = pd.read_csv('./test.csv')\n",
    "\n",
    "# df_test.info()\n",
    "# Name, Sex, Ticket, Cabin, Embarked 해결 필요\n",
    "\n",
    "# 연령의 결측치 해결\n",
    "# fare 결측치 해결\n",
    "age_md = df_test.groupby(['Pclass', 'Sex']).Age.agg(['median'])\n",
    "fare_md = df_test.groupby(['Pclass', 'Sex']).Fare.agg(['median'])\n",
    "for i in ['male', 'female'] : \n",
    "    for y in range(1, 4) : \n",
    "        f\"df_test.loc[(df_test['Sex'] == '{i}') & (df_test['Pclass'] == {y}) & (df_test.Age.isna()), 'Age'] = age_md.loc[{y}, '{i}'][0]\"\n",
    "        f\"df_test.loc[(df_test['Sex'] == '{i}') & (df_test['Pclass'] == {y}) & (df_test.Fare.isna()), 'Fare'] = fare_md.loc[{y}, '{i}'][0]\"\n",
    "        \n",
    "\n",
    "# 결측치가 너무 많은 데이터, 컬럼 삭제\n",
    "df_test.drop(columns=['Cabin'], inplace=True)\n",
    "\n",
    "# age_new 생성\n",
    "df_test.loc[df_test.Age >= 50, \"age_new\"] = \"old\"\n",
    "df_test.loc[(df_test.Age < 50) & (df_test.Age>=10), \"age_new\"] = \"young\"\n",
    "df_test.loc[df_test.Age < 10, \"age_new\"] = \"baby\"\n",
    "\n",
    "# 필요 없는 데이터 제거\n",
    "df_test.drop(columns=['Name', 'Ticket', 'PassengerId', \"SibSp\", \"Parch\", 'Age', 'Embarked'], inplace=True)\n",
    "\n",
    "\n",
    "# 컬럼 소문자로 변경 \n",
    "l1 = []\n",
    "for i in list(df_test.columns):\n",
    "    l1.append(i.lower())\n",
    "df_test.set_axis(l1, axis='columns', inplace=True)\n",
    "\n",
    "# Index(['pclass', 'sex', 'age', 'fare', 'embarked', 'predict survived'], dtype='object')\n",
    "# Labeling으로 문자형 데이터를 숫자형으로 변환\n",
    "for i in ['sex', 'age_new']:\n",
    "    globals()[f'df_test{i}_encoder'] = LabelEncoder()\n",
    "    globals()[f'df_test{i}_encoder'].fit(df_test[i])\n",
    "    df_test[i] = globals()[f'df_test{i}_encoder'].transform(df_test[i])\n",
    "\n",
    "df_test[df_test['fare'].isna() == True] "
   ]
  },
  {
   "cell_type": "code",
   "execution_count": 1,
   "id": "46e21fa4",
   "metadata": {},
   "outputs": [
    {
     "ename": "SyntaxError",
     "evalue": "invalid syntax (3487590500.py, line 2)",
     "output_type": "error",
     "traceback": [
      "\u001b[0;36m  Input \u001b[0;32mIn [1]\u001b[0;36m\u001b[0m\n\u001b[0;31m    pred_result = finan_dtclf_2.predict(df_test)\u001b[0m\n\u001b[0m                ^\u001b[0m\n\u001b[0;31mSyntaxError\u001b[0m\u001b[0;31m:\u001b[0m invalid syntax\n"
     ]
    }
   ],
   "source": [
    "[# 새로운 타이타닉 데이터 생존 여부 예측\n",
    "pred_result = finan_dtclf_2.predict(df_test)\n",
    "pred_result_2 =  df_test_survived_encoder.inverse_transform(pred_result)\n",
    "df_test['survived'] = pred_result_2]"
   ]
  },
  {
   "cell_type": "code",
   "execution_count": 336,
   "id": "70de6d08",
   "metadata": {},
   "outputs": [
    {
     "data": {
      "text/html": [
       "<div>\n",
       "<style scoped>\n",
       "    .dataframe tbody tr th:only-of-type {\n",
       "        vertical-align: middle;\n",
       "    }\n",
       "\n",
       "    .dataframe tbody tr th {\n",
       "        vertical-align: top;\n",
       "    }\n",
       "\n",
       "    .dataframe thead th {\n",
       "        text-align: right;\n",
       "    }\n",
       "</style>\n",
       "<table border=\"1\" class=\"dataframe\">\n",
       "  <thead>\n",
       "    <tr style=\"text-align: right;\">\n",
       "      <th></th>\n",
       "      <th>pclass</th>\n",
       "      <th>sex</th>\n",
       "      <th>fare</th>\n",
       "      <th>age_new</th>\n",
       "    </tr>\n",
       "  </thead>\n",
       "  <tbody>\n",
       "    <tr>\n",
       "      <th>0</th>\n",
       "      <td>3</td>\n",
       "      <td>1</td>\n",
       "      <td>7.8292</td>\n",
       "      <td>2</td>\n",
       "    </tr>\n",
       "    <tr>\n",
       "      <th>1</th>\n",
       "      <td>3</td>\n",
       "      <td>0</td>\n",
       "      <td>7.0000</td>\n",
       "      <td>2</td>\n",
       "    </tr>\n",
       "    <tr>\n",
       "      <th>2</th>\n",
       "      <td>2</td>\n",
       "      <td>1</td>\n",
       "      <td>9.6875</td>\n",
       "      <td>1</td>\n",
       "    </tr>\n",
       "    <tr>\n",
       "      <th>3</th>\n",
       "      <td>3</td>\n",
       "      <td>1</td>\n",
       "      <td>8.6625</td>\n",
       "      <td>2</td>\n",
       "    </tr>\n",
       "    <tr>\n",
       "      <th>4</th>\n",
       "      <td>3</td>\n",
       "      <td>0</td>\n",
       "      <td>12.2875</td>\n",
       "      <td>2</td>\n",
       "    </tr>\n",
       "    <tr>\n",
       "      <th>...</th>\n",
       "      <td>...</td>\n",
       "      <td>...</td>\n",
       "      <td>...</td>\n",
       "      <td>...</td>\n",
       "    </tr>\n",
       "    <tr>\n",
       "      <th>413</th>\n",
       "      <td>3</td>\n",
       "      <td>1</td>\n",
       "      <td>8.0500</td>\n",
       "      <td>3</td>\n",
       "    </tr>\n",
       "    <tr>\n",
       "      <th>414</th>\n",
       "      <td>1</td>\n",
       "      <td>0</td>\n",
       "      <td>108.9000</td>\n",
       "      <td>2</td>\n",
       "    </tr>\n",
       "    <tr>\n",
       "      <th>415</th>\n",
       "      <td>3</td>\n",
       "      <td>1</td>\n",
       "      <td>7.2500</td>\n",
       "      <td>2</td>\n",
       "    </tr>\n",
       "    <tr>\n",
       "      <th>416</th>\n",
       "      <td>3</td>\n",
       "      <td>1</td>\n",
       "      <td>8.0500</td>\n",
       "      <td>3</td>\n",
       "    </tr>\n",
       "    <tr>\n",
       "      <th>417</th>\n",
       "      <td>3</td>\n",
       "      <td>1</td>\n",
       "      <td>22.3583</td>\n",
       "      <td>3</td>\n",
       "    </tr>\n",
       "  </tbody>\n",
       "</table>\n",
       "<p>418 rows × 4 columns</p>\n",
       "</div>"
      ],
      "text/plain": [
       "     pclass  sex      fare  age_new\n",
       "0         3    1    7.8292        2\n",
       "1         3    0    7.0000        2\n",
       "2         2    1    9.6875        1\n",
       "3         3    1    8.6625        2\n",
       "4         3    0   12.2875        2\n",
       "..      ...  ...       ...      ...\n",
       "413       3    1    8.0500        3\n",
       "414       1    0  108.9000        2\n",
       "415       3    1    7.2500        2\n",
       "416       3    1    8.0500        3\n",
       "417       3    1   22.3583        3\n",
       "\n",
       "[418 rows x 4 columns]"
      ]
     },
     "execution_count": 336,
     "metadata": {},
     "output_type": "execute_result"
    }
   ],
   "source": [
    "df_test"
   ]
  },
  {
   "cell_type": "code",
   "execution_count": 302,
   "id": "cef9ee57",
   "metadata": {},
   "outputs": [],
   "source": [
    "# 파일 저장해서 캐글에 올리기.\n",
    "tit = pd.read_csv('test.csv')\n",
    "tit.drop(list(tit.columns)[1:], axis = 1, inplace=True)\n",
    "tit['Survived'] = df_test['survived']\n",
    "tit.set_index('PassengerId', inplace=True)\n",
    "tit.to_csv('tit_test.csv')"
   ]
  },
  {
   "cell_type": "code",
   "execution_count": 353,
   "id": "232b49d1",
   "metadata": {},
   "outputs": [],
   "source": [
    "# 학습 데이터 70%, 테스트 데이터 30%\n",
    "\n",
    "from sklearn.model_selection import train_test_split\n",
    "\n",
    "X = df_t.drop('survived', axis=1)\n",
    "y = df_t.survived\n",
    "\n",
    "X_train, X_test, y_train, y_test = train_test_split(X, y, test_size=0.1, random_state=12)\n",
    "\n",
    "# 직접구현\n",
    "# X_train = df_t.iloc[:round(891 * 0.7), 1:]\n",
    "# X_test = df_t.iloc[round(891 * 0.3), 1:]\n",
    "# y_train = df_t.iloc[:round(891 * 0.7), 0]\n",
    "# y_test = df_t.iloc[round(891 * 0.3), 0]\n",
    "\n",
    "# np.random.shuffle"
   ]
  },
  {
   "cell_type": "code",
   "execution_count": 349,
   "id": "46eceb92",
   "metadata": {},
   "outputs": [
    {
     "data": {
      "text/plain": [
       "0.6984304932735426"
      ]
     },
     "execution_count": 349,
     "metadata": {},
     "output_type": "execute_result"
    }
   ],
   "source": [
    "len(X_train.index) / (df_t.shape[0] + 1)\n",
    "# 0.6984304932735426"
   ]
  },
  {
   "cell_type": "code",
   "execution_count": 350,
   "id": "865c4903",
   "metadata": {},
   "outputs": [],
   "source": [
    "# train 70%, validation 20%, test 10%\n",
    "\n",
    "X_train, X_test, y_train, y_test = train_test_split(X, y, test_size=0.3, random_state=12)\n",
    "X_train, X_val, y_train, y_val = train_test_split(X_train, y_train, test_size=0.22, random_state=12)\n",
    "# val데이터 셋은 고정된게 아니기 때문에 이 과정을 진행하지 않아도 된다.\n",
    "\n",
    "len(X_val.index) / (df_t.shape[0] + 1)\n",
    "# 0.1547085201793722"
   ]
  },
  {
   "cell_type": "code",
   "execution_count": 355,
   "id": "76dd90cd",
   "metadata": {},
   "outputs": [
    {
     "name": "stdout",
     "output_type": "stream",
     "text": [
      "(801, 4)\n",
      "(90, 4)\n",
      "(801,)\n",
      "(90,)\n"
     ]
    }
   ],
   "source": [
    "print(X_train.shape)\n",
    "print(X_test.shape)\n",
    "print(y_train.shape)\n",
    "print(y_test.shape)\n",
    "\n",
    "# (801, 4)\n",
    "# (90, 4)\n",
    "# (801,)\n",
    "# (90,)"
   ]
  },
  {
   "cell_type": "code",
   "execution_count": 9,
   "id": "f520f98b",
   "metadata": {},
   "outputs": [],
   "source": [
    "dt_clf = DecisionTreeClassifier()"
   ]
  },
  {
   "cell_type": "code",
   "execution_count": 8,
   "id": "5bea6d0c",
   "metadata": {},
   "outputs": [
    {
     "ename": "NameError",
     "evalue": "name 'X_train' is not defined",
     "output_type": "error",
     "traceback": [
      "\u001b[0;31m---------------------------------------------------------------------------\u001b[0m",
      "\u001b[0;31mNameError\u001b[0m                                 Traceback (most recent call last)",
      "Input \u001b[0;32mIn [8]\u001b[0m, in \u001b[0;36m<cell line: 1>\u001b[0;34m()\u001b[0m\n\u001b[0;32m----> 1\u001b[0m dt_clf\u001b[38;5;241m.\u001b[39mfit(\u001b[43mX_train\u001b[49m, y_train)\n",
      "\u001b[0;31mNameError\u001b[0m: name 'X_train' is not defined"
     ]
    }
   ],
   "source": [
    "dt_clf.fit(X_train, y_train)"
   ]
  },
  {
   "cell_type": "code",
   "execution_count": 365,
   "id": "4efb8f8d",
   "metadata": {},
   "outputs": [],
   "source": [
    "# predict이 필요한 이유 : 정답이 없는 경우가 있기 때문.\n",
    "dt_pred = dt_clf.predict(X_test)"
   ]
  },
  {
   "cell_type": "code",
   "execution_count": 367,
   "id": "aface84b",
   "metadata": {},
   "outputs": [
    {
     "name": "stdout",
     "output_type": "stream",
     "text": [
      "DecisionTree 정확도: 0.81\n"
     ]
    }
   ],
   "source": [
    "from sklearn.metrics import accuracy_score\n",
    "accuracy_score(y_test, dt_pred)\n",
    "print('DecisionTree 정확도: %.2f' % accuracy_score(y_test, dt_pred))\n",
    "# DecisionTree 정확도: 0.81\n",
    "\n",
    "print('DecisionTree 정확도: %.2f' % dt_clf.score(X_test, y_test))\n",
    "# DecisionTree 정확도: 0.81"
   ]
  },
  {
   "cell_type": "code",
   "execution_count": 5,
   "id": "d037861a",
   "metadata": {},
   "outputs": [],
   "source": [
    "# 학습 실행\n",
    "\n",
    "from sklearn.model_selection import KFold\n",
    "\n",
    "def exe_kfold(clf, folds=5) : \n",
    "    \n",
    "    kFold = KFold(n_splits=5)\n",
    "    scores=[]\n",
    "    \n",
    "    for i, (train_idx, val_idx) in enumerate(kFold.split(X_train)) :\n",
    "        X_train_k = X_train.iloc[train_idx]\n",
    "        y_train_k = y_train.iloc[train_idx]\n",
    "        X_val_k = X_train.iloc[val_idx]\n",
    "        y_val_k = y_train.iloc[val_idx]    \n",
    "\n",
    "        dt_clf.fit(X_train_k, y_train_k)\n",
    "        scores.append(dt_clf.score(X_val_k, y_val_k))\n",
    "    print(f\"{clf} 개별 학습 결과 : \", scores)\n",
    "    print(f\"{clf}평균 학습 결과 : %.2f\", np.mean(scores))\n",
    "\n",
    "# [0.828125, 0.8828125, 0.8515625, 0.8203125, 0.8359375]\n",
    "# 0.84375"
   ]
  },
  {
   "cell_type": "code",
   "execution_count": 403,
   "id": "2bff7f3d",
   "metadata": {},
   "outputs": [
    {
     "name": "stdout",
     "output_type": "stream",
     "text": [
      "[0.7821229050279329, 0.7752808988764045, 0.8370786516853933, 0.8370786516853933, 0.8595505617977528]\n",
      "0.8182223338145753\n"
     ]
    }
   ],
   "source": [
    "# 전체 학습\n",
    "\n",
    "scores=[]\n",
    "for i, (train_idx, val_idx) in enumerate(kFold.split(X)) :\n",
    "    X_train_k = X.iloc[train_idx]\n",
    "    y_train_k = y.iloc[train_idx]\n",
    "    X_val_k = X.iloc[val_idx]\n",
    "    y_val_k = y.iloc[val_idx]  \n",
    "    \n",
    "    dt_clf.fit(X_train_k, y_train_k)\n",
    "    scores.append(dt_clf.score(X_val_k, y_val_k))\n",
    "    \n",
    "print(scores)\n",
    "print(np.mean(scores))\n",
    "# [0.7821229050279329, 0.7752808988764045, 0.8370786516853933, 0.8370786516853933, 0.8595505617977528]\n",
    "# 0.8182223338145753"
   ]
  },
  {
   "cell_type": "code",
   "execution_count": 10,
   "id": "f5061c06",
   "metadata": {},
   "outputs": [
    {
     "ename": "NameError",
     "evalue": "name 'X_train' is not defined",
     "output_type": "error",
     "traceback": [
      "\u001b[0;31m---------------------------------------------------------------------------\u001b[0m",
      "\u001b[0;31mNameError\u001b[0m                                 Traceback (most recent call last)",
      "Input \u001b[0;32mIn [10]\u001b[0m, in \u001b[0;36m<cell line: 1>\u001b[0;34m()\u001b[0m\n\u001b[0;32m----> 1\u001b[0m \u001b[43mexe_kfold\u001b[49m\u001b[43m(\u001b[49m\u001b[43mdt_clf\u001b[49m\u001b[43m)\u001b[49m\n",
      "Input \u001b[0;32mIn [5]\u001b[0m, in \u001b[0;36mexe_kfold\u001b[0;34m(clf, folds)\u001b[0m\n\u001b[1;32m      7\u001b[0m kFold \u001b[38;5;241m=\u001b[39m KFold(n_splits\u001b[38;5;241m=\u001b[39m\u001b[38;5;241m5\u001b[39m)\n\u001b[1;32m      8\u001b[0m scores\u001b[38;5;241m=\u001b[39m[]\n\u001b[0;32m---> 10\u001b[0m \u001b[38;5;28;01mfor\u001b[39;00m i, (train_idx, val_idx) \u001b[38;5;129;01min\u001b[39;00m \u001b[38;5;28menumerate\u001b[39m(kFold\u001b[38;5;241m.\u001b[39msplit(\u001b[43mX_train\u001b[49m)) :\n\u001b[1;32m     11\u001b[0m     X_train_k \u001b[38;5;241m=\u001b[39m X_train\u001b[38;5;241m.\u001b[39miloc[train_idx]\n\u001b[1;32m     12\u001b[0m     y_train_k \u001b[38;5;241m=\u001b[39m y_train\u001b[38;5;241m.\u001b[39miloc[train_idx]\n",
      "\u001b[0;31mNameError\u001b[0m: name 'X_train' is not defined"
     ]
    }
   ],
   "source": [
    "exe_kfold(dt_clf)"
   ]
  },
  {
   "cell_type": "code",
   "execution_count": null,
   "id": "28845a1d",
   "metadata": {},
   "outputs": [],
   "source": [
    "from sklearn.model_selection import StratifiedGroupKFold"
   ]
  },
  {
   "cell_type": "code",
   "execution_count": null,
   "id": "fd091b20",
   "metadata": {},
   "outputs": [],
   "source": [
    "def exe_kfold(clf, folds=5) : \n",
    "    \n",
    "    kFold = KFold(n_splits=5)\n",
    "    scores=[]\n",
    "    \n",
    "    for i, (train_idx, val_idx) in enumerate(kFold.split(X_train)) :\n",
    "        X_train_k = X_train.iloc[train_idx]\n",
    "        y_train_k = y_train.iloc[train_idx]\n",
    "        X_val_k = X_train.iloc[val_idx]\n",
    "        y_val_k = y_train.iloc[val_idx]    \n",
    "\n",
    "        dt_clf.fit(X_train_k, y_train_k)\n",
    "        scores.append(dt_clf.score(X_val_k, y_val_k))\n",
    "    print(f\"{clf} 개별 학습 결과 : \", scores)\n",
    "    print(f\"{clf}평균 학습 결과 : %.2f\", np.mean(scores))"
   ]
  },
  {
   "cell_type": "code",
   "execution_count": null,
   "id": "0bdb699c",
   "metadata": {},
   "outputs": [],
   "source": [
    "from sklearn.metrics import confusion_matrix\n",
    "\n",
    "# dummy 예측\n",
    "confusion_matrix(y, X.predict)\n",
    "\n",
    "# 모델 예측\n",
    "confusion_matrix(y, titanic_dtclf.predict(X))"
   ]
  }
 ],
 "metadata": {
  "kernelspec": {
   "display_name": "Python 3 (ipykernel)",
   "language": "python",
   "name": "python3"
  },
  "language_info": {
   "codemirror_mode": {
    "name": "ipython",
    "version": 3
   },
   "file_extension": ".py",
   "mimetype": "text/x-python",
   "name": "python",
   "nbconvert_exporter": "python",
   "pygments_lexer": "ipython3",
   "version": "3.9.13"
  }
 },
 "nbformat": 4,
 "nbformat_minor": 5
}
