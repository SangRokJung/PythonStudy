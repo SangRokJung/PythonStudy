{
 "cells": [
  {
   "cell_type": "markdown",
   "id": "b9b2bc11-29cf-4eea-9394-f9504642173b",
   "metadata": {},
   "source": [
    "### 사진 이름 한번에 바꾸기"
   ]
  },
  {
   "cell_type": "code",
   "execution_count": null,
   "id": "82521be2-e3f4-4044-ad97-51068e439317",
   "metadata": {},
   "outputs": [],
   "source": [
    "# file_name을 정렬해야된다는 이슈가 있다.\n",
    "import os\n",
    "\n",
    "file_path = '/Users/werther/221212_Project1/non_object/' # 바꿔야하는 이미지가 들어있는 파일\n",
    "file_names = os.listdir(file_path)\n",
    "num = 1\n",
    "for name in file_names:\n",
    "    src = os.path.join(file_path, name)\n",
    "    \n",
    "    dst = 'non_object_' + str(num) + '.jpg' # 바꿀 이름\n",
    "    dst = os.path.join(file_path, dst)\n",
    "    os.rename(src, dst)\n",
    "    num += 1\n",
    "    \n",
    "\n",
    "# smple = file_names.sort()\n",
    "# print(file_names.sort(key=lambda x: int(x[:x.index('.')])))"
   ]
  }
 ],
 "metadata": {
  "kernelspec": {
   "display_name": "Python 3 (ipykernel)",
   "language": "python",
   "name": "python3"
  },
  "language_info": {
   "codemirror_mode": {
    "name": "ipython",
    "version": 3
   },
   "file_extension": ".py",
   "mimetype": "text/x-python",
   "name": "python",
   "nbconvert_exporter": "python",
   "pygments_lexer": "ipython3",
   "version": "3.9.13"
  }
 },
 "nbformat": 4,
 "nbformat_minor": 5
}
