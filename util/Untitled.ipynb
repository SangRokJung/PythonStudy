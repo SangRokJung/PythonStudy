{
 "cells": [
  {
   "cell_type": "code",
   "execution_count": 1,
   "id": "25df3104-77b6-48ca-8859-8867099db5f5",
   "metadata": {},
   "outputs": [],
   "source": [
    "import os\n",
    "\n",
    "# current folder path\n",
    "current_folder_path = '/Users/werther/Downloads/lable/'\n",
    "\n",
    "# new folder path\n",
    "new_folder_path = '/Users/werther/alpha_male/add_model/lable/'\n",
    "\n",
    "# use os.scandir() to get all files in current folder\n",
    "for file in os.scandir(current_folder_path):\n",
    "    # if the file is a regular file\n",
    "    if file.is_file():\n",
    "        # current file path\n",
    "        current_file_path = current_folder_path + file.name\n",
    "        # new file path\n",
    "        new_file_path = new_folder_path + file.name\n",
    "        # use os.rename() to change the file path\n",
    "        os.rename(current_file_path, new_file_path)"
   ]
  },
  {
   "cell_type": "code",
   "execution_count": null,
   "id": "d4cf98e2-ce92-43fe-9280-1001ea180ab3",
   "metadata": {},
   "outputs": [],
   "source": []
  }
 ],
 "metadata": {
  "kernelspec": {
   "display_name": "Python 3 (ipykernel)",
   "language": "python",
   "name": "python3"
  },
  "language_info": {
   "codemirror_mode": {
    "name": "ipython",
    "version": 3
   },
   "file_extension": ".py",
   "mimetype": "text/x-python",
   "name": "python",
   "nbconvert_exporter": "python",
   "pygments_lexer": "ipython3",
   "version": "3.9.13"
  }
 },
 "nbformat": 4,
 "nbformat_minor": 5
}
